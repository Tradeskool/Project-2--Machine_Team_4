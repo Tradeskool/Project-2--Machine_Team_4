{
 "cells": [
  {
   "cell_type": "markdown",
   "metadata": {},
   "source": [
    "## BA 545 Course Project 2: Machine Team 4 \n",
    "#### Online Shoppers Purchasing Intentions\n",
    "##### Michael Disanto, Dawn Massey PhD CPA CGMA, Brian Nicholls\n",
    "###### Final Models (4) - Spring 2020\n",
    "----------------------------------------------------------------------\n"
   ]
  },
  {
   "cell_type": "markdown",
   "metadata": {},
   "source": [
    "### **Table of Contents:**\n",
    "\n",
    "0. [Preparing for Analyisis](#part4.0)\n",
    "1. [Initial Review and Vizualization of the Data](#part4.1)\n",
    "2. [Process the Data for Initial Data Models](#part4.2)\n",
    "3. [Split and Run the Final Models with Selected Features and Optimized hyperperameters](#part4.3)\n",
    "4. [Evaluate all the methods and compare using Ensambel Ranking](#part4.4)\n",
    "5. [Run and Evaluate the Final Models with Over Sampled data using SMOTE](#part4.5)\n",
    "6. [Run and Evaluate the Final Models using TPOT](#part4.6)\n"
   ]
  },
  {
   "cell_type": "markdown",
   "metadata": {},
   "source": [
    "## 0. Preparing for Analysis  <a name=\"part4.0\"></a>\n",
    "####  Import the necesary packages for reading, analyzing, tidying, medeling, & evaluating the data"
   ]
  },
  {
   "cell_type": "code",
   "execution_count": 85,
   "metadata": {},
   "outputs": [],
   "source": [
    "# # TO USE FOR ENTIRE TEAM\n",
    "# import pandas as pd\n",
    "# import numpy as np\n",
    "# from pandas_profiling import ProfileReport\n",
    "# import statsmodels.api as sm\n",
    "# from scipy import stats\n",
    "# %matplotlib inline\n",
    "# import matplotlib.pyplot as plt\n",
    "# import seaborn as sns\n",
    "# import plotly.express as px"
   ]
  },
  {
   "cell_type": "code",
   "execution_count": 86,
   "metadata": {},
   "outputs": [],
   "source": [
    "# Excluding Items not in Fairfield Jupiter Lab\n",
    "import pandas as pd\n",
    "import numpy as np\n",
    "from pandas_profiling import ProfileReport\n",
    "import statsmodels.api as sm\n",
    "from scipy import stats\n",
    "%matplotlib inline\n",
    "import matplotlib.pyplot as plt\n",
    "import seaborn as sns\n",
    "# import plotly.express as px"
   ]
  },
  {
   "cell_type": "code",
   "execution_count": 87,
   "metadata": {},
   "outputs": [],
   "source": [
    "# Import the necesary packages for reading, analyzing, tidying, modeling, & evaluating the data \n",
    "\n",
    "from sklearn import preprocessing\n",
    "from sklearn.preprocessing import StandardScaler \n",
    "# scaler = StandardScaler().fit(X_train) >>> standardized_X = scaler.transform(X_train) >>> standardized_X_test = scaler.transform(X_test)\n",
    "\n",
    "from sklearn.preprocessing import Normalizer\n",
    "# scaler = Normalizer().fit(X_train) >>> normalized_X = scaler.transform(X_train) >>> normalized_X_test = scaler.transform(X_test)\n",
    "\n",
    "from sklearn.preprocessing import Binarizer \n",
    "# binarizer = Binarizer(threshold=0.0).fit(X) >>> binary_X = binarizer.transform(X)\n",
    "\n",
    "# Encoding Categorical Features\n",
    "from sklearn.preprocessing import LabelEncoder\n",
    "from sklearn.preprocessing import OneHotEncoder\n",
    "# enc = LabelEncoder()\n",
    "# y = enc.fit_transform(y)\n",
    "\n",
    "# Imputation\n",
    "from sklearn.impute import (SimpleImputer, KNNImputer, MissingIndicator)\n",
    "from sklearn.experimental import enable_iterative_imputer\n",
    "# imp = Imputer(missing_values=0, strategy='mean', axis=0) >>> imp.fit_transform(X_train)\n",
    "from sklearn.preprocessing import PolynomialFeatures \n",
    "# poly = PolynomialFeatures(5) >>> poly.fit_transform(X)\n",
    "\n",
    "# Train/Test Split\n",
    "from sklearn.model_selection import train_test_split\n",
    "# X_train, X_test, y_train, y_test = train_test_split(X,y,random_state=0)\n",
    "\n",
    "# Various Models\n",
    "from sklearn.cluster import KMeans\n",
    "# k_means = KMeans(n_clusters=3, random_state=0\n",
    "\n",
    "from sklearn.decomposition import PCA\n",
    "# pca = PCA(n_components=0.95)\n",
    "\n",
    "from sklearn.linear_model import LogisticRegression\n",
    "# logreg = LogisticRegression()\n",
    "\n",
    "from sklearn.linear_model import RidgeCV\n",
    "# rrm = RidgeCV(alphas=(0.01, 0.1, 1.0, 10.0), normalize=True)\n",
    "\n",
    "from sklearn.naive_bayes import GaussianNB\n",
    "# gnb = GaussianNB()\n",
    "\n",
    "from sklearn.svm import SVC \n",
    "# svc = SVC(kernel='linear')\n",
    "\n",
    "from sklearn.linear_model import LinearRegression\n",
    "# lr = LinearRegression(normalize=True)\n",
    "\n",
    "from sklearn import neighbors\n",
    "# knn = neighbors.KNeighborsClassifier(n_neighbors=5)\n",
    "\n",
    "## Fit the model\n",
    "# # Supervised learning\n",
    "# lr.fit(X, y)\n",
    "# knn.fit(X_train, y_train)\n",
    "# svc.fit(X_train, y_train)   \n",
    "\n",
    "# #Unsupervised Learning \n",
    "# k_means.fit(X_train) \n",
    "# pca_model = pca.fit_transform(X_train)\n",
    "\n",
    "## Predict Y\n",
    "# Supervised Estimators\n",
    "# y_pred = svc.predict(np.random.random((2,5))) \n",
    "# y_pred = lr.predict(X_test)\n",
    "# y_pred = knn.predict_proba(X_test)   \n",
    "# Unsupervised Estimators \n",
    "# y_pred = k_means.predict(X_test)\n",
    "\n",
    "# Packages to evaluate Model Performance (Classification)\n",
    "from sklearn import metrics\n",
    "from sklearn.metrics import confusion_matrix\n",
    "from sklearn.metrics import classification_report\n",
    "from sklearn.metrics import f1_score\n",
    "from sklearn.metrics import roc_auc_score\n",
    "from sklearn.metrics import accuracy_score\n",
    "from sklearn.metrics import precision_recall_fscore_support\n",
    "# print(classification_report(y_test_log, y_pred_log))\n",
    "\n",
    "# Packages to evaluate Model Performance (Linear)\n",
    "from sklearn.metrics import mean_absolute_error \n",
    "# y_true = [3, -0.5, 2] >>> mean_absolute_error(y_true, y_pred)\n",
    "from sklearn.metrics import mean_squared_error\n",
    "# mean_squared_error(y_test, y_pred)\n",
    "from sklearn.metrics import r2_score \n",
    "# r2_score(y_true, y_pred)\n",
    "\n",
    "#from sklearn.cross_validation import cross_val_score \n",
    "# print(cross_val_score(knn, X_train, y_train, cv=4)) >>> print(cross_val_score(lr, X, y, cv=2)\n",
    "\n",
    "# Packages for Over/Under Sampling\n",
    "from imblearn.over_sampling import SMOTENC\n",
    "from imblearn.under_sampling import NearMiss\n",
    "\n",
    "import warnings\n",
    "warnings.filterwarnings('ignore')"
   ]
  },
  {
   "cell_type": "markdown",
   "metadata": {},
   "source": [
    "# 1. Initial review and vizualization of the data  <a name=\"part4.1\"></a>"
   ]
  },
  {
   "cell_type": "code",
   "execution_count": 88,
   "metadata": {},
   "outputs": [],
   "source": [
    "# Pull in our original data and a copy for the base model\n",
    "df = pd.read_csv('online_shoppers_intention.csv', na_values=r'-')\n",
    "df_base = df.copy()"
   ]
  },
  {
   "cell_type": "code",
   "execution_count": 89,
   "metadata": {},
   "outputs": [
    {
     "name": "stdout",
     "output_type": "stream",
     "text": [
      "<class 'pandas.core.frame.DataFrame'>\n",
      "RangeIndex: 12330 entries, 0 to 12329\n",
      "Data columns (total 18 columns):\n",
      "Administrative             12330 non-null int64\n",
      "Administrative_Duration    12330 non-null float64\n",
      "Informational              12330 non-null int64\n",
      "Informational_Duration     12330 non-null float64\n",
      "ProductRelated             12330 non-null int64\n",
      "ProductRelated_Duration    12330 non-null float64\n",
      "BounceRates                12330 non-null float64\n",
      "ExitRates                  12330 non-null float64\n",
      "PageValues                 12330 non-null float64\n",
      "SpecialDay                 12330 non-null float64\n",
      "Month                      12330 non-null object\n",
      "OperatingSystems           12330 non-null int64\n",
      "Browser                    12330 non-null int64\n",
      "Region                     12330 non-null int64\n",
      "TrafficType                12330 non-null int64\n",
      "VisitorType                12330 non-null object\n",
      "Weekend                    12330 non-null bool\n",
      "Revenue                    12330 non-null bool\n",
      "dtypes: bool(2), float64(7), int64(7), object(2)\n",
      "memory usage: 1.5+ MB\n"
     ]
    },
    {
     "data": {
      "text/plain": [
       "None"
      ]
     },
     "metadata": {},
     "output_type": "display_data"
    },
    {
     "data": {
      "text/html": [
       "<div>\n",
       "<style scoped>\n",
       "    .dataframe tbody tr th:only-of-type {\n",
       "        vertical-align: middle;\n",
       "    }\n",
       "\n",
       "    .dataframe tbody tr th {\n",
       "        vertical-align: top;\n",
       "    }\n",
       "\n",
       "    .dataframe thead th {\n",
       "        text-align: right;\n",
       "    }\n",
       "</style>\n",
       "<table border=\"1\" class=\"dataframe\">\n",
       "  <thead>\n",
       "    <tr style=\"text-align: right;\">\n",
       "      <th></th>\n",
       "      <th>Administrative</th>\n",
       "      <th>Administrative_Duration</th>\n",
       "      <th>Informational</th>\n",
       "      <th>Informational_Duration</th>\n",
       "      <th>ProductRelated</th>\n",
       "      <th>ProductRelated_Duration</th>\n",
       "      <th>BounceRates</th>\n",
       "      <th>ExitRates</th>\n",
       "      <th>PageValues</th>\n",
       "      <th>SpecialDay</th>\n",
       "      <th>OperatingSystems</th>\n",
       "      <th>Browser</th>\n",
       "      <th>Region</th>\n",
       "      <th>TrafficType</th>\n",
       "    </tr>\n",
       "  </thead>\n",
       "  <tbody>\n",
       "    <tr>\n",
       "      <th>count</th>\n",
       "      <td>12330.000000</td>\n",
       "      <td>12330.000000</td>\n",
       "      <td>12330.000000</td>\n",
       "      <td>12330.000000</td>\n",
       "      <td>12330.000000</td>\n",
       "      <td>12330.000000</td>\n",
       "      <td>12330.000000</td>\n",
       "      <td>12330.000000</td>\n",
       "      <td>12330.000000</td>\n",
       "      <td>12330.000000</td>\n",
       "      <td>12330.000000</td>\n",
       "      <td>12330.000000</td>\n",
       "      <td>12330.000000</td>\n",
       "      <td>12330.000000</td>\n",
       "    </tr>\n",
       "    <tr>\n",
       "      <th>mean</th>\n",
       "      <td>2.315166</td>\n",
       "      <td>80.818611</td>\n",
       "      <td>0.503569</td>\n",
       "      <td>34.472398</td>\n",
       "      <td>31.731468</td>\n",
       "      <td>1194.746220</td>\n",
       "      <td>0.022191</td>\n",
       "      <td>0.043073</td>\n",
       "      <td>5.889258</td>\n",
       "      <td>0.061427</td>\n",
       "      <td>2.124006</td>\n",
       "      <td>2.357097</td>\n",
       "      <td>3.147364</td>\n",
       "      <td>4.069586</td>\n",
       "    </tr>\n",
       "    <tr>\n",
       "      <th>std</th>\n",
       "      <td>3.321784</td>\n",
       "      <td>176.779107</td>\n",
       "      <td>1.270156</td>\n",
       "      <td>140.749294</td>\n",
       "      <td>44.475503</td>\n",
       "      <td>1913.669288</td>\n",
       "      <td>0.048488</td>\n",
       "      <td>0.048597</td>\n",
       "      <td>18.568437</td>\n",
       "      <td>0.198917</td>\n",
       "      <td>0.911325</td>\n",
       "      <td>1.717277</td>\n",
       "      <td>2.401591</td>\n",
       "      <td>4.025169</td>\n",
       "    </tr>\n",
       "    <tr>\n",
       "      <th>min</th>\n",
       "      <td>0.000000</td>\n",
       "      <td>0.000000</td>\n",
       "      <td>0.000000</td>\n",
       "      <td>0.000000</td>\n",
       "      <td>0.000000</td>\n",
       "      <td>0.000000</td>\n",
       "      <td>0.000000</td>\n",
       "      <td>0.000000</td>\n",
       "      <td>0.000000</td>\n",
       "      <td>0.000000</td>\n",
       "      <td>1.000000</td>\n",
       "      <td>1.000000</td>\n",
       "      <td>1.000000</td>\n",
       "      <td>1.000000</td>\n",
       "    </tr>\n",
       "    <tr>\n",
       "      <th>25%</th>\n",
       "      <td>0.000000</td>\n",
       "      <td>0.000000</td>\n",
       "      <td>0.000000</td>\n",
       "      <td>0.000000</td>\n",
       "      <td>7.000000</td>\n",
       "      <td>184.137500</td>\n",
       "      <td>0.000000</td>\n",
       "      <td>0.014286</td>\n",
       "      <td>0.000000</td>\n",
       "      <td>0.000000</td>\n",
       "      <td>2.000000</td>\n",
       "      <td>2.000000</td>\n",
       "      <td>1.000000</td>\n",
       "      <td>2.000000</td>\n",
       "    </tr>\n",
       "    <tr>\n",
       "      <th>50%</th>\n",
       "      <td>1.000000</td>\n",
       "      <td>7.500000</td>\n",
       "      <td>0.000000</td>\n",
       "      <td>0.000000</td>\n",
       "      <td>18.000000</td>\n",
       "      <td>598.936905</td>\n",
       "      <td>0.003112</td>\n",
       "      <td>0.025156</td>\n",
       "      <td>0.000000</td>\n",
       "      <td>0.000000</td>\n",
       "      <td>2.000000</td>\n",
       "      <td>2.000000</td>\n",
       "      <td>3.000000</td>\n",
       "      <td>2.000000</td>\n",
       "    </tr>\n",
       "    <tr>\n",
       "      <th>75%</th>\n",
       "      <td>4.000000</td>\n",
       "      <td>93.256250</td>\n",
       "      <td>0.000000</td>\n",
       "      <td>0.000000</td>\n",
       "      <td>38.000000</td>\n",
       "      <td>1464.157213</td>\n",
       "      <td>0.016813</td>\n",
       "      <td>0.050000</td>\n",
       "      <td>0.000000</td>\n",
       "      <td>0.000000</td>\n",
       "      <td>3.000000</td>\n",
       "      <td>2.000000</td>\n",
       "      <td>4.000000</td>\n",
       "      <td>4.000000</td>\n",
       "    </tr>\n",
       "    <tr>\n",
       "      <th>max</th>\n",
       "      <td>27.000000</td>\n",
       "      <td>3398.750000</td>\n",
       "      <td>24.000000</td>\n",
       "      <td>2549.375000</td>\n",
       "      <td>705.000000</td>\n",
       "      <td>63973.522230</td>\n",
       "      <td>0.200000</td>\n",
       "      <td>0.200000</td>\n",
       "      <td>361.763742</td>\n",
       "      <td>1.000000</td>\n",
       "      <td>8.000000</td>\n",
       "      <td>13.000000</td>\n",
       "      <td>9.000000</td>\n",
       "      <td>20.000000</td>\n",
       "    </tr>\n",
       "  </tbody>\n",
       "</table>\n",
       "</div>"
      ],
      "text/plain": [
       "       Administrative  Administrative_Duration  Informational  \\\n",
       "count    12330.000000             12330.000000   12330.000000   \n",
       "mean         2.315166                80.818611       0.503569   \n",
       "std          3.321784               176.779107       1.270156   \n",
       "min          0.000000                 0.000000       0.000000   \n",
       "25%          0.000000                 0.000000       0.000000   \n",
       "50%          1.000000                 7.500000       0.000000   \n",
       "75%          4.000000                93.256250       0.000000   \n",
       "max         27.000000              3398.750000      24.000000   \n",
       "\n",
       "       Informational_Duration  ProductRelated  ProductRelated_Duration  \\\n",
       "count            12330.000000    12330.000000             12330.000000   \n",
       "mean                34.472398       31.731468              1194.746220   \n",
       "std                140.749294       44.475503              1913.669288   \n",
       "min                  0.000000        0.000000                 0.000000   \n",
       "25%                  0.000000        7.000000               184.137500   \n",
       "50%                  0.000000       18.000000               598.936905   \n",
       "75%                  0.000000       38.000000              1464.157213   \n",
       "max               2549.375000      705.000000             63973.522230   \n",
       "\n",
       "        BounceRates     ExitRates    PageValues    SpecialDay  \\\n",
       "count  12330.000000  12330.000000  12330.000000  12330.000000   \n",
       "mean       0.022191      0.043073      5.889258      0.061427   \n",
       "std        0.048488      0.048597     18.568437      0.198917   \n",
       "min        0.000000      0.000000      0.000000      0.000000   \n",
       "25%        0.000000      0.014286      0.000000      0.000000   \n",
       "50%        0.003112      0.025156      0.000000      0.000000   \n",
       "75%        0.016813      0.050000      0.000000      0.000000   \n",
       "max        0.200000      0.200000    361.763742      1.000000   \n",
       "\n",
       "       OperatingSystems       Browser        Region   TrafficType  \n",
       "count      12330.000000  12330.000000  12330.000000  12330.000000  \n",
       "mean           2.124006      2.357097      3.147364      4.069586  \n",
       "std            0.911325      1.717277      2.401591      4.025169  \n",
       "min            1.000000      1.000000      1.000000      1.000000  \n",
       "25%            2.000000      2.000000      1.000000      2.000000  \n",
       "50%            2.000000      2.000000      3.000000      2.000000  \n",
       "75%            3.000000      2.000000      4.000000      4.000000  \n",
       "max            8.000000     13.000000      9.000000     20.000000  "
      ]
     },
     "metadata": {},
     "output_type": "display_data"
    },
    {
     "name": "stdout",
     "output_type": "stream",
     "text": [
      " \n"
     ]
    },
    {
     "data": {
      "text/html": [
       "<div>\n",
       "<style scoped>\n",
       "    .dataframe tbody tr th:only-of-type {\n",
       "        vertical-align: middle;\n",
       "    }\n",
       "\n",
       "    .dataframe tbody tr th {\n",
       "        vertical-align: top;\n",
       "    }\n",
       "\n",
       "    .dataframe thead th {\n",
       "        text-align: right;\n",
       "    }\n",
       "</style>\n",
       "<table border=\"1\" class=\"dataframe\">\n",
       "  <thead>\n",
       "    <tr style=\"text-align: right;\">\n",
       "      <th></th>\n",
       "      <th>Administrative</th>\n",
       "      <th>Administrative_Duration</th>\n",
       "      <th>Informational</th>\n",
       "      <th>Informational_Duration</th>\n",
       "      <th>ProductRelated</th>\n",
       "      <th>ProductRelated_Duration</th>\n",
       "      <th>BounceRates</th>\n",
       "      <th>ExitRates</th>\n",
       "      <th>PageValues</th>\n",
       "      <th>SpecialDay</th>\n",
       "      <th>OperatingSystems</th>\n",
       "      <th>Browser</th>\n",
       "      <th>Region</th>\n",
       "      <th>TrafficType</th>\n",
       "    </tr>\n",
       "  </thead>\n",
       "  <tbody>\n",
       "    <tr>\n",
       "      <th>count</th>\n",
       "      <td>12330.000000</td>\n",
       "      <td>12330.000000</td>\n",
       "      <td>12330.000000</td>\n",
       "      <td>12330.000000</td>\n",
       "      <td>12330.000000</td>\n",
       "      <td>12330.000000</td>\n",
       "      <td>12330.000000</td>\n",
       "      <td>12330.000000</td>\n",
       "      <td>12330.000000</td>\n",
       "      <td>12330.000000</td>\n",
       "      <td>12330.000000</td>\n",
       "      <td>12330.000000</td>\n",
       "      <td>12330.000000</td>\n",
       "      <td>12330.000000</td>\n",
       "    </tr>\n",
       "    <tr>\n",
       "      <th>mean</th>\n",
       "      <td>2.315166</td>\n",
       "      <td>80.818611</td>\n",
       "      <td>0.503569</td>\n",
       "      <td>34.472398</td>\n",
       "      <td>31.731468</td>\n",
       "      <td>1194.746220</td>\n",
       "      <td>0.022191</td>\n",
       "      <td>0.043073</td>\n",
       "      <td>5.889258</td>\n",
       "      <td>0.061427</td>\n",
       "      <td>2.124006</td>\n",
       "      <td>2.357097</td>\n",
       "      <td>3.147364</td>\n",
       "      <td>4.069586</td>\n",
       "    </tr>\n",
       "    <tr>\n",
       "      <th>std</th>\n",
       "      <td>3.321784</td>\n",
       "      <td>176.779107</td>\n",
       "      <td>1.270156</td>\n",
       "      <td>140.749294</td>\n",
       "      <td>44.475503</td>\n",
       "      <td>1913.669288</td>\n",
       "      <td>0.048488</td>\n",
       "      <td>0.048597</td>\n",
       "      <td>18.568437</td>\n",
       "      <td>0.198917</td>\n",
       "      <td>0.911325</td>\n",
       "      <td>1.717277</td>\n",
       "      <td>2.401591</td>\n",
       "      <td>4.025169</td>\n",
       "    </tr>\n",
       "    <tr>\n",
       "      <th>min</th>\n",
       "      <td>0.000000</td>\n",
       "      <td>0.000000</td>\n",
       "      <td>0.000000</td>\n",
       "      <td>0.000000</td>\n",
       "      <td>0.000000</td>\n",
       "      <td>0.000000</td>\n",
       "      <td>0.000000</td>\n",
       "      <td>0.000000</td>\n",
       "      <td>0.000000</td>\n",
       "      <td>0.000000</td>\n",
       "      <td>1.000000</td>\n",
       "      <td>1.000000</td>\n",
       "      <td>1.000000</td>\n",
       "      <td>1.000000</td>\n",
       "    </tr>\n",
       "    <tr>\n",
       "      <th>25%</th>\n",
       "      <td>0.000000</td>\n",
       "      <td>0.000000</td>\n",
       "      <td>0.000000</td>\n",
       "      <td>0.000000</td>\n",
       "      <td>7.000000</td>\n",
       "      <td>184.137500</td>\n",
       "      <td>0.000000</td>\n",
       "      <td>0.014286</td>\n",
       "      <td>0.000000</td>\n",
       "      <td>0.000000</td>\n",
       "      <td>2.000000</td>\n",
       "      <td>2.000000</td>\n",
       "      <td>1.000000</td>\n",
       "      <td>2.000000</td>\n",
       "    </tr>\n",
       "    <tr>\n",
       "      <th>50%</th>\n",
       "      <td>1.000000</td>\n",
       "      <td>7.500000</td>\n",
       "      <td>0.000000</td>\n",
       "      <td>0.000000</td>\n",
       "      <td>18.000000</td>\n",
       "      <td>598.936905</td>\n",
       "      <td>0.003112</td>\n",
       "      <td>0.025156</td>\n",
       "      <td>0.000000</td>\n",
       "      <td>0.000000</td>\n",
       "      <td>2.000000</td>\n",
       "      <td>2.000000</td>\n",
       "      <td>3.000000</td>\n",
       "      <td>2.000000</td>\n",
       "    </tr>\n",
       "    <tr>\n",
       "      <th>75%</th>\n",
       "      <td>4.000000</td>\n",
       "      <td>93.256250</td>\n",
       "      <td>0.000000</td>\n",
       "      <td>0.000000</td>\n",
       "      <td>38.000000</td>\n",
       "      <td>1464.157213</td>\n",
       "      <td>0.016813</td>\n",
       "      <td>0.050000</td>\n",
       "      <td>0.000000</td>\n",
       "      <td>0.000000</td>\n",
       "      <td>3.000000</td>\n",
       "      <td>2.000000</td>\n",
       "      <td>4.000000</td>\n",
       "      <td>4.000000</td>\n",
       "    </tr>\n",
       "    <tr>\n",
       "      <th>max</th>\n",
       "      <td>27.000000</td>\n",
       "      <td>3398.750000</td>\n",
       "      <td>24.000000</td>\n",
       "      <td>2549.375000</td>\n",
       "      <td>705.000000</td>\n",
       "      <td>63973.522230</td>\n",
       "      <td>0.200000</td>\n",
       "      <td>0.200000</td>\n",
       "      <td>361.763742</td>\n",
       "      <td>1.000000</td>\n",
       "      <td>8.000000</td>\n",
       "      <td>13.000000</td>\n",
       "      <td>9.000000</td>\n",
       "      <td>20.000000</td>\n",
       "    </tr>\n",
       "  </tbody>\n",
       "</table>\n",
       "</div>"
      ],
      "text/plain": [
       "       Administrative  Administrative_Duration  Informational  \\\n",
       "count    12330.000000             12330.000000   12330.000000   \n",
       "mean         2.315166                80.818611       0.503569   \n",
       "std          3.321784               176.779107       1.270156   \n",
       "min          0.000000                 0.000000       0.000000   \n",
       "25%          0.000000                 0.000000       0.000000   \n",
       "50%          1.000000                 7.500000       0.000000   \n",
       "75%          4.000000                93.256250       0.000000   \n",
       "max         27.000000              3398.750000      24.000000   \n",
       "\n",
       "       Informational_Duration  ProductRelated  ProductRelated_Duration  \\\n",
       "count            12330.000000    12330.000000             12330.000000   \n",
       "mean                34.472398       31.731468              1194.746220   \n",
       "std                140.749294       44.475503              1913.669288   \n",
       "min                  0.000000        0.000000                 0.000000   \n",
       "25%                  0.000000        7.000000               184.137500   \n",
       "50%                  0.000000       18.000000               598.936905   \n",
       "75%                  0.000000       38.000000              1464.157213   \n",
       "max               2549.375000      705.000000             63973.522230   \n",
       "\n",
       "        BounceRates     ExitRates    PageValues    SpecialDay  \\\n",
       "count  12330.000000  12330.000000  12330.000000  12330.000000   \n",
       "mean       0.022191      0.043073      5.889258      0.061427   \n",
       "std        0.048488      0.048597     18.568437      0.198917   \n",
       "min        0.000000      0.000000      0.000000      0.000000   \n",
       "25%        0.000000      0.014286      0.000000      0.000000   \n",
       "50%        0.003112      0.025156      0.000000      0.000000   \n",
       "75%        0.016813      0.050000      0.000000      0.000000   \n",
       "max        0.200000      0.200000    361.763742      1.000000   \n",
       "\n",
       "       OperatingSystems       Browser        Region   TrafficType  \n",
       "count      12330.000000  12330.000000  12330.000000  12330.000000  \n",
       "mean           2.124006      2.357097      3.147364      4.069586  \n",
       "std            0.911325      1.717277      2.401591      4.025169  \n",
       "min            1.000000      1.000000      1.000000      1.000000  \n",
       "25%            2.000000      2.000000      1.000000      2.000000  \n",
       "50%            2.000000      2.000000      3.000000      2.000000  \n",
       "75%            3.000000      2.000000      4.000000      4.000000  \n",
       "max            8.000000     13.000000      9.000000     20.000000  "
      ]
     },
     "metadata": {},
     "output_type": "display_data"
    }
   ],
   "source": [
    "# Investigate the datatypes and descriptive statistics of the dataset\n",
    "display(df_base.info())\n",
    "display(df_base.describe())\n",
    "print(' ')\n",
    "display(df_base.describe())"
   ]
  },
  {
   "cell_type": "code",
   "execution_count": 90,
   "metadata": {},
   "outputs": [
    {
     "data": {
      "text/plain": [
       "<matplotlib.axes._subplots.AxesSubplot at 0x1c871c9ad68>"
      ]
     },
     "execution_count": 90,
     "metadata": {},
     "output_type": "execute_result"
    },
    {
     "data": {
      "image/png": "[encoded data removed]",
      "text/plain": [
       "<Figure size 1800x720 with 2 Axes>"
      ]
     },
     "metadata": {
      "needs_background": "light"
     },
     "output_type": "display_data"
    }
   ],
   "source": [
    "# Correlation Heatmap for the dataframe\n",
    "spearman =df.corr(method ='spearman')\n",
    "plt.figure(figsize=(25,10))\n",
    "sns.heatmap(spearman, annot=True)"
   ]
  },
  {
   "cell_type": "markdown",
   "metadata": {},
   "source": [
    "# 2. Process the data for Initial Data Models  <a name=\"part4.2\"></a>"
   ]
  },
  {
   "cell_type": "markdown",
   "metadata": {},
   "source": [
    "    2.0 Pipeline [Prep] - Create subsets and list to be used later in the pipeline:"
   ]
  },
  {
   "cell_type": "code",
   "execution_count": 91,
   "metadata": {},
   "outputs": [],
   "source": [
    "# Create Continuous Variable List\n",
    "df_continuous = df.iloc[:,:9]\n",
    "continuous_df_list = df_continuous.columns.tolist()\n",
    "\n",
    "# Create Categorical Variable List\n",
    "df_categorical = df.iloc[:,9:-1]\n",
    "categorical_df_list = df_categorical.columns.tolist()\n"
   ]
  },
  {
   "cell_type": "markdown",
   "metadata": {},
   "source": [
    "    2.1 Pipeline [Impute] - Initial Imputation of Categorical Features:"
   ]
  },
  {
   "cell_type": "code",
   "execution_count": 92,
   "metadata": {},
   "outputs": [
    {
     "data": {
      "text/html": [
       "<div>\n",
       "<style scoped>\n",
       "    .dataframe tbody tr th:only-of-type {\n",
       "        vertical-align: middle;\n",
       "    }\n",
       "\n",
       "    .dataframe tbody tr th {\n",
       "        vertical-align: top;\n",
       "    }\n",
       "\n",
       "    .dataframe thead th {\n",
       "        text-align: right;\n",
       "    }\n",
       "</style>\n",
       "<table border=\"1\" class=\"dataframe\">\n",
       "  <thead>\n",
       "    <tr style=\"text-align: right;\">\n",
       "      <th></th>\n",
       "      <th>Administrative</th>\n",
       "      <th>Administrative_Duration</th>\n",
       "      <th>Informational</th>\n",
       "      <th>Informational_Duration</th>\n",
       "      <th>ProductRelated</th>\n",
       "      <th>ProductRelated_Duration</th>\n",
       "      <th>BounceRates</th>\n",
       "      <th>ExitRates</th>\n",
       "      <th>PageValues</th>\n",
       "      <th>SpecialDay</th>\n",
       "      <th>Month</th>\n",
       "      <th>OperatingSystems</th>\n",
       "      <th>Browser</th>\n",
       "      <th>Region</th>\n",
       "      <th>TrafficType</th>\n",
       "      <th>Weekend</th>\n",
       "      <th>Revenue</th>\n",
       "    </tr>\n",
       "    <tr>\n",
       "      <th>VisitorType</th>\n",
       "      <th></th>\n",
       "      <th></th>\n",
       "      <th></th>\n",
       "      <th></th>\n",
       "      <th></th>\n",
       "      <th></th>\n",
       "      <th></th>\n",
       "      <th></th>\n",
       "      <th></th>\n",
       "      <th></th>\n",
       "      <th></th>\n",
       "      <th></th>\n",
       "      <th></th>\n",
       "      <th></th>\n",
       "      <th></th>\n",
       "      <th></th>\n",
       "      <th></th>\n",
       "    </tr>\n",
       "  </thead>\n",
       "  <tbody>\n",
       "    <tr>\n",
       "      <th>New_Visitor</th>\n",
       "      <td>1694</td>\n",
       "      <td>1694</td>\n",
       "      <td>1694</td>\n",
       "      <td>1694</td>\n",
       "      <td>1694</td>\n",
       "      <td>1694</td>\n",
       "      <td>1694</td>\n",
       "      <td>1694</td>\n",
       "      <td>1694</td>\n",
       "      <td>1694</td>\n",
       "      <td>1694</td>\n",
       "      <td>1694</td>\n",
       "      <td>1694</td>\n",
       "      <td>1694</td>\n",
       "      <td>1694</td>\n",
       "      <td>1694</td>\n",
       "      <td>1694</td>\n",
       "    </tr>\n",
       "    <tr>\n",
       "      <th>Returning_Visitor</th>\n",
       "      <td>10636</td>\n",
       "      <td>10636</td>\n",
       "      <td>10636</td>\n",
       "      <td>10636</td>\n",
       "      <td>10636</td>\n",
       "      <td>10636</td>\n",
       "      <td>10636</td>\n",
       "      <td>10636</td>\n",
       "      <td>10636</td>\n",
       "      <td>10636</td>\n",
       "      <td>10636</td>\n",
       "      <td>10636</td>\n",
       "      <td>10636</td>\n",
       "      <td>10636</td>\n",
       "      <td>10636</td>\n",
       "      <td>10636</td>\n",
       "      <td>10636</td>\n",
       "    </tr>\n",
       "  </tbody>\n",
       "</table>\n",
       "</div>"
      ],
      "text/plain": [
       "                   Administrative  Administrative_Duration  Informational  \\\n",
       "VisitorType                                                                 \n",
       "New_Visitor                  1694                     1694           1694   \n",
       "Returning_Visitor           10636                    10636          10636   \n",
       "\n",
       "                   Informational_Duration  ProductRelated  \\\n",
       "VisitorType                                                 \n",
       "New_Visitor                          1694            1694   \n",
       "Returning_Visitor                   10636           10636   \n",
       "\n",
       "                   ProductRelated_Duration  BounceRates  ExitRates  \\\n",
       "VisitorType                                                          \n",
       "New_Visitor                           1694         1694       1694   \n",
       "Returning_Visitor                    10636        10636      10636   \n",
       "\n",
       "                   PageValues  SpecialDay  Month  OperatingSystems  Browser  \\\n",
       "VisitorType                                                                   \n",
       "New_Visitor              1694        1694   1694              1694     1694   \n",
       "Returning_Visitor       10636       10636  10636             10636    10636   \n",
       "\n",
       "                   Region  TrafficType  Weekend  Revenue  \n",
       "VisitorType                                               \n",
       "New_Visitor          1694         1694     1694     1694  \n",
       "Returning_Visitor   10636        10636    10636    10636  "
      ]
     },
     "execution_count": 92,
     "metadata": {},
     "output_type": "execute_result"
    }
   ],
   "source": [
    "# Pipeline - Initial Imputation of Categorical Features:\n",
    "\n",
    "## Replace the VisitorType 'Other' with the variable's mode, namely: 'Returning_Visitor'\n",
    "df['VisitorType'] = df['VisitorType'].replace('Other','Returning_Visitor')\n",
    "df.groupby('VisitorType').count()"
   ]
  },
  {
   "cell_type": "code",
   "execution_count": 93,
   "metadata": {},
   "outputs": [],
   "source": [
    "# Encode Revenue before splitting the data to allow for modeling\n",
    "\n",
    "enc = LabelEncoder()\n",
    "\n",
    "df['VisitorType'] = enc.fit_transform(df['VisitorType'])\n",
    "df['Weekend'] = enc.fit_transform(df['Weekend'])\n",
    "df['Revenue'] = enc.fit_transform(df['Revenue'])"
   ]
  },
  {
   "cell_type": "code",
   "execution_count": 94,
   "metadata": {},
   "outputs": [],
   "source": [
    "# Pipeline - Binning Categorical Features:\n",
    "\n",
    "def holiday_bin_func(month) :\n",
    "    if month == 'May':\n",
    "        return int(1)\n",
    "    elif month == 'Feb':\n",
    "        return int(1)\n",
    "    else:\n",
    "        return int(0)\n",
    "    \n",
    "df['Holiday_Bin'] = df['Month'].apply(holiday_bin_func)\n",
    "\n",
    "##Reduce months to the top 4 in which there are transactions and \"other\"\n",
    "def month_bin_func(month) :\n",
    "    if month == 'May':\n",
    "        return int(5)\n",
    "    elif month == 'Nov':\n",
    "        return int(11)\n",
    "    elif month == 'Mar':\n",
    "        return int(3)\n",
    "    elif month == 'Dec':\n",
    "        return int(12)\n",
    "    else:\n",
    "        return int(0)\n",
    "    \n",
    "df['Month_Bin'] = df['Month'].apply(month_bin_func)\n",
    "\n",
    "\n",
    "##Encode month names to numerical representations\n",
    "\n",
    "def month_func(month) :\n",
    "    if month == 'Jan':\n",
    "        return int(1)\n",
    "    elif month == 'Feb':\n",
    "        return int(2)\n",
    "    elif month == 'Mar':\n",
    "        return int(3)\n",
    "    elif month == 'Apr':\n",
    "        return int(4)\n",
    "    elif month == 'May':\n",
    "        return int(5)\n",
    "    elif month == 'June':\n",
    "        return int(6)\n",
    "    elif month == 'Jul':\n",
    "        return int(7)\n",
    "    elif month == 'Aug':\n",
    "        return int(8)\n",
    "    elif month == 'Sep':\n",
    "        return int(9)\n",
    "    elif month == 'Oct':\n",
    "        return int(10)\n",
    "    elif month == 'Nov':\n",
    "        return int(11)\n",
    "    elif month == 'Dec':\n",
    "        return int(12)\n",
    "\n",
    "df['Month'] = df['Month'].apply(month_func)\n",
    "\n",
    "def month_quarterly_func(month) :\n",
    "    if month <= 3:\n",
    "        return int(1)\n",
    "    elif month >= 4 and month <= 6:\n",
    "        return int(2)\n",
    "    elif month >= 7 and month <= 9:\n",
    "        return int(3)\n",
    "    elif month >= 10 and month <= 12:\n",
    "        return int(4)\n",
    "\n",
    "df['Quarter'] = df['Month'].apply(month_quarterly_func)\n",
    "\n",
    "##Reduce categories for Operating Systems to the top 3 plus \"other\"\n",
    "### Operating Systems – is a categorical variable and most of the data (~95%) is in one of three operating systems (2, 1, 3). \n",
    "def binning_operating_systems(B):\n",
    "    if (B <= 3):\n",
    "        return(B)\n",
    "    else:\n",
    "        return(4) # creating a category of 4 for all Operating Systems > 3\n",
    "\n",
    "df['OperatingSystems_Bin']=df['OperatingSystems'].apply(binning_operating_systems)   # Creating a new column in the df\n",
    "\n",
    "\n",
    "      \n",
    "##Reduce categories for Browser to the top 3 plus \"other\"\n",
    "### Browser – is a categorical variable and most the data (~91%) come from three browsers (2, 1, 4).\n",
    "def binning_browser(B):\n",
    "    if (B == 3) or (B > 4): \n",
    "        return(3) \n",
    "    else:\n",
    "        return(B) \n",
    "\n",
    "df['Browser_Bin']=df['Browser'].apply(binning_browser)   # Creating a new column in the df\n",
    "      \n",
    "      \n",
    "##Reduce categories for Region to the top 4 plus \"other\"\n",
    "### Region – is a categorical variable for region from which the visitor came. The top four account for ~77% of the data (i.e., region 1, 3, 4, 2).\n",
    "def binning_region(B):\n",
    "    if (B <= 4):\n",
    "        return(B)\n",
    "    else:\n",
    "        return(5) # creating a category of 5 for all Regions > 4\n",
    "\n",
    "df['Region_Bin']=df['Region'].apply(binning_region)   # Creating a new column in the df\n",
    "\n",
    "      \n",
    "      \n",
    "##Reduce categories for TrafficType to the top 3 plus \"other\"\n",
    "### TrafficType – is a categorical variable to indicate how visitor arrived at website. The top three account for approximately 67% of the referrals (i.e., types 2, 1, 3).\n",
    "def binning_traffic_type(B):\n",
    "    if (B <= 3):\n",
    "        return(B)\n",
    "    else:\n",
    "        return(4) # creating a category of 4 for all Traffic Types > 3\n",
    "\n",
    "df['TrafficType_Bin']=df['TrafficType'].apply(binning_traffic_type)   # Creating a new column in the df"
   ]
  },
  {
   "cell_type": "code",
   "execution_count": 95,
   "metadata": {},
   "outputs": [
    {
     "data": {
      "text/plain": [
       "['SpecialDay',\n",
       " 'Month',\n",
       " 'OperatingSystems',\n",
       " 'Browser',\n",
       " 'Region',\n",
       " 'TrafficType',\n",
       " 'VisitorType',\n",
       " 'Weekend',\n",
       " 'Holiday_Bin',\n",
       " 'Month_Bin',\n",
       " 'Quarter',\n",
       " 'OperatingSystems_Bin',\n",
       " 'Browser_Bin',\n",
       " 'Region_Bin',\n",
       " 'TrafficType_Bin']"
      ]
     },
     "execution_count": 95,
     "metadata": {},
     "output_type": "execute_result"
    }
   ],
   "source": [
    "# add creates features / bins to categorical list\n",
    "added_categorical_features = df.iloc[:,-7:]\n",
    "added_categorical_list = added_categorical_features.columns.tolist()\n",
    "\n",
    "##Combine added features list with categorical list\n",
    "categorical_df_list = categorical_df_list + added_categorical_list\n",
    "\n",
    "##Check work by printing combined categorical list\n",
    "categorical_df_list"
   ]
  },
  {
   "cell_type": "markdown",
   "metadata": {},
   "source": [
    "    2.2 Pipeline [Transform] - Initial Log Transformation Continuous Features:"
   ]
  },
  {
   "cell_type": "code",
   "execution_count": 96,
   "metadata": {},
   "outputs": [
    {
     "data": {
      "text/html": [
       "<div>\n",
       "<style scoped>\n",
       "    .dataframe tbody tr th:only-of-type {\n",
       "        vertical-align: middle;\n",
       "    }\n",
       "\n",
       "    .dataframe tbody tr th {\n",
       "        vertical-align: top;\n",
       "    }\n",
       "\n",
       "    .dataframe thead th {\n",
       "        text-align: right;\n",
       "    }\n",
       "</style>\n",
       "<table border=\"1\" class=\"dataframe\">\n",
       "  <thead>\n",
       "    <tr style=\"text-align: right;\">\n",
       "      <th></th>\n",
       "      <th>Administrative</th>\n",
       "      <th>Administrative_Duration</th>\n",
       "      <th>Informational</th>\n",
       "      <th>Informational_Duration</th>\n",
       "      <th>ProductRelated</th>\n",
       "      <th>ProductRelated_Duration</th>\n",
       "      <th>BounceRates</th>\n",
       "      <th>ExitRates</th>\n",
       "      <th>PageValues</th>\n",
       "    </tr>\n",
       "  </thead>\n",
       "  <tbody>\n",
       "    <tr>\n",
       "      <th>4630</th>\n",
       "      <td>9</td>\n",
       "      <td>51.750000</td>\n",
       "      <td>2</td>\n",
       "      <td>27.75</td>\n",
       "      <td>23</td>\n",
       "      <td>554.583333</td>\n",
       "      <td>1.000000</td>\n",
       "      <td>1.017857</td>\n",
       "      <td>6.798000</td>\n",
       "    </tr>\n",
       "    <tr>\n",
       "      <th>10369</th>\n",
       "      <td>1</td>\n",
       "      <td>1.000000</td>\n",
       "      <td>1</td>\n",
       "      <td>1.00</td>\n",
       "      <td>22</td>\n",
       "      <td>1052.166667</td>\n",
       "      <td>1.000000</td>\n",
       "      <td>1.009524</td>\n",
       "      <td>15.140844</td>\n",
       "    </tr>\n",
       "    <tr>\n",
       "      <th>5210</th>\n",
       "      <td>1</td>\n",
       "      <td>1.000000</td>\n",
       "      <td>1</td>\n",
       "      <td>1.00</td>\n",
       "      <td>5</td>\n",
       "      <td>47.000000</td>\n",
       "      <td>1.000000</td>\n",
       "      <td>1.050000</td>\n",
       "      <td>1.000000</td>\n",
       "    </tr>\n",
       "    <tr>\n",
       "      <th>3104</th>\n",
       "      <td>5</td>\n",
       "      <td>131.500000</td>\n",
       "      <td>1</td>\n",
       "      <td>1.00</td>\n",
       "      <td>7</td>\n",
       "      <td>166.500000</td>\n",
       "      <td>1.000000</td>\n",
       "      <td>1.033333</td>\n",
       "      <td>1.000000</td>\n",
       "    </tr>\n",
       "    <tr>\n",
       "      <th>1902</th>\n",
       "      <td>1</td>\n",
       "      <td>1.000000</td>\n",
       "      <td>1</td>\n",
       "      <td>1.00</td>\n",
       "      <td>33</td>\n",
       "      <td>1917.633333</td>\n",
       "      <td>1.015625</td>\n",
       "      <td>1.026563</td>\n",
       "      <td>1.000000</td>\n",
       "    </tr>\n",
       "    <tr>\n",
       "      <th>8018</th>\n",
       "      <td>1</td>\n",
       "      <td>1.000000</td>\n",
       "      <td>1</td>\n",
       "      <td>1.00</td>\n",
       "      <td>25</td>\n",
       "      <td>611.633333</td>\n",
       "      <td>1.000000</td>\n",
       "      <td>1.020833</td>\n",
       "      <td>1.000000</td>\n",
       "    </tr>\n",
       "    <tr>\n",
       "      <th>10630</th>\n",
       "      <td>1</td>\n",
       "      <td>1.000000</td>\n",
       "      <td>3</td>\n",
       "      <td>22.00</td>\n",
       "      <td>44</td>\n",
       "      <td>1826.557143</td>\n",
       "      <td>1.000000</td>\n",
       "      <td>1.018116</td>\n",
       "      <td>1.000000</td>\n",
       "    </tr>\n",
       "    <tr>\n",
       "      <th>9287</th>\n",
       "      <td>1</td>\n",
       "      <td>1.000000</td>\n",
       "      <td>1</td>\n",
       "      <td>1.00</td>\n",
       "      <td>10</td>\n",
       "      <td>126.500000</td>\n",
       "      <td>1.007407</td>\n",
       "      <td>1.022222</td>\n",
       "      <td>1.000000</td>\n",
       "    </tr>\n",
       "    <tr>\n",
       "      <th>11509</th>\n",
       "      <td>10</td>\n",
       "      <td>142.750000</td>\n",
       "      <td>3</td>\n",
       "      <td>311.50</td>\n",
       "      <td>10</td>\n",
       "      <td>124.500000</td>\n",
       "      <td>1.000000</td>\n",
       "      <td>1.017647</td>\n",
       "      <td>1.000000</td>\n",
       "    </tr>\n",
       "    <tr>\n",
       "      <th>5002</th>\n",
       "      <td>1</td>\n",
       "      <td>1.000000</td>\n",
       "      <td>1</td>\n",
       "      <td>1.00</td>\n",
       "      <td>71</td>\n",
       "      <td>1454.900000</td>\n",
       "      <td>1.010145</td>\n",
       "      <td>1.020773</td>\n",
       "      <td>1.000000</td>\n",
       "    </tr>\n",
       "    <tr>\n",
       "      <th>3530</th>\n",
       "      <td>7</td>\n",
       "      <td>109.916667</td>\n",
       "      <td>1</td>\n",
       "      <td>1.00</td>\n",
       "      <td>25</td>\n",
       "      <td>517.416667</td>\n",
       "      <td>1.000000</td>\n",
       "      <td>1.013333</td>\n",
       "      <td>9.181600</td>\n",
       "    </tr>\n",
       "    <tr>\n",
       "      <th>3524</th>\n",
       "      <td>17</td>\n",
       "      <td>285.850000</td>\n",
       "      <td>1</td>\n",
       "      <td>1.00</td>\n",
       "      <td>277</td>\n",
       "      <td>4759.380638</td>\n",
       "      <td>1.001034</td>\n",
       "      <td>1.007306</td>\n",
       "      <td>28.432095</td>\n",
       "    </tr>\n",
       "    <tr>\n",
       "      <th>10651</th>\n",
       "      <td>3</td>\n",
       "      <td>28.500000</td>\n",
       "      <td>1</td>\n",
       "      <td>1.00</td>\n",
       "      <td>45</td>\n",
       "      <td>1027.450758</td>\n",
       "      <td>1.004651</td>\n",
       "      <td>1.037364</td>\n",
       "      <td>1.000000</td>\n",
       "    </tr>\n",
       "    <tr>\n",
       "      <th>3437</th>\n",
       "      <td>2</td>\n",
       "      <td>6.000000</td>\n",
       "      <td>1</td>\n",
       "      <td>1.00</td>\n",
       "      <td>45</td>\n",
       "      <td>631.316667</td>\n",
       "      <td>1.025000</td>\n",
       "      <td>1.044223</td>\n",
       "      <td>1.000000</td>\n",
       "    </tr>\n",
       "    <tr>\n",
       "      <th>12156</th>\n",
       "      <td>1</td>\n",
       "      <td>1.000000</td>\n",
       "      <td>1</td>\n",
       "      <td>1.00</td>\n",
       "      <td>2</td>\n",
       "      <td>1.000000</td>\n",
       "      <td>1.000000</td>\n",
       "      <td>1.100000</td>\n",
       "      <td>1.000000</td>\n",
       "    </tr>\n",
       "    <tr>\n",
       "      <th>12185</th>\n",
       "      <td>1</td>\n",
       "      <td>1.000000</td>\n",
       "      <td>1</td>\n",
       "      <td>1.00</td>\n",
       "      <td>2</td>\n",
       "      <td>1.000000</td>\n",
       "      <td>1.200000</td>\n",
       "      <td>1.200000</td>\n",
       "      <td>1.000000</td>\n",
       "    </tr>\n",
       "    <tr>\n",
       "      <th>3375</th>\n",
       "      <td>2</td>\n",
       "      <td>256.000000</td>\n",
       "      <td>1</td>\n",
       "      <td>1.00</td>\n",
       "      <td>36</td>\n",
       "      <td>1179.000000</td>\n",
       "      <td>1.035294</td>\n",
       "      <td>1.064706</td>\n",
       "      <td>1.000000</td>\n",
       "    </tr>\n",
       "    <tr>\n",
       "      <th>5602</th>\n",
       "      <td>2</td>\n",
       "      <td>81.600000</td>\n",
       "      <td>1</td>\n",
       "      <td>1.00</td>\n",
       "      <td>22</td>\n",
       "      <td>480.585714</td>\n",
       "      <td>1.005000</td>\n",
       "      <td>1.010556</td>\n",
       "      <td>11.897618</td>\n",
       "    </tr>\n",
       "    <tr>\n",
       "      <th>1612</th>\n",
       "      <td>1</td>\n",
       "      <td>1.000000</td>\n",
       "      <td>1</td>\n",
       "      <td>1.00</td>\n",
       "      <td>9</td>\n",
       "      <td>171.000000</td>\n",
       "      <td>1.075000</td>\n",
       "      <td>1.080000</td>\n",
       "      <td>1.000000</td>\n",
       "    </tr>\n",
       "    <tr>\n",
       "      <th>8456</th>\n",
       "      <td>1</td>\n",
       "      <td>1.000000</td>\n",
       "      <td>1</td>\n",
       "      <td>1.00</td>\n",
       "      <td>22</td>\n",
       "      <td>531.583333</td>\n",
       "      <td>1.019048</td>\n",
       "      <td>1.021429</td>\n",
       "      <td>1.000000</td>\n",
       "    </tr>\n",
       "  </tbody>\n",
       "</table>\n",
       "</div>"
      ],
      "text/plain": [
       "       Administrative  Administrative_Duration  Informational  \\\n",
       "4630                9                51.750000              2   \n",
       "10369               1                 1.000000              1   \n",
       "5210                1                 1.000000              1   \n",
       "3104                5               131.500000              1   \n",
       "1902                1                 1.000000              1   \n",
       "8018                1                 1.000000              1   \n",
       "10630               1                 1.000000              3   \n",
       "9287                1                 1.000000              1   \n",
       "11509              10               142.750000              3   \n",
       "5002                1                 1.000000              1   \n",
       "3530                7               109.916667              1   \n",
       "3524               17               285.850000              1   \n",
       "10651               3                28.500000              1   \n",
       "3437                2                 6.000000              1   \n",
       "12156               1                 1.000000              1   \n",
       "12185               1                 1.000000              1   \n",
       "3375                2               256.000000              1   \n",
       "5602                2                81.600000              1   \n",
       "1612                1                 1.000000              1   \n",
       "8456                1                 1.000000              1   \n",
       "\n",
       "       Informational_Duration  ProductRelated  ProductRelated_Duration  \\\n",
       "4630                    27.75              23               554.583333   \n",
       "10369                    1.00              22              1052.166667   \n",
       "5210                     1.00               5                47.000000   \n",
       "3104                     1.00               7               166.500000   \n",
       "1902                     1.00              33              1917.633333   \n",
       "8018                     1.00              25               611.633333   \n",
       "10630                   22.00              44              1826.557143   \n",
       "9287                     1.00              10               126.500000   \n",
       "11509                  311.50              10               124.500000   \n",
       "5002                     1.00              71              1454.900000   \n",
       "3530                     1.00              25               517.416667   \n",
       "3524                     1.00             277              4759.380638   \n",
       "10651                    1.00              45              1027.450758   \n",
       "3437                     1.00              45               631.316667   \n",
       "12156                    1.00               2                 1.000000   \n",
       "12185                    1.00               2                 1.000000   \n",
       "3375                     1.00              36              1179.000000   \n",
       "5602                     1.00              22               480.585714   \n",
       "1612                     1.00               9               171.000000   \n",
       "8456                     1.00              22               531.583333   \n",
       "\n",
       "       BounceRates  ExitRates  PageValues  \n",
       "4630      1.000000   1.017857    6.798000  \n",
       "10369     1.000000   1.009524   15.140844  \n",
       "5210      1.000000   1.050000    1.000000  \n",
       "3104      1.000000   1.033333    1.000000  \n",
       "1902      1.015625   1.026563    1.000000  \n",
       "8018      1.000000   1.020833    1.000000  \n",
       "10630     1.000000   1.018116    1.000000  \n",
       "9287      1.007407   1.022222    1.000000  \n",
       "11509     1.000000   1.017647    1.000000  \n",
       "5002      1.010145   1.020773    1.000000  \n",
       "3530      1.000000   1.013333    9.181600  \n",
       "3524      1.001034   1.007306   28.432095  \n",
       "10651     1.004651   1.037364    1.000000  \n",
       "3437      1.025000   1.044223    1.000000  \n",
       "12156     1.000000   1.100000    1.000000  \n",
       "12185     1.200000   1.200000    1.000000  \n",
       "3375      1.035294   1.064706    1.000000  \n",
       "5602      1.005000   1.010556   11.897618  \n",
       "1612      1.075000   1.080000    1.000000  \n",
       "8456      1.019048   1.021429    1.000000  "
      ]
     },
     "metadata": {},
     "output_type": "display_data"
    }
   ],
   "source": [
    "# Impute zeros to one (by adding one to all values) before applying the log transformation\n",
    "\n",
    "# Impute Zeros before doing the log\n",
    "for column in continuous_df_list:\n",
    "    df[column] = df[column] + 1\n",
    "\n",
    "# Check imputation by printing a samplle of rows\n",
    "display(df[continuous_df_list].sample(20))"
   ]
  },
  {
   "cell_type": "markdown",
   "metadata": {},
   "source": [
    "    2.3 Pipeline [Calcualated Features] - Initial Feature Engineering of continuous features:"
   ]
  },
  {
   "cell_type": "code",
   "execution_count": 97,
   "metadata": {},
   "outputs": [],
   "source": [
    "# Perform initial log transformation on PageValues\n",
    "df['PageValues_Log'] = np.log(df['PageValues'])\n",
    "\n",
    "# Create features combining ('ExitRates' and 'BounceRates'), which are highly correlated with each other and the target\n",
    "df['Bounce_Exit_Rate_Avg'] = (df['BounceRates'] + df['ExitRates'])/2\n",
    "df['Bounce_Exit_Rate_WeightedAvg'] = ((df['BounceRates']*.6) + (df['ExitRates']*.4))\n",
    "df['Bounce_Exit_Rate_Avg_PageVales'] = (df['Bounce_Exit_Rate_Avg'] / df['PageValues']) # add a chart to compare the trends and distributions\n",
    "df['Bounce_per_Exit_Rate'] = df['BounceRates'] / df['ExitRates']\n",
    "\n",
    "# Create features combining ('Administrative' and 'Administrative_Duration') and ('ExitRates' and 'BounceRates'), which are highly correlated with each other and the target\n",
    "df['Admin_per_Exit'] = df['Administrative'] / df['ExitRates'] # average the denominator 'Bounce_Exit_Rate_Avg'\n",
    "df['Admin_per_Bounce'] = df['Administrative'] / df['BounceRates'] # average the denominator 'Bounce_Exit_Rate_Avg'\n",
    "df['Admin_per_bounce_exit_avg'] = df['Administrative'] / df['Bounce_Exit_Rate_Avg'] # average the denominator 'Bounce_Exit_Rate_Avg'\n",
    "\n",
    "df['Admin_dur_per_Exit'] = df['Administrative_Duration'] / df['ExitRates'] # average the denominator 'Bounce_Exit_Rate_Avg'\n",
    "df['Admin_dur_per_Bounce'] = df['Administrative_Duration'] / df['BounceRates'] # average the denominator 'Bounce_Exit_Rate_Avg'\n",
    "df['Admin_dur_per_bounce_exit_avg'] = df['Administrative_Duration'] / df['Bounce_Exit_Rate_Avg'] # average the denominator 'Bounce_Exit_Rate_Avg'\n",
    "\n",
    "\n",
    "# Create features combining ('Informational' and 'Informational_Duration') and, ('ExitRates' and 'BounceRates'), which are highly correlated with each other and the target\n",
    "df['Info_per_Exit'] = df['Informational'] / df['ExitRates'] # average the denominator 'Bounce_Exit_Rate_Avg'\n",
    "df['Info_per_Bounce'] = df['Informational'] / df['BounceRates'] # average the denominator 'Bounce_Exit_Rate_Avg'\n",
    "df['Info_per_bounce_exit_avg'] = df['Informational'] / df['Bounce_Exit_Rate_Avg'] # average the denominator 'Bounce_Exit_Rate_Avg'\n",
    "\n",
    "df['Info_dur_per_Exit'] = df['Informational_Duration'] / df['ExitRates'] # average the denominator 'Bounce_Exit_Rate_Avg'\n",
    "df['Info_dur_per_Bounce'] = df['Informational_Duration'] / df['BounceRates'] # average the denominator 'Bounce_Exit_Rate_Avg'\n",
    "df['Info_dur_per_bounce_exit_avg'] = df['Informational_Duration'] / df['Bounce_Exit_Rate_Avg'] # average the denominator 'Bounce_Exit_Rate_Avg'\n",
    "\n",
    "\n",
    "# Create features combining ('ProductRelated' and 'ProductRelated_Duration') and, ('ExitRates' and 'BounceRates'), which are highly correlated with each other and the target\n",
    "df['Product_per_Exit'] = df['ProductRelated'] / df['ExitRates'] # average the denominator 'Bounce_Exit_Rate_Avg'\n",
    "df['Product_per_Bounce'] = df['ProductRelated'] / df['BounceRates'] # average the denominator 'Bounce_Exit_Rate_Avg'\n",
    "df['Prod_per_bounce_exit_avg'] = df['ProductRelated'] / df['Bounce_Exit_Rate_Avg'] # average the denominator 'Bounce_Exit_Rate_Avg'\n",
    "\n",
    "df['Product_dur_per_Exit'] = df['ProductRelated_Duration'] / df['ExitRates'] # average the denominator 'Bounce_Exit_Rate_Avg'\n",
    "df['Product_dur_per_Bounce'] = df['ProductRelated_Duration'] / df['BounceRates'] # average the denominator 'Bounce_Exit_Rate_Avg\n",
    "df['Prod_dur_per_bounce_exit_avg'] = df['ProductRelated_Duration'] / df['Bounce_Exit_Rate_Avg'] # average the denominator 'Bounce_Exit_Rate_Avg'\n",
    "\n",
    "\n",
    "# Create features combining ('Administrative_Duration','Informational_Duration' and 'ProductRelated_Duration'), which are highly correlated with each other and the target\n",
    "df['Total_Duration'] = df['Administrative_Duration'] + df['Informational_Duration'] + df['ProductRelated_Duration']\n",
    "df['Total_Duration_Avg'] = (df['Total_Duration'])/3\n",
    "df['Admin_Duration_percent_TotalDuration'] = df['Administrative_Duration'] / df['Total_Duration']\n",
    "df['Info_Duration_percent_TotalDuration'] = df['Informational_Duration'] / df['Total_Duration']\n",
    "df['Product_Duration_percent_TotalDuration'] = df['ProductRelated_Duration'] / df['Total_Duration']\n",
    "\n",
    "\n",
    "# Create features related to 'Total_Duration' as compared to ('ExitRates', 'BounceRates' and a combination of the two), which are highly correlated with each other and the target\n",
    "df['TotalDuration_per_ExitRates'] = df['Total_Duration'] / df['ExitRates']\n",
    "df['TotalDuration_per_BounceRates'] = df['Total_Duration'] / df['BounceRates']\n",
    "df['TotalDuration_per_BounceExit_avg'] = df['Total_Duration'] / df['Bounce_Exit_Rate_Avg']\n",
    "\n",
    "\n",
    "#Create features using 'PageValues', which is highly correlated with the target,as the denominator\n",
    "df['Admin_per_PageValues'] = df['Administrative'] / df['PageValues']\n",
    "df['Admin_Duration_per_PageValues'] = df['Administrative_Duration'] / df['PageValues']\n",
    "df['Informational_per_PageValues'] = df['Informational'] / df['PageValues']\n",
    "df['Info_Duration_per_PageValues'] = df['Informational_Duration'] / df['PageValues']\n",
    "df['ProductRelated_per_PageValues'] = df['ProductRelated'] / df['PageValues']\n",
    "df['Product_Duration_per_PageValues'] = df['ProductRelated_Duration'] / df['PageValues']\n",
    "df['TotalDuration_per_PageValues'] = df['Total_Duration'] / df['PageValues']\n",
    "df['Exit_per_PageValues'] = df['ExitRates'] / df['PageValues']\n",
    "df['Bounce_per_PageValues'] = df['BounceRates'] / df['PageValues']"
   ]
  },
  {
   "cell_type": "code",
   "execution_count": 98,
   "metadata": {},
   "outputs": [],
   "source": [
    "# Add transformed / calculated features to continuous list\n",
    "\n",
    "##Create added features list (to include PageValues_Log)\n",
    "added_continuous_features = df.iloc[:,-40:]\n",
    "added_continuous_list = added_continuous_features.columns.tolist()"
   ]
  },
  {
   "cell_type": "code",
   "execution_count": 99,
   "metadata": {},
   "outputs": [],
   "source": [
    "##Combine added features list with continuous list\n",
    "continuous_df_list = continuous_df_list + added_continuous_list"
   ]
  },
  {
   "cell_type": "code",
   "execution_count": 100,
   "metadata": {},
   "outputs": [
    {
     "data": {
      "text/plain": [
       "['Administrative',\n",
       " 'Administrative_Duration',\n",
       " 'Informational',\n",
       " 'Informational_Duration',\n",
       " 'ProductRelated',\n",
       " 'ProductRelated_Duration',\n",
       " 'BounceRates',\n",
       " 'ExitRates',\n",
       " 'PageValues',\n",
       " 'PageValues_Log',\n",
       " 'Bounce_Exit_Rate_Avg',\n",
       " 'Bounce_Exit_Rate_WeightedAvg',\n",
       " 'Bounce_Exit_Rate_Avg_PageVales',\n",
       " 'Bounce_per_Exit_Rate',\n",
       " 'Admin_per_Exit',\n",
       " 'Admin_per_Bounce',\n",
       " 'Admin_per_bounce_exit_avg',\n",
       " 'Admin_dur_per_Exit',\n",
       " 'Admin_dur_per_Bounce',\n",
       " 'Admin_dur_per_bounce_exit_avg',\n",
       " 'Info_per_Exit',\n",
       " 'Info_per_Bounce',\n",
       " 'Info_per_bounce_exit_avg',\n",
       " 'Info_dur_per_Exit',\n",
       " 'Info_dur_per_Bounce',\n",
       " 'Info_dur_per_bounce_exit_avg',\n",
       " 'Product_per_Exit',\n",
       " 'Product_per_Bounce',\n",
       " 'Prod_per_bounce_exit_avg',\n",
       " 'Product_dur_per_Exit',\n",
       " 'Product_dur_per_Bounce',\n",
       " 'Prod_dur_per_bounce_exit_avg',\n",
       " 'Total_Duration',\n",
       " 'Total_Duration_Avg',\n",
       " 'Admin_Duration_percent_TotalDuration',\n",
       " 'Info_Duration_percent_TotalDuration',\n",
       " 'Product_Duration_percent_TotalDuration',\n",
       " 'TotalDuration_per_ExitRates',\n",
       " 'TotalDuration_per_BounceRates',\n",
       " 'TotalDuration_per_BounceExit_avg',\n",
       " 'Admin_per_PageValues',\n",
       " 'Admin_Duration_per_PageValues',\n",
       " 'Informational_per_PageValues',\n",
       " 'Info_Duration_per_PageValues',\n",
       " 'ProductRelated_per_PageValues',\n",
       " 'Product_Duration_per_PageValues',\n",
       " 'TotalDuration_per_PageValues',\n",
       " 'Exit_per_PageValues',\n",
       " 'Bounce_per_PageValues']"
      ]
     },
     "execution_count": 100,
     "metadata": {},
     "output_type": "execute_result"
    }
   ],
   "source": [
    "##Check work by printing a list of the added continouous columns\n",
    "continuous_df_list"
   ]
  },
  {
   "cell_type": "code",
   "execution_count": 101,
   "metadata": {},
   "outputs": [
    {
     "data": {
      "text/html": [
       "<div>\n",
       "<style scoped>\n",
       "    .dataframe tbody tr th:only-of-type {\n",
       "        vertical-align: middle;\n",
       "    }\n",
       "\n",
       "    .dataframe tbody tr th {\n",
       "        vertical-align: top;\n",
       "    }\n",
       "\n",
       "    .dataframe thead th {\n",
       "        text-align: right;\n",
       "    }\n",
       "</style>\n",
       "<table border=\"1\" class=\"dataframe\">\n",
       "  <thead>\n",
       "    <tr style=\"text-align: right;\">\n",
       "      <th></th>\n",
       "      <th>Administrative</th>\n",
       "      <th>Administrative_Duration</th>\n",
       "      <th>Informational</th>\n",
       "      <th>Informational_Duration</th>\n",
       "      <th>ProductRelated</th>\n",
       "      <th>ProductRelated_Duration</th>\n",
       "      <th>BounceRates</th>\n",
       "      <th>ExitRates</th>\n",
       "      <th>PageValues</th>\n",
       "      <th>PageValues_Log</th>\n",
       "      <th>...</th>\n",
       "      <th>TotalDuration_per_BounceExit_avg</th>\n",
       "      <th>Admin_per_PageValues</th>\n",
       "      <th>Admin_Duration_per_PageValues</th>\n",
       "      <th>Informational_per_PageValues</th>\n",
       "      <th>Info_Duration_per_PageValues</th>\n",
       "      <th>ProductRelated_per_PageValues</th>\n",
       "      <th>Product_Duration_per_PageValues</th>\n",
       "      <th>TotalDuration_per_PageValues</th>\n",
       "      <th>Exit_per_PageValues</th>\n",
       "      <th>Bounce_per_PageValues</th>\n",
       "    </tr>\n",
       "  </thead>\n",
       "  <tbody>\n",
       "    <tr>\n",
       "      <th>5057</th>\n",
       "      <td>1</td>\n",
       "      <td>1.000000</td>\n",
       "      <td>1</td>\n",
       "      <td>1.0</td>\n",
       "      <td>10</td>\n",
       "      <td>261.300000</td>\n",
       "      <td>1.000000</td>\n",
       "      <td>1.005556</td>\n",
       "      <td>17.322444</td>\n",
       "      <td>2.852003</td>\n",
       "      <td>...</td>\n",
       "      <td>262.570637</td>\n",
       "      <td>0.057729</td>\n",
       "      <td>0.057729</td>\n",
       "      <td>0.057729</td>\n",
       "      <td>0.057729</td>\n",
       "      <td>0.577286</td>\n",
       "      <td>15.084476</td>\n",
       "      <td>15.199933</td>\n",
       "      <td>0.058049</td>\n",
       "      <td>0.057729</td>\n",
       "    </tr>\n",
       "    <tr>\n",
       "      <th>4331</th>\n",
       "      <td>10</td>\n",
       "      <td>65.088235</td>\n",
       "      <td>2</td>\n",
       "      <td>22.0</td>\n",
       "      <td>52</td>\n",
       "      <td>1934.898930</td>\n",
       "      <td>1.011259</td>\n",
       "      <td>1.032132</td>\n",
       "      <td>1.000000</td>\n",
       "      <td>0.000000</td>\n",
       "      <td>...</td>\n",
       "      <td>1979.050000</td>\n",
       "      <td>10.000000</td>\n",
       "      <td>65.088235</td>\n",
       "      <td>2.000000</td>\n",
       "      <td>22.000000</td>\n",
       "      <td>52.000000</td>\n",
       "      <td>1934.898930</td>\n",
       "      <td>2021.987165</td>\n",
       "      <td>1.032132</td>\n",
       "      <td>1.011259</td>\n",
       "    </tr>\n",
       "    <tr>\n",
       "      <th>2310</th>\n",
       "      <td>1</td>\n",
       "      <td>1.000000</td>\n",
       "      <td>1</td>\n",
       "      <td>1.0</td>\n",
       "      <td>34</td>\n",
       "      <td>664.233333</td>\n",
       "      <td>1.026471</td>\n",
       "      <td>1.059804</td>\n",
       "      <td>1.000000</td>\n",
       "      <td>0.000000</td>\n",
       "      <td>...</td>\n",
       "      <td>638.682331</td>\n",
       "      <td>1.000000</td>\n",
       "      <td>1.000000</td>\n",
       "      <td>1.000000</td>\n",
       "      <td>1.000000</td>\n",
       "      <td>34.000000</td>\n",
       "      <td>664.233333</td>\n",
       "      <td>666.233333</td>\n",
       "      <td>1.059804</td>\n",
       "      <td>1.026471</td>\n",
       "    </tr>\n",
       "    <tr>\n",
       "      <th>483</th>\n",
       "      <td>1</td>\n",
       "      <td>1.000000</td>\n",
       "      <td>1</td>\n",
       "      <td>1.0</td>\n",
       "      <td>2</td>\n",
       "      <td>1.000000</td>\n",
       "      <td>1.200000</td>\n",
       "      <td>1.200000</td>\n",
       "      <td>1.000000</td>\n",
       "      <td>0.000000</td>\n",
       "      <td>...</td>\n",
       "      <td>2.500000</td>\n",
       "      <td>1.000000</td>\n",
       "      <td>1.000000</td>\n",
       "      <td>1.000000</td>\n",
       "      <td>1.000000</td>\n",
       "      <td>2.000000</td>\n",
       "      <td>1.000000</td>\n",
       "      <td>3.000000</td>\n",
       "      <td>1.200000</td>\n",
       "      <td>1.200000</td>\n",
       "    </tr>\n",
       "    <tr>\n",
       "      <th>2261</th>\n",
       "      <td>1</td>\n",
       "      <td>1.000000</td>\n",
       "      <td>1</td>\n",
       "      <td>1.0</td>\n",
       "      <td>20</td>\n",
       "      <td>951.000000</td>\n",
       "      <td>1.000000</td>\n",
       "      <td>1.011111</td>\n",
       "      <td>1.000000</td>\n",
       "      <td>0.000000</td>\n",
       "      <td>...</td>\n",
       "      <td>947.734807</td>\n",
       "      <td>1.000000</td>\n",
       "      <td>1.000000</td>\n",
       "      <td>1.000000</td>\n",
       "      <td>1.000000</td>\n",
       "      <td>20.000000</td>\n",
       "      <td>951.000000</td>\n",
       "      <td>953.000000</td>\n",
       "      <td>1.011111</td>\n",
       "      <td>1.000000</td>\n",
       "    </tr>\n",
       "    <tr>\n",
       "      <th>8090</th>\n",
       "      <td>1</td>\n",
       "      <td>1.000000</td>\n",
       "      <td>1</td>\n",
       "      <td>1.0</td>\n",
       "      <td>11</td>\n",
       "      <td>517.750000</td>\n",
       "      <td>1.020000</td>\n",
       "      <td>1.080000</td>\n",
       "      <td>1.000000</td>\n",
       "      <td>0.000000</td>\n",
       "      <td>...</td>\n",
       "      <td>495.000000</td>\n",
       "      <td>1.000000</td>\n",
       "      <td>1.000000</td>\n",
       "      <td>1.000000</td>\n",
       "      <td>1.000000</td>\n",
       "      <td>11.000000</td>\n",
       "      <td>517.750000</td>\n",
       "      <td>519.750000</td>\n",
       "      <td>1.080000</td>\n",
       "      <td>1.020000</td>\n",
       "    </tr>\n",
       "    <tr>\n",
       "      <th>5982</th>\n",
       "      <td>3</td>\n",
       "      <td>10.000000</td>\n",
       "      <td>1</td>\n",
       "      <td>1.0</td>\n",
       "      <td>39</td>\n",
       "      <td>1148.696667</td>\n",
       "      <td>1.000000</td>\n",
       "      <td>1.027642</td>\n",
       "      <td>4.673829</td>\n",
       "      <td>1.541979</td>\n",
       "      <td>...</td>\n",
       "      <td>1143.886849</td>\n",
       "      <td>0.641872</td>\n",
       "      <td>2.139573</td>\n",
       "      <td>0.213957</td>\n",
       "      <td>0.213957</td>\n",
       "      <td>8.344336</td>\n",
       "      <td>245.772075</td>\n",
       "      <td>248.125605</td>\n",
       "      <td>0.219872</td>\n",
       "      <td>0.213957</td>\n",
       "    </tr>\n",
       "    <tr>\n",
       "      <th>9800</th>\n",
       "      <td>1</td>\n",
       "      <td>1.000000</td>\n",
       "      <td>1</td>\n",
       "      <td>1.0</td>\n",
       "      <td>50</td>\n",
       "      <td>2991.312500</td>\n",
       "      <td>1.012245</td>\n",
       "      <td>1.038231</td>\n",
       "      <td>1.000000</td>\n",
       "      <td>0.000000</td>\n",
       "      <td>...</td>\n",
       "      <td>2919.626683</td>\n",
       "      <td>1.000000</td>\n",
       "      <td>1.000000</td>\n",
       "      <td>1.000000</td>\n",
       "      <td>1.000000</td>\n",
       "      <td>50.000000</td>\n",
       "      <td>2991.312500</td>\n",
       "      <td>2993.312500</td>\n",
       "      <td>1.038231</td>\n",
       "      <td>1.012245</td>\n",
       "    </tr>\n",
       "    <tr>\n",
       "      <th>3505</th>\n",
       "      <td>3</td>\n",
       "      <td>339.000000</td>\n",
       "      <td>1</td>\n",
       "      <td>1.0</td>\n",
       "      <td>18</td>\n",
       "      <td>1206.566667</td>\n",
       "      <td>1.012500</td>\n",
       "      <td>1.037500</td>\n",
       "      <td>20.236250</td>\n",
       "      <td>3.007476</td>\n",
       "      <td>...</td>\n",
       "      <td>1508.845529</td>\n",
       "      <td>0.148249</td>\n",
       "      <td>16.752116</td>\n",
       "      <td>0.049416</td>\n",
       "      <td>0.049416</td>\n",
       "      <td>0.889493</td>\n",
       "      <td>59.624025</td>\n",
       "      <td>76.425556</td>\n",
       "      <td>0.051269</td>\n",
       "      <td>0.050034</td>\n",
       "    </tr>\n",
       "    <tr>\n",
       "      <th>3093</th>\n",
       "      <td>2</td>\n",
       "      <td>51.333333</td>\n",
       "      <td>1</td>\n",
       "      <td>1.0</td>\n",
       "      <td>22</td>\n",
       "      <td>587.189286</td>\n",
       "      <td>1.000000</td>\n",
       "      <td>1.005556</td>\n",
       "      <td>1.000000</td>\n",
       "      <td>0.000000</td>\n",
       "      <td>...</td>\n",
       "      <td>637.751088</td>\n",
       "      <td>2.000000</td>\n",
       "      <td>51.333333</td>\n",
       "      <td>1.000000</td>\n",
       "      <td>1.000000</td>\n",
       "      <td>22.000000</td>\n",
       "      <td>587.189286</td>\n",
       "      <td>639.522619</td>\n",
       "      <td>1.005556</td>\n",
       "      <td>1.000000</td>\n",
       "    </tr>\n",
       "    <tr>\n",
       "      <th>11306</th>\n",
       "      <td>2</td>\n",
       "      <td>8.000000</td>\n",
       "      <td>3</td>\n",
       "      <td>13.0</td>\n",
       "      <td>6</td>\n",
       "      <td>413.250000</td>\n",
       "      <td>1.000000</td>\n",
       "      <td>1.037500</td>\n",
       "      <td>1.000000</td>\n",
       "      <td>0.000000</td>\n",
       "      <td>...</td>\n",
       "      <td>426.257669</td>\n",
       "      <td>2.000000</td>\n",
       "      <td>8.000000</td>\n",
       "      <td>3.000000</td>\n",
       "      <td>13.000000</td>\n",
       "      <td>6.000000</td>\n",
       "      <td>413.250000</td>\n",
       "      <td>434.250000</td>\n",
       "      <td>1.037500</td>\n",
       "      <td>1.000000</td>\n",
       "    </tr>\n",
       "    <tr>\n",
       "      <th>7924</th>\n",
       "      <td>8</td>\n",
       "      <td>99.800000</td>\n",
       "      <td>1</td>\n",
       "      <td>1.0</td>\n",
       "      <td>6</td>\n",
       "      <td>70.400000</td>\n",
       "      <td>1.022222</td>\n",
       "      <td>1.033333</td>\n",
       "      <td>1.000000</td>\n",
       "      <td>0.000000</td>\n",
       "      <td>...</td>\n",
       "      <td>166.572973</td>\n",
       "      <td>8.000000</td>\n",
       "      <td>99.800000</td>\n",
       "      <td>1.000000</td>\n",
       "      <td>1.000000</td>\n",
       "      <td>6.000000</td>\n",
       "      <td>70.400000</td>\n",
       "      <td>171.200000</td>\n",
       "      <td>1.033333</td>\n",
       "      <td>1.022222</td>\n",
       "    </tr>\n",
       "    <tr>\n",
       "      <th>2570</th>\n",
       "      <td>1</td>\n",
       "      <td>1.000000</td>\n",
       "      <td>1</td>\n",
       "      <td>1.0</td>\n",
       "      <td>13</td>\n",
       "      <td>122.500000</td>\n",
       "      <td>1.025000</td>\n",
       "      <td>1.066667</td>\n",
       "      <td>1.000000</td>\n",
       "      <td>0.000000</td>\n",
       "      <td>...</td>\n",
       "      <td>119.043825</td>\n",
       "      <td>1.000000</td>\n",
       "      <td>1.000000</td>\n",
       "      <td>1.000000</td>\n",
       "      <td>1.000000</td>\n",
       "      <td>13.000000</td>\n",
       "      <td>122.500000</td>\n",
       "      <td>124.500000</td>\n",
       "      <td>1.066667</td>\n",
       "      <td>1.025000</td>\n",
       "    </tr>\n",
       "    <tr>\n",
       "      <th>4851</th>\n",
       "      <td>2</td>\n",
       "      <td>24.000000</td>\n",
       "      <td>1</td>\n",
       "      <td>1.0</td>\n",
       "      <td>21</td>\n",
       "      <td>724.250000</td>\n",
       "      <td>1.036364</td>\n",
       "      <td>1.050606</td>\n",
       "      <td>1.000000</td>\n",
       "      <td>0.000000</td>\n",
       "      <td>...</td>\n",
       "      <td>718.026717</td>\n",
       "      <td>2.000000</td>\n",
       "      <td>24.000000</td>\n",
       "      <td>1.000000</td>\n",
       "      <td>1.000000</td>\n",
       "      <td>21.000000</td>\n",
       "      <td>724.250000</td>\n",
       "      <td>749.250000</td>\n",
       "      <td>1.050606</td>\n",
       "      <td>1.036364</td>\n",
       "    </tr>\n",
       "    <tr>\n",
       "      <th>7934</th>\n",
       "      <td>1</td>\n",
       "      <td>1.000000</td>\n",
       "      <td>1</td>\n",
       "      <td>1.0</td>\n",
       "      <td>3</td>\n",
       "      <td>9.000000</td>\n",
       "      <td>1.000000</td>\n",
       "      <td>1.100000</td>\n",
       "      <td>1.000000</td>\n",
       "      <td>0.000000</td>\n",
       "      <td>...</td>\n",
       "      <td>10.476190</td>\n",
       "      <td>1.000000</td>\n",
       "      <td>1.000000</td>\n",
       "      <td>1.000000</td>\n",
       "      <td>1.000000</td>\n",
       "      <td>3.000000</td>\n",
       "      <td>9.000000</td>\n",
       "      <td>11.000000</td>\n",
       "      <td>1.100000</td>\n",
       "      <td>1.000000</td>\n",
       "    </tr>\n",
       "    <tr>\n",
       "      <th>6845</th>\n",
       "      <td>2</td>\n",
       "      <td>57.400000</td>\n",
       "      <td>2</td>\n",
       "      <td>8.0</td>\n",
       "      <td>73</td>\n",
       "      <td>2164.569524</td>\n",
       "      <td>1.015493</td>\n",
       "      <td>1.032254</td>\n",
       "      <td>5.286744</td>\n",
       "      <td>1.665202</td>\n",
       "      <td>...</td>\n",
       "      <td>2177.974224</td>\n",
       "      <td>0.378305</td>\n",
       "      <td>10.857345</td>\n",
       "      <td>0.378305</td>\n",
       "      <td>1.513219</td>\n",
       "      <td>13.808122</td>\n",
       "      <td>409.433418</td>\n",
       "      <td>421.803981</td>\n",
       "      <td>0.195253</td>\n",
       "      <td>0.192083</td>\n",
       "    </tr>\n",
       "    <tr>\n",
       "      <th>7137</th>\n",
       "      <td>1</td>\n",
       "      <td>1.000000</td>\n",
       "      <td>1</td>\n",
       "      <td>1.0</td>\n",
       "      <td>13</td>\n",
       "      <td>1013.200000</td>\n",
       "      <td>1.000000</td>\n",
       "      <td>1.033333</td>\n",
       "      <td>1.000000</td>\n",
       "      <td>0.000000</td>\n",
       "      <td>...</td>\n",
       "      <td>998.557377</td>\n",
       "      <td>1.000000</td>\n",
       "      <td>1.000000</td>\n",
       "      <td>1.000000</td>\n",
       "      <td>1.000000</td>\n",
       "      <td>13.000000</td>\n",
       "      <td>1013.200000</td>\n",
       "      <td>1015.200000</td>\n",
       "      <td>1.033333</td>\n",
       "      <td>1.000000</td>\n",
       "    </tr>\n",
       "    <tr>\n",
       "      <th>3537</th>\n",
       "      <td>5</td>\n",
       "      <td>70.000000</td>\n",
       "      <td>1</td>\n",
       "      <td>1.0</td>\n",
       "      <td>21</td>\n",
       "      <td>1181.000000</td>\n",
       "      <td>1.000000</td>\n",
       "      <td>1.009091</td>\n",
       "      <td>31.526364</td>\n",
       "      <td>3.450824</td>\n",
       "      <td>...</td>\n",
       "      <td>1246.334842</td>\n",
       "      <td>0.158597</td>\n",
       "      <td>2.220364</td>\n",
       "      <td>0.031719</td>\n",
       "      <td>0.031719</td>\n",
       "      <td>0.666109</td>\n",
       "      <td>37.460711</td>\n",
       "      <td>39.712794</td>\n",
       "      <td>0.032008</td>\n",
       "      <td>0.031719</td>\n",
       "    </tr>\n",
       "    <tr>\n",
       "      <th>8928</th>\n",
       "      <td>3</td>\n",
       "      <td>80.000000</td>\n",
       "      <td>1</td>\n",
       "      <td>1.0</td>\n",
       "      <td>48</td>\n",
       "      <td>1367.058333</td>\n",
       "      <td>1.008511</td>\n",
       "      <td>1.034752</td>\n",
       "      <td>22.239604</td>\n",
       "      <td>3.101875</td>\n",
       "      <td>...</td>\n",
       "      <td>1417.398299</td>\n",
       "      <td>0.134894</td>\n",
       "      <td>3.597186</td>\n",
       "      <td>0.044965</td>\n",
       "      <td>0.044965</td>\n",
       "      <td>2.158312</td>\n",
       "      <td>61.469546</td>\n",
       "      <td>65.111697</td>\n",
       "      <td>0.046527</td>\n",
       "      <td>0.045348</td>\n",
       "    </tr>\n",
       "    <tr>\n",
       "      <th>2629</th>\n",
       "      <td>1</td>\n",
       "      <td>1.000000</td>\n",
       "      <td>1</td>\n",
       "      <td>1.0</td>\n",
       "      <td>9</td>\n",
       "      <td>259.833333</td>\n",
       "      <td>1.037500</td>\n",
       "      <td>1.031250</td>\n",
       "      <td>1.000000</td>\n",
       "      <td>0.000000</td>\n",
       "      <td>...</td>\n",
       "      <td>253.131923</td>\n",
       "      <td>1.000000</td>\n",
       "      <td>1.000000</td>\n",
       "      <td>1.000000</td>\n",
       "      <td>1.000000</td>\n",
       "      <td>9.000000</td>\n",
       "      <td>259.833333</td>\n",
       "      <td>261.833333</td>\n",
       "      <td>1.031250</td>\n",
       "      <td>1.037500</td>\n",
       "    </tr>\n",
       "  </tbody>\n",
       "</table>\n",
       "<p>20 rows × 49 columns</p>\n",
       "</div>"
      ],
      "text/plain": [
       "       Administrative  Administrative_Duration  Informational  \\\n",
       "5057                1                 1.000000              1   \n",
       "4331               10                65.088235              2   \n",
       "2310                1                 1.000000              1   \n",
       "483                 1                 1.000000              1   \n",
       "2261                1                 1.000000              1   \n",
       "8090                1                 1.000000              1   \n",
       "5982                3                10.000000              1   \n",
       "9800                1                 1.000000              1   \n",
       "3505                3               339.000000              1   \n",
       "3093                2                51.333333              1   \n",
       "11306               2                 8.000000              3   \n",
       "7924                8                99.800000              1   \n",
       "2570                1                 1.000000              1   \n",
       "4851                2                24.000000              1   \n",
       "7934                1                 1.000000              1   \n",
       "6845                2                57.400000              2   \n",
       "7137                1                 1.000000              1   \n",
       "3537                5                70.000000              1   \n",
       "8928                3                80.000000              1   \n",
       "2629                1                 1.000000              1   \n",
       "\n",
       "       Informational_Duration  ProductRelated  ProductRelated_Duration  \\\n",
       "5057                      1.0              10               261.300000   \n",
       "4331                     22.0              52              1934.898930   \n",
       "2310                      1.0              34               664.233333   \n",
       "483                       1.0               2                 1.000000   \n",
       "2261                      1.0              20               951.000000   \n",
       "8090                      1.0              11               517.750000   \n",
       "5982                      1.0              39              1148.696667   \n",
       "9800                      1.0              50              2991.312500   \n",
       "3505                      1.0              18              1206.566667   \n",
       "3093                      1.0              22               587.189286   \n",
       "11306                    13.0               6               413.250000   \n",
       "7924                      1.0               6                70.400000   \n",
       "2570                      1.0              13               122.500000   \n",
       "4851                      1.0              21               724.250000   \n",
       "7934                      1.0               3                 9.000000   \n",
       "6845                      8.0              73              2164.569524   \n",
       "7137                      1.0              13              1013.200000   \n",
       "3537                      1.0              21              1181.000000   \n",
       "8928                      1.0              48              1367.058333   \n",
       "2629                      1.0               9               259.833333   \n",
       "\n",
       "       BounceRates  ExitRates  PageValues  PageValues_Log  ...  \\\n",
       "5057      1.000000   1.005556   17.322444        2.852003  ...   \n",
       "4331      1.011259   1.032132    1.000000        0.000000  ...   \n",
       "2310      1.026471   1.059804    1.000000        0.000000  ...   \n",
       "483       1.200000   1.200000    1.000000        0.000000  ...   \n",
       "2261      1.000000   1.011111    1.000000        0.000000  ...   \n",
       "8090      1.020000   1.080000    1.000000        0.000000  ...   \n",
       "5982      1.000000   1.027642    4.673829        1.541979  ...   \n",
       "9800      1.012245   1.038231    1.000000        0.000000  ...   \n",
       "3505      1.012500   1.037500   20.236250        3.007476  ...   \n",
       "3093      1.000000   1.005556    1.000000        0.000000  ...   \n",
       "11306     1.000000   1.037500    1.000000        0.000000  ...   \n",
       "7924      1.022222   1.033333    1.000000        0.000000  ...   \n",
       "2570      1.025000   1.066667    1.000000        0.000000  ...   \n",
       "4851      1.036364   1.050606    1.000000        0.000000  ...   \n",
       "7934      1.000000   1.100000    1.000000        0.000000  ...   \n",
       "6845      1.015493   1.032254    5.286744        1.665202  ...   \n",
       "7137      1.000000   1.033333    1.000000        0.000000  ...   \n",
       "3537      1.000000   1.009091   31.526364        3.450824  ...   \n",
       "8928      1.008511   1.034752   22.239604        3.101875  ...   \n",
       "2629      1.037500   1.031250    1.000000        0.000000  ...   \n",
       "\n",
       "       TotalDuration_per_BounceExit_avg  Admin_per_PageValues  \\\n",
       "5057                         262.570637              0.057729   \n",
       "4331                        1979.050000             10.000000   \n",
       "2310                         638.682331              1.000000   \n",
       "483                            2.500000              1.000000   \n",
       "2261                         947.734807              1.000000   \n",
       "8090                         495.000000              1.000000   \n",
       "5982                        1143.886849              0.641872   \n",
       "9800                        2919.626683              1.000000   \n",
       "3505                        1508.845529              0.148249   \n",
       "3093                         637.751088              2.000000   \n",
       "11306                        426.257669              2.000000   \n",
       "7924                         166.572973              8.000000   \n",
       "2570                         119.043825              1.000000   \n",
       "4851                         718.026717              2.000000   \n",
       "7934                          10.476190              1.000000   \n",
       "6845                        2177.974224              0.378305   \n",
       "7137                         998.557377              1.000000   \n",
       "3537                        1246.334842              0.158597   \n",
       "8928                        1417.398299              0.134894   \n",
       "2629                         253.131923              1.000000   \n",
       "\n",
       "       Admin_Duration_per_PageValues  Informational_per_PageValues  \\\n",
       "5057                        0.057729                      0.057729   \n",
       "4331                       65.088235                      2.000000   \n",
       "2310                        1.000000                      1.000000   \n",
       "483                         1.000000                      1.000000   \n",
       "2261                        1.000000                      1.000000   \n",
       "8090                        1.000000                      1.000000   \n",
       "5982                        2.139573                      0.213957   \n",
       "9800                        1.000000                      1.000000   \n",
       "3505                       16.752116                      0.049416   \n",
       "3093                       51.333333                      1.000000   \n",
       "11306                       8.000000                      3.000000   \n",
       "7924                       99.800000                      1.000000   \n",
       "2570                        1.000000                      1.000000   \n",
       "4851                       24.000000                      1.000000   \n",
       "7934                        1.000000                      1.000000   \n",
       "6845                       10.857345                      0.378305   \n",
       "7137                        1.000000                      1.000000   \n",
       "3537                        2.220364                      0.031719   \n",
       "8928                        3.597186                      0.044965   \n",
       "2629                        1.000000                      1.000000   \n",
       "\n",
       "       Info_Duration_per_PageValues  ProductRelated_per_PageValues  \\\n",
       "5057                       0.057729                       0.577286   \n",
       "4331                      22.000000                      52.000000   \n",
       "2310                       1.000000                      34.000000   \n",
       "483                        1.000000                       2.000000   \n",
       "2261                       1.000000                      20.000000   \n",
       "8090                       1.000000                      11.000000   \n",
       "5982                       0.213957                       8.344336   \n",
       "9800                       1.000000                      50.000000   \n",
       "3505                       0.049416                       0.889493   \n",
       "3093                       1.000000                      22.000000   \n",
       "11306                     13.000000                       6.000000   \n",
       "7924                       1.000000                       6.000000   \n",
       "2570                       1.000000                      13.000000   \n",
       "4851                       1.000000                      21.000000   \n",
       "7934                       1.000000                       3.000000   \n",
       "6845                       1.513219                      13.808122   \n",
       "7137                       1.000000                      13.000000   \n",
       "3537                       0.031719                       0.666109   \n",
       "8928                       0.044965                       2.158312   \n",
       "2629                       1.000000                       9.000000   \n",
       "\n",
       "       Product_Duration_per_PageValues  TotalDuration_per_PageValues  \\\n",
       "5057                         15.084476                     15.199933   \n",
       "4331                       1934.898930                   2021.987165   \n",
       "2310                        664.233333                    666.233333   \n",
       "483                           1.000000                      3.000000   \n",
       "2261                        951.000000                    953.000000   \n",
       "8090                        517.750000                    519.750000   \n",
       "5982                        245.772075                    248.125605   \n",
       "9800                       2991.312500                   2993.312500   \n",
       "3505                         59.624025                     76.425556   \n",
       "3093                        587.189286                    639.522619   \n",
       "11306                       413.250000                    434.250000   \n",
       "7924                         70.400000                    171.200000   \n",
       "2570                        122.500000                    124.500000   \n",
       "4851                        724.250000                    749.250000   \n",
       "7934                          9.000000                     11.000000   \n",
       "6845                        409.433418                    421.803981   \n",
       "7137                       1013.200000                   1015.200000   \n",
       "3537                         37.460711                     39.712794   \n",
       "8928                         61.469546                     65.111697   \n",
       "2629                        259.833333                    261.833333   \n",
       "\n",
       "       Exit_per_PageValues  Bounce_per_PageValues  \n",
       "5057              0.058049               0.057729  \n",
       "4331              1.032132               1.011259  \n",
       "2310              1.059804               1.026471  \n",
       "483               1.200000               1.200000  \n",
       "2261              1.011111               1.000000  \n",
       "8090              1.080000               1.020000  \n",
       "5982              0.219872               0.213957  \n",
       "9800              1.038231               1.012245  \n",
       "3505              0.051269               0.050034  \n",
       "3093              1.005556               1.000000  \n",
       "11306             1.037500               1.000000  \n",
       "7924              1.033333               1.022222  \n",
       "2570              1.066667               1.025000  \n",
       "4851              1.050606               1.036364  \n",
       "7934              1.100000               1.000000  \n",
       "6845              0.195253               0.192083  \n",
       "7137              1.033333               1.000000  \n",
       "3537              0.032008               0.031719  \n",
       "8928              0.046527               0.045348  \n",
       "2629              1.031250               1.037500  \n",
       "\n",
       "[20 rows x 49 columns]"
      ]
     },
     "metadata": {},
     "output_type": "display_data"
    },
    {
     "data": {
      "text/plain": [
       "' '"
      ]
     },
     "metadata": {},
     "output_type": "display_data"
    },
    {
     "data": {
      "text/html": [
       "<div>\n",
       "<style scoped>\n",
       "    .dataframe tbody tr th:only-of-type {\n",
       "        vertical-align: middle;\n",
       "    }\n",
       "\n",
       "    .dataframe tbody tr th {\n",
       "        vertical-align: top;\n",
       "    }\n",
       "\n",
       "    .dataframe thead th {\n",
       "        text-align: right;\n",
       "    }\n",
       "</style>\n",
       "<table border=\"1\" class=\"dataframe\">\n",
       "  <thead>\n",
       "    <tr style=\"text-align: right;\">\n",
       "      <th></th>\n",
       "      <th>SpecialDay</th>\n",
       "      <th>Month</th>\n",
       "      <th>OperatingSystems</th>\n",
       "      <th>Browser</th>\n",
       "      <th>Region</th>\n",
       "      <th>TrafficType</th>\n",
       "      <th>VisitorType</th>\n",
       "      <th>Weekend</th>\n",
       "      <th>Holiday_Bin</th>\n",
       "      <th>Month_Bin</th>\n",
       "      <th>Quarter</th>\n",
       "      <th>OperatingSystems_Bin</th>\n",
       "      <th>Browser_Bin</th>\n",
       "      <th>Region_Bin</th>\n",
       "      <th>TrafficType_Bin</th>\n",
       "    </tr>\n",
       "  </thead>\n",
       "  <tbody>\n",
       "    <tr>\n",
       "      <th>12211</th>\n",
       "      <td>0.0</td>\n",
       "      <td>12</td>\n",
       "      <td>3</td>\n",
       "      <td>2</td>\n",
       "      <td>4</td>\n",
       "      <td>2</td>\n",
       "      <td>0</td>\n",
       "      <td>1</td>\n",
       "      <td>0</td>\n",
       "      <td>12</td>\n",
       "      <td>4</td>\n",
       "      <td>3</td>\n",
       "      <td>2</td>\n",
       "      <td>4</td>\n",
       "      <td>2</td>\n",
       "    </tr>\n",
       "    <tr>\n",
       "      <th>8030</th>\n",
       "      <td>0.0</td>\n",
       "      <td>11</td>\n",
       "      <td>2</td>\n",
       "      <td>5</td>\n",
       "      <td>3</td>\n",
       "      <td>13</td>\n",
       "      <td>1</td>\n",
       "      <td>1</td>\n",
       "      <td>0</td>\n",
       "      <td>11</td>\n",
       "      <td>4</td>\n",
       "      <td>2</td>\n",
       "      <td>3</td>\n",
       "      <td>3</td>\n",
       "      <td>4</td>\n",
       "    </tr>\n",
       "    <tr>\n",
       "      <th>3456</th>\n",
       "      <td>0.8</td>\n",
       "      <td>5</td>\n",
       "      <td>2</td>\n",
       "      <td>2</td>\n",
       "      <td>1</td>\n",
       "      <td>13</td>\n",
       "      <td>1</td>\n",
       "      <td>0</td>\n",
       "      <td>1</td>\n",
       "      <td>5</td>\n",
       "      <td>2</td>\n",
       "      <td>2</td>\n",
       "      <td>2</td>\n",
       "      <td>1</td>\n",
       "      <td>4</td>\n",
       "    </tr>\n",
       "    <tr>\n",
       "      <th>5507</th>\n",
       "      <td>0.0</td>\n",
       "      <td>11</td>\n",
       "      <td>1</td>\n",
       "      <td>1</td>\n",
       "      <td>1</td>\n",
       "      <td>3</td>\n",
       "      <td>0</td>\n",
       "      <td>0</td>\n",
       "      <td>0</td>\n",
       "      <td>11</td>\n",
       "      <td>4</td>\n",
       "      <td>1</td>\n",
       "      <td>1</td>\n",
       "      <td>1</td>\n",
       "      <td>3</td>\n",
       "    </tr>\n",
       "    <tr>\n",
       "      <th>10358</th>\n",
       "      <td>0.0</td>\n",
       "      <td>11</td>\n",
       "      <td>1</td>\n",
       "      <td>1</td>\n",
       "      <td>8</td>\n",
       "      <td>15</td>\n",
       "      <td>1</td>\n",
       "      <td>0</td>\n",
       "      <td>0</td>\n",
       "      <td>11</td>\n",
       "      <td>4</td>\n",
       "      <td>1</td>\n",
       "      <td>1</td>\n",
       "      <td>5</td>\n",
       "      <td>4</td>\n",
       "    </tr>\n",
       "    <tr>\n",
       "      <th>8249</th>\n",
       "      <td>0.0</td>\n",
       "      <td>11</td>\n",
       "      <td>2</td>\n",
       "      <td>2</td>\n",
       "      <td>1</td>\n",
       "      <td>13</td>\n",
       "      <td>1</td>\n",
       "      <td>0</td>\n",
       "      <td>0</td>\n",
       "      <td>11</td>\n",
       "      <td>4</td>\n",
       "      <td>2</td>\n",
       "      <td>2</td>\n",
       "      <td>1</td>\n",
       "      <td>4</td>\n",
       "    </tr>\n",
       "    <tr>\n",
       "      <th>861</th>\n",
       "      <td>0.0</td>\n",
       "      <td>3</td>\n",
       "      <td>3</td>\n",
       "      <td>2</td>\n",
       "      <td>1</td>\n",
       "      <td>1</td>\n",
       "      <td>1</td>\n",
       "      <td>0</td>\n",
       "      <td>0</td>\n",
       "      <td>3</td>\n",
       "      <td>1</td>\n",
       "      <td>3</td>\n",
       "      <td>2</td>\n",
       "      <td>1</td>\n",
       "      <td>1</td>\n",
       "    </tr>\n",
       "    <tr>\n",
       "      <th>3108</th>\n",
       "      <td>0.8</td>\n",
       "      <td>5</td>\n",
       "      <td>2</td>\n",
       "      <td>4</td>\n",
       "      <td>1</td>\n",
       "      <td>3</td>\n",
       "      <td>1</td>\n",
       "      <td>0</td>\n",
       "      <td>1</td>\n",
       "      <td>5</td>\n",
       "      <td>2</td>\n",
       "      <td>2</td>\n",
       "      <td>4</td>\n",
       "      <td>1</td>\n",
       "      <td>3</td>\n",
       "    </tr>\n",
       "    <tr>\n",
       "      <th>4248</th>\n",
       "      <td>0.0</td>\n",
       "      <td>5</td>\n",
       "      <td>3</td>\n",
       "      <td>2</td>\n",
       "      <td>5</td>\n",
       "      <td>2</td>\n",
       "      <td>1</td>\n",
       "      <td>0</td>\n",
       "      <td>1</td>\n",
       "      <td>5</td>\n",
       "      <td>2</td>\n",
       "      <td>3</td>\n",
       "      <td>2</td>\n",
       "      <td>5</td>\n",
       "      <td>2</td>\n",
       "    </tr>\n",
       "    <tr>\n",
       "      <th>10792</th>\n",
       "      <td>0.0</td>\n",
       "      <td>11</td>\n",
       "      <td>4</td>\n",
       "      <td>1</td>\n",
       "      <td>4</td>\n",
       "      <td>3</td>\n",
       "      <td>1</td>\n",
       "      <td>0</td>\n",
       "      <td>0</td>\n",
       "      <td>11</td>\n",
       "      <td>4</td>\n",
       "      <td>4</td>\n",
       "      <td>1</td>\n",
       "      <td>4</td>\n",
       "      <td>3</td>\n",
       "    </tr>\n",
       "    <tr>\n",
       "      <th>10099</th>\n",
       "      <td>0.0</td>\n",
       "      <td>12</td>\n",
       "      <td>1</td>\n",
       "      <td>1</td>\n",
       "      <td>3</td>\n",
       "      <td>8</td>\n",
       "      <td>1</td>\n",
       "      <td>0</td>\n",
       "      <td>0</td>\n",
       "      <td>12</td>\n",
       "      <td>4</td>\n",
       "      <td>1</td>\n",
       "      <td>1</td>\n",
       "      <td>3</td>\n",
       "      <td>4</td>\n",
       "    </tr>\n",
       "    <tr>\n",
       "      <th>8908</th>\n",
       "      <td>0.0</td>\n",
       "      <td>11</td>\n",
       "      <td>1</td>\n",
       "      <td>1</td>\n",
       "      <td>3</td>\n",
       "      <td>2</td>\n",
       "      <td>1</td>\n",
       "      <td>1</td>\n",
       "      <td>0</td>\n",
       "      <td>11</td>\n",
       "      <td>4</td>\n",
       "      <td>1</td>\n",
       "      <td>1</td>\n",
       "      <td>3</td>\n",
       "      <td>2</td>\n",
       "    </tr>\n",
       "    <tr>\n",
       "      <th>11532</th>\n",
       "      <td>0.0</td>\n",
       "      <td>11</td>\n",
       "      <td>3</td>\n",
       "      <td>2</td>\n",
       "      <td>1</td>\n",
       "      <td>2</td>\n",
       "      <td>1</td>\n",
       "      <td>0</td>\n",
       "      <td>0</td>\n",
       "      <td>11</td>\n",
       "      <td>4</td>\n",
       "      <td>3</td>\n",
       "      <td>2</td>\n",
       "      <td>1</td>\n",
       "      <td>2</td>\n",
       "    </tr>\n",
       "    <tr>\n",
       "      <th>2028</th>\n",
       "      <td>0.0</td>\n",
       "      <td>3</td>\n",
       "      <td>2</td>\n",
       "      <td>2</td>\n",
       "      <td>3</td>\n",
       "      <td>1</td>\n",
       "      <td>1</td>\n",
       "      <td>0</td>\n",
       "      <td>0</td>\n",
       "      <td>3</td>\n",
       "      <td>1</td>\n",
       "      <td>2</td>\n",
       "      <td>2</td>\n",
       "      <td>3</td>\n",
       "      <td>1</td>\n",
       "    </tr>\n",
       "    <tr>\n",
       "      <th>11443</th>\n",
       "      <td>0.0</td>\n",
       "      <td>11</td>\n",
       "      <td>2</td>\n",
       "      <td>2</td>\n",
       "      <td>1</td>\n",
       "      <td>2</td>\n",
       "      <td>1</td>\n",
       "      <td>0</td>\n",
       "      <td>0</td>\n",
       "      <td>11</td>\n",
       "      <td>4</td>\n",
       "      <td>2</td>\n",
       "      <td>2</td>\n",
       "      <td>1</td>\n",
       "      <td>2</td>\n",
       "    </tr>\n",
       "    <tr>\n",
       "      <th>2140</th>\n",
       "      <td>1.0</td>\n",
       "      <td>5</td>\n",
       "      <td>2</td>\n",
       "      <td>2</td>\n",
       "      <td>5</td>\n",
       "      <td>4</td>\n",
       "      <td>1</td>\n",
       "      <td>1</td>\n",
       "      <td>1</td>\n",
       "      <td>5</td>\n",
       "      <td>2</td>\n",
       "      <td>2</td>\n",
       "      <td>2</td>\n",
       "      <td>5</td>\n",
       "      <td>4</td>\n",
       "    </tr>\n",
       "    <tr>\n",
       "      <th>4475</th>\n",
       "      <td>0.0</td>\n",
       "      <td>5</td>\n",
       "      <td>4</td>\n",
       "      <td>1</td>\n",
       "      <td>1</td>\n",
       "      <td>4</td>\n",
       "      <td>1</td>\n",
       "      <td>0</td>\n",
       "      <td>1</td>\n",
       "      <td>5</td>\n",
       "      <td>2</td>\n",
       "      <td>4</td>\n",
       "      <td>1</td>\n",
       "      <td>1</td>\n",
       "      <td>4</td>\n",
       "    </tr>\n",
       "    <tr>\n",
       "      <th>1643</th>\n",
       "      <td>0.0</td>\n",
       "      <td>3</td>\n",
       "      <td>3</td>\n",
       "      <td>2</td>\n",
       "      <td>1</td>\n",
       "      <td>2</td>\n",
       "      <td>1</td>\n",
       "      <td>0</td>\n",
       "      <td>0</td>\n",
       "      <td>3</td>\n",
       "      <td>1</td>\n",
       "      <td>3</td>\n",
       "      <td>2</td>\n",
       "      <td>1</td>\n",
       "      <td>2</td>\n",
       "    </tr>\n",
       "    <tr>\n",
       "      <th>110</th>\n",
       "      <td>0.6</td>\n",
       "      <td>2</td>\n",
       "      <td>2</td>\n",
       "      <td>2</td>\n",
       "      <td>3</td>\n",
       "      <td>3</td>\n",
       "      <td>1</td>\n",
       "      <td>0</td>\n",
       "      <td>1</td>\n",
       "      <td>0</td>\n",
       "      <td>1</td>\n",
       "      <td>2</td>\n",
       "      <td>2</td>\n",
       "      <td>3</td>\n",
       "      <td>3</td>\n",
       "    </tr>\n",
       "    <tr>\n",
       "      <th>11417</th>\n",
       "      <td>0.0</td>\n",
       "      <td>12</td>\n",
       "      <td>2</td>\n",
       "      <td>2</td>\n",
       "      <td>1</td>\n",
       "      <td>1</td>\n",
       "      <td>1</td>\n",
       "      <td>0</td>\n",
       "      <td>0</td>\n",
       "      <td>12</td>\n",
       "      <td>4</td>\n",
       "      <td>2</td>\n",
       "      <td>2</td>\n",
       "      <td>1</td>\n",
       "      <td>1</td>\n",
       "    </tr>\n",
       "  </tbody>\n",
       "</table>\n",
       "</div>"
      ],
      "text/plain": [
       "       SpecialDay  Month  OperatingSystems  Browser  Region  TrafficType  \\\n",
       "12211         0.0     12                 3        2       4            2   \n",
       "8030          0.0     11                 2        5       3           13   \n",
       "3456          0.8      5                 2        2       1           13   \n",
       "5507          0.0     11                 1        1       1            3   \n",
       "10358         0.0     11                 1        1       8           15   \n",
       "8249          0.0     11                 2        2       1           13   \n",
       "861           0.0      3                 3        2       1            1   \n",
       "3108          0.8      5                 2        4       1            3   \n",
       "4248          0.0      5                 3        2       5            2   \n",
       "10792         0.0     11                 4        1       4            3   \n",
       "10099         0.0     12                 1        1       3            8   \n",
       "8908          0.0     11                 1        1       3            2   \n",
       "11532         0.0     11                 3        2       1            2   \n",
       "2028          0.0      3                 2        2       3            1   \n",
       "11443         0.0     11                 2        2       1            2   \n",
       "2140          1.0      5                 2        2       5            4   \n",
       "4475          0.0      5                 4        1       1            4   \n",
       "1643          0.0      3                 3        2       1            2   \n",
       "110           0.6      2                 2        2       3            3   \n",
       "11417         0.0     12                 2        2       1            1   \n",
       "\n",
       "       VisitorType  Weekend  Holiday_Bin  Month_Bin  Quarter  \\\n",
       "12211            0        1            0         12        4   \n",
       "8030             1        1            0         11        4   \n",
       "3456             1        0            1          5        2   \n",
       "5507             0        0            0         11        4   \n",
       "10358            1        0            0         11        4   \n",
       "8249             1        0            0         11        4   \n",
       "861              1        0            0          3        1   \n",
       "3108             1        0            1          5        2   \n",
       "4248             1        0            1          5        2   \n",
       "10792            1        0            0         11        4   \n",
       "10099            1        0            0         12        4   \n",
       "8908             1        1            0         11        4   \n",
       "11532            1        0            0         11        4   \n",
       "2028             1        0            0          3        1   \n",
       "11443            1        0            0         11        4   \n",
       "2140             1        1            1          5        2   \n",
       "4475             1        0            1          5        2   \n",
       "1643             1        0            0          3        1   \n",
       "110              1        0            1          0        1   \n",
       "11417            1        0            0         12        4   \n",
       "\n",
       "       OperatingSystems_Bin  Browser_Bin  Region_Bin  TrafficType_Bin  \n",
       "12211                     3            2           4                2  \n",
       "8030                      2            3           3                4  \n",
       "3456                      2            2           1                4  \n",
       "5507                      1            1           1                3  \n",
       "10358                     1            1           5                4  \n",
       "8249                      2            2           1                4  \n",
       "861                       3            2           1                1  \n",
       "3108                      2            4           1                3  \n",
       "4248                      3            2           5                2  \n",
       "10792                     4            1           4                3  \n",
       "10099                     1            1           3                4  \n",
       "8908                      1            1           3                2  \n",
       "11532                     3            2           1                2  \n",
       "2028                      2            2           3                1  \n",
       "11443                     2            2           1                2  \n",
       "2140                      2            2           5                4  \n",
       "4475                      4            1           1                4  \n",
       "1643                      3            2           1                2  \n",
       "110                       2            2           3                3  \n",
       "11417                     2            2           1                1  "
      ]
     },
     "metadata": {},
     "output_type": "display_data"
    }
   ],
   "source": [
    "# Review the created columns in a sample\n",
    "new_continuous_df = df.loc[:,continuous_df_list]\n",
    "y = df.loc[:,'Revenue']\n",
    "display(new_continuous_df.sample(20))\n",
    "display(' ')\n",
    "new_categorical_df = df.loc[:,categorical_df_list]\n",
    "display(new_categorical_df.sample(20))\n"
   ]
  },
  {
   "cell_type": "markdown",
   "metadata": {},
   "source": [
    "    2.4 Pipeline [Middle] - Min Max Standardization"
   ]
  },
  {
   "cell_type": "code",
   "execution_count": 102,
   "metadata": {},
   "outputs": [],
   "source": [
    "# # Process the attributes that have a range outside of zero to one (0 - 1)\n",
    "\n",
    "# from sklearn.preprocessing import MinMaxScaler\n",
    "# scaler = MinMaxScaler(feature_range=(0, 1))\n",
    "# scale = scaler.fit(new_continuous_df)\n",
    "# scaled = scaler.transform(new_continuous_df)\n",
    "# scaled_continuous_df = pd.DataFrame(scaled,columns = continuous_df_list)\n",
    "# df[continuous_df_list] = scaled_continuous_df[continuous_df_list]"
   ]
  },
  {
   "cell_type": "markdown",
   "metadata": {},
   "source": [
    "    2.5 Pipeline [Middle] - Normalize the data to address skew"
   ]
  },
  {
   "cell_type": "code",
   "execution_count": 103,
   "metadata": {},
   "outputs": [],
   "source": [
    "# # Initially displaying the skewness of all attributes\n",
    "# skew_df = pd.DataFrame(df[continuous_df_list].skew().abs())\n",
    "\n",
    "# #filter skew attributes by absolute values of 0.5\n",
    "# skew_over = skew_df[(skew_df > 0.5).any(axis=1)]\n",
    "# skew_cols = skew_over.index.tolist()\n",
    "# display(skew_cols)\n",
    "# display(len(skew_cols))"
   ]
  },
  {
   "cell_type": "code",
   "execution_count": 104,
   "metadata": {},
   "outputs": [],
   "source": [
    "# # Create the list of columns to adjust for skewness\n",
    "\n",
    "# for i in skew_cols:\n",
    "#     df[i+'_skew'] = df[i]\n",
    "    \n",
    "# cols_to_skew = df.iloc[:,-len(skew_cols):].columns"
   ]
  },
  {
   "cell_type": "code",
   "execution_count": 105,
   "metadata": {},
   "outputs": [],
   "source": [
    "# continuous_skew_cols = cols_to_skew.tolist()\n",
    "# continuous_df_list = continuous_df_list + continuous_skew_cols"
   ]
  },
  {
   "cell_type": "code",
   "execution_count": 106,
   "metadata": {},
   "outputs": [],
   "source": [
    "# # Normalize the columns that have skewness using quantile_transform\n",
    "\n",
    "# from sklearn.preprocessing import quantile_transform\n",
    "# transformed_qt = quantile_transform(df[cols_to_skew],random_state=0,copy=True)\n",
    "# transformed_qt_df = pd.DataFrame(transformed_qt,columns = cols_to_skew)\n",
    "# df[cols_to_skew] = transformed_qt_df[cols_to_skew]\n"
   ]
  },
  {
   "cell_type": "code",
   "execution_count": 107,
   "metadata": {},
   "outputs": [],
   "source": [
    "# # Display skewness after quantile_transform\n",
    "# display(df[cols_to_skew].skew())"
   ]
  },
  {
   "cell_type": "code",
   "execution_count": 108,
   "metadata": {},
   "outputs": [],
   "source": [
    "# # Create the list of columns that still need to be adjusted for skewness (i.e., after applying quantile_transform)\n",
    "# Still_skew_df = pd.DataFrame(df[cols_to_skew].skew().abs())\n",
    "\n",
    "# ##Filter skew attributes by an absolute value of 0.5\n",
    "# still_skew_over = Still_skew_df[(Still_skew_df > 0.5).any(axis=1)]\n",
    "# still_skew_list =(still_skew_over.index.tolist())\n",
    "# display(still_skew_list)\n",
    "\n"
   ]
  },
  {
   "cell_type": "code",
   "execution_count": 109,
   "metadata": {},
   "outputs": [],
   "source": [
    "# # Normalize the remaining columns that continue to have skewness (after applying quantile_transform) using PowerTransformer\n",
    "# from sklearn.preprocessing import PowerTransformer\n",
    "\n",
    "# pt = PowerTransformer(method='yeo-johnson')\n",
    "# transform = pt.fit(df[still_skew_list])\n",
    "# transformed = pt.transform((df[still_skew_list]))\n",
    "# transformed_df = pd.DataFrame(transformed,columns = still_skew_list)\n",
    "# df[still_skew_list] = transformed_df[still_skew_list]\n"
   ]
  },
  {
   "cell_type": "code",
   "execution_count": 110,
   "metadata": {},
   "outputs": [],
   "source": [
    "# # check for remaining skewness\n",
    "# display(df[still_skew_list].skew())"
   ]
  },
  {
   "cell_type": "code",
   "execution_count": 111,
   "metadata": {},
   "outputs": [],
   "source": [
    "# spearman_possible =df[continuous_df_list].corrwith(df['Revenue'])\n",
    "# spearman_possible.head(60)\n",
    "# # plt.figure(figsize=(30,15))\n",
    "# # sns.heatmap(spearman_possible, annot=True)"
   ]
  },
  {
   "cell_type": "code",
   "execution_count": 112,
   "metadata": {},
   "outputs": [
    {
     "data": {
      "text/plain": [
       "['ExitRates',\n",
       " 'PageValues',\n",
       " 'PageValues_Log',\n",
       " 'Bounce_Exit_Rate_Avg_PageVales',\n",
       " 'Informational_per_PageValues',\n",
       " 'Exit_per_PageValues',\n",
       " 'Bounce_per_PageValues']"
      ]
     },
     "metadata": {},
     "output_type": "display_data"
    },
    {
     "data": {
      "text/plain": [
       "7"
      ]
     },
     "metadata": {},
     "output_type": "display_data"
    }
   ],
   "source": [
    "corr_df = pd.DataFrame(df[continuous_df_list].corrwith(df['Revenue']).abs())\n",
    "\n",
    "#filter skew attributes by absolute values of 0.20\n",
    "corr_over = corr_df[(corr_df > 0.20).any(axis=1)]\n",
    "#display(corr_over.index)\n",
    "\n",
    "continuous_model_cols = corr_over.index.tolist()\n",
    "display(continuous_model_cols)\n",
    "display(len(continuous_model_cols))"
   ]
  },
  {
   "cell_type": "code",
   "execution_count": 114,
   "metadata": {},
   "outputs": [
    {
     "data": {
      "text/plain": [
       "['Bounce_Exit_Rate_Avg_PageVales',\n",
       " 'Bounce_per_PageValues',\n",
       " 'ExitRates',\n",
       " 'Exit_per_PageValues',\n",
       " 'Informational_per_PageValues',\n",
       " 'PageValues',\n",
       " 'PageValues_Log',\n",
       " 'Revenue']"
      ]
     },
     "execution_count": 114,
     "metadata": {},
     "output_type": "execute_result"
    }
   ],
   "source": [
    "# determined possible features list by removing corresponding, duplicative features that were not adjusted for skewness\n",
    " \n",
    "possible_Features_list =['ExitRates',\n",
    " 'PageValues',\n",
    " 'PageValues_Log',\n",
    " 'Bounce_Exit_Rate_Avg_PageVales',\n",
    " 'Informational_per_PageValues',\n",
    " 'Exit_per_PageValues',\n",
    " 'Bounce_per_PageValues','Revenue']    \n",
    "possible_Features_list.sort()\n",
    "possible_Features_list"
   ]
  },
  {
   "cell_type": "code",
   "execution_count": 133,
   "metadata": {},
   "outputs": [],
   "source": [
    "sorted_possible_Features_list = ['Bounce_Exit_Rate_Avg_PageVales',\n",
    " 'Bounce_per_PageValues',\n",
    " 'ExitRates',\n",
    " 'Exit_per_PageValues',\n",
    " 'Informational_per_PageValues',\n",
    " 'PageValues',\n",
    " 'PageValues_Log']"
   ]
  },
  {
   "cell_type": "code",
   "execution_count": 134,
   "metadata": {},
   "outputs": [
    {
     "data": {
      "text/plain": [
       "<matplotlib.axes._subplots.AxesSubplot at 0x1c869155828>"
      ]
     },
     "execution_count": 134,
     "metadata": {},
     "output_type": "execute_result"
    },
    {
     "data": {
      "image/png": "[encoded data removed]",
      "text/plain": [
       "<Figure size 2880x1080 with 2 Axes>"
      ]
     },
     "metadata": {},
     "output_type": "display_data"
    }
   ],
   "source": [
    "#Correlation Heatmap for the dataframe\n",
    "possible_Corr_df = df.loc[:,sorted_possible_Features_list]\n",
    "\n",
    "spearman_possible =possible_Corr_df.corr(method= 'spearman')\n",
    "plt.figure(figsize=(40,15))\n",
    "sns.heatmap(spearman_possible, annot=True)"
   ]
  },
  {
   "cell_type": "code",
   "execution_count": 135,
   "metadata": {},
   "outputs": [],
   "source": [
    "# ['Admin_dur_per_Exit_skew',\n",
    "#  'Admin_dur_per_bounce_exit_avg_skew',\n",
    "#  'Admin_per_Exit_skew', KEEP HIGHEST CORRELATION WITH Y\n",
    "#  'Admin_per_bounce_exit_avg_skew',\n",
    "\n",
    "#  Admin_per_PageValues_skew KEEP UNIQUELY INCLUDES ADMIN\n",
    " \n",
    "#  'Bounce_Exit_Rate_Avg_skew', KEEP NO JUSTIFICATION FOR WEIGHTED AVERAGE\n",
    "#  'Bounce_Exit_Rate_WeightedAvg_skew', \n",
    " \n",
    "#  'Bounce_Exit_Rate_Avg_PageVales',\n",
    "#  'Bounce_Exit_Rate_Avg_PageVales_skew',\n",
    "#  'Bounce_per_PageValues',\n",
    "#  'Bounce_per_PageValues_skew',KEEP BECAUSE ADJUSTED FOR SKEWNESS AND ALEADY HAVE A VARIABLE WITH BOUNCE EXIT RATE AVERAGE\n",
    " \n",
    "\n",
    " \n",
    "#  'ExitRates',\n",
    "#  'ExitRates_skew',\n",
    "#  'Exit_per_PageValues',\n",
    "#  'Exit_per_PageValues_skew', KEEP BECAUSE ADJUSTED FOR SKEWNESS AND IS MORE CORRELATED WITH Y THAT THE OTHER EXIT Rate variables\n",
    " \n",
    "#  'Info_Duration_per_PageValues_skew',\n",
    "# 'Informational_per_PageValues',\n",
    "#  'Informational_per_PageValues_skew', KEEP BECAUSE ADJUSTED FOR SKEWNESS AND IS MORE CORRELATED WITH Y\n",
    "\n",
    "#  'Info_dur_per_Exit_skew',\n",
    "#  'Info_dur_per_bounce_exit_avg_skew',\n",
    "#  'Info_per_Exit_skew', KEEP BECAUSE ADJUSTED FOR SKEWNESS AND IS consistent IN CORRELATED AND SAME COMPARISON AS THE OTHER VARIABLES\n",
    "#  'Info_per_bounce_exit_avg_skew',\n",
    "\n",
    " \n",
    "#  'PageValues',\n",
    "#  'PageValues_Log',\n",
    "#  'PageValues_Log_skew', KEEP PER TAO , KEEP LET FEATURE SELECTION ELIMINATE\n",
    "#  'PageValues_skew',\n",
    " \n",
    "#  'Prod_dur_per_bounce_exit_avg_skew',\n",
    "#  'Prod_per_bounce_exit_avg_skew',\n",
    "# 'Product_dur_per_Exit_skew', \n",
    "# 'Product_per_Exit_skew', KEEP BECAUSE ADJUSTED FOR SKEWNESS AND IS consistent IN CORRELATED AND SAME COMPARISON AS THE OTHER VARIABLES\n",
    "# 'Product_dur_per_Bounce_skew',\n",
    "#  'Product_per_Bounce_skew',\n",
    " \n",
    "#  'ProductRelated_Duration_skew', KEEP BECAUSE ITS SOMEWHAT UNIQUE\n",
    " \n",
    "#  'ProductRelated_per_PageValues_skew', KEEP CLEAR WINNER IN CORRELATION TO Y\n",
    "#  'Product_Duration_per_PageValues_skew',\n",
    "\n",
    "#  'TotalDuration_per_BounceExit_avg_skew',\n",
    "#  'TotalDuration_per_BounceRates_skew', KEEP BECAUSE ITS SOMEWHAT UNIQUE OTHER VARIABLES USE EXITRATES\n",
    "#  'TotalDuration_per_ExitRates_skew',\n",
    " \n",
    "#  'TotalDuration_per_PageValues_skew', KEEP BECAUSE ITS SOMEWHAT UNIQUE\n",
    "\n",
    "#  'Total_Duration_Avg_skew', \n",
    "#  'Total_Duration_skew', KEEP LET FEATURE SELECTION ELIMINATE\n",
    "#  'Revenue']"
   ]
  },
  {
   "cell_type": "code",
   "execution_count": 136,
   "metadata": {},
   "outputs": [
    {
     "data": {
      "text/plain": [
       "7"
      ]
     },
     "metadata": {},
     "output_type": "display_data"
    }
   ],
   "source": [
    "# Filtered out intercorrelated featues for feature importance\n",
    "continuous_feature_selection = sorted_possible_Features_list\n",
    "\n",
    "display(len(continuous_feature_selection))"
   ]
  },
  {
   "cell_type": "markdown",
   "metadata": {},
   "source": [
    "# Based on the above:\n",
    "    - Need to choose only one of the variables for which there is a corresponding duration variable - namely: \n",
    "    - Administrative_skew or Administrative_Duration_skew (correlation 0.94); initial decision is to utilize Administrative_skew as it is more highly correlated with the target variable\n",
    "    - Informational_skew or Informational_Duration_skew (correlation 0.95); initial decision is to utilize Informational_skew because Informational_Duration_skew is incorporated into the Total_Duration variables (discussed below)\n",
    "    - ProductRelated_skew or Product_RelatedDuration_skew (correlation 0.88); initial decision is to utilize ProductRelated_Duration_skew as it is more highly correlated with the target variable\n",
    "\n",
    "    - Need to choose only one of the variables that are 100% corelated – namely:\n",
    "    - The PageValues variables (since they all are 100% correlated); initial decision is to use PagesValues_skew (rather than PageValues_Log_skew or PageValues_Log10_skew) because the “raw” feature is more interpretable than its logged counterparts\n",
    "    - Total_Duration_skew and Total_Duration_Avg_skew; initial decision is to forego both in favor of engineered features that incorporate total duration\n",
    "    - Bounce_Exit_Rate_Avg_skew and Bounce_Exit_Rate_WeightedAvg_skew; initial decision is to utilize the last one since it incorporates both Bounce and Exit Rates and utilizes a weighted average, which gives relative weights to the inputs\n",
    "\n",
    "    - Need to carefully consider variables containing “Bounce” and “Exit” since BounceRates_skew and ExitRates_skew are highly correlated (correlation 0.60) – namely:\n",
    "    - ExitRates_skew and Bounce_Exit_Rate_Avg_skew (correlation 0.98) as well as ExitRates_skew and  Bounce_Exit_Rate_WeightedAvg_skew (correlation 0.96); initial decision is to utilize the last one since it incorporates both Bounce and Exit Rates and utilizes a weighted                 average, which gives relative weights to the inputs\n",
    "    - Admin_per_Exit_skew and Admin_per_Bounce_skew (correlation 0.97) Initial decision is to use Admin_per Exit_skew because it is more highly correlated with the target variable.\n",
    "\n",
    "    - Exit_per_PageValues and Bounce_per_PageValues (correlation 0.82) Initial decision is to use Bounce_per_PageValues because it has fewer high correlations with the other variables \n",
    "\n",
    "**Need to choose only one of the variables from pairs that capture related information - namely:**\n",
    "    \n",
    "    - TotalDuration_per_PageValues_skew or Product_Duration_per_PageValues_skew (correlation 0.99) Initial decision is to use Product_Duration_per_PageValues_skew because it is more highly correlated with the target variable.\n",
    "    - Admin_per_PageValues_skew and AdminDuration_per_PageValues_skew (correlation 0.76); initial decision is to include Admin_per_PageValues_skew since it is much more highly correlated with y\n",
    "\n",
    "**Additionally, we recommend including**\n",
    "   \n",
    "    - Month because retail businesses are seasonal; and\n",
    "    - VisitorType because of the importance of customer loyalty in a retail environment\n",
    "\n",
    "\n"
   ]
  },
  {
   "cell_type": "markdown",
   "metadata": {},
   "source": [
    "Categorical Features Manual Filter"
   ]
  },
  {
   "cell_type": "code",
   "execution_count": 137,
   "metadata": {},
   "outputs": [
    {
     "data": {
      "text/plain": [
       "['SpecialDay',\n",
       " 'Month',\n",
       " 'OperatingSystems',\n",
       " 'Browser',\n",
       " 'Region',\n",
       " 'TrafficType',\n",
       " 'VisitorType',\n",
       " 'Weekend',\n",
       " 'Holiday_Bin',\n",
       " 'Month_Bin',\n",
       " 'Quarter',\n",
       " 'OperatingSystems_Bin',\n",
       " 'Browser_Bin',\n",
       " 'Region_Bin',\n",
       " 'TrafficType_Bin']"
      ]
     },
     "metadata": {},
     "output_type": "display_data"
    },
    {
     "data": {
      "text/plain": [
       "15"
      ]
     },
     "metadata": {},
     "output_type": "display_data"
    }
   ],
   "source": [
    "cat_corr_df = pd.DataFrame(df[categorical_df_list].corrwith(df['Revenue']).abs())\n",
    "\n",
    "#filter skew attributes by absolute values of 0.001\n",
    "cat_corr_over = cat_corr_df[(cat_corr_df > 0.0).any(axis=1)]\n",
    "\n",
    "categorical_model_cols = cat_corr_over.index.tolist()\n",
    "display(categorical_model_cols)\n",
    "display(len(categorical_model_cols))\n"
   ]
  },
  {
   "cell_type": "code",
   "execution_count": 138,
   "metadata": {},
   "outputs": [
    {
     "data": {
      "text/plain": [
       "['SpecialDay',\n",
       " 'Month',\n",
       " 'OperatingSystems',\n",
       " 'Browser',\n",
       " 'Region',\n",
       " 'TrafficType',\n",
       " 'VisitorType',\n",
       " 'Weekend',\n",
       " 'Holiday_Bin',\n",
       " 'Month_Bin',\n",
       " 'Quarter',\n",
       " 'OperatingSystems_Bin',\n",
       " 'Browser_Bin',\n",
       " 'Region_Bin',\n",
       " 'TrafficType_Bin']"
      ]
     },
     "execution_count": 138,
     "metadata": {},
     "output_type": "execute_result"
    }
   ],
   "source": [
    "cat_corr_df\n",
    "Cat_feature_selection = cat_corr_df.index.tolist()\n",
    "Cat_feature_selection"
   ]
  },
  {
   "cell_type": "code",
   "execution_count": 139,
   "metadata": {},
   "outputs": [],
   "source": [
    "#Correlation Heatmap for the dataframe\n",
    "cat_Corr_df = df.loc[:,categorical_df_list]"
   ]
  },
  {
   "cell_type": "code",
   "execution_count": 140,
   "metadata": {},
   "outputs": [
    {
     "data": {
      "text/plain": [
       "<matplotlib.axes._subplots.AxesSubplot at 0x1c871d97860>"
      ]
     },
     "execution_count": 140,
     "metadata": {},
     "output_type": "execute_result"
    },
    {
     "data": {
      "image/png": "[encoded data removed]",
      "text/plain": [
       "<Figure size 2160x1080 with 2 Axes>"
      ]
     },
     "metadata": {},
     "output_type": "display_data"
    }
   ],
   "source": [
    "cat_spearman_possible =cat_Corr_df.corr(method ='spearman')\n",
    "plt.figure(figsize=(30,15))\n",
    "sns.heatmap(cat_spearman_possible, annot=True)"
   ]
  },
  {
   "cell_type": "code",
   "execution_count": 141,
   "metadata": {},
   "outputs": [],
   "source": [
    "Cat_feature_selection =['SpecialDay','VisitorType','Weekend','Holiday_Bin','Month_Bin','Quarter','OperatingSystems_Bin','Browser_Bin','Region_Bin','TrafficType_Bin']"
   ]
  },
  {
   "cell_type": "markdown",
   "metadata": {},
   "source": [
    "# Based on the above:\n",
    "    - Need to choose only one of the variables for which there is a corresponding duration variable - namely: \n",
    "    - Administrative_skew or Administrative_Duration_skew (correlation 0.94); initial decision is to utilize Administrative_skew as it is more highly correlated with the target variable\n",
    "    - Informational_skew or Informational_Duration_skew (correlation 0.95); initial decision is to utilize Informational_skew because Informational_Duration_skew is incorporated into the Total_Duration variables (discussed below)\n",
    "    - ProductRelated_skew or Product_RelatedDuration_skew (correlation 0.88); initial decision is to utilize ProductRelated_Duration_skew as it is more highly correlated with the target variable\n",
    "\n",
    "    - Need to choose only one of the variables that are 100% corelated – namely:\n",
    "    - The PageValues variables (since they all are 100% correlated); initial decision is to use PagesValues_skew (rather than PageValues_Log_skew or PageValues_Log10_skew) because the “raw” feature is more interpretable than its logged counterparts\n",
    "    - Total_Duration_skew and Total_Duration_Avg_skew; initial decision is to forego both in favor of engineered features that incorporate total duration\n",
    "    - Bounce_Exit_Rate_Avg_skew and Bounce_Exit_Rate_WeightedAvg_skew; initial decision is to utilize the last one since it incorporates both Bounce and Exit Rates and utilizes a weighted average, which gives relative weights to the inputs\n",
    "\n",
    "    - Need to carefully consider variables containing “Bounce” and “Exit” since BounceRates_skew and ExitRates_skew are highly correlated (correlation 0.60) – namely:\n",
    "    - ExitRates_skew and Bounce_Exit_Rate_Avg_skew (correlation 0.98) as well as ExitRates_skew and  Bounce_Exit_Rate_WeightedAvg_skew (correlation 0.96); initial decision is to utilize the last one since it incorporates both Bounce and Exit Rates and utilizes a weighted                 average, which gives relative weights to the inputs\n",
    "    - Admin_per_Exit_skew and Admin_per_Bounce_skew (correlation 0.97) Initial decision is to use Admin_per Exit_skew because it is more highly correlated with the target variable.\n",
    "\n",
    "    - Exit_per_PageValues and Bounce_per_PageValues (correlation 0.82) Initial decision is to use Bounce_per_PageValues because it has fewer high correlations with the other variables \n",
    "\n",
    "**Need to choose only one of the variables from pairs that capture related information - namely:**\n",
    "    \n",
    "    - TotalDuration_per_PageValues_skew or Product_Duration_per_PageValues_skew (correlation 0.99) Initial decision is to use Product_Duration_per_PageValues_skew because it is more highly correlated with the target variable.\n",
    "    - Admin_per_PageValues_skew and AdminDuration_per_PageValues_skew (correlation 0.76); initial decision is to include Admin_per_PageValues_skew since it is much more highly correlated with y\n",
    "\n",
    "**Additionally, we recommend including**\n",
    "   \n",
    "    - Month because retail businesses are seasonal; and\n",
    "    - VisitorType because of the importance of customer loyalty in a retail environment\n",
    "\n",
    "\n"
   ]
  },
  {
   "cell_type": "code",
   "execution_count": 142,
   "metadata": {},
   "outputs": [
    {
     "data": {
      "text/plain": [
       "['SpecialDay',\n",
       " 'VisitorType',\n",
       " 'Weekend',\n",
       " 'Holiday_Bin',\n",
       " 'Month_Bin',\n",
       " 'Quarter',\n",
       " 'OperatingSystems_Bin',\n",
       " 'Browser_Bin',\n",
       " 'Region_Bin',\n",
       " 'TrafficType_Bin',\n",
       " 'Bounce_Exit_Rate_Avg_PageVales',\n",
       " 'Bounce_per_PageValues',\n",
       " 'ExitRates',\n",
       " 'Exit_per_PageValues',\n",
       " 'Informational_per_PageValues',\n",
       " 'PageValues',\n",
       " 'PageValues_Log']"
      ]
     },
     "metadata": {},
     "output_type": "display_data"
    },
    {
     "data": {
      "text/plain": [
       "17"
      ]
     },
     "metadata": {},
     "output_type": "display_data"
    }
   ],
   "source": [
    "# Filtered out intercorrelated featues for feature importance\n",
    "feature_importance_list = Cat_feature_selection + continuous_feature_selection\n",
    "display(feature_importance_list,len(feature_importance_list))"
   ]
  },
  {
   "cell_type": "markdown",
   "metadata": {},
   "source": [
    "# 3. Split and run the Final Models with Selected Features and Optimized Hyperperameters  <a name=\"part4.3\"></a>"
   ]
  },
  {
   "cell_type": "code",
   "execution_count": 143,
   "metadata": {},
   "outputs": [],
   "source": [
    "# Create a full list of continuous and categorical features based on aditional data preparation \n",
    "continuous_categorical_list = feature_importance_list\n",
    "\n",
    "# Specify features (X) and target (Y) in dataset\n",
    "X,y = df.loc[:,continuous_categorical_list],df.loc[:,'Revenue']"
   ]
  },
  {
   "cell_type": "code",
   "execution_count": 144,
   "metadata": {},
   "outputs": [],
   "source": [
    "# Resplit the data based on additional data preparation completed post initial split\n",
    "X_train, X_test, y_train, y_test = train_test_split(X, y,test_size=0.3,random_state=500) "
   ]
  },
  {
   "cell_type": "markdown",
   "metadata": {},
   "source": [
    "### 3.1 Naive Bayes Model (NB)\n",
    ">   <b> Accuracy: </b> 87%\n",
    "<br><b> AUC: </b> 87%\n",
    "<br><b> Next Steps: </b> Additional parameter tuning"
   ]
  },
  {
   "cell_type": "markdown",
   "metadata": {},
   "source": [
    "###0. Step 0: Import Needed Packages"
   ]
  },
  {
   "cell_type": "code",
   "execution_count": 145,
   "metadata": {},
   "outputs": [],
   "source": [
    "# import the metrics class\n",
    "from sklearn import metrics\n",
    "# from sklearn.feature_selection import RFE\n",
    "from sklearn.ensemble import RandomForestClassifier\n",
    "from sklearn.datasets import make_classification\n",
    "\n",
    "# import other required modules for confusion matrices\n",
    "import numpy as np\n",
    "import matplotlib.pyplot as plt\n",
    "import seaborn as sns\n",
    "%matplotlib inline\n",
    "plt.style.use('ggplot')"
   ]
  },
  {
   "cell_type": "markdown",
   "metadata": {},
   "source": [
    "###1. Step 1: Specify the Model and run forward selection feature importance"
   ]
  },
  {
   "cell_type": "code",
   "execution_count": 146,
   "metadata": {},
   "outputs": [],
   "source": [
    "#Import Gaussian Naive Bayes model\n",
    "from sklearn.naive_bayes import GaussianNB\n",
    "\n",
    "#Create a Gaussian Classifier\n",
    "gnb = GaussianNB()"
   ]
  },
  {
   "cell_type": "code",
   "execution_count": 147,
   "metadata": {},
   "outputs": [],
   "source": [
    "# Source: https://towardsdatascience.com/feature-selection-using-wrapper-methods-in-python-f0d352b346f\n",
    "\n",
    "def forward_selection(data, target, significance_level=0.05):\n",
    "    initial_features = data.columns.tolist()\n",
    "    best_features = []\n",
    "    while (len(list(initial_features))>0):\n",
    "        remaining_features = list(set(initial_features)-set(best_features))\n",
    "        new_pval = pd.Series(index=remaining_features)\n",
    "        for new_column in remaining_features:\n",
    "            model = sm.OLS(target, sm.add_constant(data[best_features+[new_column]])).fit()\n",
    "            new_pval[new_column] = model.pvalues[new_column]\n",
    "        min_p_value = new_pval.min()\n",
    "        if(min_p_value<significance_level):\n",
    "            best_features.append(new_pval.idxmin())\n",
    "        else:\n",
    "            break\n",
    "    return best_features"
   ]
  },
  {
   "cell_type": "code",
   "execution_count": 148,
   "metadata": {},
   "outputs": [],
   "source": [
    "best_features = forward_selection(X_train, y_train, significance_level=0.05)"
   ]
  },
  {
   "cell_type": "markdown",
   "metadata": {},
   "source": [
    "###2. Steps 2-4: Generate Test Data, Build the Models & Assess the Models for y2"
   ]
  },
  {
   "cell_type": "code",
   "execution_count": 149,
   "metadata": {},
   "outputs": [
    {
     "name": "stdout",
     "output_type": "stream",
     "text": [
      "y Accuracy: 0.8791565287915653\n",
      "\n",
      "              precision    recall  f1-score   support\n",
      "\n",
      "           0       0.96      0.90      0.93      3158\n",
      "           1       0.56      0.77      0.65       541\n",
      "\n",
      "    accuracy                           0.88      3699\n",
      "   macro avg       0.76      0.83      0.79      3699\n",
      "weighted avg       0.90      0.88      0.89      3699\n",
      "\n"
     ]
    },
    {
     "data": {
      "image/png": "[encoded data removed]",
      "text/plain": [
       "<Figure size 432x288 with 1 Axes>"
      ]
     },
     "metadata": {},
     "output_type": "display_data"
    },
    {
     "name": "stdout",
     "output_type": "stream",
     "text": [
      "\n"
     ]
    },
    {
     "data": {
      "text/plain": [
       "Text(0.5, 257.44, 'Predicted label')"
      ]
     },
     "execution_count": 149,
     "metadata": {},
     "output_type": "execute_result"
    },
    {
     "data": {
      "image/png": "[encoded data removed]",
      "text/plain": [
       "<Figure size 432x288 with 2 Axes>"
      ]
     },
     "metadata": {},
     "output_type": "display_data"
    }
   ],
   "source": [
    "#Train the model using the training sets - for y2 (Sale)\n",
    "gnb.fit(X_train[best_features], y_train)\n",
    "\n",
    "#Predict the response for test dataset for y2\n",
    "y_NB_pred = gnb.predict(X_test[best_features])\n",
    "\n",
    "# Model Accuracy, how often is the classifier correct?\n",
    "# Accuracy for y2\n",
    "print(\"y Accuracy:\",metrics.accuracy_score(y_test, y_NB_pred))\n",
    "print(\"\")\n",
    "\n",
    "#Can use classification report to assess model adequacy, too\n",
    "class_names=[0,1] # name  of classes\n",
    "print(metrics.classification_report(y_test, y_NB_pred, labels=class_names))\n",
    "\n",
    "#AUC for y\n",
    "y_NB_pred_proba = gnb.predict_proba(X_test[best_features])[::,1]\n",
    "fpr, tpr, _ = metrics.roc_curve(y_test,  y_NB_pred_proba)\n",
    "auc = metrics.roc_auc_score(y_test, y_NB_pred_proba)\n",
    "plt.plot(fpr,tpr,label=\"auc=\"+str(auc))\n",
    "plt.legend(loc=4)\n",
    "plt.show()\n",
    "print(\"\")\n",
    "\n",
    "#Print Confusion Matrix\n",
    "cnf_matrix = metrics.confusion_matrix(y_test, y_NB_pred)\n",
    "cnf_matrix\n",
    "class_names=[0,1] # name  of classes\n",
    "fig, ax = plt.subplots()\n",
    "tick_marks = np.arange(len(class_names))\n",
    "plt.xticks(tick_marks, class_names)\n",
    "plt.yticks(tick_marks, class_names)\n",
    "# create heatmap\n",
    "sns.heatmap(pd.DataFrame(cnf_matrix), annot=True, cmap=\"YlGnBu\" ,fmt='g')\n",
    "ax.xaxis.set_label_position(\"top\")\n",
    "plt.tight_layout()\n",
    "plt.title('Confusion matrix', y=1.1)\n",
    "plt.ylabel('Actual label')\n",
    "plt.xlabel('Predicted label')\n"
   ]
  },
  {
   "cell_type": "code",
   "execution_count": 150,
   "metadata": {},
   "outputs": [],
   "source": [
    "#Conclusion - With accuracy of 81% for each y1 and y2, the Naive Bayes model is superior to the base model which had an accuracy of 71% for each target.\n",
    "#However, there is still room for improvement."
   ]
  },
  {
   "cell_type": "code",
   "execution_count": 151,
   "metadata": {},
   "outputs": [],
   "source": [
    "# MD's Modeling Work"
   ]
  },
  {
   "cell_type": "markdown",
   "metadata": {},
   "source": [
    "### 3.2 Decision Tree Model (DT)\n",
    ">   <b> Accuracy: </b> 85%\n",
    "<br><b> AUC: </b> 69%\n",
    "<br><b> Next Steps: </b> Additional parameter tuning"
   ]
  },
  {
   "cell_type": "markdown",
   "metadata": {},
   "source": [
    "#### Specify the Model"
   ]
  },
  {
   "cell_type": "code",
   "execution_count": 152,
   "metadata": {},
   "outputs": [],
   "source": [
    "# Load libraries\n",
    "import pandas as pd\n",
    "from sklearn.tree import DecisionTreeClassifier # Import Decision Tree Classifier\n",
    "from sklearn.model_selection import train_test_split # Import train_test_split function\n",
    "from sklearn import metrics #Import scikit-learn metrics module for accuracy calculation"
   ]
  },
  {
   "cell_type": "markdown",
   "metadata": {},
   "source": [
    "#### Build the Model"
   ]
  },
  {
   "cell_type": "code",
   "execution_count": 153,
   "metadata": {},
   "outputs": [],
   "source": [
    "clf = DecisionTreeClassifier()"
   ]
  },
  {
   "cell_type": "code",
   "execution_count": 154,
   "metadata": {},
   "outputs": [
    {
     "name": "stdout",
     "output_type": "stream",
     "text": [
      "4 selected features\n",
      "['Bounce_Exit_Rate_Avg_PageVales', 'ExitRates', 'Exit_per_PageValues', 'Informational_per_PageValues']\n"
     ]
    }
   ],
   "source": [
    "from sklearn.feature_selection import SelectFromModel\n",
    "\n",
    "embeded_dt_selector = SelectFromModel(DecisionTreeClassifier(), max_features=10)\n",
    "embeded_dt_selector.fit(X_train, y_train)\n",
    "embeded_dt_support = embeded_dt_selector.get_support()\n",
    "embeded_dt_feature = X_train.loc[:,embeded_dt_support].columns.tolist()\n",
    "print(str(len(embeded_dt_feature)), 'selected features')\n",
    "print(embeded_dt_feature)"
   ]
  },
  {
   "cell_type": "code",
   "execution_count": 155,
   "metadata": {},
   "outputs": [
    {
     "name": "stdout",
     "output_type": "stream",
     "text": [
      "Best: 0.892248 using {'criterion': 'gini', 'max_depth': 5, 'min_samples_split': 2, 'splitter': 'random'}\n"
     ]
    }
   ],
   "source": [
    "# PARAMETER OPTIMIZATION CODE USING GRID SEARCH:\n",
    "\n",
    "#Add in GridSearchCV\n",
    "from sklearn.model_selection import GridSearchCV\n",
    "\n",
    "#Define the grid\n",
    "criterion=['gini','entropy']\n",
    "splitter=['best','random']\n",
    "max_depth=[2,3,4,5]\n",
    "min_samples_split = [2,3]\n",
    "param_grid = dict(criterion=criterion, splitter=splitter,max_depth=max_depth,min_samples_split=min_samples_split)\n",
    "\n",
    "#Run the grid search\n",
    "#import time\n",
    "\n",
    "dt = DecisionTreeClassifier()\n",
    "grid_dt = GridSearchCV(estimator=dt, param_grid=param_grid, cv = 10, n_jobs=-1)\n",
    "\n",
    "#start_time = time.time()\n",
    "grid_result_dt = grid_dt.fit(X_train[best_features], y_train)\n",
    "# Summarize results\n",
    "print(\"Best: %f using %s\" % (grid_result_dt.best_score_, grid_result_dt.best_params_))\n",
    "\n",
    "#The below is for execution time - not important for us right now, so commented out\n",
    "# print(\"Execution time: \" + str((time.time() - start_time)) + ' ms')"
   ]
  },
  {
   "cell_type": "code",
   "execution_count": 156,
   "metadata": {},
   "outputs": [],
   "source": [
    "dt_Peram_dict = grid_result_dt.best_params_"
   ]
  },
  {
   "cell_type": "code",
   "execution_count": 157,
   "metadata": {},
   "outputs": [],
   "source": [
    "#Predict the response for test dataset\n",
    "y_DT_pred = grid_dt.predict(X_test[best_features])"
   ]
  },
  {
   "cell_type": "code",
   "execution_count": 158,
   "metadata": {},
   "outputs": [
    {
     "name": "stdout",
     "output_type": "stream",
     "text": [
      "Accuracy: 0.8894295755609625\n"
     ]
    }
   ],
   "source": [
    "# Model Accuracy, how often is the classifier correct?\n",
    "print(\"Accuracy:\",metrics.accuracy_score(y_test, y_DT_pred))"
   ]
  },
  {
   "cell_type": "markdown",
   "metadata": {},
   "source": [
    "#### Assess the Model"
   ]
  },
  {
   "cell_type": "code",
   "execution_count": 159,
   "metadata": {},
   "outputs": [
    {
     "name": "stdout",
     "output_type": "stream",
     "text": [
      "              precision    recall  f1-score   support\n",
      "\n",
      "           0       0.94      0.93      0.93      3158\n",
      "           1       0.61      0.66      0.64       541\n",
      "\n",
      "    accuracy                           0.89      3699\n",
      "   macro avg       0.78      0.80      0.79      3699\n",
      "weighted avg       0.89      0.89      0.89      3699\n",
      "\n"
     ]
    }
   ],
   "source": [
    "# Evaluating the Classification Report\n",
    "print(metrics.classification_report(y_test, y_DT_pred))"
   ]
  },
  {
   "cell_type": "code",
   "execution_count": 160,
   "metadata": {},
   "outputs": [
    {
     "name": "stdout",
     "output_type": "stream",
     "text": [
      "[[2931  227]\n",
      " [ 182  359]]\n"
     ]
    }
   ],
   "source": [
    "# Evaluating the Confusion Matrix\n",
    "print(metrics.confusion_matrix(y_test, y_DT_pred))"
   ]
  },
  {
   "cell_type": "code",
   "execution_count": 161,
   "metadata": {},
   "outputs": [
    {
     "data": {
      "image/png": "[encoded data removed]",
      "text/plain": [
       "<Figure size 432x288 with 1 Axes>"
      ]
     },
     "metadata": {},
     "output_type": "display_data"
    },
    {
     "name": "stdout",
     "output_type": "stream",
     "text": [
      "\n"
     ]
    },
    {
     "data": {
      "text/plain": [
       "Text(0.5, 257.44, 'Predicted label')"
      ]
     },
     "execution_count": 161,
     "metadata": {},
     "output_type": "execute_result"
    },
    {
     "data": {
      "image/png": "[encoded data removed]",
      "text/plain": [
       "<Figure size 432x288 with 2 Axes>"
      ]
     },
     "metadata": {},
     "output_type": "display_data"
    }
   ],
   "source": [
    "#AUC for y\n",
    "y_DT_pred_proba = grid_dt.predict_proba(X_test[best_features])[::,1]\n",
    "fpr_DT, tpr_DT, _ = metrics.roc_curve(y_test,  y_DT_pred_proba)\n",
    "auc_DT = metrics.roc_auc_score(y_test, y_DT_pred_proba)\n",
    "plt.plot(fpr_DT,tpr_DT,label=\"auc=\"+str(auc_DT))\n",
    "plt.legend(loc=4)\n",
    "plt.show()\n",
    "print(\"\")\n",
    "\n",
    "#Print Confusion Matrix\n",
    "cnf_matrix_DT = metrics.confusion_matrix(y_test, y_DT_pred)\n",
    "cnf_matrix_DT\n",
    "class_names=[0,1] # name  of classes\n",
    "fig, ax = plt.subplots()\n",
    "tick_marks = np.arange(len(class_names))\n",
    "plt.xticks(tick_marks, class_names)\n",
    "plt.yticks(tick_marks, class_names)\n",
    "# create heatmap\n",
    "sns.heatmap(pd.DataFrame(cnf_matrix_DT), annot=True, cmap=\"YlGnBu\" ,fmt='g')\n",
    "ax.xaxis.set_label_position(\"top\")\n",
    "plt.tight_layout()\n",
    "plt.title('Confusion matrix DT', y=1.1)\n",
    "plt.ylabel('Actual label')\n",
    "plt.xlabel('Predicted label')"
   ]
  },
  {
   "cell_type": "markdown",
   "metadata": {},
   "source": [
    "85.45% is much better than the baseline model of 70%"
   ]
  },
  {
   "cell_type": "markdown",
   "metadata": {},
   "source": [
    "### 3.3 Random Forest Model (RF)\n",
    ">   <b> Accuracy: </b> 89%\n",
    "<br><b> AUC: </b> 87%\n",
    "<br><b> Next Steps: </b> Additional parameter tuning"
   ]
  },
  {
   "cell_type": "markdown",
   "metadata": {},
   "source": [
    "#### Specify the Model"
   ]
  },
  {
   "cell_type": "markdown",
   "metadata": {},
   "source": [
    "#### Build Model for y2 (Sale)"
   ]
  },
  {
   "cell_type": "code",
   "execution_count": 162,
   "metadata": {},
   "outputs": [],
   "source": [
    "#Import Random Forest Model\n",
    "from sklearn.ensemble import RandomForestClassifier\n",
    "rfc = RandomForestClassifier(n_estimators=100)"
   ]
  },
  {
   "cell_type": "code",
   "execution_count": 163,
   "metadata": {},
   "outputs": [
    {
     "name": "stdout",
     "output_type": "stream",
     "text": [
      "7 selected features\n",
      "['Bounce_Exit_Rate_Avg_PageVales', 'Bounce_per_PageValues', 'ExitRates', 'Exit_per_PageValues', 'Informational_per_PageValues', 'PageValues', 'PageValues_Log']\n"
     ]
    }
   ],
   "source": [
    "from sklearn.feature_selection import SelectFromModel\n",
    "\n",
    "embeded_rf_selector = SelectFromModel(RandomForestClassifier(), max_features=8)\n",
    "embeded_rf_selector.fit(X_train, y_train)\n",
    "embeded_rf_support = embeded_rf_selector.get_support()\n",
    "embeded_rf_feature = X_train.loc[:,embeded_rf_support].columns.tolist()\n",
    "print(str(len(embeded_rf_feature)), 'selected features')\n",
    "print(embeded_rf_feature)"
   ]
  },
  {
   "cell_type": "code",
   "execution_count": 164,
   "metadata": {},
   "outputs": [
    {
     "name": "stdout",
     "output_type": "stream",
     "text": [
      "Best: 0.895146 using {'criterion': 'gini', 'max_depth': 5, 'max_features': 0.1, 'min_samples_leaf': 1, 'min_samples_split': 5, 'n_estimators': 20, 'random_state': 100}\n"
     ]
    }
   ],
   "source": [
    "# # PARAMETER OPTIMIZATION CODE USING GRID SEARCH - TAKES FOREVER...consider not running!: \n",
    "# # Reference: https://urldefense.com/v3/__https://towardsdatascience.com/hyperparameter-tuning-the-random-forest-in-python-using-scikit-learn-28d2aa77dd74*5Cn__;JQ!!KIFmrYtlezdzESbnm_I!UCnvV89lnf4zyYniQ1tmp0cEqfro80T-cjcfwd7vRwyp_8aShQmgOyEKh8XH9GthAmgdQtSt5GubdFc$ \n",
    "#Add in GridSearchCV\n",
    "from sklearn.model_selection import GridSearchCV\n",
    "\n",
    "## Define the grid\n",
    "\n",
    "# Number of trees in random forest\n",
    "n_estimators = [10,20,30]\n",
    "random_state = [10,20,50,100]\n",
    "criterion=['gini','entropy']\n",
    "# Number of features to consider at every split\n",
    "max_features = ['log2', 'sqrt',.10,.15]\n",
    "# Maximum number of levels in tree\n",
    "max_depth = [1,5,10]\n",
    "\n",
    "# Minimum number of samples required to split a node\n",
    "min_samples_split = [2, 5, 10]\n",
    "# Minimum number of samples required at each leaf node\n",
    "min_samples_leaf = [1, 2, 4]\n",
    "# Method of selecting samples for training each tree\n",
    "#bootstrap = [True, False]\n",
    "# Create the parameter grid\n",
    "param_grid = dict(n_estimators=n_estimators, max_features=max_features, max_depth=max_depth,criterion=criterion,\n",
    "               min_samples_split=min_samples_split, min_samples_leaf=min_samples_leaf,random_state=random_state)\n",
    "\n",
    "#Run the grid search\n",
    "#import time\n",
    "\n",
    "rfc = RandomForestClassifier()\n",
    "grid_rfc = GridSearchCV(estimator=rfc, param_grid=param_grid, cv = 5, n_jobs=-1)\n",
    "\n",
    "#start_time = time.time()\n",
    "grid_result_rfc = grid_rfc.fit(X_train[best_features], y_train)\n",
    "# Summarize results\n",
    "print(\"Best: %f using %s\" % (grid_result_rfc.best_score_, grid_result_rfc.best_params_))\n",
    "\n",
    "# #The below is for execution time - not important for us right now, so commented out\n",
    "# # print(\"Execution time: \" + str((time.time() - start_time)) + ' ms')"
   ]
  },
  {
   "cell_type": "code",
   "execution_count": 165,
   "metadata": {},
   "outputs": [],
   "source": [
    "rfc_Peram_dict = grid_result_rfc.best_params_"
   ]
  },
  {
   "cell_type": "code",
   "execution_count": 166,
   "metadata": {},
   "outputs": [],
   "source": [
    "\n",
    "#Create a Gaussian Classifier\n",
    "# rfc = RandomForestClassifier(n_estimators=100)\n",
    "\n",
    "#Train the model using the training sets y_pred=clf.predict(X_test)\n",
    "# grid_rfc.fit(X_train[embeded_rf_feature],y_train)\n",
    "\n",
    "y_RF_pred = grid_rfc.predict(X_test[best_features])"
   ]
  },
  {
   "cell_type": "code",
   "execution_count": 167,
   "metadata": {},
   "outputs": [
    {
     "name": "stdout",
     "output_type": "stream",
     "text": [
      "              precision    recall  f1-score   support\n",
      "\n",
      "           0       0.93      0.95      0.94      3158\n",
      "           1       0.65      0.58      0.61       541\n",
      "\n",
      "    accuracy                           0.89      3699\n",
      "   macro avg       0.79      0.76      0.78      3699\n",
      "weighted avg       0.89      0.89      0.89      3699\n",
      "\n"
     ]
    }
   ],
   "source": [
    "# Evaluation of the Classification Report\n",
    "from sklearn.metrics import classification_report, confusion_matrix\n",
    "print(classification_report(y_test, y_RF_pred))"
   ]
  },
  {
   "cell_type": "code",
   "execution_count": 168,
   "metadata": {},
   "outputs": [
    {
     "name": "stdout",
     "output_type": "stream",
     "text": [
      "[[2991  167]\n",
      " [ 228  313]]\n"
     ]
    },
    {
     "data": {
      "image/png": "[encoded data removed]",
      "text/plain": [
       "<Figure size 432x288 with 1 Axes>"
      ]
     },
     "metadata": {},
     "output_type": "display_data"
    },
    {
     "name": "stdout",
     "output_type": "stream",
     "text": [
      "\n"
     ]
    },
    {
     "data": {
      "text/plain": [
       "Text(0.5, 257.44, 'Predicted label')"
      ]
     },
     "execution_count": 168,
     "metadata": {},
     "output_type": "execute_result"
    },
    {
     "data": {
      "image/png": "[encoded data removed]",
      "text/plain": [
       "<Figure size 432x288 with 2 Axes>"
      ]
     },
     "metadata": {},
     "output_type": "display_data"
    }
   ],
   "source": [
    "# Evaluation of the Confusion Matrix\n",
    "print(confusion_matrix(y_test, y_RF_pred))\n",
    "\n",
    "#AUC for y\n",
    "y_RF_pred_proba = grid_rfc.predict_proba(X_test[best_features])[::,1]\n",
    "fpr_RF, tpr_RF, _ = metrics.roc_curve(y_test,  y_RF_pred_proba)\n",
    "auc_RF = metrics.roc_auc_score(y_test, y_RF_pred_proba)\n",
    "plt.plot(fpr_RF,tpr_RF,label=\"auc=\"+str(auc_RF))\n",
    "plt.legend(loc=4)\n",
    "plt.show()\n",
    "print(\"\")\n",
    "\n",
    "#Print Confusion Matrix\n",
    "cnf_matrix_RF = metrics.confusion_matrix(y_test, y_RF_pred)\n",
    "cnf_matrix_RF\n",
    "class_names=[0,1] # name  of classes\n",
    "fig, ax = plt.subplots()\n",
    "tick_marks = np.arange(len(class_names))\n",
    "plt.xticks(tick_marks, class_names)\n",
    "plt.yticks(tick_marks, class_names)\n",
    "# create heatmap\n",
    "sns.heatmap(pd.DataFrame(cnf_matrix_RF), annot=True, cmap=\"YlGnBu\" ,fmt='g')\n",
    "ax.xaxis.set_label_position(\"top\")\n",
    "plt.tight_layout()\n",
    "plt.title('Confusion matrix RF', y=1.1)\n",
    "plt.ylabel('Actual label')\n",
    "plt.xlabel('Predicted label')"
   ]
  },
  {
   "cell_type": "markdown",
   "metadata": {},
   "source": [
    "##### 90% accuracy for both Random Forest Models, so far better than the Decision Tree Models"
   ]
  },
  {
   "cell_type": "markdown",
   "metadata": {},
   "source": [
    "### 3.4 Support Vector Machines (SVM) Classification Model (SVC)\n",
    ">   <b> Accuracy: </b> 88%\n",
    "<br><b> AUC: </b> 85%\n",
    "<br><b> Next Steps: </b> SVC ensemble classifiers "
   ]
  },
  {
   "cell_type": "code",
   "execution_count": 66,
   "metadata": {},
   "outputs": [],
   "source": [
    "###1. Step 1: Specify the Model\n",
    "from sklearn import svm\n",
    "svc = svm.SVC(kernel='rbf',cache_size=7000,gamma= 'scale', C=1, probability =True, degree = 3) # gamma= 0.001 , kernel='poly', 'rbf',‘linear’"
   ]
  },
  {
   "cell_type": "code",
   "execution_count": 67,
   "metadata": {},
   "outputs": [
    {
     "name": "stdout",
     "output_type": "stream",
     "text": [
      "Fitting estimator with 24 features.\n",
      "10 selected features\n",
      "['Bounce_Exit_Rate_Avg_skew', 'Bounce_per_PageValues_skew', 'Exit_per_PageValues_skew', 'Informational_per_PageValues_skew', 'Info_per_Exit_skew', 'PageValues_Log_skew', 'ProductRelated_Duration_skew', 'ProductRelated_per_PageValues_skew', 'TotalDuration_per_BounceRates_skew', 'Total_Duration_skew']\n"
     ]
    }
   ],
   "source": [
    "from sklearn.feature_selection import RFE\n",
    "svc = svm.SVC(kernel='linear',cache_size=7000,gamma= 'auto', C=5, probability =True, degree = 5)\n",
    "\n",
    "svc_selector = RFE(estimator=svc, n_features_to_select=10, step=20, verbose=5)\n",
    "svc_selector.fit(X_train, y_train)\n",
    "svc_support = svc_selector.get_support()\n",
    "svc_feature = X_train.loc[:,svc_support].columns.tolist()\n",
    "\n",
    "print(str(len(svc_feature)), 'selected features')\n",
    "print(svc_feature)"
   ]
  },
  {
   "cell_type": "code",
   "execution_count": 68,
   "metadata": {},
   "outputs": [
    {
     "name": "stdout",
     "output_type": "stream",
     "text": [
      "Best: 0.895261 using {'C': 1000, 'cache_size': 1000, 'gamma': 0.001, 'kernel': 'rbf', 'probability': True}\n"
     ]
    }
   ],
   "source": [
    "# PARAMETER OPTIMIZATION CODE USING GRID SEARCH: \n",
    "# Per SVM Tutorial:\n",
    "## Tuning Hyperparameters\n",
    "# - Kernel: The main function of the kernel is to transform the given dataset input data into the required form. There are various types of functions such as linear, polynomial, and radial basis function (RBF). Polynomial and RBF are useful for non-linear hyperplane. Polynomial and RBF kernels compute the separation line in the higher dimension. In some of the applications, it is suggested to use a more complex kernel to separate the classes that are curved or nonlinear. This transformation can lead to more accurate classifiers.\n",
    "# - Regularization: Regularization parameter in python's Scikit-learn C parameter used to maintain regularization. Here C is the penalty parameter, which represents misclassification or error term. The misclassification or error term tells the SVM optimization how much error is bearable. This is how you can control the trade-off between decision boundary and misclassification term. A smaller value of C creates a small-margin hyperplane and a larger value of C creates a larger-margin hyperplane.\n",
    "# - Gamma: A lower value of Gamma will loosely fit the training dataset, whereas a higher value of gamma will exactly fit the training dataset, which causes over-fitting. In other words, you can say a low value of gamma considers only nearby points in calculating the separation line, while the a value of gamma considers all the data points in the calculation of the separation line.\n",
    "# DWM Note from video: [Note tweak Gamma: only try if the rbf kernel works; only tweak the \"d\" if the polynomial kernel works]\n",
    "# DWN Note from video: [Be careful with Gamma and d - higher values will cause model to overfit]\n",
    "\n",
    "#Add in GridSearchCV\n",
    "from sklearn.model_selection import GridSearchCV\n",
    "\n",
    "#Define the grid\n",
    "# kernel =['linear','poly','rbf']\n",
    "# C_penalty=[1.0, .75, .5] #From tutorial - C is for how much to \"penalize\" classifier; default is 1 and it can go down to 0\n",
    "# cache_size=[7000,2000,1000,500] \n",
    "# gamma= ['auto','scale', 'auto']\n",
    "# degree=[1,3,5]\n",
    "# tol=[0.003,0.005]\n",
    "param_grid =[{'C': [10, 100, 1000], 'kernel': ['linear'],'cache_size': [1000,5000],'probability': [True]},{'C': [10, 100, 1000], 'gamma': [0.001, 0.0001], 'kernel': ['rbf'],'cache_size': [1000,5000],'probability': [True]}]\n",
    "\n",
    "#Run the grid search\n",
    "# import time\n",
    "\n",
    "SVM = svm.SVC()\n",
    "grid_svc = GridSearchCV(estimator=SVM, param_grid=param_grid, cv = 5, n_jobs=-1)\n",
    "\n",
    "# start_time = time.time()\n",
    "grid_result_svc = grid_svc.fit(X_train[best_features], y_train)\n",
    "# Summarize results\n",
    "print(\"Best: %f using %s\" % (grid_result_svc.best_score_, grid_result_svc.best_params_))\n",
    "\n",
    "#The below is for execution time - not important for us right now, so commented out\n",
    "# print(\"Execution time: \" + str((time.time() - start_time)) + ' ms')"
   ]
  },
  {
   "cell_type": "code",
   "execution_count": 69,
   "metadata": {},
   "outputs": [],
   "source": [
    "svc_Peram_dict = grid_result_svc.best_params_"
   ]
  },
  {
   "cell_type": "code",
   "execution_count": 70,
   "metadata": {},
   "outputs": [],
   "source": [
    "###3. Step 3: Build the Model\n",
    "#Train the model using the training sets\n",
    "# svc.fit(X_train[svc_feature], y_train)\n",
    "\n",
    "#Predict the response for test dataset\n",
    "y_pred_svc = grid_svc.predict(X_test[best_features])"
   ]
  },
  {
   "cell_type": "code",
   "execution_count": 71,
   "metadata": {},
   "outputs": [
    {
     "name": "stdout",
     "output_type": "stream",
     "text": [
      "Accuracy_svc: 0.8953771289537713\n",
      "[[2943  215]\n",
      " [ 172  369]]\n"
     ]
    },
    {
     "data": {
      "image/png": "[encoded data removed]",
      "text/plain": [
       "<Figure size 432x288 with 1 Axes>"
      ]
     },
     "metadata": {},
     "output_type": "display_data"
    },
    {
     "name": "stdout",
     "output_type": "stream",
     "text": [
      "\n",
      "              precision    recall  f1-score   support\n",
      "\n",
      "           0       0.94      0.93      0.94      3158\n",
      "           1       0.63      0.68      0.66       541\n",
      "\n",
      "    accuracy                           0.90      3699\n",
      "   macro avg       0.79      0.81      0.80      3699\n",
      "weighted avg       0.90      0.90      0.90      3699\n",
      "\n",
      "Accuracy_svc: 0.8953771289537713\n"
     ]
    },
    {
     "data": {
      "image/png": "[encoded data removed]",
      "text/plain": [
       "<Figure size 432x288 with 2 Axes>"
      ]
     },
     "metadata": {},
     "output_type": "display_data"
    }
   ],
   "source": [
    "###4. Step 4: Assess the Model\n",
    "print(\"Accuracy_svc:\",metrics.accuracy_score(y_test, y_pred_svc))\n",
    "cnf_matrix_svc = metrics.confusion_matrix(y_test, y_pred_svc)\n",
    "\n",
    "print(cnf_matrix_svc)\n",
    "\n",
    "\n",
    "#AUC for y1\n",
    "y_SVM_pred_proba = grid_svc.predict_proba(X_test[best_features])[::,1]\n",
    "fpr_SVM, tpr_SVM, _ = metrics.roc_curve(y_test,  y_SVM_pred_proba)\n",
    "auc_SVM = metrics.roc_auc_score(y_test, y_SVM_pred_proba)\n",
    "plt.plot(fpr_SVM,tpr_SVM,label=\"auc=\"+str(auc_SVM))\n",
    "plt.legend(loc=4)\n",
    "plt.show()\n",
    "print(\"\")\n",
    "\n",
    "class_names_svc=[0,1] # name  of classes\n",
    "fig, ax = plt.subplots()\n",
    "tick_marks_svc = np.arange(len(class_names_svc))\n",
    "plt.xticks(tick_marks_svc, class_names_svc)\n",
    "plt.yticks(tick_marks_svc, class_names_svc)\n",
    "# create heatmap\n",
    "sns.heatmap(pd.DataFrame(cnf_matrix_svc), annot=True, cmap=\"YlGnBu\" ,fmt='g')\n",
    "ax.xaxis.set_label_position(\"top\")\n",
    "plt.tight_layout()\n",
    "plt.title('Confusion matrix svc', y=1.1)\n",
    "plt.ylabel('Actual label')\n",
    "plt.xlabel('Predicted label')\n",
    "\n",
    "print(classification_report(y_test, y_pred_svc))\n",
    "print(\"Accuracy_svc:\",metrics.accuracy_score(y_test, y_pred_svc))"
   ]
  },
  {
   "cell_type": "markdown",
   "metadata": {},
   "source": [
    "### 3.5. XGBoost Model (XGB)\n",
    ">   <b> Accuracy: </b> 89%\n",
    "<br><b> AUC: </b> 89%\n",
    "<br><b> RMSE: </b> .32\n",
    "<br><b> Next Steps: </b> Additional parameter tuning\n"
   ]
  },
  {
   "cell_type": "markdown",
   "metadata": {},
   "source": [
    "###0. Step 0: Import Needed Packages"
   ]
  },
  {
   "cell_type": "code",
   "execution_count": 75,
   "metadata": {},
   "outputs": [],
   "source": [
    "#Import Needed Packages\n",
    "import xgboost as xgb\n",
    "from sklearn.metrics import mean_squared_error\n",
    "import pandas as pd\n",
    "import numpy as np\n",
    "\n",
    "#Do preliminary work\n"
   ]
  },
  {
   "cell_type": "markdown",
   "metadata": {},
   "source": [
    "###1. Step 1: Specify the Model"
   ]
  },
  {
   "cell_type": "code",
   "execution_count": 76,
   "metadata": {},
   "outputs": [],
   "source": [
    "#Instantiate an XGBoost Classifer Model - for y1 (No_Sale)\n",
    "XGB_class = xgb.XGBClassifier(objective ='reg:squarederror', colsample_bytree = 0.3, learning_rate = 0.1,\n",
    "                max_depth = 5, alpha = 10, n_estimators = 100)\n"
   ]
  },
  {
   "cell_type": "code",
   "execution_count": 77,
   "metadata": {},
   "outputs": [
    {
     "name": "stdout",
     "output_type": "stream",
     "text": [
      "LassoCV Best Alpha Scored:  0.00022150867651258457\n",
      "LassoCV Model Accuracy:  0.3906953379843\n",
      "Variables Eliminated:  4\n",
      "Variables Kept:  20\n"
     ]
    }
   ],
   "source": [
    "# https://towardsdatascience.com/feature-selection-techniques-1bfab5fe0784\n",
    "\n",
    "from sklearn.linear_model import LassoCV\n",
    "\n",
    "regr = LassoCV(cv=5, random_state=101,n_jobs =10 )\n",
    "regr.fit(X_train, y_train)\n",
    "print(\"LassoCV Best Alpha Scored: \", regr.alpha_)\n",
    "print(\"LassoCV Model Accuracy: \", regr.score(X_test, y_test))\n",
    "model_coef = pd.Series(regr.coef_, index = list(X.columns[:]))\n",
    "print(\"Variables Eliminated: \", str(sum(model_coef == 0)))\n",
    "print(\"Variables Kept: \", str(sum(model_coef != 0))) \n",
    "#lasso_support = regr.get_support()"
   ]
  },
  {
   "cell_type": "code",
   "execution_count": 78,
   "metadata": {},
   "outputs": [
    {
     "data": {
      "text/plain": [
       "Text(0.5, 1.0, 'Most Important Features Identified using Lasso')"
      ]
     },
     "execution_count": 78,
     "metadata": {},
     "output_type": "execute_result"
    },
    {
     "data": {
      "image/png": "[encoded data removed]",
      "text/plain": [
       "<Figure size 960x800 with 1 Axes>"
      ]
     },
     "metadata": {},
     "output_type": "display_data"
    }
   ],
   "source": [
    "from matplotlib.pyplot import figure\n",
    "figure(num=None, figsize=(12, 10), dpi=80, facecolor='w', edgecolor='k')\n",
    "\n",
    "top_coef = model_coef.sort_values() # possible sort by index\n",
    "top_coef[top_coef != 0].plot(kind = \"barh\")\n",
    "plt.title(\"Most Important Features Identified using Lasso\")"
   ]
  },
  {
   "cell_type": "code",
   "execution_count": 79,
   "metadata": {},
   "outputs": [
    {
     "data": {
      "text/plain": [
       "['Bounce_Exit_Rate_Avg_skew',\n",
       " 'ProductRelated_per_PageValues_skew',\n",
       " 'Admin_per_PageValues_skew',\n",
       " 'TotalDuration_per_PageValues_skew',\n",
       " 'VisitorType',\n",
       " 'Informational_per_PageValues_skew',\n",
       " 'Bounce_per_PageValues_skew',\n",
       " 'ProductRelated_Duration_skew',\n",
       " 'PageValues_Log_skew']"
      ]
     },
     "metadata": {},
     "output_type": "display_data"
    }
   ],
   "source": [
    "top_lasso = top_coef[abs(top_coef) > 0.04]\n",
    "lasso_best = top_lasso.index.tolist()\n",
    "display(lasso_best)"
   ]
  },
  {
   "cell_type": "code",
   "execution_count": 80,
   "metadata": {},
   "outputs": [
    {
     "name": "stdout",
     "output_type": "stream",
     "text": [
      "Best: 0.897925 using {'colsample_bytree': 0.2, 'learning_rate': 0.1, 'max_depth': 3, 'objective': 'binary:logistic'}\n"
     ]
    }
   ],
   "source": [
    "# PARAMETER OPTIMIZATION CODE USING GRID SEARCH: \n",
    "\n",
    "#Add in GridSearchCV\n",
    "from sklearn.model_selection import GridSearchCV\n",
    "\n",
    "#Define the grid\n",
    "objective=['reg:squarederror','binary:logistic']\n",
    "learning_rate=[.1,0.5,1]\n",
    "max_depth=[1, 3, 5]\n",
    "colsample_bytree = [0.3,0.2,0.1]\n",
    "param_grid = dict(objective=objective,learning_rate=learning_rate,max_depth=max_depth,colsample_bytree=colsample_bytree)\n",
    "\n",
    "#Run the grid search\n",
    "import time\n",
    "\n",
    "# XGB = xgb.XGBClassifier(reg_alpha = 10, reg_lambda = 10, n_estimators = 100) #in case we want to use later\n",
    "XGB = xgb.XGBClassifier(n_estimators = 100)\n",
    "grid_xgb = GridSearchCV(estimator=XGB, param_grid=param_grid, cv = 10, n_jobs=-1)\n",
    "\n",
    "#start_time = time.time()\n",
    "grid_result_xgb = grid_xgb.fit(X_train[best_features], y_train)\n",
    "# Summarize results\n",
    "print(\"Best: %f using %s\" % (grid_result_xgb.best_score_, grid_result_xgb.best_params_))\n",
    "\n",
    "#The below is for execution time - not important for us right now, so commented out\n",
    "# print(\"Execution time: \" + str((time.time() - start_time)) + ' ms')\n",
    "\n",
    "\n",
    "# INFO/CODE FROM TUTORIAL\n",
    "# learning_rate: step size shrinkage used to prevent overfitting. Range is [0,1]\n",
    "# max_depth: determines how deeply each tree is allowed to grow during any boosting round.\n",
    "# subsample: percentage of samples used per tree. Low value can lead to underfitting.\n",
    "# colsample_bytree: percentage of features used per tree. High value can lead to overfitting.\n",
    "# n_estimators: number of trees you want to build - the more trees you build, the longer the training will be.\n",
    "# objective: determines the loss function to be used like reg:squarederror for regression problems, reg:logistic for classification problems with only decision, binary:logistic for classification problems with probability.\n",
    "# XGBoost also supports regularization parameters to penalize models as they become more complex and reduce them to simple (parsimonious) models.\n",
    "\n",
    "# gamma: controls whether a given node will split based on the expected reduction in loss after the split. A higher value leads to fewer splits. Supported only for tree-based learners.\n",
    "# alpha: L1 regularization on leaf weights. A large value leads to more regularization.\n",
    "# lambda: L2 regularization on leaf weights and is smoother than L1 regularization.\n",
    "\n",
    "# xg_reg = xgb.XGBRegressor(objective ='reg:squarederror', colsample_bytree = 0.3, learning_rate = 0.1,\n",
    "#                 max_depth = 5, alpha = 10, n_estimators = 100)"
   ]
  },
  {
   "cell_type": "code",
   "execution_count": 81,
   "metadata": {},
   "outputs": [],
   "source": [
    "xgb_Peram_dict = grid_result_xgb.best_params_"
   ]
  },
  {
   "cell_type": "markdown",
   "metadata": {},
   "source": [
    "###2. Steps 2-4: Generate Test Data, Build the Models & Assess the Models for y2 (Sale)"
   ]
  },
  {
   "cell_type": "code",
   "execution_count": 82,
   "metadata": {},
   "outputs": [
    {
     "name": "stdout",
     "output_type": "stream",
     "text": [
      "XGBoost's RMSE for y2 is: 0.319671\n",
      "XGB target range is: 1.000000\n",
      "XGBoost's Error Ratio for y2 is: 0.319671\n"
     ]
    }
   ],
   "source": [
    "#Put Data into structure for XGBoost- for y2 (Sale) \n",
    "data_dmatrix = xgb.DMatrix(data=X,label=y)\n",
    "\n",
    "#Train the model using the training sets for y1\n",
    "#grid_xgb.fit(X_train[lasso_best], y_train)\n",
    "\n",
    "#Predict the response for test dataset for y1\n",
    "y_XGB_pred = grid_xgb.predict(X_test[best_features])\n",
    "\n",
    "#Calculate RMSE for y2\n",
    "rmse_XGB = np.sqrt(mean_squared_error(y_test, y_XGB_pred))\n",
    "print(\"XGBoost's RMSE for y2 is: %f\" % (rmse_XGB))\n",
    "\n",
    "#Create error ratio to evaluate results for y2\n",
    "target_range_XGB = y.max() - y.min()\n",
    "print(\"XGB target range is: %f\" % (target_range_XGB))\n",
    "error_ratio_XGB = rmse_XGB/target_range_XGB\n",
    "print(\"XGBoost's Error Ratio for y2 is: %f\" % (error_ratio_XGB))"
   ]
  },
  {
   "cell_type": "code",
   "execution_count": 83,
   "metadata": {},
   "outputs": [],
   "source": [
    "#ISSUE WITH THE ABOVE - HOW COME THE TARGET RANGE IS 1? DOES IT HAVE TO DO WITH 0/1 STATUS OF TARGET VARIABLE???"
   ]
  },
  {
   "cell_type": "code",
   "execution_count": 84,
   "metadata": {},
   "outputs": [
    {
     "name": "stdout",
     "output_type": "stream",
     "text": [
      "y Accuracy: 0.8978102189781022\n",
      "\n",
      "              precision    recall  f1-score   support\n",
      "\n",
      "           0       0.93      0.95      0.94      3158\n",
      "           1       0.67      0.58      0.62       541\n",
      "\n",
      "    accuracy                           0.90      3699\n",
      "   macro avg       0.80      0.77      0.78      3699\n",
      "weighted avg       0.89      0.90      0.89      3699\n",
      "\n"
     ]
    },
    {
     "data": {
      "image/png": "[encoded data removed]",
      "text/plain": [
       "<Figure size 432x288 with 1 Axes>"
      ]
     },
     "metadata": {},
     "output_type": "display_data"
    },
    {
     "name": "stdout",
     "output_type": "stream",
     "text": [
      "\n"
     ]
    },
    {
     "data": {
      "text/plain": [
       "Text(0.5, 257.44, 'Predicted label')"
      ]
     },
     "execution_count": 84,
     "metadata": {},
     "output_type": "execute_result"
    },
    {
     "data": {
      "image/png": "[encoded data removed]",
      "text/plain": [
       "<Figure size 432x288 with 2 Axes>"
      ]
     },
     "metadata": {},
     "output_type": "display_data"
    }
   ],
   "source": [
    "# Model Accuracy, how often is the classifier correct?\n",
    "# Accuracy for y2\n",
    "print(\"y Accuracy:\",metrics.accuracy_score(y_test, y_XGB_pred))\n",
    "print(\"\")\n",
    "\n",
    "\n",
    "#Can use classification report to assess model adequacy, too\n",
    "print(metrics.classification_report(y_test, y_XGB_pred, labels=class_names))\n",
    "\n",
    "#AUC for y1\n",
    "y_XGB_pred_proba = grid_xgb.predict_proba(X_test[best_features])[::,1]\n",
    "fpr_XGB, tpr_XGB, _ = metrics.roc_curve(y_test,  y_XGB_pred_proba)\n",
    "auc_XGB = metrics.roc_auc_score(y_test, y_XGB_pred_proba)\n",
    "plt.plot(fpr_XGB,tpr_XGB,label=\"auc=\"+str(auc_XGB))\n",
    "plt.legend(loc=4)\n",
    "plt.show()\n",
    "print(\"\")\n",
    "\n",
    "#Print Confusion Matrix\n",
    "cnf_matrix_XGB = metrics.confusion_matrix(y_test, y_XGB_pred)\n",
    "cnf_matrix_XGB\n",
    "class_names=[0,1] # name  of classes\n",
    "fig, ax = plt.subplots()\n",
    "tick_marks = np.arange(len(class_names))\n",
    "plt.xticks(tick_marks, class_names)\n",
    "plt.yticks(tick_marks, class_names)\n",
    "# create heatmap\n",
    "sns.heatmap(pd.DataFrame(cnf_matrix_XGB), annot=True, cmap=\"YlGnBu\" ,fmt='g')\n",
    "ax.xaxis.set_label_position(\"top\")\n",
    "plt.tight_layout()\n",
    "plt.title('Confusion matrix XGB', y=1.1)\n",
    "plt.ylabel('Actual label')\n",
    "plt.xlabel('Predicted label')"
   ]
  },
  {
   "cell_type": "markdown",
   "metadata": {},
   "source": [
    "### 3.6 Neural Network Model (NN)\n",
    ">   <b> Accuracy: </b> 89%\n",
    "<br><b> AUC: </b> 90%\n",
    "<br><b> Next Steps: </b> Additional parameter tuning"
   ]
  },
  {
   "cell_type": "code",
   "execution_count": 82,
   "metadata": {},
   "outputs": [],
   "source": [
    "# X_train, X_test, y1_Models_train, y1_Models_test, y2_Models_train, y2_Models_test\n",
    "\n",
    "\n",
    "###1. Step 1: Specify the Model\n",
    "# Import the model\n",
    "from sklearn.neural_network import MLPClassifier\n",
    "\n",
    "# Initializing the multilayer perceptron\n",
    "# mlp = MLPClassifier(hidden_layer_sizes = (3,1),solver='sgd',learning_rate_init= 0.01, max_iter=50)\n",
    "# mlp= MLPClassifier(activation='logistic', alpha=0.0001, batch_size='auto', beta_1=0.9, \n",
    "# beta_2=0.999, early_stopping=False, epsilon=1e-08,       \n",
    "# hidden_layer_sizes=(7,3), learning_rate='adaptive',      \n",
    "# learning_rate_init=0.01, max_iter=10, momentum=0.9,       \n",
    "# nesterovs_momentum=True, power_t=0.5, random_state=1000,       \n",
    "# shuffle=True, solver='adam', tol=0.0001, validation_fraction=0.1,       \n",
    "# verbose=False, warm_start=True)"
   ]
  },
  {
   "cell_type": "code",
   "execution_count": 83,
   "metadata": {},
   "outputs": [],
   "source": [
    "# nn_feature_selection = forward_selection(X_train, y_train, significance_level=0.05)\n",
    "nn_feature_selection = best_features"
   ]
  },
  {
   "cell_type": "code",
   "execution_count": 84,
   "metadata": {},
   "outputs": [
    {
     "name": "stdout",
     "output_type": "stream",
     "text": [
      "Best: 0.900359 using {'activation': 'relu', 'batch_size': 'auto', 'solver': 'adam'}\n"
     ]
    }
   ],
   "source": [
    "# PARAMETER OPTIMIZATION CODE USING GRID SEARCH: \n",
    "\n",
    "#Add in GridSearchCV\n",
    "from sklearn.model_selection import GridSearchCV\n",
    "mlp= MLPClassifier()\n",
    "\n",
    "#Define the grid\n",
    "activation=['identity','logistic', 'tanh', 'relu']\n",
    "batch_size=['auto',50,100]\n",
    "solver=['adam','lbfgs','sgd']\n",
    "param_grid = dict(activation=activation,batch_size=batch_size,solver=solver)\n",
    "\n",
    "#Run the grid search\n",
    "#import time\n",
    "\n",
    "grid_nn = GridSearchCV(estimator=mlp, param_grid=param_grid, cv = 5, n_jobs=-1)\n",
    "\n",
    "#start_time = time.time()\n",
    "grid_result_nn = grid_nn.fit(X_train[nn_feature_selection], y_train)\n",
    "# Summarize results\n",
    "print(\"Best: %f using %s\" % (grid_result_nn.best_score_, grid_result_nn.best_params_))\n",
    "\n",
    "#The below is for execution time - not important for us right now, so commented out\n",
    "# print(\"Execution time: \" + str((time.time() - start_time)) + ' ms'"
   ]
  },
  {
   "cell_type": "code",
   "execution_count": 85,
   "metadata": {},
   "outputs": [],
   "source": [
    "NN_Peram_dict_1 = grid_result_nn.best_params_"
   ]
  },
  {
   "cell_type": "code",
   "execution_count": 86,
   "metadata": {},
   "outputs": [
    {
     "name": "stdout",
     "output_type": "stream",
     "text": [
      "Best: 0.899780 using {'hidden_layer_sizes': 7, 'learning_rate': 'adaptive', 'random_state': 1000}\n"
     ]
    }
   ],
   "source": [
    "# PARAMETER OPTIMIZATION CODE USING GRID SEARCH: \n",
    "\n",
    "#Add in GridSearchCV\n",
    "from sklearn.model_selection import GridSearchCV\n",
    "mlp2 = MLPClassifier(**NN_Peram_dict_1)\n",
    "\n",
    "\n",
    "#Define the grid\n",
    "hidden_layer_sizes2=[2,3,4,5,6,7,10,2,[6,2],[5,3],[4,3],[4,2],[8,3],[7,3]]\n",
    "learning_rate2=['adaptive','constant','invscaling']      \n",
    "random_state2=[100,200,500,1000,2000,3000]\n",
    "param_grid2 = dict(hidden_layer_sizes=hidden_layer_sizes2,learning_rate=learning_rate2,random_state=random_state2)\n",
    "\n",
    "#Run the grid search\n",
    "\n",
    "grid_nn2 = GridSearchCV(estimator=mlp2, param_grid=param_grid2, cv = 3, n_jobs=-1)\n",
    "\n",
    "#start_time = time.time()\n",
    "grid_result_nn2 = grid_nn2.fit(X_train[nn_feature_selection], y_train)\n",
    "# Summarize results\n",
    "print(\"Best: %f using %s\" % (grid_result_nn2.best_score_, grid_result_nn2.best_params_))\n",
    "\n",
    "#The below is for execution time - not important for us right now, so commented out\n",
    "# print(\"Execution time: \" + str((time.time() - start_time)) + ' ms'"
   ]
  },
  {
   "cell_type": "code",
   "execution_count": 101,
   "metadata": {},
   "outputs": [],
   "source": [
    "NN_Peram_dict2 = grid_result_nn2.best_params_"
   ]
  },
  {
   "cell_type": "code",
   "execution_count": 88,
   "metadata": {},
   "outputs": [],
   "source": [
    "###2. Step 2: Generate Test Data\n",
    "# Train the model\n",
    "#mlp.fit(X_train[nn_feature_selection], y_train)"
   ]
  },
  {
   "cell_type": "code",
   "execution_count": 89,
   "metadata": {},
   "outputs": [],
   "source": [
    "###3. Step 3: Build the Model\n",
    "y_pred_nn = grid_nn2.predict(X_test[nn_feature_selection])\n"
   ]
  },
  {
   "cell_type": "code",
   "execution_count": 90,
   "metadata": {},
   "outputs": [
    {
     "name": "stdout",
     "output_type": "stream",
     "text": [
      "MLP score is 0.8997026223303596\n",
      "Accuracy_nn: 0.8997026223303596\n",
      "[[3044  114]\n",
      " [ 257  284]]\n"
     ]
    },
    {
     "data": {
      "image/png": "[encoded data removed]",
      "text/plain": [
       "<Figure size 432x288 with 1 Axes>"
      ]
     },
     "metadata": {},
     "output_type": "display_data"
    },
    {
     "name": "stdout",
     "output_type": "stream",
     "text": [
      "              precision    recall  f1-score   support\n",
      "\n",
      "           0       0.92      0.96      0.94      3158\n",
      "           1       0.71      0.52      0.60       541\n",
      "\n",
      "    accuracy                           0.90      3699\n",
      "   macro avg       0.82      0.74      0.77      3699\n",
      "weighted avg       0.89      0.90      0.89      3699\n",
      "\n",
      "Accuracy_svc: 0.8997026223303596\n"
     ]
    },
    {
     "data": {
      "image/png": "[encoded data removed]",
      "text/plain": [
       "<Figure size 432x288 with 2 Axes>"
      ]
     },
     "metadata": {},
     "output_type": "display_data"
    }
   ],
   "source": [
    "###4. Step 4: Assess the Model\n",
    "# Score takes a feature matrix X_test and the expected target values y_test. \n",
    "# Predictions for X_test are compared with y_test\n",
    "\n",
    "print(\"MLP score is\",grid_nn2.score(X_test[nn_feature_selection],y_test))\n",
    "\n",
    "# Accuracy for y NN\n",
    "#print(\"y Accuracy NN:\",metrics.accuracy_score(y_test, y_XGB_pred))\n",
    "#print(\"\")\n",
    "\n",
    "###4. Step 4: Assess the Model\n",
    "print(\"Accuracy_nn:\",metrics.accuracy_score(y_test, y_pred_nn))\n",
    "cnf_matrix_nn = metrics.confusion_matrix(y_test, y_pred_nn)\n",
    "\n",
    "print(cnf_matrix_nn)\n",
    "\n",
    "# Plot AOC\n",
    "y_pred_proba_nn = grid_nn2.predict_proba(X_test[nn_feature_selection])[::,1]\n",
    "fpr_nn, tpr_nn, _ = metrics.roc_curve(y_test,  y_pred_proba_nn)\n",
    "auc_nn = metrics.roc_auc_score(y_test, y_pred_proba_nn)\n",
    "plt.plot(fpr_nn,tpr_nn,label=\"data 1, auc=\"+str(auc_nn))\n",
    "plt.legend(loc=4)\n",
    "plt.show()\n",
    "\n",
    "\n",
    "class_names_nn=[0,1] # name  of classes\n",
    "fig, ax = plt.subplots()\n",
    "tick_marks_nn = np.arange(len(class_names_nn))\n",
    "plt.xticks(tick_marks_nn, class_names_nn)\n",
    "plt.yticks(tick_marks_nn, class_names_nn)\n",
    "# create heatmap\n",
    "sns.heatmap(pd.DataFrame(cnf_matrix_nn), annot=True, cmap=\"YlGnBu\" ,fmt='g')\n",
    "ax.xaxis.set_label_position(\"top\")\n",
    "plt.tight_layout()\n",
    "plt.title('Confusion matrix NN', y=1.1)\n",
    "plt.ylabel('Actual label')\n",
    "plt.xlabel('Predicted label')\n",
    "\n",
    "print(classification_report(y_test, y_pred_nn))\n",
    "print(\"Accuracy_svc:\",metrics.accuracy_score(y_test, y_pred_nn))\n",
    "\n",
    "#Plot AOC\n",
    "# y_pred_proba_nn = mlp.predict_proba(X_test)[::,1]\n",
    "# fpr_nn, tpr_nn, _ = metrics.roc_curve(y_test,  y_pred_proba_nn)\n",
    "# auc_nn = metrics.roc_auc_score(y_test, y_pred_proba_nn)\n",
    "# plt.plot(fpr_nn,tpr_nn,label=\"data 1, auc=\"+str(auc_nn))\n",
    "# plt.legend(loc=4)\n",
    "# plt.show()"
   ]
  },
  {
   "cell_type": "markdown",
   "metadata": {},
   "source": [
    "### 3.7 Logistic Regression Model"
   ]
  },
  {
   "cell_type": "markdown",
   "metadata": {},
   "source": [
    ">   <b> Accuracy: </b> 89%\n",
    "<br><b> AUC: </b> 87%\n",
    "<br><b> Next Steps: </b> Additional parameter tuning\n"
   ]
  },
  {
   "cell_type": "code",
   "execution_count": 66,
   "metadata": {},
   "outputs": [],
   "source": [
    "#Build the model\n",
    "# import the class\n",
    "from sklearn.linear_model import LogisticRegression\n",
    "\n",
    "# instantiate the model (using the default parameters)"
   ]
  },
  {
   "cell_type": "code",
   "execution_count": 67,
   "metadata": {},
   "outputs": [
    {
     "name": "stdout",
     "output_type": "stream",
     "text": [
      "9 selected features\n",
      "['VisitorType', 'Holiday_Bin', 'Admin_per_Exit_skew', 'Bounce_Exit_Rate_Avg_skew', 'Exit_per_PageValues_skew', 'Informational_per_PageValues_skew', 'PageValues_Log_skew', 'ProductRelated_per_PageValues_skew', 'TotalDuration_per_PageValues_skew']\n"
     ]
    }
   ],
   "source": [
    "embeded_lr_selector = SelectFromModel(LogisticRegression(penalty=\"l2\"), max_features=10)\n",
    "embeded_lr_selector.fit(X_train, y_train)\n",
    "\n",
    "embeded_lr_support = embeded_lr_selector.get_support()\n",
    "embeded_lr_feature = X.loc[:,embeded_lr_support].columns.tolist()\n",
    "print(str(len(embeded_lr_feature)), 'selected features')\n",
    "print(embeded_lr_feature)"
   ]
  },
  {
   "cell_type": "code",
   "execution_count": 68,
   "metadata": {},
   "outputs": [
    {
     "name": "stdout",
     "output_type": "stream",
     "text": [
      "Best: 0.626808 using {'C': 1.5, 'dual': False, 'max_iter': 100, 'penalty': 'l1', 'solver': 'liblinear'}\n"
     ]
    }
   ],
   "source": [
    "# PARAMETER OPTIMIZATION CODE USING GRID SEARCH: \n",
    "\n",
    "#Add in GridSearchCV\n",
    "from sklearn.model_selection import GridSearchCV\n",
    "\n",
    "#Define the grid\n",
    "dual=[True,False]\n",
    "max_iter=[100,110,120,130,140]\n",
    "C=[1.0,1.5,2.0,2.5]\n",
    "solver=['newton-cg','lbfgs', 'liblinear', 'sag', 'saga']\n",
    "penalty=['l1', 'l2', 'elasticnet', 'none']\n",
    "param_grid = dict(dual=dual,max_iter=max_iter,C=C,solver=solver,penalty=penalty)\n",
    "\n",
    "#Run the grid search\n",
    "#import time\n",
    "\n",
    "lr = LogisticRegression()\n",
    "grid_lr = GridSearchCV(estimator=lr, param_grid=param_grid, cv = 10, n_jobs=-1, scoring='f1')\n",
    "\n",
    "#start_time = time.time()\n",
    "grid_result_lr = grid_lr.fit(X_train[best_features], y_train)\n",
    "# Summarize results\n",
    "print(\"Best: %f using %s\" % (grid_result_lr.best_score_, grid_result_lr.best_params_))\n",
    "\n",
    "#The below is for execution time - not important for us right now, so commented out\n",
    "# print(\"Execution time: \" + str((time.time() - start_time)) + ' ms')"
   ]
  },
  {
   "cell_type": "code",
   "execution_count": 69,
   "metadata": {},
   "outputs": [],
   "source": [
    "lr_Peram_dict = grid_result_lr.best_params_"
   ]
  },
  {
   "cell_type": "code",
   "execution_count": 70,
   "metadata": {},
   "outputs": [],
   "source": [
    "\n",
    "# fit the model with data\n",
    "#logreg.fit(X_train[embeded_lr_feature],y_train)\n",
    "\n",
    "y_LR_pred=grid_lr.predict(X_test[best_features])"
   ]
  },
  {
   "cell_type": "code",
   "execution_count": 71,
   "metadata": {},
   "outputs": [
    {
     "data": {
      "text/plain": [
       "array([[2978,  180],\n",
       "       [ 217,  324]], dtype=int64)"
      ]
     },
     "execution_count": 71,
     "metadata": {},
     "output_type": "execute_result"
    }
   ],
   "source": [
    "# import the metrics class for the Confusion Matrix\n",
    "from sklearn import metrics\n",
    "cnf_matrix_LogR = metrics.confusion_matrix(y_test, y_LR_pred)\n",
    "cnf_matrix_LogR"
   ]
  },
  {
   "cell_type": "code",
   "execution_count": 72,
   "metadata": {},
   "outputs": [
    {
     "data": {
      "text/plain": [
       "Text(0.5, 257.44, 'Predicted label')"
      ]
     },
     "execution_count": 72,
     "metadata": {},
     "output_type": "execute_result"
    },
    {
     "data": {
      "image/png": "[encoded data removed]",
      "text/plain": [
       "<Figure size 432x288 with 2 Axes>"
      ]
     },
     "metadata": {},
     "output_type": "display_data"
    }
   ],
   "source": [
    "# Visualizing the Confusion Matrix\n",
    "\n",
    "class_names=[0,1] # name  of classes\n",
    "fig, ax = plt.subplots()\n",
    "tick_marks = np.arange(len(class_names))\n",
    "plt.xticks(tick_marks, class_names)\n",
    "plt.yticks(tick_marks, class_names)\n",
    "# create heatmap\n",
    "sns.heatmap(pd.DataFrame(cnf_matrix_LogR), annot=True, cmap=\"YlGnBu\" ,fmt='g')\n",
    "ax.xaxis.set_label_position(\"top\")\n",
    "plt.tight_layout()\n",
    "plt.title('Confusion matrix Log Reg', y=1.1)\n",
    "plt.ylabel('Actual label')\n",
    "plt.xlabel('Predicted label')"
   ]
  },
  {
   "cell_type": "code",
   "execution_count": 73,
   "metadata": {},
   "outputs": [
    {
     "data": {
      "image/png": "[encoded data removed]",
      "text/plain": [
       "<Figure size 432x288 with 1 Axes>"
      ]
     },
     "metadata": {},
     "output_type": "display_data"
    }
   ],
   "source": [
    "# ROC Curve\n",
    "y_LR_pred_proba = grid_lr.predict_proba(X_test[best_features])[::,1]\n",
    "fpr_LR, tpr_LR, _ = metrics.roc_curve(y_test,  y_LR_pred_proba)\n",
    "auc_LR = metrics.roc_auc_score(y_test, y_LR_pred_proba)\n",
    "plt.plot(fpr_LR,tpr_LR,label=\"data 1, auc=\"+str(auc_LR))\n",
    "plt.legend(loc=4)\n",
    "plt.show()"
   ]
  },
  {
   "cell_type": "code",
   "execution_count": 74,
   "metadata": {},
   "outputs": [
    {
     "name": "stdout",
     "output_type": "stream",
     "text": [
      "              precision    recall  f1-score   support\n",
      "\n",
      "           0       0.93      0.94      0.94      3158\n",
      "           1       0.64      0.60      0.62       541\n",
      "\n",
      "    accuracy                           0.89      3699\n",
      "   macro avg       0.79      0.77      0.78      3699\n",
      "weighted avg       0.89      0.89      0.89      3699\n",
      "\n"
     ]
    }
   ],
   "source": [
    "print(metrics.classification_report(y_test, y_LR_pred))"
   ]
  },
  {
   "cell_type": "code",
   "execution_count": null,
   "metadata": {},
   "outputs": [],
   "source": []
  },
  {
   "cell_type": "markdown",
   "metadata": {},
   "source": [
    "# 4. Evaluate all the methods and compare using ensemble ranking  <a name=\"part4.4\"></a>"
   ]
  },
  {
   "cell_type": "code",
   "execution_count": 102,
   "metadata": {},
   "outputs": [],
   "source": [
    "DT_Optimized = DecisionTreeClassifier(**dt_Peram_dict)\n",
    "RF_Optimized = RandomForestClassifier(**rfc_Peram_dict)\n",
    "SVM_Optimized = svm.SVC(**svc_Peram_dict)\n",
    "XGB_Optimized = xgb.XGBClassifier(**xgb_Peram_dict)\n",
    "GNB_Optimized = GaussianNB()\n",
    "LR_Optimized = LogisticRegression(**lr_Peram_dict)\n",
    "NN_Optimized = MLPClassifier(**NN_Peram_dict2)"
   ]
  },
  {
   "cell_type": "code",
   "execution_count": 103,
   "metadata": {},
   "outputs": [
    {
     "name": "stdout",
     "output_type": "stream",
     "text": [
      ">lr 0.893 (0.016)\n",
      ">xgb 0.905 (0.013)\n",
      ">tree 0.884 (0.017)\n",
      ">svm 0.901 (0.015)\n",
      ">nn 0.895 (0.015)\n",
      ">bayes 0.882 (0.014)\n",
      ">rforest 0.899 (0.013)\n"
     ]
    },
    {
     "data": {
      "image/png": "[encoded data removed]",
      "text/plain": [
       "<Figure size 432x288 with 1 Axes>"
      ]
     },
     "metadata": {},
     "output_type": "display_data"
    }
   ],
   "source": [
    "# compare standalone models for binary classification\n",
    "from numpy import mean\n",
    "from numpy import std\n",
    "from sklearn.datasets import make_classification\n",
    "from sklearn.model_selection import cross_val_score\n",
    "from sklearn.model_selection import RepeatedKFold\n",
    "from sklearn.linear_model import LogisticRegression\n",
    "from sklearn.neighbors import KNeighborsClassifier\n",
    "from sklearn.tree import DecisionTreeClassifier\n",
    "from sklearn.svm import SVC\n",
    "from sklearn.naive_bayes import GaussianNB\n",
    "from matplotlib import pyplot\n",
    "import xgboost as xgb\n",
    "\n",
    "\n",
    "# get a list of models to evaluate\n",
    "def get_models():\n",
    "    models = dict()\n",
    "    models['lr'] = LR_Optimized\n",
    "    models['xgb'] = XGB_Optimized\n",
    "    models['tree'] = DT_Optimized\n",
    "    models['svm'] = SVM_Optimized\n",
    "    models['nn'] = NN_Optimized\n",
    "    models['bayes'] = GNB_Optimized\n",
    "    models['rforest'] = RF_Optimized\n",
    "    return models\n",
    "\n",
    "# evaluate a given model using cross-validation\n",
    "def evaluate_model(model):\n",
    "    cv = RepeatedKFold(n_splits=10, n_repeats=5, random_state=500)\n",
    "    scores = cross_val_score(model, X, y, scoring='f1', cv=cv, n_jobs=-1, error_score='raise')\n",
    "    return scores\n",
    "\n",
    "# define dataset\n",
    "X, y = X_test,y_test\n",
    "# get the models to evaluate\n",
    "models = get_models()\n",
    "# evaluate the models and store results\n",
    "results, names = list(), list()\n",
    "for name, model in models.items():\n",
    "    scores = evaluate_model(model)\n",
    "    results.append(scores)\n",
    "    names.append(name)\n",
    "    print('>%s %.3f (%.3f)' % (name, mean(scores), std(scores)))\n",
    "# plot model performance for comparison\n",
    "pyplot.boxplot(results, labels=names, showmeans=True)\n",
    "pyplot.show()"
   ]
  },
  {
   "cell_type": "code",
   "execution_count": 104,
   "metadata": {},
   "outputs": [],
   "source": [
    "# get a stacking ensemble of models\n",
    "def get_stacking():\n",
    "# define the base models\n",
    "    level0 = list()\n",
    "    level0.append(('xgb', XGB_Optimized))\n",
    "    level0.append(('tree', DT_Optimized))\n",
    "    level0.append(('forest',RF_Optimized ))\n",
    "    level0.append(('lr', LR_Optimized))\n",
    "    level0.append(('svm', SVM_Optimized))\n",
    "    level0.append(('nn', NN_Optimized))\n",
    "    level0.append(('bayes', GNB_Optimized))\n",
    "# define meta learner model\n",
    "    level1 = XGB_Optimized\n",
    "# define the stacking ensemble\n",
    "    model = StackingClassifier(estimators=level0, final_estimator=level1, cv=5)\n",
    "    return model\n"
   ]
  },
  {
   "cell_type": "code",
   "execution_count": 105,
   "metadata": {},
   "outputs": [
    {
     "name": "stdout",
     "output_type": "stream",
     "text": [
      ">lr 0.893 (0.016)\n",
      ">xgb 0.905 (0.013)\n",
      ">tree 0.885 (0.018)\n",
      ">svm 0.901 (0.015)\n",
      ">nn 0.895 (0.015)\n",
      ">bayes 0.882 (0.014)\n",
      ">rforest 0.899 (0.013)\n",
      ">stacking 0.901 (0.015)\n"
     ]
    },
    {
     "data": {
      "image/png": "[encoded data removed]",
      "text/plain": [
       "<Figure size 432x288 with 1 Axes>"
      ]
     },
     "metadata": {},
     "output_type": "display_data"
    }
   ],
   "source": [
    "from sklearn.ensemble import StackingClassifier\n",
    "\n",
    "# get a list of models to evaluate\n",
    "def get_stacked_models():\n",
    "    models = dict()\n",
    "    models['lr'] = LR_Optimized\n",
    "    models['xgb'] = XGB_Optimized\n",
    "    models['tree'] = DT_Optimized\n",
    "    models['svm'] = SVM_Optimized\n",
    "    models['nn'] = NN_Optimized\n",
    "    models['bayes'] = GNB_Optimized\n",
    "    models['rforest'] = RF_Optimized\n",
    "    models['stacking'] = get_stacking()\n",
    "    return models\n",
    "\n",
    "\n",
    "# # evaluate stacked given model using cross-validation\n",
    "# def evaluate_stacked_model(model):\n",
    "# \tcv = RepeatedKFold(n_splits=10, n_repeats=5, random_state=1)\n",
    "# \tscores = cross_val_score(model, X, y, scoring='accuracy', cv=cv, n_jobs=-1, error_score='raise')\n",
    "# \treturn scores\n",
    "\n",
    "# define dataset\n",
    "X, y = X_test,y_test\n",
    "# get the models to evaluate\n",
    "models_stacked = get_stacked_models()\n",
    "# evaluate the models and store results\n",
    "results, names = list(), list()\n",
    "for name, model in models_stacked.items():\n",
    "    scores = evaluate_model(model)\n",
    "    results.append(scores)\n",
    "    names.append(name)\n",
    "    print('>%s %.3f (%.3f)' % (name, mean(scores), std(scores)))\n",
    "# plot model performance for comparison\n",
    "pyplot.boxplot(results, labels=names, showmeans=True)\n",
    "pyplot.show()"
   ]
  },
  {
   "cell_type": "markdown",
   "metadata": {},
   "source": [
    "# 5. Run and evaluate the Final models with over sampled data using SMOTE  <a name=\"part4.5\"></a>"
   ]
  },
  {
   "cell_type": "code",
   "execution_count": 106,
   "metadata": {},
   "outputs": [],
   "source": [
    "def get_column_index(df, query_cols):\n",
    "    cols = df.columns.values\n",
    "    sidx = np.argsort(cols)\n",
    "    return sidx[np.searchsorted(cols,query_cols,sorter=sidx)]"
   ]
  },
  {
   "cell_type": "code",
   "execution_count": 116,
   "metadata": {},
   "outputs": [
    {
     "data": {
      "text/plain": [
       "[0, 1, 2, 3, 4, 5, 6, 7, 8, 9]"
      ]
     },
     "execution_count": 116,
     "metadata": {},
     "output_type": "execute_result"
    }
   ],
   "source": [
    "categorical_features = get_column_index(X_train, Cat_feature_selection).tolist()\n",
    "categorical_features\n"
   ]
  },
  {
   "cell_type": "code",
   "execution_count": 117,
   "metadata": {},
   "outputs": [
    {
     "name": "stdout",
     "output_type": "stream",
     "text": [
      "Original dataset shape Counter({0: 7264, 1: 1367})\n",
      "Resampled dataset shape Counter({1: 7264, 0: 7264})\n"
     ]
    }
   ],
   "source": [
    "# Over sample the data using SMOTE\n",
    "\n",
    "from collections import Counter\n",
    "from sklearn.datasets import make_classification\n",
    "from imblearn.over_sampling import SMOTENC\n",
    "\n",
    "print('Original dataset shape %s' % Counter(y_train))\n",
    "smote = SMOTENC(random_state=100,sampling_strategy=\"minority\", categorical_features=categorical_features,n_jobs = 5) # is this for only x? categorical_features=[18, 19]\n",
    "SMOTE_X_train, SMOTE_y_train = smote.fit_resample(X_train, y_train) #DWM Note: Are we SURE on \"Models\" in last X_train, y2_train - per SMOTE doc from Tao\n",
    "print('Resampled dataset shape %s' % Counter(SMOTE_y_train))\n",
    "\n",
    "\n",
    "# imblearn.over_sampling.SMOTENC(categorical_features, sampling_strategy='auto', random_state=None, k_neighbors=5, n_jobs=1)\n",
    "# https://towardsdatascience.com/4-tips-for-advanced-feature-engineering-and-preprocessing-ec11575c09ea"
   ]
  },
  {
   "cell_type": "markdown",
   "metadata": {},
   "source": [
    "# 6. Run and evaluate the final models using TPOT  <a name=\"part4.6\"></a>"
   ]
  },
  {
   "cell_type": "code",
   "execution_count": 109,
   "metadata": {},
   "outputs": [
    {
     "data": {
      "application/vnd.jupyter.widget-view+json": {
       "model_id": "",
       "version_major": 2,
       "version_minor": 0
      },
      "text/plain": [
       "HBox(children=(FloatProgress(value=0.0, description='Optimization Progress', style=ProgressStyle(description_w…"
      ]
     },
     "metadata": {},
     "output_type": "display_data"
    },
    {
     "name": "stdout",
     "output_type": "stream",
     "text": [
      "Generation 1 - Current best internal CV score: 0.9024440402280998\n",
      "Generation 2 - Current best internal CV score: 0.9024440402280998\n",
      "Generation 3 - Current best internal CV score: 0.9037187307308571\n",
      "Generation 4 - Current best internal CV score: 0.9037187307308571\n",
      "Generation 5 - Current best internal CV score: 0.9037187307308571\n",
      "\n",
      "Best pipeline: XGBClassifier(input_matrix, learning_rate=0.1, max_depth=3, min_child_weight=8, n_estimators=100, nthread=1, subsample=0.8500000000000001)\n"
     ]
    },
    {
     "data": {
      "text/plain": [
       "TPOTClassifier(config_dict=None, crossover_rate=0.1, cv=5,\n",
       "               disable_update_check=False, early_stop=None, generations=5,\n",
       "               max_eval_time_mins=5, max_time_mins=30, memory=None,\n",
       "               mutation_rate=0.9, n_jobs=-1, offspring_size=None,\n",
       "               periodic_checkpoint_folder=None, population_size=100,\n",
       "               random_state=None, scoring=None, subsample=1.0, template=None,\n",
       "               use_dask=False, verbosity=2, warm_start=False)"
      ]
     },
     "execution_count": 109,
     "metadata": {},
     "output_type": "execute_result"
    }
   ],
   "source": [
    "from tpot import TPOTClassifier\n",
    "\n",
    "# from tpot import TPOTRegressor # for regression tasks\n",
    "\n",
    "tpot = TPOTClassifier(generations=5,verbosity=2, n_jobs=-1,max_time_mins=30, \n",
    "                      max_eval_time_mins=5,scoring=None)\n",
    "\n",
    "tpot.fit(X_train, y_train) # y_train"
   ]
  },
  {
   "cell_type": "code",
   "execution_count": 110,
   "metadata": {},
   "outputs": [
    {
     "data": {
      "text/plain": [
       "0.9053798323871317"
      ]
     },
     "execution_count": 110,
     "metadata": {},
     "output_type": "execute_result"
    }
   ],
   "source": [
    "tpot.score(X_test, y_test) # y_test"
   ]
  },
  {
   "cell_type": "code",
   "execution_count": null,
   "metadata": {},
   "outputs": [],
   "source": []
  }
 ],
 "metadata": {
  "kernelspec": {
   "display_name": "Python 3",
   "language": "python",
   "name": "python3"
  },
  "language_info": {
   "codemirror_mode": {
    "name": "ipython",
    "version": 3
   },
   "file_extension": ".py",
   "mimetype": "text/x-python",
   "name": "python",
   "nbconvert_exporter": "python",
   "pygments_lexer": "ipython3",
   "version": "3.7.0"
  }
 },
 "nbformat": 4,
 "nbformat_minor": 4
}
