{
 "cells": [
  {
   "cell_type": "markdown",
   "metadata": {},
   "source": [
    "# Machine Team 4 (Michael DiSanto, Dawn Massey & Brian Nicholls)\n",
    "### BA545: Data Mining - Competition #2 (Online Shoppers' Purchasing Intentions)\n",
    "#### Data Audit Report - Spring 2020\n"
   ]
  },
  {
   "cell_type": "markdown",
   "metadata": {},
   "source": [
    "<img src=\"https://i.ytimg.com/vi/CRKn-9gVNBw/maxresdefault.jpg\" width=60%/>\n",
    "\n",
    "Note: This work was completed using the CRISP-DM Framework shown above; accordingly, it will serve as an organizing framework for this report."
   ]
  },
  {
   "cell_type": "markdown",
   "metadata": {},
   "source": [
    "#### **Table of Contents:**\n",
    "\n",
    "0. [Part 0: Preparing for Analysis](#part0)\n",
    "1. [Part I: Business Issue Understanding](#part1)\n",
    "2. [Part II: Data Understanding & Exploratory Data Analysis (EDA)](#part2)\n",
    "3. [Part III: Data Preparation](#part3)\n",
    "\n",
    "#### **Note: Parts IV onward are for future work**\n",
    "4. [Part IV: Data Analysis/Modeling](#part4)\n",
    "5. [Part V: Validation](#part5)\n",
    "6. [Part VI: Presentation/Visualization](#part6)\n",
    "7. [Part VII: Sources](#part7)\n",
    "\n"
   ]
  },
  {
   "cell_type": "markdown",
   "metadata": {},
   "source": [
    "# Part 0: Preparing for Analysis  <a name=\"part0\"></a>\n",
    "#### Import the necesary packages for reading, analyzing, tidying, medeling, & evaluating the data"
   ]
  },
  {
   "cell_type": "code",
   "execution_count": 127,
   "metadata": {},
   "outputs": [],
   "source": [
    "# TO USE FOR ENTIRE TEAM\n",
    "# import pandas as pd\n",
    "# import numpy as np\n",
    "# from pandas_profiling import ProfileReport\n",
    "# import statsmodels.api as sm\n",
    "# from scipy import stats\n",
    "# %matplotlib inline\n",
    "# import matplotlib.pyplot as plt\n",
    "# import seaborn as sns\n",
    "# import plotly.express as px"
   ]
  },
  {
   "cell_type": "code",
   "execution_count": 128,
   "metadata": {},
   "outputs": [],
   "source": [
    "# TO USE FOR DWM ONLY\n",
    "import pandas as pd\n",
    "import numpy as np\n",
    "#from pandas_profiling import ProfileReport\n",
    "import statsmodels.api as sm\n",
    "from scipy import stats\n",
    "%matplotlib inline\n",
    "import matplotlib.pyplot as plt\n",
    "import seaborn as sns\n",
    "#import plotly.express as px"
   ]
  },
  {
   "cell_type": "code",
   "execution_count": 129,
   "metadata": {},
   "outputs": [],
   "source": [
    "# Processing the data\n",
    "\n",
    "from sklearn import preprocessing\n",
    "from sklearn.preprocessing import StandardScaler \n",
    "# scaler = StandardScaler().fit(X_train) >>> standardized_X = scaler.transform(X_train) >>> standardized_X_test = scaler.transform(X_test\n",
    "from sklearn.preprocessing import Normalizer\n",
    "# scaler = Normalizer().fit(X_train) >>> normalized_X = scaler.transform(X_train) >>> normalized_X_test = scaler.transform(X_test)\n",
    "from sklearn.preprocessing import Binarizer \n",
    "# binarizer = Binarizer(threshold=0.0).fit(X) >>> binary_X = binarizer.transform(X)\n",
    "\n",
    "# Encoding Categorical Features\n",
    "from sklearn.preprocessing import LabelEncoder\n",
    "from sklearn.preprocessing import OneHotEncoder\n",
    "# enc = LabelEncoder()\n",
    "# y = enc.fit_transform(y)\n",
    "from sklearn.impute import (SimpleImputer, KNNImputer, MissingIndicator)\n",
    "from sklearn.experimental import enable_iterative_imputer\n",
    "# imp = Imputer(missing_values=0, strategy='mean', axis=0) >>> imp.fit_transform(X_train)\n",
    "from sklearn.preprocessing import PolynomialFeatures \n",
    "# poly = PolynomialFeatures(5) >>> poly.fit_transform(X)\n",
    "\n",
    "from sklearn.model_selection import train_test_split\n",
    "# X_train, X_test, y_train, y_test = train_test_split(X,y,random_state=0)\n",
    "\n",
    "\n",
    "# Various Models\n",
    "from sklearn.cluster import KMeans\n",
    "# k_means = KMeans(n_clusters=3, random_state=0\n",
    "\n",
    "from sklearn.decomposition import PCA\n",
    "# pca = PCA(n_components=0.95)\n",
    "\n",
    "from sklearn.linear_model import LogisticRegression\n",
    "# logreg = LogisticRegression()\n",
    "from sklearn.linear_model import RidgeCV\n",
    "# rrm = RidgeCV(alphas=(0.01, 0.1, 1.0, 10.0), normalize=True)\n",
    "\n",
    "from sklearn.naive_bayes import GaussianNB\n",
    "# gnb = GaussianNB()\n",
    "from sklearn.svm import SVC \n",
    "# svc = SVC(kernel='linear')\n",
    "from sklearn.linear_model import LinearRegression\n",
    "# lr = LinearRegression(normalize=True)\n",
    "from sklearn import neighbors\n",
    "# knn = neighbors.KNeighborsClassifier(n_neighbors=5)\n",
    "\n",
    "## Fit the model\n",
    "# # Supervised learning\n",
    "# lr.fit(X, y)\n",
    "# knn.fit(X_train, y_train)\n",
    "# svc.fit(X_train, y_train)   \n",
    "\n",
    "# #Unsupervised Learning \n",
    "# k_means.fit(X_train) \n",
    "# pca_model = pca.fit_transform(X_train)\n",
    "\n",
    "## Predict Y\n",
    "# Supervised Estimators\n",
    "# y_pred = svc.predict(np.random.random((2,5))) \n",
    "# y_pred = lr.predict(X_test)\n",
    "# y_pred = knn.predict_proba(X_test)   \n",
    "# Unsupervised Estimators \n",
    "# y_pred = k_means.predict(X_test)\n",
    "\n",
    "\n",
    "# Packages to evaluate Model Performance (Classification)\n",
    "from sklearn import metrics\n",
    "from sklearn.metrics import confusion_matrix\n",
    "from sklearn.metrics import classification_report\n",
    "from sklearn.metrics import roc_auc_score\n",
    "from sklearn.metrics import accuracy_score\n",
    "from sklearn.metrics import precision_recall_fscore_support\n",
    "from sklearn.metrics import classification_report \n",
    "# print(classification_report(y_test_log, y_pred_log))\n",
    "\n",
    "# Packages to evaluate Model Performance (Linear)\n",
    "from sklearn.metrics import mean_absolute_error \n",
    "# y_true = [3, -0.5, 2] >>> mean_absolute_error(y_true, y_pred)\n",
    "from sklearn.metrics import mean_squared_error\n",
    "# mean_squared_error(y_test, y_pred)\n",
    "from sklearn.metrics import r2_score \n",
    "# r2_score(y_true, y_pred)\n",
    "\n",
    "#from sklearn.cross_validation import cross_val_score \n",
    "# print(cross_val_score(knn, X_train, y_train, cv=4)) >>> print(cross_val_score(lr, X, y, cv=2)\n",
    "\n",
    "\n",
    "from imblearn.over_sampling import SMOTE\n",
    "from imblearn.under_sampling import NearMiss "
   ]
  },
  {
   "cell_type": "code",
   "execution_count": 130,
   "metadata": {},
   "outputs": [],
   "source": [
    "df = pd.read_csv('online_shoppers_intention.csv', na_values=r'-')"
   ]
  },
  {
   "cell_type": "markdown",
   "metadata": {},
   "source": [
    "# Part I: Business Issue Understanding  <a name=\"part1\"></a>"
   ]
  },
  {
   "cell_type": "markdown",
   "metadata": {},
   "source": [
    "## A. Research Question:\n",
    "Overall, this project's research question is: *What drives potential customers to make purchases?*\n",
    "\n",
    "## B. Scope of Work:\n",
    "This project is a classification project in which the members of Machine Team 4 (Michael DiSanto, Dawn Massey and Brian Nicholls) will use the data feature, Revenue, as the target feature when predicing whether a consumer made a purchase and, thus, is part of Class 1 (i.e., if Revenue > 0) or, instead, whether the consumer did not make a purchase and, thus, is part of Class 0 (i.e., if Revenue <= 0). \n",
    "\n",
    "Using the 10 numerical (continous) and 8 categorical features in the given dataset, members of the team we will utilize advanced and novel methods in preparing the data to design and implement a model for the client that will predict whether a site visitors will make a purchase. The model will be evaluated on the basis of its prediction accuracy and its predictive power. \n",
    "\n",
    "Deliverable due dates are as follows:\n",
    "*     Data Audit Report due Tuesday, March 31, 2020\n",
    "*     Initial Data Model due Tuesday, April 14, 2020\n",
    "*     Final Presentation and Report due Tuesday, April 28, 2020\n",
    "\n",
    "## C. Business Understanding:\n",
    "Online shopping is an important revenue source for many retail businesses, such as our client. According to Sakar et al. (2019), desipte increases in e-commerce traffic in the recent past, \"conversion\" (of browsers to purchasers) has not increased proportionately. Indeed, the dataset includes 12,330 \"sessions,\" of which only 1908 (15.5%) resulted in conversion (Sakar et al. 2019, 6895). Thus, it is very important for retail companies, such as our client, to better understand - in real time - the cues that drive conversion. Complicating the process is that unlike \"brick and mortar\" stores where shoppers can interact with salespeople who, in turn, can help to facilitate (or at least understand) customer conversion on the basis of their interaction, online retail businesses must *infer* customer behavior from other cues. But, what are those cues for our client? As part of determining whether a \"browser\" will become a \"purchaser,\" our client also might like to know about the cues suggesting the opposite behavior - i.e., abandoning the site or the shopping cart. Additionally, the client might like to know why customers purchasing competitors' products fail to visit their website. On the basis of our models, our client is interested in knowing what we might suggest doing (in real time) to increase conversion/reduce abandonment. Further our client might also like to know if we believe there are other factors that have not been captured in the dataset that might be helpful in better predicting conversion/abandonment in the future as well as figuring out how to attract to the client's websitem consumers who make purchases on competitors' websites.\n",
    "\n",
    "Past research has focused on: \n",
    "clickstream data\n",
    "session information\n",
    "session length in terms of the number of Web pages visited in a session\n",
    "session duration in seconds\n",
    "average time per page in seconds\n",
    "traffic type (representing the page that referred the user to a particular (bookstore) site\n",
    "three binary variables representing a set of key perations related to the commercial intent\n",
    "a set of product categories viewed during the session \n",
    "sequential data/most frequently followed navigation paths\n",
    "(see Sakar et al. 2019, p. 6894, ff.)\n",
    "\n",
    "\n",
    "### _Reference:_\n",
    "Sakar, C., S. Polat, M. Katircioglu and Y. Kastro. 2019. Real-time predicgion of online shoppers' purchasing intention using multilayer perceptron and LSTM recurrent neural networks. *Neural Computing and Applications 31:* 6893-6908.\n"
   ]
  },
  {
   "cell_type": "markdown",
   "metadata": {},
   "source": [
    "# Part II: Data Understanding & Exploratory Data Analysis  <a name=\"part2\"></a>"
   ]
  },
  {
   "cell_type": "markdown",
   "metadata": {},
   "source": [
    "## A. Data Understanding\n",
    "Data Understanding includes providing an overview of the dataset, conducting exploratory data analysis, verifying data quality, and deciding how to address data quality issues.\n",
    "\n",
    "#### _1. Overview of Dataset_\n",
    "The dataset that has been gathered for purposes of this analysis contains 18 variables: Revenue, which is the Target Variable (where Revenue = TRUE if the customer visiting the website made a purchase - i.e., Class 1; and Revenue = FALSE if the customer visiting the website did not make a purchase - i.e., Class 0); and 17 predictor variables, including 10 continuous features and 7 categorical features, each of which are listed below and then delineated within our Data Dictionary.\n",
    "\n",
    "\n",
    "##### a. Continuous Features:\n",
    "*     Administrative: Number of pages visited by the visitor about account management  \n",
    "*     Administrative Duration: The total amount of time (in seconds) the visitor spent on account management-related pages\n",
    "*     Informational: Number of pages visited by the visitor about Web site and its communciation and address information \n",
    "*     Informational Duration: The total amount of time (in seconds) the visitor spent on informational pages\n",
    "*     Product Related: Number of pages visited by the visitor about product-related pages  \n",
    "*     Product Related Duration: The total amount of time (in seconds) the visitor spent on product-related pages  \n",
    "*     Bounce Rate: Average bounce rate value of the pages visited by the visitor\n",
    "*          (Note: a \"bounce\" occurs when a visitor enters the site from a particular page and then leaves the site (bounces) \n",
    "*          without any further activity.)\n",
    "*     Exit Rate: Average exit rate value of the pages visited by the visitor\n",
    "*     Page Value: Average page value of the pages visited by the visitor\n",
    "*     Special Day: Closeness of the visitor's visit to the site to a special day (e.g., Mother's Day, Valentine's Day)\n",
    "\n",
    "\n",
    "##### b. Categorical Features:\n",
    "*     OperatingSystems: Operating system of the visitor (8 possible operating systems)\n",
    "*     Browser: Browser of the visitor (13 possible browsers)\n",
    "*     Region: Geographic region from which the sesion has been started by the visitor (9 possible regions)\n",
    "*     TrafficType: Traffic source by which the visitor has arrived at the Web site - e.g., banner, SMS, direct (20 possible types)\n",
    "*     VisitorType: Visitor type as \"New Visitor,\" \"Returning Visitor,\" and \"Other\" (3 possible types)\n",
    "*     Weekend: Boolean value indicating whether the date of the visit is a weekend (2 possible values)\n",
    "*     Month: Month value for visit date (12 possible months)\n"
   ]
  },
  {
   "cell_type": "markdown",
   "metadata": {},
   "source": [
    "##### c. Data Dictionary:"
   ]
  },
  {
   "cell_type": "markdown",
   "metadata": {},
   "source": [
    "<table class=\"tg\">\n",
    "<tbody>\n",
    "</tr>\n",
    "<tr>\n",
    "<td class=\"tg-7btt\" style=\"text-align: center;\" colspan=\"4\"><strong>Data Dictionary</strong></td>\n",
    "</tr>\n",
    "<tr>\n",
    "<tr>\n",
    "<th class=\"tg-0pky\">Variable</th>\n",
    "<th class=\"tg-0pky\">Variable Name</th>\n",
    "<th class=\"tg-0pky\">Variable Definition</th>\n",
    "<th class=\"tg-fymr\">Data Type</th>\n",
    "</tr>\n",
    "<tr>\n",
    "<td class=\"tg-7btt\" style=\"text-align: center;\" colspan=\"4\"><strong>Web Page Analytics &ndash; Numerical</strong></td>\n",
    "</tr>\n",
    "<tr>\n",
    "<td class=\"tg-0pky\"><strong>Home Page</strong></td>\n",
    "<td class=\"tg-fymr\">Administrative</td>\n",
    "<td class=\"tg-fymr\">Number of pages visited by the visitor about account management.</td>\n",
    "<td class=\"tg-0pky\">Continuous/Float</td>\n",
    "</tr>\n",
    "<tr>\n",
    "<td class=\"tg-0pky\"><strong>Home Page Duration</strong></td>\n",
    "<td class=\"tg-fymr\">Administrative_Duration</td>\n",
    "<td class=\"tg-fymr\">The total amount of time (in seconds) the visitor spent on account management-related pages.</td>\n",
    "<td class=\"tg-0pky\">Continuous/Float</td>\n",
    "</tr>\n",
    "<tr>\n",
    "<td class=\"tg-0pky\"><strong>Inforation Page [About Us]</strong></td>\n",
    "<td class=\"tg-fymr\">Informational</td>\n",
    "<td class=\"tg-fymr\">Number of pages visited by the visitor about Web site and its communciation and address information.</td>\n",
    "<td class=\"tg-0pky\">Continuous/Float</td>\n",
    "</tr>\n",
    "<tr>\n",
    "<td class=\"tg-0pky\"><strong>Informational Duration</strong></td>\n",
    "<td class=\"tg-fymr\">Informational Duration</td>\n",
    "<td class=\"tg-fymr\">The total amount of time (in seconds) the visitor spent on informational pages.</td>\n",
    "<td class=\"tg-0pky\">Continuous/Float</td>\n",
    "</tr>\n",
    "<tr>\n",
    "<td class=\"tg-0pky\"><strong>Product Page</strong></td>\n",
    "<td class=\"tg-fymr\">ProductRelated</td>\n",
    "<td class=\"tg-fymr\">Number of pages visited by the visitor about product-related pages.</td>\n",
    "<td class=\"tg-0pky\">Continuous/Float</td>\n",
    "</tr>\n",
    "<tr>\n",
    "<td class=\"tg-0pky\"><strong>Product Related Duration</strong></td>\n",
    "<td class=\"tg-fymr\">ProductRelated_Duration</td>\n",
    "<td class=\"tg-fymr\">The total amount of time (in seconds) the visitor spent on product-related pages</td>\n",
    "<td class=\"tg-0pky\">Continuous/Float</td>\n",
    "</tr>\n",
    "<tr>\n",
    "<td class=\"tg-0pky\"><strong>Bounce Rate</strong></td>\n",
    "<td class=\"tg-fymr\">BounceRates</td>\n",
    "<td class=\"tg-fymr\">The percentage of single page visits (or web sessions). It is the percentage of visits in which a person leaves your website from the landing page without browsing any further.</td>\n",
    "<td class=\"tg-0pky\">Continuous/Float</td>\n",
    "</tr>\n",
    "<tr>\n",
    "<td class=\"tg-0pky\"><strong>Exit Rate</strong></td>\n",
    "<td class=\"tg-fymr\">ExitRates</td>\n",
    "<td class=\"tg-fymr\">For all pageviews to the page, Exit Rate is the percentage that were the last in the session</td>\n",
    "<td class=\"tg-0pky\">Continuous/Float</td>\n",
    "</tr>\n",
    "<tr>\n",
    "<td class=\"tg-0pky\"><strong>Page Value</strong></td>\n",
    "<td class=\"tg-fymr\">PageValues</td>\n",
    "<td class=\"tg-fymr\">the average value for a page that a user visited before landing on the goal page or completing an Ecommerce transaction (or both). This value is intended to give you an idea of which page in your site contributed more to your site's revenue.</td>\n",
    "<td class=\"tg-0pky\">Continuous/Float</td>\n",
    "</tr>\n",
    "<tr>\n",
    "<td class=\"tg-0pky\"><strong>Special Day</strong></td>\n",
    "<td class=\"tg-fymr\">SpecialDay</td>\n",
    "<td class=\"tg-fymr\">the closeness of the site visiting time to a specific special day (e.g. Mother’s Day, Valentine's Day) in which the sessions are more likely to be finalized with transaction.</td>\n",
    "<td class=\"tg-0pky\">Continuous/Float</td>\n",
    "</tr>\n",
    "<tr>\n",
    "<td class=\"tg-7btt\" style=\"text-align: center;\" colspan=\"4\"><strong>Web Page Analytics &ndash;Categorical</strong></td>\n",
    "</tr>\n",
    "<tr>\n",
    "<td class=\"tg-0pky\"><strong>Month</strong></td>\n",
    "<td class=\"tg-fymr\">Month</td>\n",
    "<td class=\"tg-fymr\">Month in which the visit took place</td>\n",
    "<td class=\"tg-0pky\">Categorical/Int</td>\n",
    "</tr>\n",
    "<tr>\n",
    "<td class=\"tg-0pky\"><strong>OperatingSystems</strong></td>\n",
    "<td class=\"tg-fymr\">OperatingSystems</td>\n",
    "<td class=\"tg-fymr\">Operating system of the computer in which the user used while viewing the site</td>\n",
    "<td class=\"tg-0pky\">Categorical/Int</td>\n",
    "</tr>\n",
    "<tr>\n",
    "<td class=\"tg-0pky\"><strong>Browser</strong></td>\n",
    "<td class=\"tg-fymr\">Browser</td>\n",
    "<td class=\"tg-fymr\">Browser in which the user used to view the site</td>\n",
    "<td class=\"tg-fymr\">Categorical/Int</td>\n",
    "</tr>\n",
    "<tr>\n",
    "<td class=\"tg-0pky\"><strong>Region</strong></td>\n",
    "<td class=\"tg-fymr\">Region</td>\n",
    "<td class=\"tg-fymr\">Region wher ethe user is located</td>\n",
    "<td class=\"tg-fymr\">Categorical/Int</td>\n",
    "</tr>\n",
    "<tr>\n",
    "<td class=\"tg-0pky\"><strong>TrafficType</strong></td>\n",
    "<td class=\"tg-fymr\">TrafficType</td>\n",
    "<td class=\"tg-fymr\">Traffic source by which the visitor has arrived at the Web site - e.g., banner, SMS, direct (20 possible types)</td>\n",
    "<td class=\"tg-fymr\">Categorical/Int</td>\n",
    "</tr>\n",
    "<tr>\n",
    "<td class=\"tg-0pky\"><strong>Visitor Type</strong></td>\n",
    "<td class=\"tg-fymr\">VisitorType</td>\n",
    "<td class=\"tg-fymr\">Is this a returing visitor or a new visitor</td>\n",
    "<td class=\"tg-fymr\">Binary/Boolean</td>\n",
    "</tr>\n",
    "<tr>\n",
    "<td class=\"tg-0pky\"><strong>Weekend</strong></td>\n",
    "<td class=\"tg-fymr\">Weekend</td>\n",
    "<td class=\"tg-fymr\">Did the visit happen on the weekend?</td>\n",
    "<td class=\"tg-fymr\">Binary/Boolean</td>\n",
    "</tr>\n",
    "<tr>\n",
    "<td class=\"tg-0pky\"><strong>Revenue</strong></td>\n",
    "<td class=\"tg-fymr\">Revenue</td>\n",
    "<td class=\"tg-fymr\">Did the visit result in Revenue?</td>\n",
    "<td class=\"tg-fymr\">Binary/Boolean</td>\n",
    "</tr>\n",
    "<tr>\n"
   ]
  },
  {
   "cell_type": "markdown",
   "metadata": {},
   "source": [
    "\n",
    "### B. Exploratory Data Analysis (EDA) &  Data Quality Verification (DQV)\n",
    "\n",
    "\n",
    "#### _1. Overview of Findings from EDA & DQV (per the below):_\n",
    "*     There are 12,330 observations with one target value and 17 features.\n",
    "*     There are no missing values; however, we did note the following:\n",
    "    ** There are no observations for January and April - which suggests the dataset does not include a full year's-worth of information, which may limit our ability to assess monthly trends/differences.\n",
    "    ** A few (85) observations were coded as \"other\" - meaning they were neither new nor returning customers; since \"new\" and \"returning\" customers are mutually exclusive, the observations coded as \"other\" appear to be erroneous.\n",
    "    ** 85% of the data come from Browser 1 (20%) or 2 (65%); hence, the data are not balanced with regard to browser\n",
    "    ** Approximately 90% of the data comes from days other than \"Special\" days\n",
    "    ** \n",
    "*     Bounce Rate and Exit Rate are highly correlated at 0.91; however, they also are highly correlated with the target variable (at -0.15 for Bounce Rate and at -0.25 for Exit Rate); hence, we are reluctant to remove either from our analysis. Rather, we will consider engineering a new feature that combines Bounce Rate with Exit Rate (e.g., via a linear combination of an average or weighted average of the features).\n",
    "*     Administrative Page and Exit Rates are also highly correlated at -0.43; however, they, too, are highly correlated with the target variable (at 0.62 for Adminstative Page and at -0.25 for Exit Rate); hence, we are reluctant to remove either from our analysis. Rather, we will consider engineering a new feature that combines Administative Page with Exit Rate (e.g., via a division of one feature by the other).\n",
    "*     Our data is imbalanced toward Revenue = False (i.e, Class 0, no purchases).\n",
    "\n"
   ]
  },
  {
   "cell_type": "markdown",
   "metadata": {},
   "source": [
    "#### _2. Descriptive Statistics:_"
   ]
  },
  {
   "cell_type": "code",
   "execution_count": 131,
   "metadata": {},
   "outputs": [
    {
     "data": {
      "text/html": [
       "<div>\n",
       "<style scoped>\n",
       "    .dataframe tbody tr th:only-of-type {\n",
       "        vertical-align: middle;\n",
       "    }\n",
       "\n",
       "    .dataframe tbody tr th {\n",
       "        vertical-align: top;\n",
       "    }\n",
       "\n",
       "    .dataframe thead th {\n",
       "        text-align: right;\n",
       "    }\n",
       "</style>\n",
       "<table border=\"1\" class=\"dataframe\">\n",
       "  <thead>\n",
       "    <tr style=\"text-align: right;\">\n",
       "      <th></th>\n",
       "      <th>Administrative</th>\n",
       "      <th>Administrative_Duration</th>\n",
       "      <th>Informational</th>\n",
       "      <th>Informational_Duration</th>\n",
       "      <th>ProductRelated</th>\n",
       "      <th>ProductRelated_Duration</th>\n",
       "      <th>BounceRates</th>\n",
       "      <th>ExitRates</th>\n",
       "      <th>PageValues</th>\n",
       "      <th>SpecialDay</th>\n",
       "      <th>Month</th>\n",
       "      <th>OperatingSystems</th>\n",
       "      <th>Browser</th>\n",
       "      <th>Region</th>\n",
       "      <th>TrafficType</th>\n",
       "      <th>VisitorType</th>\n",
       "      <th>Weekend</th>\n",
       "      <th>Revenue</th>\n",
       "    </tr>\n",
       "  </thead>\n",
       "  <tbody>\n",
       "    <tr>\n",
       "      <th>10476</th>\n",
       "      <td>0</td>\n",
       "      <td>0.000000</td>\n",
       "      <td>0</td>\n",
       "      <td>0.000000</td>\n",
       "      <td>1</td>\n",
       "      <td>0.000000</td>\n",
       "      <td>0.200000</td>\n",
       "      <td>0.200000</td>\n",
       "      <td>0.000000</td>\n",
       "      <td>0.0</td>\n",
       "      <td>Nov</td>\n",
       "      <td>1</td>\n",
       "      <td>8</td>\n",
       "      <td>3</td>\n",
       "      <td>1</td>\n",
       "      <td>Returning_Visitor</td>\n",
       "      <td>False</td>\n",
       "      <td>False</td>\n",
       "    </tr>\n",
       "    <tr>\n",
       "      <th>9615</th>\n",
       "      <td>1</td>\n",
       "      <td>0.000000</td>\n",
       "      <td>3</td>\n",
       "      <td>447.500000</td>\n",
       "      <td>27</td>\n",
       "      <td>1381.750000</td>\n",
       "      <td>0.006897</td>\n",
       "      <td>0.034483</td>\n",
       "      <td>0.000000</td>\n",
       "      <td>0.0</td>\n",
       "      <td>Nov</td>\n",
       "      <td>2</td>\n",
       "      <td>2</td>\n",
       "      <td>1</td>\n",
       "      <td>2</td>\n",
       "      <td>Returning_Visitor</td>\n",
       "      <td>True</td>\n",
       "      <td>False</td>\n",
       "    </tr>\n",
       "    <tr>\n",
       "      <th>2720</th>\n",
       "      <td>1</td>\n",
       "      <td>16.000000</td>\n",
       "      <td>0</td>\n",
       "      <td>0.000000</td>\n",
       "      <td>7</td>\n",
       "      <td>136.000000</td>\n",
       "      <td>0.000000</td>\n",
       "      <td>0.009524</td>\n",
       "      <td>0.000000</td>\n",
       "      <td>0.0</td>\n",
       "      <td>May</td>\n",
       "      <td>2</td>\n",
       "      <td>10</td>\n",
       "      <td>3</td>\n",
       "      <td>2</td>\n",
       "      <td>Returning_Visitor</td>\n",
       "      <td>False</td>\n",
       "      <td>False</td>\n",
       "    </tr>\n",
       "    <tr>\n",
       "      <th>502</th>\n",
       "      <td>18</td>\n",
       "      <td>280.950000</td>\n",
       "      <td>6</td>\n",
       "      <td>762.500000</td>\n",
       "      <td>79</td>\n",
       "      <td>2096.911364</td>\n",
       "      <td>0.003333</td>\n",
       "      <td>0.014009</td>\n",
       "      <td>25.967020</td>\n",
       "      <td>0.0</td>\n",
       "      <td>Mar</td>\n",
       "      <td>2</td>\n",
       "      <td>4</td>\n",
       "      <td>2</td>\n",
       "      <td>2</td>\n",
       "      <td>Returning_Visitor</td>\n",
       "      <td>False</td>\n",
       "      <td>False</td>\n",
       "    </tr>\n",
       "    <tr>\n",
       "      <th>11521</th>\n",
       "      <td>0</td>\n",
       "      <td>0.000000</td>\n",
       "      <td>0</td>\n",
       "      <td>0.000000</td>\n",
       "      <td>7</td>\n",
       "      <td>66.500000</td>\n",
       "      <td>0.057143</td>\n",
       "      <td>0.114286</td>\n",
       "      <td>0.000000</td>\n",
       "      <td>0.0</td>\n",
       "      <td>Nov</td>\n",
       "      <td>2</td>\n",
       "      <td>2</td>\n",
       "      <td>3</td>\n",
       "      <td>13</td>\n",
       "      <td>Returning_Visitor</td>\n",
       "      <td>False</td>\n",
       "      <td>False</td>\n",
       "    </tr>\n",
       "    <tr>\n",
       "      <th>4123</th>\n",
       "      <td>0</td>\n",
       "      <td>0.000000</td>\n",
       "      <td>0</td>\n",
       "      <td>0.000000</td>\n",
       "      <td>4</td>\n",
       "      <td>87.500000</td>\n",
       "      <td>0.000000</td>\n",
       "      <td>0.050000</td>\n",
       "      <td>0.000000</td>\n",
       "      <td>0.0</td>\n",
       "      <td>May</td>\n",
       "      <td>2</td>\n",
       "      <td>2</td>\n",
       "      <td>4</td>\n",
       "      <td>3</td>\n",
       "      <td>Returning_Visitor</td>\n",
       "      <td>False</td>\n",
       "      <td>False</td>\n",
       "    </tr>\n",
       "    <tr>\n",
       "      <th>8993</th>\n",
       "      <td>9</td>\n",
       "      <td>227.600000</td>\n",
       "      <td>0</td>\n",
       "      <td>0.000000</td>\n",
       "      <td>54</td>\n",
       "      <td>1935.061310</td>\n",
       "      <td>0.006557</td>\n",
       "      <td>0.022222</td>\n",
       "      <td>42.197321</td>\n",
       "      <td>0.0</td>\n",
       "      <td>Dec</td>\n",
       "      <td>1</td>\n",
       "      <td>2</td>\n",
       "      <td>1</td>\n",
       "      <td>2</td>\n",
       "      <td>Returning_Visitor</td>\n",
       "      <td>False</td>\n",
       "      <td>True</td>\n",
       "    </tr>\n",
       "    <tr>\n",
       "      <th>9014</th>\n",
       "      <td>3</td>\n",
       "      <td>89.000000</td>\n",
       "      <td>0</td>\n",
       "      <td>0.000000</td>\n",
       "      <td>26</td>\n",
       "      <td>655.535714</td>\n",
       "      <td>0.000000</td>\n",
       "      <td>0.037500</td>\n",
       "      <td>0.000000</td>\n",
       "      <td>0.0</td>\n",
       "      <td>Nov</td>\n",
       "      <td>2</td>\n",
       "      <td>2</td>\n",
       "      <td>4</td>\n",
       "      <td>1</td>\n",
       "      <td>Returning_Visitor</td>\n",
       "      <td>False</td>\n",
       "      <td>False</td>\n",
       "    </tr>\n",
       "    <tr>\n",
       "      <th>3588</th>\n",
       "      <td>1</td>\n",
       "      <td>9.000000</td>\n",
       "      <td>0</td>\n",
       "      <td>0.000000</td>\n",
       "      <td>12</td>\n",
       "      <td>764.750000</td>\n",
       "      <td>0.000000</td>\n",
       "      <td>0.023077</td>\n",
       "      <td>9.641077</td>\n",
       "      <td>0.4</td>\n",
       "      <td>May</td>\n",
       "      <td>2</td>\n",
       "      <td>2</td>\n",
       "      <td>8</td>\n",
       "      <td>2</td>\n",
       "      <td>New_Visitor</td>\n",
       "      <td>False</td>\n",
       "      <td>True</td>\n",
       "    </tr>\n",
       "    <tr>\n",
       "      <th>11068</th>\n",
       "      <td>13</td>\n",
       "      <td>296.041667</td>\n",
       "      <td>3</td>\n",
       "      <td>46.250000</td>\n",
       "      <td>52</td>\n",
       "      <td>1249.481746</td>\n",
       "      <td>0.036885</td>\n",
       "      <td>0.061461</td>\n",
       "      <td>0.000000</td>\n",
       "      <td>0.0</td>\n",
       "      <td>Dec</td>\n",
       "      <td>1</td>\n",
       "      <td>1</td>\n",
       "      <td>3</td>\n",
       "      <td>1</td>\n",
       "      <td>Returning_Visitor</td>\n",
       "      <td>False</td>\n",
       "      <td>False</td>\n",
       "    </tr>\n",
       "    <tr>\n",
       "      <th>1385</th>\n",
       "      <td>0</td>\n",
       "      <td>0.000000</td>\n",
       "      <td>1</td>\n",
       "      <td>255.000000</td>\n",
       "      <td>15</td>\n",
       "      <td>1418.250000</td>\n",
       "      <td>0.000000</td>\n",
       "      <td>0.006250</td>\n",
       "      <td>0.000000</td>\n",
       "      <td>0.0</td>\n",
       "      <td>Mar</td>\n",
       "      <td>2</td>\n",
       "      <td>2</td>\n",
       "      <td>3</td>\n",
       "      <td>1</td>\n",
       "      <td>Returning_Visitor</td>\n",
       "      <td>False</td>\n",
       "      <td>False</td>\n",
       "    </tr>\n",
       "    <tr>\n",
       "      <th>7772</th>\n",
       "      <td>0</td>\n",
       "      <td>0.000000</td>\n",
       "      <td>0</td>\n",
       "      <td>0.000000</td>\n",
       "      <td>42</td>\n",
       "      <td>602.883333</td>\n",
       "      <td>0.000000</td>\n",
       "      <td>0.004365</td>\n",
       "      <td>21.266325</td>\n",
       "      <td>0.0</td>\n",
       "      <td>Sep</td>\n",
       "      <td>6</td>\n",
       "      <td>2</td>\n",
       "      <td>3</td>\n",
       "      <td>1</td>\n",
       "      <td>Returning_Visitor</td>\n",
       "      <td>False</td>\n",
       "      <td>False</td>\n",
       "    </tr>\n",
       "    <tr>\n",
       "      <th>5759</th>\n",
       "      <td>6</td>\n",
       "      <td>144.833333</td>\n",
       "      <td>0</td>\n",
       "      <td>0.000000</td>\n",
       "      <td>23</td>\n",
       "      <td>1007.233333</td>\n",
       "      <td>0.000000</td>\n",
       "      <td>0.027586</td>\n",
       "      <td>19.570592</td>\n",
       "      <td>0.0</td>\n",
       "      <td>Oct</td>\n",
       "      <td>2</td>\n",
       "      <td>2</td>\n",
       "      <td>1</td>\n",
       "      <td>2</td>\n",
       "      <td>Returning_Visitor</td>\n",
       "      <td>False</td>\n",
       "      <td>False</td>\n",
       "    </tr>\n",
       "    <tr>\n",
       "      <th>11188</th>\n",
       "      <td>2</td>\n",
       "      <td>19.000000</td>\n",
       "      <td>0</td>\n",
       "      <td>0.000000</td>\n",
       "      <td>28</td>\n",
       "      <td>1183.650000</td>\n",
       "      <td>0.000000</td>\n",
       "      <td>0.006897</td>\n",
       "      <td>21.211265</td>\n",
       "      <td>0.0</td>\n",
       "      <td>Dec</td>\n",
       "      <td>3</td>\n",
       "      <td>12</td>\n",
       "      <td>9</td>\n",
       "      <td>2</td>\n",
       "      <td>Returning_Visitor</td>\n",
       "      <td>False</td>\n",
       "      <td>True</td>\n",
       "    </tr>\n",
       "    <tr>\n",
       "      <th>8906</th>\n",
       "      <td>5</td>\n",
       "      <td>286.464286</td>\n",
       "      <td>1</td>\n",
       "      <td>29.500000</td>\n",
       "      <td>64</td>\n",
       "      <td>2058.604545</td>\n",
       "      <td>0.008955</td>\n",
       "      <td>0.009550</td>\n",
       "      <td>6.493910</td>\n",
       "      <td>0.0</td>\n",
       "      <td>Nov</td>\n",
       "      <td>3</td>\n",
       "      <td>2</td>\n",
       "      <td>3</td>\n",
       "      <td>10</td>\n",
       "      <td>Returning_Visitor</td>\n",
       "      <td>False</td>\n",
       "      <td>True</td>\n",
       "    </tr>\n",
       "    <tr>\n",
       "      <th>6772</th>\n",
       "      <td>7</td>\n",
       "      <td>123.433333</td>\n",
       "      <td>0</td>\n",
       "      <td>0.000000</td>\n",
       "      <td>7</td>\n",
       "      <td>132.883333</td>\n",
       "      <td>0.000000</td>\n",
       "      <td>0.006061</td>\n",
       "      <td>0.000000</td>\n",
       "      <td>0.0</td>\n",
       "      <td>Oct</td>\n",
       "      <td>1</td>\n",
       "      <td>1</td>\n",
       "      <td>3</td>\n",
       "      <td>2</td>\n",
       "      <td>New_Visitor</td>\n",
       "      <td>False</td>\n",
       "      <td>False</td>\n",
       "    </tr>\n",
       "    <tr>\n",
       "      <th>6265</th>\n",
       "      <td>1</td>\n",
       "      <td>29.200000</td>\n",
       "      <td>0</td>\n",
       "      <td>0.000000</td>\n",
       "      <td>13</td>\n",
       "      <td>199.284444</td>\n",
       "      <td>0.000000</td>\n",
       "      <td>0.000000</td>\n",
       "      <td>0.000000</td>\n",
       "      <td>0.0</td>\n",
       "      <td>Jul</td>\n",
       "      <td>1</td>\n",
       "      <td>1</td>\n",
       "      <td>1</td>\n",
       "      <td>4</td>\n",
       "      <td>Returning_Visitor</td>\n",
       "      <td>False</td>\n",
       "      <td>False</td>\n",
       "    </tr>\n",
       "    <tr>\n",
       "      <th>1835</th>\n",
       "      <td>3</td>\n",
       "      <td>31.600000</td>\n",
       "      <td>0</td>\n",
       "      <td>0.000000</td>\n",
       "      <td>17</td>\n",
       "      <td>372.800000</td>\n",
       "      <td>0.013333</td>\n",
       "      <td>0.026429</td>\n",
       "      <td>2.397600</td>\n",
       "      <td>0.0</td>\n",
       "      <td>Mar</td>\n",
       "      <td>3</td>\n",
       "      <td>2</td>\n",
       "      <td>7</td>\n",
       "      <td>1</td>\n",
       "      <td>Returning_Visitor</td>\n",
       "      <td>False</td>\n",
       "      <td>False</td>\n",
       "    </tr>\n",
       "    <tr>\n",
       "      <th>4311</th>\n",
       "      <td>0</td>\n",
       "      <td>0.000000</td>\n",
       "      <td>0</td>\n",
       "      <td>0.000000</td>\n",
       "      <td>3</td>\n",
       "      <td>23.000000</td>\n",
       "      <td>0.044444</td>\n",
       "      <td>0.111111</td>\n",
       "      <td>0.000000</td>\n",
       "      <td>0.8</td>\n",
       "      <td>May</td>\n",
       "      <td>2</td>\n",
       "      <td>2</td>\n",
       "      <td>6</td>\n",
       "      <td>1</td>\n",
       "      <td>Returning_Visitor</td>\n",
       "      <td>False</td>\n",
       "      <td>False</td>\n",
       "    </tr>\n",
       "    <tr>\n",
       "      <th>7471</th>\n",
       "      <td>4</td>\n",
       "      <td>282.100000</td>\n",
       "      <td>0</td>\n",
       "      <td>0.000000</td>\n",
       "      <td>7</td>\n",
       "      <td>107.600000</td>\n",
       "      <td>0.000000</td>\n",
       "      <td>0.011111</td>\n",
       "      <td>0.000000</td>\n",
       "      <td>0.0</td>\n",
       "      <td>Aug</td>\n",
       "      <td>1</td>\n",
       "      <td>1</td>\n",
       "      <td>2</td>\n",
       "      <td>5</td>\n",
       "      <td>New_Visitor</td>\n",
       "      <td>False</td>\n",
       "      <td>False</td>\n",
       "    </tr>\n",
       "    <tr>\n",
       "      <th>281</th>\n",
       "      <td>0</td>\n",
       "      <td>0.000000</td>\n",
       "      <td>0</td>\n",
       "      <td>0.000000</td>\n",
       "      <td>11</td>\n",
       "      <td>300.071429</td>\n",
       "      <td>0.000000</td>\n",
       "      <td>0.020000</td>\n",
       "      <td>53.989200</td>\n",
       "      <td>0.0</td>\n",
       "      <td>Mar</td>\n",
       "      <td>2</td>\n",
       "      <td>2</td>\n",
       "      <td>1</td>\n",
       "      <td>11</td>\n",
       "      <td>Returning_Visitor</td>\n",
       "      <td>True</td>\n",
       "      <td>True</td>\n",
       "    </tr>\n",
       "    <tr>\n",
       "      <th>3732</th>\n",
       "      <td>3</td>\n",
       "      <td>251.000000</td>\n",
       "      <td>2</td>\n",
       "      <td>104.000000</td>\n",
       "      <td>15</td>\n",
       "      <td>675.833333</td>\n",
       "      <td>0.000000</td>\n",
       "      <td>0.004167</td>\n",
       "      <td>0.000000</td>\n",
       "      <td>0.0</td>\n",
       "      <td>May</td>\n",
       "      <td>2</td>\n",
       "      <td>10</td>\n",
       "      <td>6</td>\n",
       "      <td>1</td>\n",
       "      <td>Returning_Visitor</td>\n",
       "      <td>False</td>\n",
       "      <td>False</td>\n",
       "    </tr>\n",
       "    <tr>\n",
       "      <th>3720</th>\n",
       "      <td>0</td>\n",
       "      <td>0.000000</td>\n",
       "      <td>0</td>\n",
       "      <td>0.000000</td>\n",
       "      <td>13</td>\n",
       "      <td>474.681818</td>\n",
       "      <td>0.015385</td>\n",
       "      <td>0.029231</td>\n",
       "      <td>0.000000</td>\n",
       "      <td>0.0</td>\n",
       "      <td>May</td>\n",
       "      <td>3</td>\n",
       "      <td>2</td>\n",
       "      <td>4</td>\n",
       "      <td>3</td>\n",
       "      <td>Returning_Visitor</td>\n",
       "      <td>False</td>\n",
       "      <td>False</td>\n",
       "    </tr>\n",
       "    <tr>\n",
       "      <th>2275</th>\n",
       "      <td>7</td>\n",
       "      <td>75.846154</td>\n",
       "      <td>4</td>\n",
       "      <td>246.333333</td>\n",
       "      <td>16</td>\n",
       "      <td>672.879487</td>\n",
       "      <td>0.021429</td>\n",
       "      <td>0.029028</td>\n",
       "      <td>0.000000</td>\n",
       "      <td>0.0</td>\n",
       "      <td>May</td>\n",
       "      <td>1</td>\n",
       "      <td>1</td>\n",
       "      <td>1</td>\n",
       "      <td>3</td>\n",
       "      <td>Returning_Visitor</td>\n",
       "      <td>False</td>\n",
       "      <td>False</td>\n",
       "    </tr>\n",
       "    <tr>\n",
       "      <th>9762</th>\n",
       "      <td>2</td>\n",
       "      <td>64.500000</td>\n",
       "      <td>0</td>\n",
       "      <td>0.000000</td>\n",
       "      <td>24</td>\n",
       "      <td>1151.136905</td>\n",
       "      <td>0.000000</td>\n",
       "      <td>0.018600</td>\n",
       "      <td>15.276558</td>\n",
       "      <td>0.0</td>\n",
       "      <td>Dec</td>\n",
       "      <td>2</td>\n",
       "      <td>2</td>\n",
       "      <td>3</td>\n",
       "      <td>2</td>\n",
       "      <td>Returning_Visitor</td>\n",
       "      <td>False</td>\n",
       "      <td>True</td>\n",
       "    </tr>\n",
       "    <tr>\n",
       "      <th>926</th>\n",
       "      <td>0</td>\n",
       "      <td>0.000000</td>\n",
       "      <td>0</td>\n",
       "      <td>0.000000</td>\n",
       "      <td>8</td>\n",
       "      <td>607.000000</td>\n",
       "      <td>0.037500</td>\n",
       "      <td>0.062500</td>\n",
       "      <td>0.000000</td>\n",
       "      <td>0.0</td>\n",
       "      <td>Mar</td>\n",
       "      <td>1</td>\n",
       "      <td>1</td>\n",
       "      <td>1</td>\n",
       "      <td>3</td>\n",
       "      <td>Returning_Visitor</td>\n",
       "      <td>False</td>\n",
       "      <td>False</td>\n",
       "    </tr>\n",
       "    <tr>\n",
       "      <th>10601</th>\n",
       "      <td>6</td>\n",
       "      <td>61.000000</td>\n",
       "      <td>0</td>\n",
       "      <td>0.000000</td>\n",
       "      <td>21</td>\n",
       "      <td>585.391667</td>\n",
       "      <td>0.000000</td>\n",
       "      <td>0.007692</td>\n",
       "      <td>0.000000</td>\n",
       "      <td>0.0</td>\n",
       "      <td>Dec</td>\n",
       "      <td>2</td>\n",
       "      <td>2</td>\n",
       "      <td>4</td>\n",
       "      <td>1</td>\n",
       "      <td>New_Visitor</td>\n",
       "      <td>False</td>\n",
       "      <td>True</td>\n",
       "    </tr>\n",
       "    <tr>\n",
       "      <th>4973</th>\n",
       "      <td>0</td>\n",
       "      <td>0.000000</td>\n",
       "      <td>0</td>\n",
       "      <td>0.000000</td>\n",
       "      <td>5</td>\n",
       "      <td>109.500000</td>\n",
       "      <td>0.080000</td>\n",
       "      <td>0.093333</td>\n",
       "      <td>0.000000</td>\n",
       "      <td>0.4</td>\n",
       "      <td>May</td>\n",
       "      <td>3</td>\n",
       "      <td>2</td>\n",
       "      <td>1</td>\n",
       "      <td>13</td>\n",
       "      <td>Returning_Visitor</td>\n",
       "      <td>False</td>\n",
       "      <td>False</td>\n",
       "    </tr>\n",
       "    <tr>\n",
       "      <th>189</th>\n",
       "      <td>3</td>\n",
       "      <td>47.000000</td>\n",
       "      <td>1</td>\n",
       "      <td>51.000000</td>\n",
       "      <td>68</td>\n",
       "      <td>3008.124108</td>\n",
       "      <td>0.007143</td>\n",
       "      <td>0.016728</td>\n",
       "      <td>46.530175</td>\n",
       "      <td>0.0</td>\n",
       "      <td>Mar</td>\n",
       "      <td>2</td>\n",
       "      <td>2</td>\n",
       "      <td>1</td>\n",
       "      <td>1</td>\n",
       "      <td>Returning_Visitor</td>\n",
       "      <td>False</td>\n",
       "      <td>False</td>\n",
       "    </tr>\n",
       "    <tr>\n",
       "      <th>6075</th>\n",
       "      <td>0</td>\n",
       "      <td>0.000000</td>\n",
       "      <td>0</td>\n",
       "      <td>0.000000</td>\n",
       "      <td>1</td>\n",
       "      <td>0.000000</td>\n",
       "      <td>0.200000</td>\n",
       "      <td>0.200000</td>\n",
       "      <td>0.000000</td>\n",
       "      <td>0.0</td>\n",
       "      <td>June</td>\n",
       "      <td>2</td>\n",
       "      <td>2</td>\n",
       "      <td>1</td>\n",
       "      <td>3</td>\n",
       "      <td>Returning_Visitor</td>\n",
       "      <td>False</td>\n",
       "      <td>False</td>\n",
       "    </tr>\n",
       "  </tbody>\n",
       "</table>\n",
       "</div>"
      ],
      "text/plain": [
       "       Administrative  Administrative_Duration  Informational  \\\n",
       "10476               0                 0.000000              0   \n",
       "9615                1                 0.000000              3   \n",
       "2720                1                16.000000              0   \n",
       "502                18               280.950000              6   \n",
       "11521               0                 0.000000              0   \n",
       "4123                0                 0.000000              0   \n",
       "8993                9               227.600000              0   \n",
       "9014                3                89.000000              0   \n",
       "3588                1                 9.000000              0   \n",
       "11068              13               296.041667              3   \n",
       "1385                0                 0.000000              1   \n",
       "7772                0                 0.000000              0   \n",
       "5759                6               144.833333              0   \n",
       "11188               2                19.000000              0   \n",
       "8906                5               286.464286              1   \n",
       "6772                7               123.433333              0   \n",
       "6265                1                29.200000              0   \n",
       "1835                3                31.600000              0   \n",
       "4311                0                 0.000000              0   \n",
       "7471                4               282.100000              0   \n",
       "281                 0                 0.000000              0   \n",
       "3732                3               251.000000              2   \n",
       "3720                0                 0.000000              0   \n",
       "2275                7                75.846154              4   \n",
       "9762                2                64.500000              0   \n",
       "926                 0                 0.000000              0   \n",
       "10601               6                61.000000              0   \n",
       "4973                0                 0.000000              0   \n",
       "189                 3                47.000000              1   \n",
       "6075                0                 0.000000              0   \n",
       "\n",
       "       Informational_Duration  ProductRelated  ProductRelated_Duration  \\\n",
       "10476                0.000000               1                 0.000000   \n",
       "9615               447.500000              27              1381.750000   \n",
       "2720                 0.000000               7               136.000000   \n",
       "502                762.500000              79              2096.911364   \n",
       "11521                0.000000               7                66.500000   \n",
       "4123                 0.000000               4                87.500000   \n",
       "8993                 0.000000              54              1935.061310   \n",
       "9014                 0.000000              26               655.535714   \n",
       "3588                 0.000000              12               764.750000   \n",
       "11068               46.250000              52              1249.481746   \n",
       "1385               255.000000              15              1418.250000   \n",
       "7772                 0.000000              42               602.883333   \n",
       "5759                 0.000000              23              1007.233333   \n",
       "11188                0.000000              28              1183.650000   \n",
       "8906                29.500000              64              2058.604545   \n",
       "6772                 0.000000               7               132.883333   \n",
       "6265                 0.000000              13               199.284444   \n",
       "1835                 0.000000              17               372.800000   \n",
       "4311                 0.000000               3                23.000000   \n",
       "7471                 0.000000               7               107.600000   \n",
       "281                  0.000000              11               300.071429   \n",
       "3732               104.000000              15               675.833333   \n",
       "3720                 0.000000              13               474.681818   \n",
       "2275               246.333333              16               672.879487   \n",
       "9762                 0.000000              24              1151.136905   \n",
       "926                  0.000000               8               607.000000   \n",
       "10601                0.000000              21               585.391667   \n",
       "4973                 0.000000               5               109.500000   \n",
       "189                 51.000000              68              3008.124108   \n",
       "6075                 0.000000               1                 0.000000   \n",
       "\n",
       "       BounceRates  ExitRates  PageValues  SpecialDay Month  OperatingSystems  \\\n",
       "10476     0.200000   0.200000    0.000000         0.0   Nov                 1   \n",
       "9615      0.006897   0.034483    0.000000         0.0   Nov                 2   \n",
       "2720      0.000000   0.009524    0.000000         0.0   May                 2   \n",
       "502       0.003333   0.014009   25.967020         0.0   Mar                 2   \n",
       "11521     0.057143   0.114286    0.000000         0.0   Nov                 2   \n",
       "4123      0.000000   0.050000    0.000000         0.0   May                 2   \n",
       "8993      0.006557   0.022222   42.197321         0.0   Dec                 1   \n",
       "9014      0.000000   0.037500    0.000000         0.0   Nov                 2   \n",
       "3588      0.000000   0.023077    9.641077         0.4   May                 2   \n",
       "11068     0.036885   0.061461    0.000000         0.0   Dec                 1   \n",
       "1385      0.000000   0.006250    0.000000         0.0   Mar                 2   \n",
       "7772      0.000000   0.004365   21.266325         0.0   Sep                 6   \n",
       "5759      0.000000   0.027586   19.570592         0.0   Oct                 2   \n",
       "11188     0.000000   0.006897   21.211265         0.0   Dec                 3   \n",
       "8906      0.008955   0.009550    6.493910         0.0   Nov                 3   \n",
       "6772      0.000000   0.006061    0.000000         0.0   Oct                 1   \n",
       "6265      0.000000   0.000000    0.000000         0.0   Jul                 1   \n",
       "1835      0.013333   0.026429    2.397600         0.0   Mar                 3   \n",
       "4311      0.044444   0.111111    0.000000         0.8   May                 2   \n",
       "7471      0.000000   0.011111    0.000000         0.0   Aug                 1   \n",
       "281       0.000000   0.020000   53.989200         0.0   Mar                 2   \n",
       "3732      0.000000   0.004167    0.000000         0.0   May                 2   \n",
       "3720      0.015385   0.029231    0.000000         0.0   May                 3   \n",
       "2275      0.021429   0.029028    0.000000         0.0   May                 1   \n",
       "9762      0.000000   0.018600   15.276558         0.0   Dec                 2   \n",
       "926       0.037500   0.062500    0.000000         0.0   Mar                 1   \n",
       "10601     0.000000   0.007692    0.000000         0.0   Dec                 2   \n",
       "4973      0.080000   0.093333    0.000000         0.4   May                 3   \n",
       "189       0.007143   0.016728   46.530175         0.0   Mar                 2   \n",
       "6075      0.200000   0.200000    0.000000         0.0  June                 2   \n",
       "\n",
       "       Browser  Region  TrafficType        VisitorType  Weekend  Revenue  \n",
       "10476        8       3            1  Returning_Visitor    False    False  \n",
       "9615         2       1            2  Returning_Visitor     True    False  \n",
       "2720        10       3            2  Returning_Visitor    False    False  \n",
       "502          4       2            2  Returning_Visitor    False    False  \n",
       "11521        2       3           13  Returning_Visitor    False    False  \n",
       "4123         2       4            3  Returning_Visitor    False    False  \n",
       "8993         2       1            2  Returning_Visitor    False     True  \n",
       "9014         2       4            1  Returning_Visitor    False    False  \n",
       "3588         2       8            2        New_Visitor    False     True  \n",
       "11068        1       3            1  Returning_Visitor    False    False  \n",
       "1385         2       3            1  Returning_Visitor    False    False  \n",
       "7772         2       3            1  Returning_Visitor    False    False  \n",
       "5759         2       1            2  Returning_Visitor    False    False  \n",
       "11188       12       9            2  Returning_Visitor    False     True  \n",
       "8906         2       3           10  Returning_Visitor    False     True  \n",
       "6772         1       3            2        New_Visitor    False    False  \n",
       "6265         1       1            4  Returning_Visitor    False    False  \n",
       "1835         2       7            1  Returning_Visitor    False    False  \n",
       "4311         2       6            1  Returning_Visitor    False    False  \n",
       "7471         1       2            5        New_Visitor    False    False  \n",
       "281          2       1           11  Returning_Visitor     True     True  \n",
       "3732        10       6            1  Returning_Visitor    False    False  \n",
       "3720         2       4            3  Returning_Visitor    False    False  \n",
       "2275         1       1            3  Returning_Visitor    False    False  \n",
       "9762         2       3            2  Returning_Visitor    False     True  \n",
       "926          1       1            3  Returning_Visitor    False    False  \n",
       "10601        2       4            1        New_Visitor    False     True  \n",
       "4973         2       1           13  Returning_Visitor    False    False  \n",
       "189          2       1            1  Returning_Visitor    False    False  \n",
       "6075         2       1            3  Returning_Visitor    False    False  "
      ]
     },
     "execution_count": 131,
     "metadata": {},
     "output_type": "execute_result"
    }
   ],
   "source": [
    "sample =df.sample(30)\n",
    "sample"
   ]
  },
  {
   "cell_type": "markdown",
   "metadata": {},
   "source": [
    "### Observations\n",
    "----------------------------------------------------------------------\n",
    "##### Initial import seems to accurate and complete in comparison to the data dictionary"
   ]
  },
  {
   "cell_type": "code",
   "execution_count": 132,
   "metadata": {},
   "outputs": [
    {
     "name": "stdout",
     "output_type": "stream",
     "text": [
      "<class 'pandas.core.frame.DataFrame'>\n",
      "RangeIndex: 12330 entries, 0 to 12329\n",
      "Data columns (total 18 columns):\n",
      "Administrative             12330 non-null int64\n",
      "Administrative_Duration    12330 non-null float64\n",
      "Informational              12330 non-null int64\n",
      "Informational_Duration     12330 non-null float64\n",
      "ProductRelated             12330 non-null int64\n",
      "ProductRelated_Duration    12330 non-null float64\n",
      "BounceRates                12330 non-null float64\n",
      "ExitRates                  12330 non-null float64\n",
      "PageValues                 12330 non-null float64\n",
      "SpecialDay                 12330 non-null float64\n",
      "Month                      12330 non-null object\n",
      "OperatingSystems           12330 non-null int64\n",
      "Browser                    12330 non-null int64\n",
      "Region                     12330 non-null int64\n",
      "TrafficType                12330 non-null int64\n",
      "VisitorType                12330 non-null object\n",
      "Weekend                    12330 non-null bool\n",
      "Revenue                    12330 non-null bool\n",
      "dtypes: bool(2), float64(7), int64(7), object(2)\n",
      "memory usage: 1.5+ MB\n"
     ]
    }
   ],
   "source": [
    "# More info on the dataframe\n",
    "df.info()"
   ]
  },
  {
   "cell_type": "markdown",
   "metadata": {},
   "source": [
    "### Observations\n",
    "----------------------------------------------------------------------\n",
    "##### There are no null columns on import and 12330 rows and 18 columns\n",
    "##### Month, VisitorType, Weekend, and Revenue are non-numberic attributes that may need adjustment later in the analysis."
   ]
  },
  {
   "cell_type": "code",
   "execution_count": 133,
   "metadata": {},
   "outputs": [
    {
     "data": {
      "text/html": [
       "<div>\n",
       "<style scoped>\n",
       "    .dataframe tbody tr th:only-of-type {\n",
       "        vertical-align: middle;\n",
       "    }\n",
       "\n",
       "    .dataframe tbody tr th {\n",
       "        vertical-align: top;\n",
       "    }\n",
       "\n",
       "    .dataframe thead th {\n",
       "        text-align: right;\n",
       "    }\n",
       "</style>\n",
       "<table border=\"1\" class=\"dataframe\">\n",
       "  <thead>\n",
       "    <tr style=\"text-align: right;\">\n",
       "      <th></th>\n",
       "      <th>Administrative</th>\n",
       "      <th>Administrative_Duration</th>\n",
       "      <th>Informational</th>\n",
       "      <th>Informational_Duration</th>\n",
       "      <th>ProductRelated</th>\n",
       "      <th>ProductRelated_Duration</th>\n",
       "      <th>BounceRates</th>\n",
       "      <th>ExitRates</th>\n",
       "      <th>PageValues</th>\n",
       "      <th>SpecialDay</th>\n",
       "      <th>OperatingSystems</th>\n",
       "      <th>Browser</th>\n",
       "      <th>Region</th>\n",
       "      <th>TrafficType</th>\n",
       "    </tr>\n",
       "  </thead>\n",
       "  <tbody>\n",
       "    <tr>\n",
       "      <th>count</th>\n",
       "      <td>12330.000000</td>\n",
       "      <td>12330.000000</td>\n",
       "      <td>12330.000000</td>\n",
       "      <td>12330.000000</td>\n",
       "      <td>12330.000000</td>\n",
       "      <td>12330.000000</td>\n",
       "      <td>12330.000000</td>\n",
       "      <td>12330.000000</td>\n",
       "      <td>12330.000000</td>\n",
       "      <td>12330.000000</td>\n",
       "      <td>12330.000000</td>\n",
       "      <td>12330.000000</td>\n",
       "      <td>12330.000000</td>\n",
       "      <td>12330.000000</td>\n",
       "    </tr>\n",
       "    <tr>\n",
       "      <th>mean</th>\n",
       "      <td>2.315166</td>\n",
       "      <td>80.818611</td>\n",
       "      <td>0.503569</td>\n",
       "      <td>34.472398</td>\n",
       "      <td>31.731468</td>\n",
       "      <td>1194.746220</td>\n",
       "      <td>0.022191</td>\n",
       "      <td>0.043073</td>\n",
       "      <td>5.889258</td>\n",
       "      <td>0.061427</td>\n",
       "      <td>2.124006</td>\n",
       "      <td>2.357097</td>\n",
       "      <td>3.147364</td>\n",
       "      <td>4.069586</td>\n",
       "    </tr>\n",
       "    <tr>\n",
       "      <th>std</th>\n",
       "      <td>3.321784</td>\n",
       "      <td>176.779107</td>\n",
       "      <td>1.270156</td>\n",
       "      <td>140.749294</td>\n",
       "      <td>44.475503</td>\n",
       "      <td>1913.669288</td>\n",
       "      <td>0.048488</td>\n",
       "      <td>0.048597</td>\n",
       "      <td>18.568437</td>\n",
       "      <td>0.198917</td>\n",
       "      <td>0.911325</td>\n",
       "      <td>1.717277</td>\n",
       "      <td>2.401591</td>\n",
       "      <td>4.025169</td>\n",
       "    </tr>\n",
       "    <tr>\n",
       "      <th>min</th>\n",
       "      <td>0.000000</td>\n",
       "      <td>0.000000</td>\n",
       "      <td>0.000000</td>\n",
       "      <td>0.000000</td>\n",
       "      <td>0.000000</td>\n",
       "      <td>0.000000</td>\n",
       "      <td>0.000000</td>\n",
       "      <td>0.000000</td>\n",
       "      <td>0.000000</td>\n",
       "      <td>0.000000</td>\n",
       "      <td>1.000000</td>\n",
       "      <td>1.000000</td>\n",
       "      <td>1.000000</td>\n",
       "      <td>1.000000</td>\n",
       "    </tr>\n",
       "    <tr>\n",
       "      <th>25%</th>\n",
       "      <td>0.000000</td>\n",
       "      <td>0.000000</td>\n",
       "      <td>0.000000</td>\n",
       "      <td>0.000000</td>\n",
       "      <td>7.000000</td>\n",
       "      <td>184.137500</td>\n",
       "      <td>0.000000</td>\n",
       "      <td>0.014286</td>\n",
       "      <td>0.000000</td>\n",
       "      <td>0.000000</td>\n",
       "      <td>2.000000</td>\n",
       "      <td>2.000000</td>\n",
       "      <td>1.000000</td>\n",
       "      <td>2.000000</td>\n",
       "    </tr>\n",
       "    <tr>\n",
       "      <th>50%</th>\n",
       "      <td>1.000000</td>\n",
       "      <td>7.500000</td>\n",
       "      <td>0.000000</td>\n",
       "      <td>0.000000</td>\n",
       "      <td>18.000000</td>\n",
       "      <td>598.936905</td>\n",
       "      <td>0.003112</td>\n",
       "      <td>0.025156</td>\n",
       "      <td>0.000000</td>\n",
       "      <td>0.000000</td>\n",
       "      <td>2.000000</td>\n",
       "      <td>2.000000</td>\n",
       "      <td>3.000000</td>\n",
       "      <td>2.000000</td>\n",
       "    </tr>\n",
       "    <tr>\n",
       "      <th>75%</th>\n",
       "      <td>4.000000</td>\n",
       "      <td>93.256250</td>\n",
       "      <td>0.000000</td>\n",
       "      <td>0.000000</td>\n",
       "      <td>38.000000</td>\n",
       "      <td>1464.157213</td>\n",
       "      <td>0.016813</td>\n",
       "      <td>0.050000</td>\n",
       "      <td>0.000000</td>\n",
       "      <td>0.000000</td>\n",
       "      <td>3.000000</td>\n",
       "      <td>2.000000</td>\n",
       "      <td>4.000000</td>\n",
       "      <td>4.000000</td>\n",
       "    </tr>\n",
       "    <tr>\n",
       "      <th>max</th>\n",
       "      <td>27.000000</td>\n",
       "      <td>3398.750000</td>\n",
       "      <td>24.000000</td>\n",
       "      <td>2549.375000</td>\n",
       "      <td>705.000000</td>\n",
       "      <td>63973.522230</td>\n",
       "      <td>0.200000</td>\n",
       "      <td>0.200000</td>\n",
       "      <td>361.763742</td>\n",
       "      <td>1.000000</td>\n",
       "      <td>8.000000</td>\n",
       "      <td>13.000000</td>\n",
       "      <td>9.000000</td>\n",
       "      <td>20.000000</td>\n",
       "    </tr>\n",
       "  </tbody>\n",
       "</table>\n",
       "</div>"
      ],
      "text/plain": [
       "       Administrative  Administrative_Duration  Informational  \\\n",
       "count    12330.000000             12330.000000   12330.000000   \n",
       "mean         2.315166                80.818611       0.503569   \n",
       "std          3.321784               176.779107       1.270156   \n",
       "min          0.000000                 0.000000       0.000000   \n",
       "25%          0.000000                 0.000000       0.000000   \n",
       "50%          1.000000                 7.500000       0.000000   \n",
       "75%          4.000000                93.256250       0.000000   \n",
       "max         27.000000              3398.750000      24.000000   \n",
       "\n",
       "       Informational_Duration  ProductRelated  ProductRelated_Duration  \\\n",
       "count            12330.000000    12330.000000             12330.000000   \n",
       "mean                34.472398       31.731468              1194.746220   \n",
       "std                140.749294       44.475503              1913.669288   \n",
       "min                  0.000000        0.000000                 0.000000   \n",
       "25%                  0.000000        7.000000               184.137500   \n",
       "50%                  0.000000       18.000000               598.936905   \n",
       "75%                  0.000000       38.000000              1464.157213   \n",
       "max               2549.375000      705.000000             63973.522230   \n",
       "\n",
       "        BounceRates     ExitRates    PageValues    SpecialDay  \\\n",
       "count  12330.000000  12330.000000  12330.000000  12330.000000   \n",
       "mean       0.022191      0.043073      5.889258      0.061427   \n",
       "std        0.048488      0.048597     18.568437      0.198917   \n",
       "min        0.000000      0.000000      0.000000      0.000000   \n",
       "25%        0.000000      0.014286      0.000000      0.000000   \n",
       "50%        0.003112      0.025156      0.000000      0.000000   \n",
       "75%        0.016813      0.050000      0.000000      0.000000   \n",
       "max        0.200000      0.200000    361.763742      1.000000   \n",
       "\n",
       "       OperatingSystems       Browser        Region   TrafficType  \n",
       "count      12330.000000  12330.000000  12330.000000  12330.000000  \n",
       "mean           2.124006      2.357097      3.147364      4.069586  \n",
       "std            0.911325      1.717277      2.401591      4.025169  \n",
       "min            1.000000      1.000000      1.000000      1.000000  \n",
       "25%            2.000000      2.000000      1.000000      2.000000  \n",
       "50%            2.000000      2.000000      3.000000      2.000000  \n",
       "75%            3.000000      2.000000      4.000000      4.000000  \n",
       "max            8.000000     13.000000      9.000000     20.000000  "
      ]
     },
     "execution_count": 133,
     "metadata": {},
     "output_type": "execute_result"
    }
   ],
   "source": [
    "# Inital description of the data\n",
    "df.describe()"
   ]
  },
  {
   "cell_type": "markdown",
   "metadata": {},
   "source": [
    "### Observations\n",
    "----------------------------------------------------------------------\n",
    "\n",
    "##### BounceRate, ExitRate, & SpecialDay are on a 0-1 scale, while the others nummerical attributies are on a differnt scale.\n",
    "##### SpecialDay, OperatingSystem, Browser, Region, TrafficType are all categorical attributes which could be futher analyzed using encoding."
   ]
  },
  {
   "cell_type": "markdown",
   "metadata": {},
   "source": [
    "#### _3. Correlation Analysis:_"
   ]
  },
  {
   "cell_type": "code",
   "execution_count": 134,
   "metadata": {},
   "outputs": [
    {
     "data": {
      "text/plain": [
       "<matplotlib.axes._subplots.AxesSubplot at 0x7f0c6e12b400>"
      ]
     },
     "execution_count": 134,
     "metadata": {},
     "output_type": "execute_result"
    },
    {
     "data": {
      "image/png": "[encoded data removed]",
      "text/plain": [
       "<Figure size 1440x648 with 2 Axes>"
      ]
     },
     "metadata": {
      "needs_background": "light"
     },
     "output_type": "display_data"
    }
   ],
   "source": [
    "# Correlation Heatmap for the dataframe\n",
    "spearman =df.corr(method ='spearman')\n",
    "plt.figure(figsize=(20,9))\n",
    "sns.heatmap(spearman, annot=True)"
   ]
  },
  {
   "cell_type": "code",
   "execution_count": 135,
   "metadata": {},
   "outputs": [
    {
     "ename": "TypeError",
     "evalue": "pairplot() got an unexpected keyword argument 'corner'",
     "output_type": "error",
     "traceback": [
      "\u001b[0;31m---------------------------------------------------------------------------\u001b[0m",
      "\u001b[0;31mTypeError\u001b[0m                                 Traceback (most recent call last)",
      "\u001b[0;32m<ipython-input-135-2bb1a17d51b2>\u001b[0m in \u001b[0;36m<module>\u001b[0;34m\u001b[0m\n\u001b[1;32m      1\u001b[0m \u001b[0mnumerical_list\u001b[0m\u001b[0;34m=\u001b[0m\u001b[0;34m[\u001b[0m\u001b[0;34m'Administrative'\u001b[0m\u001b[0;34m,\u001b[0m\u001b[0;34m'Administrative_Duration'\u001b[0m\u001b[0;34m,\u001b[0m\u001b[0;34m'Informational'\u001b[0m\u001b[0;34m,\u001b[0m\u001b[0;34m'Informational_Duration'\u001b[0m\u001b[0;34m,\u001b[0m\u001b[0;34m'ProductRelated'\u001b[0m\u001b[0;34m,\u001b[0m\u001b[0;34m'ProductRelated_Duration'\u001b[0m\u001b[0;34m,\u001b[0m\u001b[0;34m'BounceRates'\u001b[0m\u001b[0;34m,\u001b[0m\u001b[0;34m'ExitRates'\u001b[0m\u001b[0;34m,\u001b[0m\u001b[0;34m'PageValues'\u001b[0m\u001b[0;34m,\u001b[0m\u001b[0;34m'SpecialDay'\u001b[0m\u001b[0;34m,\u001b[0m\u001b[0;34m'OperatingSystems'\u001b[0m\u001b[0;34m,\u001b[0m\u001b[0;34m'Browser'\u001b[0m\u001b[0;34m,\u001b[0m\u001b[0;34m'Region'\u001b[0m\u001b[0;34m,\u001b[0m\u001b[0;34m'TrafficType'\u001b[0m\u001b[0;34m]\u001b[0m\u001b[0;34m\u001b[0m\u001b[0;34m\u001b[0m\u001b[0m\n\u001b[0;32m----> 2\u001b[0;31m \u001b[0msns\u001b[0m\u001b[0;34m.\u001b[0m\u001b[0mpairplot\u001b[0m\u001b[0;34m(\u001b[0m\u001b[0mdf\u001b[0m\u001b[0;34m[\u001b[0m\u001b[0mnumerical_list\u001b[0m\u001b[0;34m]\u001b[0m\u001b[0;34m,\u001b[0m\u001b[0mcorner\u001b[0m\u001b[0;34m=\u001b[0m\u001b[0;32mTrue\u001b[0m\u001b[0;34m)\u001b[0m\u001b[0;34m\u001b[0m\u001b[0;34m\u001b[0m\u001b[0m\n\u001b[0m",
      "\u001b[0;31mTypeError\u001b[0m: pairplot() got an unexpected keyword argument 'corner'"
     ]
    }
   ],
   "source": [
    "numerical_list=['Administrative','Administrative_Duration','Informational','Informational_Duration','ProductRelated','ProductRelated_Duration','BounceRates','ExitRates','PageValues','SpecialDay','OperatingSystems','Browser','Region','TrafficType']\n",
    "sns.pairplot(df[numerical_list],corner=True)"
   ]
  },
  {
   "cell_type": "markdown",
   "metadata": {},
   "source": [
    "### Observations\n",
    "----------------------------------------------------------------------\n",
    "\n",
    "##### We observed the following high correlations:\n",
    "    - The duration attributes may need to be assesed for elimination in the final model as each is very highly correlated with its corresponding non-duration attribute.\n",
    "    \n",
    "    - Administrative & ProductRelated have a correlation of 0.46; this merits further investigation and possible feature engineering.\n",
    "    - Administrative & ProductRelated_Duration have a correlation of 0.42; this merits further investigation and possible feature engineering.\n",
    "    - Administrative & ExitRates have a correlation of -0.43; this merits further investigation and possible feature engineering.\n",
    " \n",
    "    - Administrative_Duration & ExitRates have a correlation of -0.44; this merits further investigation and possible feature engineering.\n",
    "    - Administrative_Duration & ProductRelated have a correlation of 0.43; this merits further investigation and possible feature engineering.\n",
    "    - Administrative_Duration & ProductRelated_Duration have a correlation of 0.41; this merits further investigation and possible feature engineering. \n",
    "\n",
    "    - ProductRelated & ExitRates have a correlation of -0.52; this merits further investigation and possible feature engineering.\n",
    " \n",
    "    - ProductRelated_Duration & ExitRates have a correlation of -0.48; this merits further investigation and possible feature engineering.\n",
    "    \n",
    "    - BounceRate & ExitRates have a correlation of 0.6; this merits further investigation and possible feature engineering.\n",
    "\n",
    "    - ProductRelated & ExitRates have a correlation of -0.52; this merits further investigation and possible feature engineering.\n",
    "    \n",
    "    - PageValues & Revenue have a correlation of 0.63; As Revenue is the target we would expect PageValues to be a useful attribute in our model."
   ]
  },
  {
   "cell_type": "markdown",
   "metadata": {},
   "source": [
    "#### _4. Prelimiary EDA Visualizations:_"
   ]
  },
  {
   "cell_type": "code",
   "execution_count": null,
   "metadata": {},
   "outputs": [],
   "source": [
    "profile = ProfileReport(df)\n",
    "profile"
   ]
  },
  {
   "cell_type": "markdown",
   "metadata": {},
   "source": [
    "### Observations for Preliminary EDA/Visualizations:\n",
    "----------------------------------------------------------------------\n",
    "\n",
    "##### **Warnings – highlights:**\n",
    "    -High correlation between Exit Rates and BounceRates, which we noted in the correlation map.\n",
    "    -Dataset has 125 duplicate rows, which we decided to allow given that there are no unique identifiers that we could use to verify whether the apparently duplicate entries (~1% of the data) were bogus or legitimate.\n",
    "\n",
    "##### **Variables – highlights:**\n",
    "\n",
    "    - Administrative is a count between 0 and 27; it is right skewed (with ~66% of the dataset in 0, 1, 2)\n",
    "    - Administrative_duration captures time spent; it also is right skewed with almost 50% of the data being zero (which makes sense because almost 50% of the data in Administrative is zero)\n",
    "\n",
    "    - Informational is a count between 0 and 24; it is right skewed (with ~90% of the dataset in 0, 1, 2)\n",
    "    - Informational_duration captures time spent; it also is right skewed with over 80% of the data being zero (which makes sense because over 78% of the data in Informational is zero)\n",
    "\n",
    "    - ProductRelated is a count between 0 and 705; it is right skewed (however; only ~12% of the dataset is in 0, 1, 2)\n",
    "    - ProductRelated_duration captures time spent; it also is right skewed with almost 6% of the data being zero (which makes sense because only 12% of the data in ProductRelated is zero)\n",
    "\n",
    "    - BounceRate captures the percentage of visits in which a visitor exits the landing page without browsing any further. It is right skewed, with about 45% of the data being a value of 0. Given that those who “bounce” will certainly not buy, this attribute may well be an important variable in our model. (Note: ExitRate, which is highly correlated with BounceRate, also is likely to have a similar skewness, distribution and importance in predicting online shoppers’ purchasing behavior.)\n",
    "\n",
    "    - PageValues are dollar amounts – more or less – amounting to sales amounts, divided by page views. The variable is right skewed with approximately 78% of PageValues being zero; this makes sense because about 45% of customers “bounce” immediately, buying nothing, leaving another ~30% to browse without completing a purchase.\n",
    "\n",
    "    - SpecialDay is a binary variable with 0 for not near a holiday/special day and 1 for near a holiday/special day. The variable is right skewed with approximately 90% of the data being zero (i.e., transaction not occurring near a holiday/special day). This information suggests to us that we are dealing with a unique retail environment (i.e., most retailers experience increased activity at/during holiday times).\n",
    "\n",
    "    - Month – is the month of the year in which the transaction occurred. We first noted that the dataset is devoid of transactions in January and April. Thus, the dataset does not appear to contain a full year of information, which could impair our ability to complete the analysis in light of potential seasonality. The most popular months for online browsing/shopping are: May (27.3%), November (24.3%), March (15.5%) and December 14.0%). Low months include: June-October, perhaps because           folks are not browsing/shopping online during the warmer months.\n",
    "\n",
    "    - OperatingSystems – is a categorical variable and most of the data (~95%) is in one of three operating systems (2, 1, 3). \n",
    "\n",
    "    - Browser – is a categorical variable and most the data (~91%) come from three browsers (2, 1, 4).\n",
    "\n",
    "    - Region – is a categorical variable for the region from which the visitor came. The top four account for ~77% of the data (i.e., regions 1, 3, 4, 2).\n",
    "\n",
    "    - TrafficType – is a categorical variable to indicate how the visitor arrived at the website. The top three account for approximately 67% of the referrals (i.e., types 2, 1, 3).\n",
    "\n",
    "    - VisitorType – is a categorical variable. Most visitors (~86%) are return visitors. A few visitors have been classified as “Other”; however, they should not be so classified as the categories of “Returning_visitor” and “New_visitor” should capture all visitors (i.e., a visitor is either one or the other).\n",
    "\n",
    "    - Weekend – is a categorical variable to capture whether the visitor is visiting the site on a weekend. Approximately 77% of the visits took place during the week, which makes sense in light of the proportion of weekdays in a week (i.e., 5/7 = 71.4%).\n",
    "\n",
    "    - Revenue – is the target variable. It is a categorical variable. It is imbalanced – as approximately 85% of the visits resulted in “no sale” (i.e., only ~15% of the visits resulted in sales). As such, we will need to balance the data later.\n"
   ]
  },
  {
   "cell_type": "code",
   "execution_count": null,
   "metadata": {},
   "outputs": [],
   "source": [
    "# Add Box Plots to further Describe the Data\n",
    "# For Administrative\n",
    "df_p=df.iloc[:,0]\n",
    "df_p.plot.box()"
   ]
  },
  {
   "cell_type": "code",
   "execution_count": null,
   "metadata": {},
   "outputs": [],
   "source": [
    "# The group decided not to further consider the outliers above because the values are neither excessisvely extreme nor are they outside a reasonable range."
   ]
  },
  {
   "cell_type": "code",
   "execution_count": null,
   "metadata": {},
   "outputs": [],
   "source": [
    "# For Administrative_Duration\n",
    "df_p=df.iloc[:,1]\n",
    "df_p.plot.box()"
   ]
  },
  {
   "cell_type": "code",
   "execution_count": null,
   "metadata": {},
   "outputs": [],
   "source": [
    "# The group decided not to further consider the outliers because there is an extrordinary amount of them."
   ]
  },
  {
   "cell_type": "code",
   "execution_count": null,
   "metadata": {},
   "outputs": [],
   "source": [
    "# For Informational\n",
    "df_p=df.iloc[:,2]\n",
    "df_p.plot.box()"
   ]
  },
  {
   "cell_type": "code",
   "execution_count": null,
   "metadata": {},
   "outputs": [],
   "source": [
    "# The group decided not to further consider the outliers because the values are neither excessisvely extreme nor are they outside a reasonable range."
   ]
  },
  {
   "cell_type": "code",
   "execution_count": null,
   "metadata": {},
   "outputs": [],
   "source": [
    "# For Informational_Duration\n",
    "df_p=df.iloc[:,3]\n",
    "df_p.plot.box()"
   ]
  },
  {
   "cell_type": "code",
   "execution_count": null,
   "metadata": {},
   "outputs": [],
   "source": [
    "# The group decided not to further consider the outliers because there is an extrordinary amount of them."
   ]
  },
  {
   "cell_type": "code",
   "execution_count": null,
   "metadata": {},
   "outputs": [],
   "source": [
    "# For ProductRelated\n",
    "df_p=df.iloc[:,4]\n",
    "df_p.plot.box()"
   ]
  },
  {
   "cell_type": "code",
   "execution_count": null,
   "metadata": {},
   "outputs": [],
   "source": [
    "# The group decided not to further consider the outliers because there is an extrordinary amount of them."
   ]
  },
  {
   "cell_type": "code",
   "execution_count": null,
   "metadata": {},
   "outputs": [],
   "source": [
    "# For ProductRelated_Duration\n",
    "df_p=df.iloc[:,5]\n",
    "df_p.plot.box()"
   ]
  },
  {
   "cell_type": "code",
   "execution_count": null,
   "metadata": {},
   "outputs": [],
   "source": [
    "# The group decided not to further consider the outliers because there is an extrordinary amount of them."
   ]
  },
  {
   "cell_type": "code",
   "execution_count": null,
   "metadata": {},
   "outputs": [],
   "source": [
    "# For BounceRates\n",
    "df_p=df.iloc[:,6]\n",
    "df_p.plot.box()"
   ]
  },
  {
   "cell_type": "code",
   "execution_count": null,
   "metadata": {},
   "outputs": [],
   "source": [
    "# The group decided not to further consider the outliers because there is an extrordinary amount of them and the outlier values are not outside the range of 0-1."
   ]
  },
  {
   "cell_type": "code",
   "execution_count": null,
   "metadata": {},
   "outputs": [],
   "source": [
    "# For ExitRates\n",
    "df_p=df.iloc[:,7]\n",
    "df_p.plot.box()"
   ]
  },
  {
   "cell_type": "code",
   "execution_count": null,
   "metadata": {},
   "outputs": [],
   "source": [
    "# The group decided not to further consider the outliers because there is an extrordinary amount of them and the outlier values are not outside the range of 0-1."
   ]
  },
  {
   "cell_type": "code",
   "execution_count": null,
   "metadata": {},
   "outputs": [],
   "source": [
    "# For PageValues\n",
    "df_p=df.iloc[:,8]\n",
    "df_p.plot.box()"
   ]
  },
  {
   "cell_type": "code",
   "execution_count": null,
   "metadata": {},
   "outputs": [],
   "source": [
    "# The group decided not to further consider the outliers because there is an extrordinary amount of them\n",
    "# and even the most extreme value of $350+ is reasonable considering the definition of the attribute."
   ]
  },
  {
   "cell_type": "markdown",
   "metadata": {},
   "source": [
    "### C. Data Quality Improvment Strategies\n",
    "#### _1. Overview:_\n",
    "Given the noted missing/erroneous values we have formulated the following pipeline for understanding and preparing our data.\n",
    "\n",
    "We will complete the following pipeline step in the data understanding phase:\n",
    "\n",
    "        1. Imputation \n",
    "           - We will replace VisitorType \"Other\" with the mode \"Returning_Visitor\"\n",
    "\n",
    "We will complete the following pipeline steps in the data preparation phase:\n",
    "       \n",
    "       1. Feature Engineering\n",
    "           - Created 5 new variables (Admin_per_Exit; Bounce_Exit_Rate_Avg; Bounce_per_Exit_Rate; Total_Duration; Total_Duration_Avg)\n",
    "           - Binned 4 categorical variables to reduce the number of categories to five or fewer (Operating, Browser, Region and TrafficType) \n",
    "           - Encoded VisitorType, Month, Weekend, and Revenue using OneHot Encoding\n",
    "       \n",
    "       2. Outlier Detection\n",
    "           - IQR Outlier Detection: We use the IQR to adjust issues with two of the created variables (Admin_per_Exit)\n",
    "           \n",
    "       3. Normalization\n",
    "          - utilized quantile_transform method\n",
    "          - utilized PowerTransformer as a secondary method\n",
    "       \n",
    "       4. Standardization\n",
    "           a. Min-Max Scaler\n",
    "           b. Z-Score Standardization\n",
    "              - We initially omit this step due to using the Min-Max Scaler method\n",
    "           c. Standard Deviation Outlier\n",
    "              - We initially omit this step due to addressing outliers via IQR"
   ]
  },
  {
   "cell_type": "code",
   "execution_count": null,
   "metadata": {},
   "outputs": [],
   "source": [
    "# Pipeline - Imputation:\n",
    "\n",
    "## Replace the VisitorType 'Other' with the variable's mode, namely: 'Returning_Visitor'\n",
    "df['VisitorType'] = df['VisitorType'].replace('Other','Returning_Visitor')\n",
    "df.groupby('VisitorType').count()"
   ]
  },
  {
   "cell_type": "markdown",
   "metadata": {},
   "source": [
    "# Part III: Data Preparation  <a name=\"part3\"></a>"
   ]
  },
  {
   "cell_type": "markdown",
   "metadata": {},
   "source": [
    "### A. Overview\n",
    "Data Preparation includes preprocessing steps for selecting data (e.g., including feature engineering/binning) and cleaning data (e.g., recoding for any \"new\" features created; normalizing; handling outliers; dealing with skewness; standardizing; reviewing correlations to identify highly related/correlated features that s/b avoided in the analysis)."
   ]
  },
  {
   "cell_type": "markdown",
   "metadata": {},
   "source": [
    "## 1. Selecting Data\n",
    "    a. Feature Engineering"
   ]
  },
  {
   "cell_type": "code",
   "execution_count": null,
   "metadata": {},
   "outputs": [],
   "source": [
    "# Pipeline - Feature Engineering:\n",
    "# Created 5 new variables (Admin_per_Exit; Bounce_Exit_Rate_Avg; Bounce_per_Exit_Rate; Total_Duration; Total_Duration_Avg)\n",
    "\n",
    "\n",
    "#Create 'Admin_per_Exit' to enable us to retain two highly correlated variables (i.e., 'Administrative' and 'ExitRates') since both are highly correlated with the target\n",
    "df['Admin_per_Exit'] = df['Administrative'] / df['ExitRates']\n",
    "\n",
    "#Create 'Bounce_Exit_Rate_Avg' to enable us to retain two highly correlated variables (i.e., 'BounceRates' and 'ExitRates') since both are highly correlated with the target\n",
    "df['Bounce_Exit_Rate_Avg'] = (df['BounceRates'] + df['ExitRates'])/2\n",
    "\n",
    "#Create 'Bounce_per_Exit_Rate' to enable us to retain two highly correlated variables (i.e., 'BounceRates' and 'ExitRates') since both are highly correlated with the target\n",
    "df['Bounce_per_Exit_Rate'] = df['BounceRates'] / df['ExitRates']\n",
    "\n",
    "\n",
    "#Create 'Total_Duration' and 'Total_Duration_Avg' to enable us to assess total and average duration, respectively.\n",
    "df['Total_Duration'] = df['Administrative_Duration'] + df['Informational_Duration'] + df['ProductRelated_Duration']\n",
    "df['Total_Duration_Avg'] = (df['Total_Duration'])/3\n",
    "\n",
    "display(df[['Administrative', 'ExitRates', 'Admin_per_Exit', 'BounceRates', 'Bounce_Exit_Rate_Avg', 'Bounce_per_Exit_Rate',\\\n",
    "            'Administrative_Duration','Informational_Duration', 'ProductRelated_Duration', 'Total_Duration', 'Total_Duration_Avg']].sample(20))"
   ]
  },
  {
   "cell_type": "code",
   "execution_count": null,
   "metadata": {},
   "outputs": [],
   "source": [
    "df.info()"
   ]
  },
  {
   "cell_type": "code",
   "execution_count": null,
   "metadata": {},
   "outputs": [],
   "source": [
    "#Results indicate that create values created for Admin_per_Exit and Bounce_per_Exit_Rate have some missing values; further exploration\n",
    "df[['Admin_per_Exit', 'Bounce_per_Exit_Rate']].describe()"
   ]
  },
  {
   "cell_type": "code",
   "execution_count": null,
   "metadata": {},
   "outputs": [],
   "source": [
    "# In light of the above, Admin_per_Exit and Bpounce_per_Exit_Rate need imputation to address NaN and mising values."
   ]
  },
  {
   "cell_type": "markdown",
   "metadata": {},
   "source": [
    "    b. Binning"
   ]
  },
  {
   "cell_type": "code",
   "execution_count": null,
   "metadata": {},
   "outputs": [],
   "source": [
    "# Pipeline - Binning:\n",
    "\n",
    "##Reduce categories for Operating Systems to the top 3 plus \"other\"\n",
    "### Operating Systems – is a categorical variable and most of the data (~95%) is in one of three operating systems (2, 1, 3). \n",
    "def binning_operating_systems(B):\n",
    "    if (B <= 3):\n",
    "        return(B)\n",
    "    else:\n",
    "        return(4) # creating a category of 4 for all Operating Systems > 3\n",
    "\n",
    "df['OperatingSystems_Bin']=df['OperatingSystems'].apply(binning_operating_systems)   # Creating a new column in the df\n",
    "\n",
    "\n",
    "      \n",
    "##Reduce categories for Browser to the top 3 plus \"other\"\n",
    "### Browser – is a categorical variable and most the data (~91%) come from three browsers (2, 1, 4).\n",
    "def binning_browser(B):\n",
    "    if (B == 3) or (B > 4): \n",
    "        return(3) \n",
    "    else:\n",
    "        return(B) \n",
    "\n",
    "df['Browser_Bin']=df['Browser'].apply(binning_browser)   # Creating a new column in the df\n",
    "      \n",
    "\n",
    "      \n",
    "##Reduce categories for Region to the top 4 plus \"other\"\n",
    "### Region – is a categorical variable for region from which the visitor came. The top four account for ~77% of the data (i.e., region 1, 3, 4, 2).\n",
    "def binning_region(B):\n",
    "    if (B <= 4):\n",
    "        return(B)\n",
    "    else:\n",
    "        return(5) # creating a category of 5 for all Regions > 4\n",
    "\n",
    "df['Region_Bin']=df['Region'].apply(binning_region)   # Creating a new column in the df\n",
    "\n",
    "      \n",
    "      \n",
    "##Reduce categories for TrafficType to the top 3 plus \"other\"\n",
    "### TrafficType – is a categorical variable to indicate how visitor arrived at website. The top three account for approximately 67% of the referrals (i.e., types 2, 1, 3).\n",
    "def binning_traffic_type(B):\n",
    "    if (B <= 3):\n",
    "        return(B)\n",
    "    else:\n",
    "        return(4) # creating a category of 4 for all Traffic Types > 3\n",
    "\n",
    "df['TrafficType_Bin']=df['TrafficType'].apply(binning_traffic_type)   # Creating a new column in the df\n",
    "\n",
    "\n",
    "\n",
    "##Reduce months to the top 4 in which there are transactions and \"other\"\n",
    "### Months – is a boolean variable to the month of the internet visits. The top four months(May, November, March and December, respectively) account for almost  three account for approximately 80% of visits.\n",
    "def month_bin_func(month) :\n",
    "    if month == 'May':\n",
    "        return int(5)\n",
    "    elif month == 'Nov':\n",
    "        return int(11)\n",
    "    elif month == 'Mar':\n",
    "        return int(3)\n",
    "    elif month == 'Dec':\n",
    "        return int(12)\n",
    "    else:\n",
    "        return int(0)\n",
    "    \n",
    "df['Month_Bin'] = df['Month'].apply(month_bin_func)\n",
    "\n",
    "display(df[['OperatingSystems', 'OperatingSystems_Bin', 'TrafficType', 'TrafficType_Bin', 'Browser', 'Browser_Bin', 'Region', 'Region_Bin', 'Month', 'Month_Bin']].sample(20))\n"
   ]
  },
  {
   "cell_type": "markdown",
   "metadata": {},
   "source": [
    "    c. One Hot Encoding"
   ]
  },
  {
   "cell_type": "code",
   "execution_count": null,
   "metadata": {},
   "outputs": [],
   "source": [
    "# Pipeline - Encoding:\n",
    "oh_enc = OneHotEncoder(sparse=False) # initializing One-Hot Encoder Function\n",
    "\n",
    "## One-Hot for VisitorType to create new columns for 'Returning_Visitor' and 'New_Visitor'\n",
    "encoder_visitortype = df[['VisitorType']].values\n",
    "visitortype_encoded = encoder_visitortype.reshape(len(encoder_visitortype), 1)\n",
    "visitortype_onehot_encoded = oh_enc.fit_transform(visitortype_encoded)\n",
    "visitortype_onehot_df = pd.DataFrame(visitortype_onehot_encoded, columns = [\"Returning_Visitor\", \"New_Visitor\"])\n",
    "visitortype_onehot_df.head()\n",
    "\n",
    "## Creating list for newly-created columns for VisitorType\n",
    "visitor_list = visitortype_onehot_df.columns\n",
    "\n",
    "\n",
    "## One-Hot for Weekend to create new columns for 'Is_Weekend' and 'Not_Weekend'\n",
    "encoder_weekend = df[['Weekend']].values\n",
    "weekend_encoded = encoder_weekend.reshape(len(encoder_weekend), 1)\n",
    "weekend_onehot_encoded = oh_enc.fit_transform(weekend_encoded)\n",
    "weekend_onehot_df = pd.DataFrame(weekend_onehot_encoded, columns = [\"Not_Weekend\", \"Is_Weekend\"])\n",
    "weekend_onehot_df.head()\n",
    "\n",
    "## Creating list for newly-created columns for Weekend\n",
    "weekend_list = weekend_onehot_df.columns\n",
    "\n",
    "\n",
    "## One-Hot for Month to create new columns for \"Month_May\", \"Month_Nov\",\"Month_Mar\", \"Month_Dec\", \"Month_Other\"\n",
    "encoder_month = df[['Month_Bin']].values\n",
    "month_onehot_encoded = oh_enc.fit_transform(encoder_month)\n",
    "month_onehot_df = pd.DataFrame(month_onehot_encoded,  columns = [\"Month_May\", \"Month_Nov\",\"Month_Mar\", \"Month_Dec\", \"Month_Other\"])\n",
    "month_onehot_df.head()\n",
    "\n",
    "## Creating list for newly-created columns for Month\n",
    "month_list = month_onehot_df.columns\n",
    "df [month_list] = month_onehot_df.loc[:,month_list]\n",
    "df['VisitorType'] = df['VisitorType'].replace('Other','Returning_Visitor')\n",
    "\n",
    "\n",
    "## One-Hot Encoding for Y to separate into two new columns for 'Sale' and 'No_Sale'\n",
    "encoder_revenue = df[['Revenue']].values\n",
    "revenue_encoded = encoder_revenue.reshape(len(encoder_revenue), 1)\n",
    "revenue_onehot_encoded = oh_enc.fit_transform(revenue_encoded)\n",
    "revenue_onehot_df = pd.DataFrame(revenue_onehot_encoded, columns = [\"No_Sale\", \"Sale\"])\n",
    "revenue_onehot_df.head(30)\n",
    "\n",
    "## Creating list for newly-created columns for Y\n",
    "rev_list = revenue_onehot_df.columns\n",
    "\n",
    "## Code to add newly created columns to the df\n",
    "df [month_list] = month_onehot_df.loc[:,month_list]\n",
    "df [visitor_list] = visitortype_onehot_df.loc[:,visitor_list]\n",
    "df [weekend_list] = weekend_onehot_df.loc[:,weekend_list]\n",
    "df [rev_list] = revenue_onehot_df.loc[:,rev_list]\n"
   ]
  },
  {
   "cell_type": "code",
   "execution_count": null,
   "metadata": {},
   "outputs": [],
   "source": [
    "df.sample(20)\n",
    "# Sample the data to ensure the columns were created correctly"
   ]
  },
  {
   "cell_type": "markdown",
   "metadata": {},
   "source": [
    "## 2. Data Preparation\n",
    "    a. Outlier Handling"
   ]
  },
  {
   "cell_type": "code",
   "execution_count": null,
   "metadata": {},
   "outputs": [],
   "source": [
    "# Utilize IQR method\n",
    "\n",
    "def replace_columns_outliers_iqr(df, column_list): \n",
    "    for my_col in column_list:\n",
    "        Q1 = df[my_col].quantile(0.25)\n",
    "        Q3 = df[my_col].quantile(0.75)\n",
    "        IQR = Q3 - Q1\n",
    "\n",
    "        u_bound_q3 = (Q3 + 1.5 * IQR)\n",
    "        l_bound_q1 = (Q1 - 1.5 * IQR)\n",
    "\n",
    "        df[my_col][df[my_col] > u_bound_q3] = u_bound_q3\n",
    "        df[my_col][df[my_col] < l_bound_q1] = l_bound_q1"
   ]
  },
  {
   "cell_type": "code",
   "execution_count": null,
   "metadata": {},
   "outputs": [],
   "source": [
    "# Address Outliers in Admin_per_Exit using IQR\n",
    "replace_columns_outliers_iqr(df=df, column_list=['Admin_per_Exit']) \n",
    "df['Admin_per_Exit'].describe()"
   ]
  },
  {
   "cell_type": "code",
   "execution_count": null,
   "metadata": {},
   "outputs": [],
   "source": [
    "# The Admin_per Exit no longer has an inf max or mean."
   ]
  },
  {
   "cell_type": "code",
   "execution_count": null,
   "metadata": {},
   "outputs": [],
   "source": [
    "# checking to see if the created attributes have null values\n",
    "df.isnull().sum()"
   ]
  },
  {
   "cell_type": "code",
   "execution_count": null,
   "metadata": {},
   "outputs": [],
   "source": [
    "# Admin_per_Exit and Bounce_per_Exit_Rate still have missing values; imputation needed."
   ]
  },
  {
   "cell_type": "markdown",
   "metadata": {},
   "source": [
    "    b. Data Imputation"
   ]
  },
  {
   "cell_type": "code",
   "execution_count": null,
   "metadata": {},
   "outputs": [],
   "source": [
    "# Mean imputation\n",
    "\n",
    "## Impute mean values for mising values in Admin_per_Exit\n",
    "df['Admin_per_Exit'].fillna(df['Admin_per_Exit'].mean(), inplace=True)\n",
    "\n",
    "\n",
    "## Impute mean values for missing values in Bounce_per_Exit_Rate\n",
    "df['Bounce_per_Exit_Rate'].fillna(df['Bounce_per_Exit_Rate'].mean(), inplace=True)\n",
    "\n",
    "## Check the df\n",
    "df.isnull().sum()\n"
   ]
  },
  {
   "cell_type": "code",
   "execution_count": null,
   "metadata": {},
   "outputs": [],
   "source": [
    "# After imputation, no null values remain."
   ]
  },
  {
   "cell_type": "markdown",
   "metadata": {},
   "source": [
    "    c. Split the dataset - DWM QUESTION 4/5/20 - WHY ARE WE DOING THIS HERE???? WHY NOT LATER - WITH INITIAL MODEL???"
   ]
  },
  {
   "cell_type": "code",
   "execution_count": null,
   "metadata": {},
   "outputs": [],
   "source": [
    "# Subsetting the data to be used for modeling\n",
    "display(df.dtypes)\n",
    "df_list =  df.columns\n",
    "df_list"
   ]
  },
  {
   "cell_type": "code",
   "execution_count": null,
   "metadata": {},
   "outputs": [],
   "source": [
    "numeric_list =['Administrative', 'Administrative_Duration', 'Informational',\n",
    "       'Informational_Duration', 'ProductRelated', 'ProductRelated_Duration',\n",
    "       'BounceRates', 'ExitRates', 'PageValues', 'SpecialDay',\n",
    "       'OperatingSystems', 'Browser', 'Region', 'TrafficType','Admin_per_Exit', 'Bounce_Exit_Rate_Avg',\n",
    "       'Bounce_per_Exit_Rate', 'Total_Duration', 'Total_Duration_Avg',\n",
    "       'OperatingSystems_Bin', 'Browser_Bin', 'Region_Bin', 'TrafficType_Bin',\n",
    "       'Month_Bin', 'Month_May', 'Month_Nov', 'Month_Mar', 'Month_Dec',\n",
    "       'Month_Other', 'Returning_Visitor', 'New_Visitor', 'Not_Weekend',\n",
    "       'Is_Weekend', 'No_Sale', 'Sale']"
   ]
  },
  {
   "cell_type": "code",
   "execution_count": null,
   "metadata": {},
   "outputs": [],
   "source": [
    "df_numeric = df[numeric_list]"
   ]
  },
  {
   "cell_type": "code",
   "execution_count": null,
   "metadata": {},
   "outputs": [],
   "source": [
    "X,y2,y1 = df_numeric.iloc[:,:-2],df_numeric.iloc[:,-1],df_numeric.iloc[:,-2]"
   ]
  },
  {
   "cell_type": "code",
   "execution_count": null,
   "metadata": {},
   "outputs": [],
   "source": [
    "X_train, X_test, y1_train, y1_test,y2_train, y2_test = train_test_split(X, y1,y2,test_size=0.3,random_state=500) "
   ]
  },
  {
   "cell_type": "code",
   "execution_count": null,
   "metadata": {},
   "outputs": [],
   "source": [
    "X_train"
   ]
  },
  {
   "cell_type": "markdown",
   "metadata": {},
   "source": [
    "    d. Normalization"
   ]
  },
  {
   "cell_type": "code",
   "execution_count": null,
   "metadata": {},
   "outputs": [],
   "source": [
    "# Initially displaying the skewness of all attributes\n",
    "display(X.skew())"
   ]
  },
  {
   "cell_type": "code",
   "execution_count": null,
   "metadata": {},
   "outputs": [],
   "source": [
    "# creating the cols to adjust for skewness\n",
    "\n",
    "skew_cols = ['Administrative', 'Administrative_Duration', 'Informational',\n",
    "       'Informational_Duration', 'ProductRelated', 'ProductRelated_Duration',\n",
    "       'BounceRates', 'ExitRates', 'PageValues', 'SpecialDay',\n",
    "       'Admin_per_Exit', 'Bounce_Exit_Rate_Avg',\n",
    "       'Bounce_per_Exit_Rate', 'Total_Duration', 'Total_Duration_Avg']\n",
    " \n",
    "for i in skew_cols:\n",
    "    X[i+'_skew'] = X[i]\n",
    "\n",
    "\n",
    "cols_to_skew = ['Administrative_skew', 'Administrative_Duration_skew', 'Informational_skew',\n",
    "       'Informational_Duration_skew', 'ProductRelated_skew', 'ProductRelated_Duration_skew',\n",
    "       'BounceRates_skew', 'ExitRates_skew', 'PageValues_skew', 'SpecialDay_skew','Admin_per_Exit_skew', 'Bounce_Exit_Rate_Avg_skew',\n",
    "       'Bounce_per_Exit_Rate_skew', 'Total_Duration_skew', 'Total_Duration_Avg_skew']\n"
   ]
  },
  {
   "cell_type": "code",
   "execution_count": null,
   "metadata": {},
   "outputs": [],
   "source": [
    "# creating a list of columns that need to be transformed due to skewness\n",
    "\n",
    "still_skewed_list = ['Informational_skew',\n",
    "       'Informational_Duration_skew',\n",
    "       'BounceRates_skew', 'PageValues_skew', 'SpecialDay_skew','Bounce_Exit_Rate_Avg_skew']"
   ]
  },
  {
   "cell_type": "code",
   "execution_count": null,
   "metadata": {},
   "outputs": [],
   "source": [
    "# Normalize using quantile_transform for columns that have skewness\n",
    "\n",
    "from sklearn.preprocessing import quantile_transform\n",
    "transformed_qt = quantile_transform(X[still_skewed_list],random_state=0,copy=True)\n",
    "transformed_qt_df = pd.DataFrame(transformed_qt,columns = still_skewed_list)\n",
    "X[still_skewed_list] = transformed_qt_df[still_skewed_list]\n"
   ]
  },
  {
   "cell_type": "code",
   "execution_count": null,
   "metadata": {},
   "outputs": [],
   "source": [
    "display(X[still_skewed_list].skew())"
   ]
  },
  {
   "cell_type": "code",
   "execution_count": null,
   "metadata": {},
   "outputs": [],
   "source": [
    "# creating a list of columns that need to be transformed due to skewness\n",
    "\n",
    "cols_to_skew_2 = ['Administrative_skew', 'Administrative_Duration_skew', 'Informational_skew',\n",
    "       'Informational_Duration_skew', 'ProductRelated_skew', 'ProductRelated_Duration_skew'\n",
    "       , 'ExitRates_skew', 'PageValues_skew', 'SpecialDay_skew','Admin_per_Exit_skew',\n",
    "       'Bounce_per_Exit_Rate_skew', 'Total_Duration_skew', 'Total_Duration_Avg_skew']"
   ]
  },
  {
   "cell_type": "code",
   "execution_count": null,
   "metadata": {},
   "outputs": [],
   "source": [
    "# Normalize using PowerTransformer for remaining columns that continue to have skewness\n",
    "from sklearn.preprocessing import PowerTransformer\n",
    "\n",
    "pt = PowerTransformer(method='yeo-johnson')\n",
    "transform = pt.fit(X[cols_to_skew_2])\n",
    "transformed = pt.transform((X[cols_to_skew_2]))\n",
    "transformed_df = pd.DataFrame(transformed,columns = cols_to_skew_2)\n",
    "X[cols_to_skew_2] = transformed_df[cols_to_skew_2]\n"
   ]
  },
  {
   "cell_type": "code",
   "execution_count": null,
   "metadata": {},
   "outputs": [],
   "source": [
    "# check for remaining skewness\n",
    "display(X[cols_to_skew_2].skew())"
   ]
  },
  {
   "cell_type": "markdown",
   "metadata": {},
   "source": [
    "    - After two methods for correcting for skewness we are left with 4 attributes whose distributions remain skewed:\n",
    "    ('Informational_skew','Informational_Duration_skew','PageValues_skew', 'SpecialDay_skew')\n",
    "    - We have decided to proceed without further adjustment to these attributes"
   ]
  },
  {
   "cell_type": "code",
   "execution_count": null,
   "metadata": {},
   "outputs": [],
   "source": [
    "# visually chack for the columns that need to be rescaled based on a max higher than 1\n",
    "X.max() "
   ]
  },
  {
   "cell_type": "code",
   "execution_count": null,
   "metadata": {},
   "outputs": [],
   "source": [
    "normalized_cols= X.columns\n",
    "normalized_cols"
   ]
  },
  {
   "cell_type": "markdown",
   "metadata": {},
   "source": [
    "    e. Rescaling the data"
   ]
  },
  {
   "cell_type": "code",
   "execution_count": null,
   "metadata": {},
   "outputs": [],
   "source": [
    "# creating a list of columns that need to be rescaled\n",
    "\n",
    "scale_cols = ['Administrative', 'Administrative_Duration', 'Informational',\n",
    "       'Informational_Duration', 'ProductRelated', 'ProductRelated_Duration',\n",
    "       'PageValues','OperatingSystems', 'Browser', 'Region', 'TrafficType',\n",
    "       'Admin_per_Exit', 'Bounce_per_Exit_Rate','Total_Duration', 'Total_Duration_Avg', 'OperatingSystems_Bin',\n",
    "       'Browser_Bin', 'Region_Bin', 'TrafficType_Bin', 'Month_Bin',\n",
    "       'Administrative_skew', 'Administrative_Duration_skew',\n",
    "       'Informational_skew', 'Informational_Duration_skew',\n",
    "       'ProductRelated_skew', 'ProductRelated_Duration_skew', 'ExitRates_skew', 'PageValues_skew',\n",
    "       'SpecialDay_skew', 'Admin_per_Exit_skew',\n",
    "       'Bounce_per_Exit_Rate_skew', 'Total_Duration_skew',\n",
    "       'Total_Duration_Avg_skew']"
   ]
  },
  {
   "cell_type": "code",
   "execution_count": null,
   "metadata": {},
   "outputs": [],
   "source": [
    "# process the attributes that have a range outside of zero to one (0 - 1)\n",
    "\n",
    "from sklearn.preprocessing import MinMaxScaler\n",
    "scaler = MinMaxScaler(feature_range=(0, 1))\n",
    "scale = scaler.fit(X[scale_cols])\n",
    "scaled = scaler.transform(X[scale_cols])\n",
    "scaled_df = pd.DataFrame(scaled,columns = scale_cols)\n",
    "X[scale_cols] = scaled_df[scale_cols]"
   ]
  },
  {
   "cell_type": "code",
   "execution_count": null,
   "metadata": {},
   "outputs": [],
   "source": [
    "# validate that the scaler worked as intended\n",
    "X.min() "
   ]
  },
  {
   "cell_type": "markdown",
   "metadata": {},
   "source": [
    "    f. Naive Model/Baseline Model\n",
    ">   <b> Assumption: </b> All features are usefull for Y1 & Y2!\n",
    "<br><b> Calculate: </b> How many times are you right?\n",
    "<br><b> Reason: </b> This can be set as the baseline for our accuracy of Y1 and Y2 - the computer model should at least beat this in order for it to be better than guessing.\n",
    "<br><b> Answer: </b> \n",
    "* <b> Y1 </b>: 70.78% accuracy\n",
    "* <b> Y2: </b> 70.78% accuracy (not sure if Y2 result should be the same as Y1 but could make sense)"
   ]
  },
  {
   "cell_type": "code",
   "execution_count": null,
   "metadata": {},
   "outputs": [],
   "source": [
    "# resplit based on additional data prep completed post initial split\n",
    "X_train, X_test, y1_train, y1_test,y2_train, y2_test = train_test_split(X, y1,y2,test_size=0.3,random_state=500) "
   ]
  },
  {
   "cell_type": "code",
   "execution_count": null,
   "metadata": {},
   "outputs": [],
   "source": [
    "#Create a Gaussian Classifier\n",
    "gnb1 = GaussianNB()\n",
    "gnb2 = GaussianNB()\n",
    "\n",
    "#Train the model using the training sets\n",
    "gnb1.fit(X_train, y1_train)\n",
    "gnb2.fit(X_train, y2_train)\n",
    "\n",
    "#Predict the response for test dataset\n",
    "y_pred1 = gnb1.predict(X_test)\n",
    "y_pred2 = gnb2.predict(X_test)"
   ]
  },
  {
   "cell_type": "code",
   "execution_count": null,
   "metadata": {},
   "outputs": [],
   "source": [
    "print(\"Accuracy:\",metrics.accuracy_score(y1_test, y_pred1))\n",
    "print(\"Accuracy:\",metrics.accuracy_score(y2_test, y_pred2))"
   ]
  },
  {
   "cell_type": "code",
   "execution_count": null,
   "metadata": {},
   "outputs": [],
   "source": [
    "cnf_matrix1 = metrics.confusion_matrix(y1_test, y_pred1)\n",
    "cnf_matrix2 = metrics.confusion_matrix(y2_test, y_pred2)\n",
    "\n",
    "display(cnf_matrix1)\n",
    "display(cnf_matrix2)\n"
   ]
  },
  {
   "cell_type": "code",
   "execution_count": null,
   "metadata": {},
   "outputs": [],
   "source": [
    "class_names=[0,1] # name  of classes\n",
    "fig, ax = plt.subplots()\n",
    "tick_marks = np.arange(len(class_names))\n",
    "plt.xticks(tick_marks, class_names)\n",
    "plt.yticks(tick_marks, class_names)\n",
    "# create heatmap\n",
    "sns.heatmap(pd.DataFrame(cnf_matrix1), annot=True, cmap=\"YlGnBu\" ,fmt='g')\n",
    "ax.xaxis.set_label_position(\"top\")\n",
    "plt.tight_layout()\n",
    "plt.title('Confusion matrix Y1', y=1.1)\n",
    "plt.ylabel('Actual label')\n",
    "plt.xlabel('Predicted label')"
   ]
  },
  {
   "cell_type": "code",
   "execution_count": null,
   "metadata": {},
   "outputs": [],
   "source": [
    "class_names=[0,1] # name  of classes\n",
    "fig, ax = plt.subplots()\n",
    "tick_marks = np.arange(len(class_names))\n",
    "plt.xticks(tick_marks, class_names)\n",
    "plt.yticks(tick_marks, class_names)\n",
    "# create heatmap\n",
    "sns.heatmap(pd.DataFrame(cnf_matrix2), annot=True, cmap=\"YlGnBu\" ,fmt='g')\n",
    "ax.xaxis.set_label_position(\"top\")\n",
    "plt.tight_layout()\n",
    "plt.title('Confusion matrix Y2', y=1.1)\n",
    "plt.ylabel('Actual label')\n",
    "plt.xlabel('Predicted label')"
   ]
  },
  {
   "cell_type": "code",
   "execution_count": null,
   "metadata": {},
   "outputs": [],
   "source": [
    "print(classification_report(y1_test, y_pred1))\n",
    "print(classification_report(y2_test, y_pred2))\n"
   ]
  },
  {
   "cell_type": "markdown",
   "metadata": {},
   "source": [
    "    g. Reviewing Correlations to Identify Highly Related/Correlated Features to Avoid in Analysis:\n"
   ]
  },
  {
   "cell_type": "code",
   "execution_count": null,
   "metadata": {},
   "outputs": [],
   "source": [
    "#define new dataframe, df_Prepped, which contains all the features, as adjusted per the Data Preparation above, along with the two target variables from the initial dataframe\n",
    "\n",
    "df_Prepped = pd.concat([X[['Administrative_skew', 'Administrative_Duration_skew','Informational_skew', 'Informational_Duration_skew', 'ProductRelated_skew',\\\n",
    "                       'ProductRelated_Duration_skew','BounceRates_skew', 'ExitRates_skew', 'PageValues_skew', 'SpecialDay_skew','OperatingSystems_Bin',\\\n",
    "                       'Browser_Bin', 'Region_Bin', 'TrafficType_Bin', 'Admin_per_Exit_skew', 'Bounce_Exit_Rate_Avg_skew', 'Bounce_per_Exit_Rate_skew',\\\n",
    "                       'Total_Duration_skew', 'Total_Duration_Avg_skew', 'Month_May', 'Month_Nov', 'Month_Mar', 'Month_Dec', 'Month_Other',\\\n",
    "                       'Returning_Visitor', 'New_Visitor', 'Not_Weekend', 'Is_Weekend']], df[['No_Sale', 'Sale']]], axis=1)\n",
    "\n",
    "#check new dataframe, df_Prepped                \n",
    "df_Prepped.head()\n",
    "\n",
    "\n",
    "\n"
   ]
  },
  {
   "cell_type": "code",
   "execution_count": null,
   "metadata": {},
   "outputs": [],
   "source": [
    "#Correlation Heatmap for the dataframe\n",
    "spearman =df_Prepped.corr(method ='spearman')\n",
    "plt.figure(figsize=(20,9))\n",
    "sns.heatmap(spearman, annot=True)"
   ]
  },
  {
   "cell_type": "code",
   "execution_count": null,
   "metadata": {},
   "outputs": [],
   "source": [
    "# Based on the above:\n",
    "# - Need to choose only one of the variables for which there is a corresponding duration variable - namely:\n",
    "#    ~Administrative_skew or Administrative_Duration_skew (correlation 0.94)\n",
    "#    ~Informational_skew or Informational_Duration_skew (correlation 0.95)\n",
    "#    ~ProductRelated_skew or Product_RelatedDuration_skew (correlation 0.88)\n",
    "#    **Initial decision: utilize Administrative_skew and ProductRelated_Duration_skew as they are more highly correlated with Y1 and Y2;\n",
    "#      utilize Informational_skew because it is distinct from Informational_Duration_skew and duration is incorporated into the Total_Duration variables (discussed below)\n",
    "\n",
    "# - Need to choose only one of the variables from the binary variable pairs - namely:\n",
    "#    ~Returning_Visitor or New_Visitor (correlation 1.00)\n",
    "#    ~Not_Weekend or Is_Weekend (correlation 1.00)\n",
    "#    **Initial decision: utilize Returning_Visitor and Is_Weekend variables as they are both positively corelated with the target variable, Sale.\n",
    "\n",
    "# - Need to choose only one of the variables from pairs that capture related information - namely:\n",
    "#    ~BounceRates_skew or ExitRates_skew (correlation 0.60)\n",
    "#    ~Bounce_Exit_Rate_Avg_skew or Bounce_per_Exit_Rate_skew (correlation 0.62)\n",
    "#    ~Total_Duration_skew or Total_Duration_Avg_Skew (correlation 1.00)\n",
    "#    **Initial decision: For the first two, utilize the ones more strongly correlated with the corresponding Y values - namely: ExitRates_skew & Bounce_Exit_Rate_Avg_skew;\n",
    "#      In the case of the third variable pair, we opt to use the value for Total_Duration_skew (rather than the averaged value)\n",
    "\n"
   ]
  },
  {
   "cell_type": "code",
   "execution_count": null,
   "metadata": {},
   "outputs": [],
   "source": [
    "#In light of the above, define new dataframe, df_Models, which contains all the features and target variables for use in our Data Modeling:\n",
    "\n",
    "df_Models = df_Prepped[['Administrative_skew','Informational_skew','ProductRelated_Duration_skew',\\\n",
    "                        'ExitRates_skew', 'PageValues_skew', 'SpecialDay_skew','OperatingSystems_Bin', 'Browser_Bin', 'Region_Bin', 'TrafficType_Bin',\\\n",
    "                        'Admin_per_Exit_skew', 'Bounce_Exit_Rate_Avg_skew','Total_Duration_skew',\\\n",
    "                        'Month_May', 'Month_Nov', 'Month_Mar', 'Month_Dec', 'Month_Other','Returning_Visitor', 'Is_Weekend', 'No_Sale', 'Sale']]\n",
    "\n",
    "#check new dataframe, df_Models                \n",
    "df_Models.head()"
   ]
  },
  {
   "cell_type": "markdown",
   "metadata": {},
   "source": [
    "    h. Reshape the training dataset"
   ]
  },
  {
   "cell_type": "code",
   "execution_count": null,
   "metadata": {},
   "outputs": [],
   "source": [
    "# Split the df_Models dataset\n",
    "X_Models,y1_Models,y2_Models = df_Models.iloc[:,:-2],df_Models.iloc[:,-2],df_Models.iloc[:,-1]\n",
    "\n",
    "# Set the training at 30% (as above for baseline) given the modest size of the dataset (~12,000 observations)\n",
    "X_Models_train, X_Models_test, y1_Models_train, y1_Models_test, y2_Models_train, y2_Models_test = train_test_split(X_Models, y1_Models, y2_Models,\\\n",
    "                                                                                                                   test_size=0.3,random_state=500) \n",
    "\n",
    "#print out the first five rows of the training data\n",
    "X_Models_train.head()"
   ]
  },
  {
   "cell_type": "code",
   "execution_count": null,
   "metadata": {},
   "outputs": [],
   "source": [
    "# Code to re-shape the data for Modeling\n",
    "\n",
    "from collections import Counter\n",
    "from sklearn.datasets import make_classification\n",
    "from imblearn.over_sampling import SMOTE # doctest: +NORMALIZE_WHITESPACE\n",
    "# X, y = make_classification(n_classes=2, class_sep=2,\n",
    "#     weights=[0.1, 0.9], n_informative=3, n_redundant=1, flip_y=0,\n",
    "#     n_features=20, n_clusters_per_class=1, n_samples=1000, random_state=2019)\n",
    "print('Original dataset shape %s' % Counter(y2_Models))\n",
    "#Original dataset shape Counter({1: 900, 0: 100})\n",
    "sm = SMOTE(random_state=42)\n",
    "resampled_X_Models_train, resampled_y2_Models_train = sm.fit_resample(X_Models_train, y2_Models_train) #DWM Note: Are we SURE on \"Models\" in last X_train, y2_train - per SMOTE doc from Tao\n",
    "print('Resampled dataset shape %s' % Counter(resampled_y2_Models_train))\n",
    "#Resampled dataset shape Counter({0: 900, 1: 900})"
   ]
  },
  {
   "cell_type": "code",
   "execution_count": null,
   "metadata": {
    "scrolled": true
   },
   "outputs": [],
   "source": [
    "#Print first 5 rows\n",
    "print(resampled_X_Models_train[:5, :])"
   ]
  },
  {
   "cell_type": "markdown",
   "metadata": {},
   "source": [
    "# Part IV: Data Analysis/Modeling <a name=\"part4\"></a>"
   ]
  },
  {
   "cell_type": "markdown",
   "metadata": {},
   "source": [
    "## A. Naive Bayes Model (NB)\n",
    ">   <b> Assumption: </b> Model features all are independent; we have included all features we believe independent per the immediately preceding correlation analysis\n",
    "<br><b> Calculate Accuracy: </b> How many times are you right?\n",
    "<br><b> Answer: </b> \n",
    "* <b> Y1 </b>: 81.21% accuracy (AUC = 0.8741)\n",
    "* <b> Y2: </b> 81.21% accuracy (AUC = 0.8741)"
   ]
  },
  {
   "cell_type": "markdown",
   "metadata": {},
   "source": [
    "###0. Step 0: Import Needed Packages"
   ]
  },
  {
   "cell_type": "code",
   "execution_count": null,
   "metadata": {},
   "outputs": [],
   "source": [
    "# import the metrics class\n",
    "from sklearn import metrics\n",
    "\n",
    "# import other required modules for confusion matrices\n",
    "import numpy as np\n",
    "import matplotlib.pyplot as plt\n",
    "import seaborn as sns\n",
    "%matplotlib inline\n",
    "plt.style.use('ggplot')"
   ]
  },
  {
   "cell_type": "markdown",
   "metadata": {},
   "source": [
    "###1. Step 1: Specify the Model"
   ]
  },
  {
   "cell_type": "code",
   "execution_count": null,
   "metadata": {},
   "outputs": [],
   "source": [
    "#Import Gaussian Naive Bayes model\n",
    "from sklearn.naive_bayes import GaussianNB\n",
    "\n",
    "#Create a Gaussian Classifier\n",
    "gnb = GaussianNB()"
   ]
  },
  {
   "cell_type": "markdown",
   "metadata": {},
   "source": [
    "###2. Steps 2-4: Generate Test Data, Build the Models & Assess the Models for y1"
   ]
  },
  {
   "cell_type": "code",
   "execution_count": null,
   "metadata": {},
   "outputs": [],
   "source": [
    "#Train the model using the training sets - for y1 (No_Sale)\n",
    "gnb.fit(X_Models_train, y1_Models_train)\n",
    "\n",
    "#Predict the response for test dataset for y1\n",
    "y1_NB_pred = gnb.predict(X_Models_test)\n",
    "\n",
    "\n",
    "# Model Accuracy, how often is the classifier correct?\n",
    "# Accuracy for y1\n",
    "print(\"y1 Accuracy:\",metrics.accuracy_score(y1_Models_test, y1_NB_pred))\n",
    "print(\"\")\n",
    "\n",
    "#Can use classification report to assess model adequacy, too\n",
    "print(metrics.classification_report(y1_Models_test, y1_NB_pred, labels=class_names))\n",
    "\n",
    "#AUC for y1\n",
    "y1_NB_pred_proba = gnb.predict_proba(X_Models_test)[::,1]\n",
    "fpr, tpr, _ = metrics.roc_curve(y1_Models_test,  y1_NB_pred_proba)\n",
    "auc = metrics.roc_auc_score(y1_Models_test, y1_NB_pred_proba)\n",
    "plt.plot(fpr,tpr,label=\"auc=\"+str(auc))\n",
    "plt.legend(loc=4)\n",
    "plt.show()\n",
    "print(\"\")\n",
    "\n",
    "#Print Confusion Matrix\n",
    "cnf_matrix = metrics.confusion_matrix(y1_Models_test, y1_NB_pred)\n",
    "cnf_matrix\n",
    "class_names=[0,1] # name  of classes\n",
    "fig, ax = plt.subplots()\n",
    "tick_marks = np.arange(len(class_names))\n",
    "plt.xticks(tick_marks, class_names)\n",
    "plt.yticks(tick_marks, class_names)\n",
    "# create heatmap\n",
    "sns.heatmap(pd.DataFrame(cnf_matrix), annot=True, cmap=\"YlGnBu\" ,fmt='g')\n",
    "ax.xaxis.set_label_position(\"top\")\n",
    "plt.tight_layout()\n",
    "plt.title('Confusion matrix', y=1.1)\n",
    "plt.ylabel('Actual label')\n",
    "plt.xlabel('Predicted label')\n"
   ]
  },
  {
   "cell_type": "markdown",
   "metadata": {},
   "source": [
    "###3. Step 3: Generate Test Data, Build the Models & Assess the Models for y2"
   ]
  },
  {
   "cell_type": "code",
   "execution_count": null,
   "metadata": {},
   "outputs": [],
   "source": [
    "#Train the model using the training sets - for y2 (Sale)\n",
    "gnb.fit(X_Models_train, y2_Models_train)\n",
    "\n",
    "#Predict the response for test dataset for y2\n",
    "y2_NB_pred = gnb.predict(X_Models_test)\n",
    "\n",
    "# Model Accuracy, how often is the classifier correct?\n",
    "# Accuracy for y2\n",
    "print(\"y2 Accuracy:\",metrics.accuracy_score(y2_Models_test, y2_NB_pred))\n",
    "print(\"\")\n",
    "\n",
    "#Can use classification report to assess model adequacy, too\n",
    "print(metrics.classification_report(y2_Models_test, y2_NB_pred, labels=class_names))\n",
    "\n",
    "#AUC for y2\n",
    "y2_NB_pred_proba = gnb.predict_proba(X_Models_test)[::,1]\n",
    "fpr, tpr, _ = metrics.roc_curve(y2_Models_test,  y2_NB_pred_proba)\n",
    "auc = metrics.roc_auc_score(y2_Models_test, y2_NB_pred_proba)\n",
    "plt.plot(fpr,tpr,label=\"auc=\"+str(auc))\n",
    "plt.legend(loc=4)\n",
    "plt.show()\n",
    "print(\"\")\n",
    "\n",
    "#Print Confusion Matrix\n",
    "cnf_matrix = metrics.confusion_matrix(y2_Models_test, y2_NB_pred)\n",
    "cnf_matrix\n",
    "class_names=[0,1] # name  of classes\n",
    "fig, ax = plt.subplots()\n",
    "tick_marks = np.arange(len(class_names))\n",
    "plt.xticks(tick_marks, class_names)\n",
    "plt.yticks(tick_marks, class_names)\n",
    "# create heatmap\n",
    "sns.heatmap(pd.DataFrame(cnf_matrix), annot=True, cmap=\"YlGnBu\" ,fmt='g')\n",
    "ax.xaxis.set_label_position(\"top\")\n",
    "plt.tight_layout()\n",
    "plt.title('Confusion matrix', y=1.1)\n",
    "plt.ylabel('Actual label')\n",
    "plt.xlabel('Predicted label')\n"
   ]
  },
  {
   "cell_type": "code",
   "execution_count": null,
   "metadata": {},
   "outputs": [],
   "source": [
    "#Conclusion - With accuracy of 81.21% for each y1 and y2, the Naive Bayes model is superior to the base model which had an accuracy of 70.78% for each target.\n",
    "#However, there is still room for improvement."
   ]
  },
  {
   "cell_type": "markdown",
   "metadata": {},
   "source": [
    "#DWM Comment - Results for y1 and y2 are the same...did I do something wrong or is that correct because one is the opposite of the other (i.e., No-Sale v. Sale)???"
   ]
  },
  {
   "cell_type": "code",
   "execution_count": null,
   "metadata": {},
   "outputs": [],
   "source": [
    "# MD's Modeling Work"
   ]
  },
  {
   "cell_type": "markdown",
   "metadata": {},
   "source": [
    "## B. Decision Tree Model (DT)\n",
    ">   <b> Assumption: </b> All features are usefull for Y1 & Y2!\n",
    "<br><b> Calculate: </b> How many times are you right?\n",
    "<br><b> Reason: </b> This can be set as the baseline for our accuracy of Y1 and Y2 - the computer model should at least beat this in order for it to be better than guessing.\n",
    "<br><b> Answer: </b> \n",
    "* <b> Y1 </b>: 85.56% accuracy\n",
    "* <b> Y2: </b> 85.45% accuracy"
   ]
  },
  {
   "cell_type": "markdown",
   "metadata": {},
   "source": [
    "#### Specify the Model"
   ]
  },
  {
   "cell_type": "code",
   "execution_count": null,
   "metadata": {},
   "outputs": [],
   "source": [
    "# Load libraries\n",
    "import pandas as pd\n",
    "from sklearn.tree import DecisionTreeClassifier # Import Decision Tree Classifier\n",
    "from sklearn.model_selection import train_test_split # Import train_test_split function\n",
    "from sklearn import metrics #Import scikit-learn metrics module for accuracy calculation"
   ]
  },
  {
   "cell_type": "code",
   "execution_count": null,
   "metadata": {},
   "outputs": [],
   "source": [
    "# Just to take look at the models df to see if everything is correct\n",
    "df_Models.head()"
   ]
  },
  {
   "cell_type": "markdown",
   "metadata": {},
   "source": [
    "#### Build the Model (For y1 - No Sale)"
   ]
  },
  {
   "cell_type": "code",
   "execution_count": null,
   "metadata": {},
   "outputs": [],
   "source": [
    "# Create Decision Tree classifer object\n",
    "clf = DecisionTreeClassifier()\n",
    "\n",
    "# Train Decision Tree Classifer\n",
    "clf = clf.fit(X_Models_train,y1_Models_train)\n",
    "\n",
    "#Predict the response for test dataset\n",
    "y1_DT_pred = clf.predict(X_Models_test)"
   ]
  },
  {
   "cell_type": "code",
   "execution_count": null,
   "metadata": {},
   "outputs": [],
   "source": [
    "# Model Accuracy, how often is the classifier correct?\n",
    "print(\"Accuracy:\",metrics.accuracy_score(y1_Models_test, y1_DT_pred))"
   ]
  },
  {
   "cell_type": "markdown",
   "metadata": {},
   "source": [
    "#### Assess the Model"
   ]
  },
  {
   "cell_type": "code",
   "execution_count": null,
   "metadata": {},
   "outputs": [],
   "source": [
    "# Evaluating the Classification Report\n",
    "print(metrics.classification_report(y1_Models_test, y1_DT_pred))"
   ]
  },
  {
   "cell_type": "code",
   "execution_count": null,
   "metadata": {},
   "outputs": [],
   "source": [
    "# Evaluating the Confusion Matrix\n",
    "print(metrics.confusion_matrix(y1_Models_test, y1_DT_pred))"
   ]
  },
  {
   "cell_type": "code",
   "execution_count": null,
   "metadata": {},
   "outputs": [],
   "source": [
    "# 85.56% is much better than the baseline model of 70%"
   ]
  },
  {
   "cell_type": "markdown",
   "metadata": {},
   "source": [
    "#### Build the Model (For y2 - Sale)"
   ]
  },
  {
   "cell_type": "code",
   "execution_count": null,
   "metadata": {},
   "outputs": [],
   "source": [
    "# Create Decision Tree classifer object\n",
    "clf = DecisionTreeClassifier()\n",
    "\n",
    "# Train Decision Tree Classifer\n",
    "clf = clf.fit(X_Models_train,y2_Models_train)\n",
    "\n",
    "#Predict the response for test dataset\n",
    "y2_DT_pred = clf.predict(X_Models_test)"
   ]
  },
  {
   "cell_type": "code",
   "execution_count": null,
   "metadata": {},
   "outputs": [],
   "source": [
    "# Model Accuracy, how often is the classifier correct?\n",
    "print(\"Accuracy:\",metrics.accuracy_score(y2_Models_test, y2_DT_pred))"
   ]
  },
  {
   "cell_type": "markdown",
   "metadata": {},
   "source": [
    "#### Assess the Model"
   ]
  },
  {
   "cell_type": "code",
   "execution_count": null,
   "metadata": {},
   "outputs": [],
   "source": [
    "# Evaluating the Classification Report\n",
    "print(metrics.classification_report(y2_Models_test, y2_DT_pred))"
   ]
  },
  {
   "cell_type": "code",
   "execution_count": null,
   "metadata": {},
   "outputs": [],
   "source": [
    "# Evaluating the Confusion Matrix\n",
    "print(metrics.confusion_matrix(y2_Models_test, y2_DT_pred))"
   ]
  },
  {
   "cell_type": "markdown",
   "metadata": {},
   "source": [
    "85.45% is much better than the baseline model of 70%"
   ]
  },
  {
   "cell_type": "markdown",
   "metadata": {},
   "source": [
    "#### *** Attempted Model Optimization - Not 100% if I optimized these correctly"
   ]
  },
  {
   "cell_type": "markdown",
   "metadata": {},
   "source": [
    "##### y1 (No Sale)"
   ]
  },
  {
   "cell_type": "code",
   "execution_count": null,
   "metadata": {},
   "outputs": [],
   "source": [
    "# Trying to optimize Decision Tree Model by adding in the parameters \"entropy\" (information gain selection measure) and \"max depth=3\"\n",
    "# Did this in order to reduce to complexity of the Decision Tree, in hopes that it will yield better results\n",
    "# Create Decision Tree classifer object\n",
    "clf = DecisionTreeClassifier(criterion = \"entropy\", max_depth=3)\n",
    "\n",
    "# Train Decision Tree Classifer\n",
    "clf = clf.fit(X_Models_train,y1_Models_train)\n",
    "\n",
    "#Predict the response for test dataset\n",
    "y1_DT_pred = clf.predict(X_Models_test)"
   ]
  },
  {
   "cell_type": "code",
   "execution_count": null,
   "metadata": {},
   "outputs": [],
   "source": [
    "# Model Accuracy, how often is the classifier correct?\n",
    "print(\"Accuracy:\",metrics.accuracy_score(y1_Models_test, y1_DT_pred))"
   ]
  },
  {
   "cell_type": "code",
   "execution_count": null,
   "metadata": {},
   "outputs": [],
   "source": [
    "# Evaluating the Classification Report\n",
    "print(metrics.classification_report(y1_Models_test, y1_DT_pred))"
   ]
  },
  {
   "cell_type": "code",
   "execution_count": null,
   "metadata": {},
   "outputs": [],
   "source": [
    "# Evaluating the Confusion Matrix\n",
    "print(metrics.confusion_matrix(y1_Models_test, y1_DT_pred))"
   ]
  },
  {
   "cell_type": "markdown",
   "metadata": {},
   "source": [
    "##### y2 (Sale)"
   ]
  },
  {
   "cell_type": "code",
   "execution_count": null,
   "metadata": {},
   "outputs": [],
   "source": [
    "# Trying to optimize Decision Tree Model by adding in the parameters \"entropy\" (information gain selection measure) and \"max depth=3\"\n",
    "# # Did this in order to reduce to complexity of the Decision Tree, in hopes that it will yield better results\n",
    "# Create Decision Tree classifer object\n",
    "clf = DecisionTreeClassifier(criterion = \"entropy\", max_depth=3)\n",
    "\n",
    "# Train Decision Tree Classifer\n",
    "clf = clf.fit(X_Models_train,y2_Models_train)\n",
    "\n",
    "#Predict the response for test dataset\n",
    "y2_DT_pred = clf.predict(X_Models_test)"
   ]
  },
  {
   "cell_type": "code",
   "execution_count": null,
   "metadata": {},
   "outputs": [],
   "source": [
    "# Model Accuracy, how often is the classifier correct?\n",
    "print(\"Accuracy:\",metrics.accuracy_score(y2_Models_test, y2_DT_pred))"
   ]
  },
  {
   "cell_type": "code",
   "execution_count": null,
   "metadata": {},
   "outputs": [],
   "source": [
    "# Evaluating the Classification Report\n",
    "print(metrics.classification_report(y2_Models_test, y2_DT_pred))"
   ]
  },
  {
   "cell_type": "code",
   "execution_count": null,
   "metadata": {},
   "outputs": [],
   "source": [
    "# Evaluating the Confusion Matrix\n",
    "print(metrics.confusion_matrix(y2_Models_test, y2_DT_pred))"
   ]
  },
  {
   "cell_type": "markdown",
   "metadata": {},
   "source": [
    "##### Not sure if the optimized model is overfitting, but 89.53% accuracy is better than the base Decision Tree Models"
   ]
  },
  {
   "cell_type": "markdown",
   "metadata": {},
   "source": [
    "## C. Random Forest Model (RF)\n",
    ">   <b> Assumption: </b> All features are usefull for Y1 & Y2!\n",
    "<br><b> Calculate: </b> How many times are you right?\n",
    "<br><b> Reason: </b> This can be set as the baseline for our accuracy of Y1 and Y2 - the computer model should at least beat this in order for it to be better than guessing.\n",
    "<br><b> Answer: </b> \n",
    "* <b> Y1 </b>: 90% accuracy\n",
    "* <b> Y2: </b> 90% accuracy (not sure if Y2 result should be the same as Y1 but could make sense)"
   ]
  },
  {
   "cell_type": "markdown",
   "metadata": {},
   "source": [
    "#### Specify the Model"
   ]
  },
  {
   "cell_type": "code",
   "execution_count": null,
   "metadata": {},
   "outputs": [],
   "source": [
    "# Building a Classifier\n",
    "#Import scikit-learn dataset library\n",
    "from sklearn import datasets"
   ]
  },
  {
   "cell_type": "markdown",
   "metadata": {},
   "source": [
    "#### Build Model for y1 (No Sale)"
   ]
  },
  {
   "cell_type": "code",
   "execution_count": 142,
   "metadata": {},
   "outputs": [],
   "source": [
    "#Import Random Forest Model\n",
    "from sklearn.ensemble import RandomForestClassifier\n",
    "\n",
    "#Create a Gaussian Classifier\n",
    "clf = RandomForestClassifier(n_estimators=100)\n",
    "\n",
    "#Train the model using the training sets y_pred=clf.predict(X_Models_test)\n",
    "clf.fit(X_Models_train,y1_Models_train)\n",
    "\n",
    "y1_RF_pred = clf.predict(X_Models_test)"
   ]
  },
  {
   "cell_type": "code",
   "execution_count": 143,
   "metadata": {},
   "outputs": [
    {
     "name": "stdout",
     "output_type": "stream",
     "text": [
      "              precision    recall  f1-score   support\n",
      "\n",
      "         0.0       0.70      0.58      0.64       541\n",
      "         1.0       0.93      0.96      0.94      3158\n",
      "\n",
      "    accuracy                           0.90      3699\n",
      "   macro avg       0.82      0.77      0.79      3699\n",
      "weighted avg       0.90      0.90      0.90      3699\n",
      "\n"
     ]
    }
   ],
   "source": [
    "# Evaluation of the Classification Report\n",
    "from sklearn.metrics import classification_report, confusion_matrix\n",
    "print(classification_report(y1_Models_test, y1_RF_pred))"
   ]
  },
  {
   "cell_type": "code",
   "execution_count": 144,
   "metadata": {},
   "outputs": [
    {
     "name": "stdout",
     "output_type": "stream",
     "text": [
      "[[ 313  228]\n",
      " [ 131 3027]]\n"
     ]
    }
   ],
   "source": [
    "# Evaluation of the Confusion Matrix\n",
    "print(confusion_matrix(y1_Models_test, y1_RF_pred))"
   ]
  },
  {
   "cell_type": "markdown",
   "metadata": {},
   "source": [
    "#### Build Model for y2 (Sale)"
   ]
  },
  {
   "cell_type": "code",
   "execution_count": 146,
   "metadata": {},
   "outputs": [],
   "source": [
    "#Import Random Forest Model\n",
    "from sklearn.ensemble import RandomForestClassifier\n",
    "\n",
    "#Create a Gaussian Classifier\n",
    "clf = RandomForestClassifier(n_estimators=100)\n",
    "\n",
    "#Train the model using the training sets y_pred=clf.predict(X_Models_test)\n",
    "clf.fit(X_Models_train,y2_Models_train)\n",
    "\n",
    "y2_RF_pred = clf.predict(X_Models_test)"
   ]
  },
  {
   "cell_type": "code",
   "execution_count": 147,
   "metadata": {},
   "outputs": [
    {
     "name": "stdout",
     "output_type": "stream",
     "text": [
      "              precision    recall  f1-score   support\n",
      "\n",
      "         0.0       0.93      0.96      0.94      3158\n",
      "         1.0       0.70      0.58      0.63       541\n",
      "\n",
      "    accuracy                           0.90      3699\n",
      "   macro avg       0.81      0.77      0.79      3699\n",
      "weighted avg       0.90      0.90      0.90      3699\n",
      "\n"
     ]
    }
   ],
   "source": [
    "# Evaluation of the Classification Report\n",
    "from sklearn.metrics import classification_report, confusion_matrix\n",
    "print(classification_report(y2_Models_test, y2_RF_pred))"
   ]
  },
  {
   "cell_type": "code",
   "execution_count": 148,
   "metadata": {},
   "outputs": [
    {
     "name": "stdout",
     "output_type": "stream",
     "text": [
      "[[3022  136]\n",
      " [ 229  312]]\n"
     ]
    }
   ],
   "source": [
    "# Evaluation of the Confusion Matrix\n",
    "print(confusion_matrix(y2_Models_test, y2_RF_pred))"
   ]
  },
  {
   "cell_type": "markdown",
   "metadata": {},
   "source": [
    "##### 90% accuracy for both Random Forest Models, so far better than the Decision Tree Models"
   ]
  },
  {
   "cell_type": "markdown",
   "metadata": {},
   "source": [
    "#### More to do... Can do Feature Importance using scikit_learn - have the code for it but couldn't get it to run ***"
   ]
  },
  {
   "cell_type": "markdown",
   "metadata": {},
   "source": [
    "## D. Support Vector Machines (SVM) Classification Model (SVC)\n",
    ">   <b> Assumption: </b> All features are usefull for Y1 & Y2!\n",
    "<br><b> Calculate: </b> How many times are you right?\n",
    "<br><b> Reason: </b> This can be set as the baseline for our accuracy of Y1 and Y2 - the computer model should at least beat this in order for it to be better than guessing.\n",
    "<br><b> Answer: </b> \n",
    "* <b> Y1 </b>: 70.78% accuracy\n",
    "* <b> Y2: </b> 70.78% accuracy (not sure if Y2 result should be the same as Y1 but could make sense)"
   ]
  },
  {
   "cell_type": "code",
   "execution_count": null,
   "metadata": {},
   "outputs": [],
   "source": [
    "###1. Step 1: Specify the Model"
   ]
  },
  {
   "cell_type": "code",
   "execution_count": null,
   "metadata": {},
   "outputs": [],
   "source": [
    "###2. Step 2: Generate Test Data"
   ]
  },
  {
   "cell_type": "code",
   "execution_count": null,
   "metadata": {},
   "outputs": [],
   "source": [
    "###3. Step 3: Build the Model"
   ]
  },
  {
   "cell_type": "code",
   "execution_count": null,
   "metadata": {},
   "outputs": [],
   "source": [
    "###4. Step 4: Assess the Model"
   ]
  },
  {
   "cell_type": "markdown",
   "metadata": {},
   "source": [
    "## E. XGBoost Model (XGB)\n",
    ">   <b> Assumption: </b> XXXAll features are usefull for Y1 & Y2!XXX\n",
    "<br><b> Calculate: </b> How many times are you right?\n",
    "<br><b> Reason: </b> XXXThis can be set as the baseline for our accuracy of Y1 and Y2 - the computer model should at least beat this in order for it to be better than guessing.XXX\n",
    "<br><b> Answer: </b> \n",
    "* <b> Y1 </b>: XXX70.78% accuracyXXX\n",
    "* <b> Y2: </b> XXX70.78% accuracy (not sure if Y2 result should be the same as Y1 but could make sense)XXX"
   ]
  },
  {
   "cell_type": "markdown",
   "metadata": {},
   "source": [
    "###0. Step 0: Import Needed Packages"
   ]
  },
  {
   "cell_type": "code",
   "execution_count": 163,
   "metadata": {},
   "outputs": [],
   "source": [
    "#Import Needed Packages\n",
    "import xgboost as xgb\n",
    "from sklearn.metrics import mean_squared_error\n",
    "import pandas as pd\n",
    "import numpy as np\n",
    "\n",
    "#Do preliminary work\n"
   ]
  },
  {
   "cell_type": "markdown",
   "metadata": {},
   "source": [
    "###1. Step 1: Specify the Model"
   ]
  },
  {
   "cell_type": "code",
   "execution_count": 164,
   "metadata": {},
   "outputs": [],
   "source": [
    "#Instantiate an XGBoost Classifer Model - for y1 (No_Sale)\n",
    "xg_class = xgb.XGBClassifier(objective ='reg:squarederror', colsample_bytree = 0.3, learning_rate = 0.1,\n",
    "                max_depth = 5, alpha = 10, n_estimators = 100)\n"
   ]
  },
  {
   "cell_type": "markdown",
   "metadata": {},
   "source": [
    "###2. Steps 2-4: Generate Test Data, Build the Models & Assess the Models for y1"
   ]
  },
  {
   "cell_type": "code",
   "execution_count": 168,
   "metadata": {},
   "outputs": [
    {
     "name": "stderr",
     "output_type": "stream",
     "text": [
      "/opt/tljh/user/lib/python3.6/site-packages/xgboost/core.py:587: FutureWarning: Series.base is deprecated and will be removed in a future version\n",
      "  if getattr(data, 'base', None) is not None and \\\n",
      "/opt/tljh/user/lib/python3.6/site-packages/xgboost/core.py:588: FutureWarning: Series.base is deprecated and will be removed in a future version\n",
      "  data.base is not None and isinstance(data, np.ndarray) \\\n"
     ]
    },
    {
     "name": "stdout",
     "output_type": "stream",
     "text": [
      "RMSE for y1: 0.313264\n",
      "Error Ratio for y1:  0.3132644744961457\n"
     ]
    }
   ],
   "source": [
    "#Put Data into structure for XGBoost- for y1 (No_Sale) \n",
    "data_dmatrix = xgb.DMatrix(data=X_Models,label=y1_Models)\n",
    "\n",
    "#Train the model using the training sets for y1\n",
    "xg_class.fit(X_Models_train, y1_Models_train)\n",
    "\n",
    "#Predict the response for test dataset for y1\n",
    "y1_XGB_preds = xg_class.predict(X_Models_test)\n",
    "\n",
    "#Calculate RMSE for y1\n",
    "rmse = np.sqrt(mean_squared_error(y1_Models_test, y1_XGB_preds))\n",
    "print(\"RMSE for y1: %f\" % (rmse))\n",
    "\n",
    "#Create error ratio to evaluate results for y1 \n",
    "target_range1 = y1_Models.max() - y1_Models.min()\n",
    "print(\"Error Ratio for y1: \", (rmse/target_range1))"
   ]
  },
  {
   "cell_type": "markdown",
   "metadata": {},
   "source": [
    "###3. Steps 2-4: Generate Test Data, Build the Models & Assess the Models for y2"
   ]
  },
  {
   "cell_type": "code",
   "execution_count": 169,
   "metadata": {},
   "outputs": [
    {
     "name": "stderr",
     "output_type": "stream",
     "text": [
      "/opt/tljh/user/lib/python3.6/site-packages/xgboost/core.py:587: FutureWarning: Series.base is deprecated and will be removed in a future version\n",
      "  if getattr(data, 'base', None) is not None and \\\n",
      "/opt/tljh/user/lib/python3.6/site-packages/xgboost/core.py:588: FutureWarning: Series.base is deprecated and will be removed in a future version\n",
      "  data.base is not None and isinstance(data, np.ndarray) \\\n"
     ]
    },
    {
     "name": "stdout",
     "output_type": "stream",
     "text": [
      "RMSE for y2: 0.313264\n",
      "Error Ratio for y2:  0.3132644744961457\n"
     ]
    }
   ],
   "source": [
    "#Put Data into structure for XGBoost- for y2 (Sale) \n",
    "data_dmatrix = xgb.DMatrix(data=X_Models,label=y2_Models)\n",
    "\n",
    "#Train the model using the training sets for y2\n",
    "xg_class.fit(X_Models_train, y2_Models_train)\n",
    "\n",
    "#Predict the response for test dataset for y2\n",
    "y2_XGB_preds = xg_class.predict(X_Models_test)\n",
    "\n",
    "#Calculate RMSE for y2\n",
    "rmse = np.sqrt(mean_squared_error(y2_Models_test, y2_XGB_preds))\n",
    "print(\"RMSE for y2: %f\" % (rmse))\n",
    "\n",
    "#Create error ratio to evaluate results for y2\n",
    "target_range2 = y2_Models.max() - y2_Models.min()\n",
    "print(\"Error Ratio for y2: \", (rmse/target_range2))"
   ]
  },
  {
   "cell_type": "markdown",
   "metadata": {},
   "source": [
    "# More to go...including: k-fold cross-validation, visualization for feature importance & hyper-parameter tuning to improve model"
   ]
  },
  {
   "cell_type": "markdown",
   "metadata": {},
   "source": [
    "## F. Neural Network Model (NN)\n",
    ">   <b> Assumption: </b> All features are usefull for Y1 & Y2!\n",
    "<br><b> Calculate: </b> How many times are you right?\n",
    "<br><b> Reason: </b> This can be set as the baseline for our accuracy of Y1 and Y2 - the computer model should at least beat this in order for it to be better than guessing.\n",
    "<br><b> Answer: </b> \n",
    "* <b> Y1 </b>: 70.78% accuracy\n",
    "* <b> Y2: </b> 70.78% accuracy (not sure if Y2 result should be the same as Y1 but could make sense)"
   ]
  },
  {
   "cell_type": "code",
   "execution_count": null,
   "metadata": {},
   "outputs": [],
   "source": [
    "###1. Step 1: Specify the Model"
   ]
  },
  {
   "cell_type": "code",
   "execution_count": null,
   "metadata": {},
   "outputs": [],
   "source": [
    "###2. Step 2: Generate Test Data"
   ]
  },
  {
   "cell_type": "code",
   "execution_count": null,
   "metadata": {},
   "outputs": [],
   "source": [
    "###3. Step 3: Build the Model"
   ]
  },
  {
   "cell_type": "code",
   "execution_count": null,
   "metadata": {},
   "outputs": [],
   "source": [
    "###4. Step 4: Assess the Model"
   ]
  },
  {
   "cell_type": "markdown",
   "metadata": {},
   "source": [
    "# Part V: Validation  <a name=\"part5\"></a>"
   ]
  },
  {
   "cell_type": "code",
   "execution_count": null,
   "metadata": {},
   "outputs": [],
   "source": []
  },
  {
   "cell_type": "markdown",
   "metadata": {},
   "source": [
    "# Part VI: Presentation/Visualization  <a name=\"part6\"></a>"
   ]
  },
  {
   "cell_type": "code",
   "execution_count": null,
   "metadata": {},
   "outputs": [],
   "source": []
  },
  {
   "cell_type": "markdown",
   "metadata": {},
   "source": [
    "# Part VII: Sources  <a name=\"part7\"></a>\n",
    "1. https://i.ytimg.com/vi/CRKn-9gVNBw/maxresdefault.jpg\n",
    "2. https://support.google.com/analytics"
   ]
  },
  {
   "cell_type": "markdown",
   "metadata": {},
   "source": [
    "# ???-Part VIII: Next Steps (Discuss deployment??? Lessons learned??? Additional analyses had time permitted???)"
   ]
  },
  {
   "cell_type": "code",
   "execution_count": null,
   "metadata": {},
   "outputs": [],
   "source": []
  }
 ],
 "metadata": {
  "kernelspec": {
   "display_name": "Python 3",
   "language": "python",
   "name": "python3"
  },
  "language_info": {
   "codemirror_mode": {
    "name": "ipython",
    "version": 3
   },
   "file_extension": ".py",
   "mimetype": "text/x-python",
   "name": "python",
   "nbconvert_exporter": "python",
   "pygments_lexer": "ipython3",
   "version": "3.6.7"
  }
 },
 "nbformat": 4,
 "nbformat_minor": 4
}
