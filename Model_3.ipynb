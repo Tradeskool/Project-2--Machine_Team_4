{
 "cells": [
  {
   "cell_type": "markdown",
   "metadata": {},
   "source": [
    "Import packages"
   ]
  },
  {
   "cell_type": "code",
   "execution_count": 1,
   "metadata": {},
   "outputs": [],
   "source": [
    "# TO USE FOR ENTIRE TEAM\n",
    "import pandas as pd\n",
    "import numpy as np\n",
    "from pandas_profiling import ProfileReport\n",
    "import statsmodels.api as sm\n",
    "from scipy import stats\n",
    "%matplotlib inline\n",
    "import matplotlib.pyplot as plt\n",
    "import seaborn as sns\n",
    "import plotly.express as px"
   ]
  },
  {
   "cell_type": "code",
   "execution_count": 2,
   "metadata": {},
   "outputs": [],
   "source": [
    "# Processing the data\n",
    "\n",
    "from sklearn import preprocessing\n",
    "from sklearn.preprocessing import StandardScaler \n",
    "# scaler = StandardScaler().fit(X_train) >>> standardized_X = scaler.transform(X_train) >>> standardized_X_test = scaler.transform(X_test\n",
    "from sklearn.preprocessing import Normalizer\n",
    "# scaler = Normalizer().fit(X_train) >>> normalized_X = scaler.transform(X_train) >>> normalized_X_test = scaler.transform(X_test)\n",
    "from sklearn.preprocessing import Binarizer \n",
    "# binarizer = Binarizer(threshold=0.0).fit(X) >>> binary_X = binarizer.transform(X)\n",
    "\n",
    "# Encoding Categorical Features\n",
    "from sklearn.preprocessing import LabelEncoder\n",
    "from sklearn.preprocessing import OneHotEncoder\n",
    "# enc = LabelEncoder()\n",
    "# y = enc.fit_transform(y)\n",
    "from sklearn.impute import (SimpleImputer, KNNImputer, MissingIndicator)\n",
    "from sklearn.experimental import enable_iterative_imputer\n",
    "# imp = Imputer(missing_values=0, strategy='mean', axis=0) >>> imp.fit_transform(X_train)\n",
    "from sklearn.preprocessing import PolynomialFeatures \n",
    "# poly = PolynomialFeatures(5) >>> poly.fit_transform(X)\n",
    "\n",
    "from sklearn.model_selection import train_test_split\n",
    "# X_train, X_test, y_train, y_test = train_test_split(X,y,random_state=0)\n",
    "\n",
    "\n",
    "# Various Models\n",
    "from sklearn.cluster import KMeans\n",
    "# k_means = KMeans(n_clusters=3, random_state=0\n",
    "\n",
    "from sklearn.decomposition import PCA\n",
    "# pca = PCA(n_components=0.95)\n",
    "\n",
    "from sklearn.linear_model import LogisticRegression\n",
    "# logreg = LogisticRegression()\n",
    "from sklearn.linear_model import RidgeCV\n",
    "# rrm = RidgeCV(alphas=(0.01, 0.1, 1.0, 10.0), normalize=True)\n",
    "\n",
    "from sklearn.naive_bayes import GaussianNB\n",
    "# gnb = GaussianNB()\n",
    "from sklearn.svm import SVC \n",
    "# svc = SVC(kernel='linear')\n",
    "from sklearn.linear_model import LinearRegression\n",
    "# lr = LinearRegression(normalize=True)\n",
    "from sklearn import neighbors\n",
    "# knn = neighbors.KNeighborsClassifier(n_neighbors=5)\n",
    "\n",
    "## Fit the model\n",
    "# # Supervised learning\n",
    "# lr.fit(X, y)\n",
    "# knn.fit(X_train, y_train)\n",
    "# svc.fit(X_train, y_train)   \n",
    "\n",
    "# #Unsupervised Learning \n",
    "# k_means.fit(X_train) \n",
    "# pca_model = pca.fit_transform(X_train)\n",
    "\n",
    "## Predict Y\n",
    "# Supervised Estimators\n",
    "# y_pred = svc.predict(np.random.random((2,5))) \n",
    "# y_pred = lr.predict(X_test)\n",
    "# y_pred = knn.predict_proba(X_test)   \n",
    "# Unsupervised Estimators \n",
    "# y_pred = k_means.predict(X_test)\n",
    "\n",
    "\n",
    "# Packages to evaluate Model Performance (Classification)\n",
    "from sklearn import metrics\n",
    "from sklearn.metrics import confusion_matrix\n",
    "from sklearn.metrics import classification_report\n",
    "from sklearn.metrics import roc_auc_score\n",
    "from sklearn.metrics import accuracy_score\n",
    "from sklearn.metrics import precision_recall_fscore_support\n",
    "from sklearn.metrics import classification_report \n",
    "# print(classification_report(y_test_log, y_pred_log))\n",
    "\n",
    "# Packages to evaluate Model Performance (Linear)\n",
    "from sklearn.metrics import mean_absolute_error \n",
    "# y_true = [3, -0.5, 2] >>> mean_absolute_error(y_true, y_pred)\n",
    "from sklearn.metrics import mean_squared_error\n",
    "# mean_squared_error(y_test, y_pred)\n",
    "from sklearn.metrics import r2_score \n",
    "# r2_score(y_true, y_pred)\n",
    "\n",
    "#from sklearn.cross_validation import cross_val_score \n",
    "# print(cross_val_score(knn, X_train, y_train, cv=4)) >>> print(cross_val_score(lr, X, y, cv=2)\n",
    "\n",
    "\n",
    "from imblearn.over_sampling import SMOTENC\n",
    "from imblearn.under_sampling import NearMiss "
   ]
  },
  {
   "cell_type": "code",
   "execution_count": 3,
   "metadata": {},
   "outputs": [],
   "source": [
    "# Pull in our original data and a copy for the base model\n",
    "df = pd.read_csv('online_shoppers_intention.csv', na_values=r'-')\n",
    "df_base = df.copy()"
   ]
  },
  {
   "cell_type": "code",
   "execution_count": 4,
   "metadata": {},
   "outputs": [
    {
     "data": {
      "text/html": [
       "<div>\n",
       "<style scoped>\n",
       "    .dataframe tbody tr th:only-of-type {\n",
       "        vertical-align: middle;\n",
       "    }\n",
       "\n",
       "    .dataframe tbody tr th {\n",
       "        vertical-align: top;\n",
       "    }\n",
       "\n",
       "    .dataframe thead th {\n",
       "        text-align: right;\n",
       "    }\n",
       "</style>\n",
       "<table border=\"1\" class=\"dataframe\">\n",
       "  <thead>\n",
       "    <tr style=\"text-align: right;\">\n",
       "      <th></th>\n",
       "      <th>Administrative</th>\n",
       "      <th>Administrative_Duration</th>\n",
       "      <th>Informational</th>\n",
       "      <th>Informational_Duration</th>\n",
       "      <th>ProductRelated</th>\n",
       "      <th>ProductRelated_Duration</th>\n",
       "      <th>BounceRates</th>\n",
       "      <th>ExitRates</th>\n",
       "      <th>PageValues</th>\n",
       "      <th>SpecialDay</th>\n",
       "      <th>Month</th>\n",
       "      <th>OperatingSystems</th>\n",
       "      <th>Browser</th>\n",
       "      <th>Region</th>\n",
       "      <th>TrafficType</th>\n",
       "      <th>Weekend</th>\n",
       "      <th>Revenue</th>\n",
       "    </tr>\n",
       "    <tr>\n",
       "      <th>VisitorType</th>\n",
       "      <th></th>\n",
       "      <th></th>\n",
       "      <th></th>\n",
       "      <th></th>\n",
       "      <th></th>\n",
       "      <th></th>\n",
       "      <th></th>\n",
       "      <th></th>\n",
       "      <th></th>\n",
       "      <th></th>\n",
       "      <th></th>\n",
       "      <th></th>\n",
       "      <th></th>\n",
       "      <th></th>\n",
       "      <th></th>\n",
       "      <th></th>\n",
       "      <th></th>\n",
       "    </tr>\n",
       "  </thead>\n",
       "  <tbody>\n",
       "    <tr>\n",
       "      <th>New_Visitor</th>\n",
       "      <td>1694</td>\n",
       "      <td>1694</td>\n",
       "      <td>1694</td>\n",
       "      <td>1694</td>\n",
       "      <td>1694</td>\n",
       "      <td>1694</td>\n",
       "      <td>1694</td>\n",
       "      <td>1694</td>\n",
       "      <td>1694</td>\n",
       "      <td>1694</td>\n",
       "      <td>1694</td>\n",
       "      <td>1694</td>\n",
       "      <td>1694</td>\n",
       "      <td>1694</td>\n",
       "      <td>1694</td>\n",
       "      <td>1694</td>\n",
       "      <td>1694</td>\n",
       "    </tr>\n",
       "    <tr>\n",
       "      <th>Returning_Visitor</th>\n",
       "      <td>10636</td>\n",
       "      <td>10636</td>\n",
       "      <td>10636</td>\n",
       "      <td>10636</td>\n",
       "      <td>10636</td>\n",
       "      <td>10636</td>\n",
       "      <td>10636</td>\n",
       "      <td>10636</td>\n",
       "      <td>10636</td>\n",
       "      <td>10636</td>\n",
       "      <td>10636</td>\n",
       "      <td>10636</td>\n",
       "      <td>10636</td>\n",
       "      <td>10636</td>\n",
       "      <td>10636</td>\n",
       "      <td>10636</td>\n",
       "      <td>10636</td>\n",
       "    </tr>\n",
       "  </tbody>\n",
       "</table>\n",
       "</div>"
      ],
      "text/plain": [
       "                   Administrative  Administrative_Duration  Informational  \\\n",
       "VisitorType                                                                 \n",
       "New_Visitor                  1694                     1694           1694   \n",
       "Returning_Visitor           10636                    10636          10636   \n",
       "\n",
       "                   Informational_Duration  ProductRelated  \\\n",
       "VisitorType                                                 \n",
       "New_Visitor                          1694            1694   \n",
       "Returning_Visitor                   10636           10636   \n",
       "\n",
       "                   ProductRelated_Duration  BounceRates  ExitRates  \\\n",
       "VisitorType                                                          \n",
       "New_Visitor                           1694         1694       1694   \n",
       "Returning_Visitor                    10636        10636      10636   \n",
       "\n",
       "                   PageValues  SpecialDay  Month  OperatingSystems  Browser  \\\n",
       "VisitorType                                                                   \n",
       "New_Visitor              1694        1694   1694              1694     1694   \n",
       "Returning_Visitor       10636       10636  10636             10636    10636   \n",
       "\n",
       "                   Region  TrafficType  Weekend  Revenue  \n",
       "VisitorType                                               \n",
       "New_Visitor          1694         1694     1694     1694  \n",
       "Returning_Visitor   10636        10636    10636    10636  "
      ]
     },
     "execution_count": 4,
     "metadata": {},
     "output_type": "execute_result"
    }
   ],
   "source": [
    "# Pipeline - Initial Imputation of Categorical Features:\n",
    "\n",
    "## Replace the VisitorType 'Other' with the variable's mode, namely: 'Returning_Visitor'\n",
    "df['VisitorType'] = df['VisitorType'].replace('Other','Returning_Visitor')\n",
    "df.groupby('VisitorType').count()"
   ]
  },
  {
   "cell_type": "code",
   "execution_count": 5,
   "metadata": {},
   "outputs": [
    {
     "data": {
      "text/html": [
       "<div>\n",
       "<style scoped>\n",
       "    .dataframe tbody tr th:only-of-type {\n",
       "        vertical-align: middle;\n",
       "    }\n",
       "\n",
       "    .dataframe tbody tr th {\n",
       "        vertical-align: top;\n",
       "    }\n",
       "\n",
       "    .dataframe thead th {\n",
       "        text-align: right;\n",
       "    }\n",
       "</style>\n",
       "<table border=\"1\" class=\"dataframe\">\n",
       "  <thead>\n",
       "    <tr style=\"text-align: right;\">\n",
       "      <th></th>\n",
       "      <th>Administrative</th>\n",
       "      <th>Administrative_Duration</th>\n",
       "      <th>Informational</th>\n",
       "      <th>Informational_Duration</th>\n",
       "      <th>ProductRelated</th>\n",
       "      <th>ProductRelated_Duration</th>\n",
       "      <th>BounceRates</th>\n",
       "      <th>ExitRates</th>\n",
       "      <th>PageValues</th>\n",
       "      <th>SpecialDay</th>\n",
       "      <th>Month</th>\n",
       "      <th>OperatingSystems</th>\n",
       "      <th>Browser</th>\n",
       "      <th>Region</th>\n",
       "      <th>TrafficType</th>\n",
       "      <th>VisitorType</th>\n",
       "      <th>Weekend</th>\n",
       "      <th>Revenue</th>\n",
       "    </tr>\n",
       "  </thead>\n",
       "  <tbody>\n",
       "    <tr>\n",
       "      <th>2624</th>\n",
       "      <td>1</td>\n",
       "      <td>1.000000</td>\n",
       "      <td>1</td>\n",
       "      <td>1.0</td>\n",
       "      <td>10</td>\n",
       "      <td>532.000000</td>\n",
       "      <td>1.000000</td>\n",
       "      <td>1.011111</td>\n",
       "      <td>1.000000</td>\n",
       "      <td>0.8</td>\n",
       "      <td>May</td>\n",
       "      <td>4</td>\n",
       "      <td>1</td>\n",
       "      <td>1</td>\n",
       "      <td>2</td>\n",
       "      <td>Returning_Visitor</td>\n",
       "      <td>False</td>\n",
       "      <td>False</td>\n",
       "    </tr>\n",
       "    <tr>\n",
       "      <th>9535</th>\n",
       "      <td>1</td>\n",
       "      <td>1.000000</td>\n",
       "      <td>1</td>\n",
       "      <td>1.0</td>\n",
       "      <td>65</td>\n",
       "      <td>1691.778409</td>\n",
       "      <td>1.014286</td>\n",
       "      <td>1.025219</td>\n",
       "      <td>1.000000</td>\n",
       "      <td>0.0</td>\n",
       "      <td>Dec</td>\n",
       "      <td>1</td>\n",
       "      <td>1</td>\n",
       "      <td>3</td>\n",
       "      <td>2</td>\n",
       "      <td>Returning_Visitor</td>\n",
       "      <td>False</td>\n",
       "      <td>False</td>\n",
       "    </tr>\n",
       "    <tr>\n",
       "      <th>4642</th>\n",
       "      <td>8</td>\n",
       "      <td>625.200000</td>\n",
       "      <td>4</td>\n",
       "      <td>26.5</td>\n",
       "      <td>53</td>\n",
       "      <td>1888.158242</td>\n",
       "      <td>1.003509</td>\n",
       "      <td>1.011497</td>\n",
       "      <td>65.081263</td>\n",
       "      <td>0.0</td>\n",
       "      <td>May</td>\n",
       "      <td>2</td>\n",
       "      <td>2</td>\n",
       "      <td>2</td>\n",
       "      <td>4</td>\n",
       "      <td>Returning_Visitor</td>\n",
       "      <td>False</td>\n",
       "      <td>False</td>\n",
       "    </tr>\n",
       "    <tr>\n",
       "      <th>362</th>\n",
       "      <td>2</td>\n",
       "      <td>15.000000</td>\n",
       "      <td>1</td>\n",
       "      <td>1.0</td>\n",
       "      <td>5</td>\n",
       "      <td>66.000000</td>\n",
       "      <td>1.000000</td>\n",
       "      <td>1.050000</td>\n",
       "      <td>1.000000</td>\n",
       "      <td>0.0</td>\n",
       "      <td>Mar</td>\n",
       "      <td>2</td>\n",
       "      <td>4</td>\n",
       "      <td>3</td>\n",
       "      <td>1</td>\n",
       "      <td>Returning_Visitor</td>\n",
       "      <td>False</td>\n",
       "      <td>False</td>\n",
       "    </tr>\n",
       "    <tr>\n",
       "      <th>5598</th>\n",
       "      <td>4</td>\n",
       "      <td>44.200000</td>\n",
       "      <td>1</td>\n",
       "      <td>1.0</td>\n",
       "      <td>8</td>\n",
       "      <td>138.000000</td>\n",
       "      <td>1.000000</td>\n",
       "      <td>1.020000</td>\n",
       "      <td>1.000000</td>\n",
       "      <td>0.0</td>\n",
       "      <td>June</td>\n",
       "      <td>2</td>\n",
       "      <td>4</td>\n",
       "      <td>6</td>\n",
       "      <td>2</td>\n",
       "      <td>New_Visitor</td>\n",
       "      <td>True</td>\n",
       "      <td>False</td>\n",
       "    </tr>\n",
       "    <tr>\n",
       "      <th>9427</th>\n",
       "      <td>1</td>\n",
       "      <td>1.000000</td>\n",
       "      <td>1</td>\n",
       "      <td>1.0</td>\n",
       "      <td>5</td>\n",
       "      <td>33.000000</td>\n",
       "      <td>1.000000</td>\n",
       "      <td>1.050000</td>\n",
       "      <td>1.000000</td>\n",
       "      <td>0.0</td>\n",
       "      <td>Dec</td>\n",
       "      <td>2</td>\n",
       "      <td>2</td>\n",
       "      <td>3</td>\n",
       "      <td>2</td>\n",
       "      <td>Returning_Visitor</td>\n",
       "      <td>False</td>\n",
       "      <td>False</td>\n",
       "    </tr>\n",
       "    <tr>\n",
       "      <th>10975</th>\n",
       "      <td>2</td>\n",
       "      <td>1.000000</td>\n",
       "      <td>1</td>\n",
       "      <td>1.0</td>\n",
       "      <td>24</td>\n",
       "      <td>441.583333</td>\n",
       "      <td>1.025000</td>\n",
       "      <td>1.036667</td>\n",
       "      <td>1.000000</td>\n",
       "      <td>0.0</td>\n",
       "      <td>Dec</td>\n",
       "      <td>1</td>\n",
       "      <td>1</td>\n",
       "      <td>8</td>\n",
       "      <td>2</td>\n",
       "      <td>Returning_Visitor</td>\n",
       "      <td>True</td>\n",
       "      <td>False</td>\n",
       "    </tr>\n",
       "    <tr>\n",
       "      <th>9101</th>\n",
       "      <td>7</td>\n",
       "      <td>114.250000</td>\n",
       "      <td>3</td>\n",
       "      <td>20.0</td>\n",
       "      <td>24</td>\n",
       "      <td>2050.750000</td>\n",
       "      <td>1.022222</td>\n",
       "      <td>1.033333</td>\n",
       "      <td>96.354693</td>\n",
       "      <td>0.0</td>\n",
       "      <td>Dec</td>\n",
       "      <td>1</td>\n",
       "      <td>1</td>\n",
       "      <td>2</td>\n",
       "      <td>2</td>\n",
       "      <td>Returning_Visitor</td>\n",
       "      <td>False</td>\n",
       "      <td>True</td>\n",
       "    </tr>\n",
       "    <tr>\n",
       "      <th>5791</th>\n",
       "      <td>1</td>\n",
       "      <td>1.000000</td>\n",
       "      <td>1</td>\n",
       "      <td>1.0</td>\n",
       "      <td>32</td>\n",
       "      <td>486.633333</td>\n",
       "      <td>1.019355</td>\n",
       "      <td>1.038710</td>\n",
       "      <td>1.000000</td>\n",
       "      <td>0.0</td>\n",
       "      <td>Jul</td>\n",
       "      <td>2</td>\n",
       "      <td>2</td>\n",
       "      <td>1</td>\n",
       "      <td>4</td>\n",
       "      <td>Returning_Visitor</td>\n",
       "      <td>False</td>\n",
       "      <td>False</td>\n",
       "    </tr>\n",
       "    <tr>\n",
       "      <th>2809</th>\n",
       "      <td>2</td>\n",
       "      <td>1.000000</td>\n",
       "      <td>1</td>\n",
       "      <td>1.0</td>\n",
       "      <td>4</td>\n",
       "      <td>23.000000</td>\n",
       "      <td>1.066667</td>\n",
       "      <td>1.100000</td>\n",
       "      <td>1.000000</td>\n",
       "      <td>0.8</td>\n",
       "      <td>May</td>\n",
       "      <td>2</td>\n",
       "      <td>2</td>\n",
       "      <td>1</td>\n",
       "      <td>6</td>\n",
       "      <td>Returning_Visitor</td>\n",
       "      <td>False</td>\n",
       "      <td>False</td>\n",
       "    </tr>\n",
       "    <tr>\n",
       "      <th>7618</th>\n",
       "      <td>2</td>\n",
       "      <td>5.000000</td>\n",
       "      <td>2</td>\n",
       "      <td>1.0</td>\n",
       "      <td>23</td>\n",
       "      <td>361.650000</td>\n",
       "      <td>1.000000</td>\n",
       "      <td>1.010370</td>\n",
       "      <td>2.453923</td>\n",
       "      <td>0.0</td>\n",
       "      <td>Oct</td>\n",
       "      <td>2</td>\n",
       "      <td>2</td>\n",
       "      <td>1</td>\n",
       "      <td>2</td>\n",
       "      <td>Returning_Visitor</td>\n",
       "      <td>False</td>\n",
       "      <td>True</td>\n",
       "    </tr>\n",
       "    <tr>\n",
       "      <th>9454</th>\n",
       "      <td>1</td>\n",
       "      <td>1.000000</td>\n",
       "      <td>1</td>\n",
       "      <td>1.0</td>\n",
       "      <td>13</td>\n",
       "      <td>116.000000</td>\n",
       "      <td>1.083333</td>\n",
       "      <td>1.100000</td>\n",
       "      <td>1.000000</td>\n",
       "      <td>0.0</td>\n",
       "      <td>Dec</td>\n",
       "      <td>3</td>\n",
       "      <td>2</td>\n",
       "      <td>8</td>\n",
       "      <td>1</td>\n",
       "      <td>Returning_Visitor</td>\n",
       "      <td>False</td>\n",
       "      <td>False</td>\n",
       "    </tr>\n",
       "    <tr>\n",
       "      <th>8733</th>\n",
       "      <td>4</td>\n",
       "      <td>100.750000</td>\n",
       "      <td>1</td>\n",
       "      <td>1.0</td>\n",
       "      <td>32</td>\n",
       "      <td>836.583333</td>\n",
       "      <td>1.000000</td>\n",
       "      <td>1.006452</td>\n",
       "      <td>48.448508</td>\n",
       "      <td>0.0</td>\n",
       "      <td>Nov</td>\n",
       "      <td>2</td>\n",
       "      <td>2</td>\n",
       "      <td>1</td>\n",
       "      <td>10</td>\n",
       "      <td>Returning_Visitor</td>\n",
       "      <td>False</td>\n",
       "      <td>True</td>\n",
       "    </tr>\n",
       "    <tr>\n",
       "      <th>6132</th>\n",
       "      <td>1</td>\n",
       "      <td>1.000000</td>\n",
       "      <td>1</td>\n",
       "      <td>1.0</td>\n",
       "      <td>13</td>\n",
       "      <td>147.133333</td>\n",
       "      <td>1.050000</td>\n",
       "      <td>1.066667</td>\n",
       "      <td>1.000000</td>\n",
       "      <td>0.0</td>\n",
       "      <td>Jul</td>\n",
       "      <td>2</td>\n",
       "      <td>2</td>\n",
       "      <td>1</td>\n",
       "      <td>1</td>\n",
       "      <td>Returning_Visitor</td>\n",
       "      <td>False</td>\n",
       "      <td>False</td>\n",
       "    </tr>\n",
       "    <tr>\n",
       "      <th>10488</th>\n",
       "      <td>1</td>\n",
       "      <td>1.000000</td>\n",
       "      <td>1</td>\n",
       "      <td>1.0</td>\n",
       "      <td>58</td>\n",
       "      <td>2168.126924</td>\n",
       "      <td>1.008182</td>\n",
       "      <td>1.017137</td>\n",
       "      <td>13.360043</td>\n",
       "      <td>0.0</td>\n",
       "      <td>Nov</td>\n",
       "      <td>3</td>\n",
       "      <td>2</td>\n",
       "      <td>3</td>\n",
       "      <td>1</td>\n",
       "      <td>Returning_Visitor</td>\n",
       "      <td>True</td>\n",
       "      <td>True</td>\n",
       "    </tr>\n",
       "    <tr>\n",
       "      <th>9153</th>\n",
       "      <td>9</td>\n",
       "      <td>165.625000</td>\n",
       "      <td>1</td>\n",
       "      <td>1.0</td>\n",
       "      <td>44</td>\n",
       "      <td>1111.579167</td>\n",
       "      <td>1.002083</td>\n",
       "      <td>1.010671</td>\n",
       "      <td>17.355940</td>\n",
       "      <td>0.0</td>\n",
       "      <td>Nov</td>\n",
       "      <td>2</td>\n",
       "      <td>2</td>\n",
       "      <td>3</td>\n",
       "      <td>3</td>\n",
       "      <td>Returning_Visitor</td>\n",
       "      <td>False</td>\n",
       "      <td>True</td>\n",
       "    </tr>\n",
       "    <tr>\n",
       "      <th>3674</th>\n",
       "      <td>7</td>\n",
       "      <td>94.500000</td>\n",
       "      <td>1</td>\n",
       "      <td>1.0</td>\n",
       "      <td>24</td>\n",
       "      <td>252.333333</td>\n",
       "      <td>1.000000</td>\n",
       "      <td>1.013768</td>\n",
       "      <td>1.000000</td>\n",
       "      <td>0.0</td>\n",
       "      <td>May</td>\n",
       "      <td>2</td>\n",
       "      <td>2</td>\n",
       "      <td>3</td>\n",
       "      <td>3</td>\n",
       "      <td>New_Visitor</td>\n",
       "      <td>False</td>\n",
       "      <td>False</td>\n",
       "    </tr>\n",
       "    <tr>\n",
       "      <th>6771</th>\n",
       "      <td>10</td>\n",
       "      <td>450.816667</td>\n",
       "      <td>1</td>\n",
       "      <td>1.0</td>\n",
       "      <td>18</td>\n",
       "      <td>201.950000</td>\n",
       "      <td>1.000000</td>\n",
       "      <td>1.024603</td>\n",
       "      <td>1.000000</td>\n",
       "      <td>0.0</td>\n",
       "      <td>Sep</td>\n",
       "      <td>2</td>\n",
       "      <td>2</td>\n",
       "      <td>1</td>\n",
       "      <td>2</td>\n",
       "      <td>Returning_Visitor</td>\n",
       "      <td>False</td>\n",
       "      <td>False</td>\n",
       "    </tr>\n",
       "    <tr>\n",
       "      <th>2079</th>\n",
       "      <td>6</td>\n",
       "      <td>130.500000</td>\n",
       "      <td>1</td>\n",
       "      <td>1.0</td>\n",
       "      <td>14</td>\n",
       "      <td>1508.333333</td>\n",
       "      <td>1.016667</td>\n",
       "      <td>1.028125</td>\n",
       "      <td>1.000000</td>\n",
       "      <td>0.0</td>\n",
       "      <td>Mar</td>\n",
       "      <td>2</td>\n",
       "      <td>2</td>\n",
       "      <td>3</td>\n",
       "      <td>2</td>\n",
       "      <td>Returning_Visitor</td>\n",
       "      <td>False</td>\n",
       "      <td>False</td>\n",
       "    </tr>\n",
       "    <tr>\n",
       "      <th>4462</th>\n",
       "      <td>4</td>\n",
       "      <td>406.166667</td>\n",
       "      <td>3</td>\n",
       "      <td>23.0</td>\n",
       "      <td>28</td>\n",
       "      <td>2043.250000</td>\n",
       "      <td>1.045977</td>\n",
       "      <td>1.067323</td>\n",
       "      <td>1.000000</td>\n",
       "      <td>0.6</td>\n",
       "      <td>May</td>\n",
       "      <td>2</td>\n",
       "      <td>2</td>\n",
       "      <td>1</td>\n",
       "      <td>6</td>\n",
       "      <td>Returning_Visitor</td>\n",
       "      <td>False</td>\n",
       "      <td>False</td>\n",
       "    </tr>\n",
       "  </tbody>\n",
       "</table>\n",
       "</div>"
      ],
      "text/plain": [
       "       Administrative  Administrative_Duration  Informational  \\\n",
       "2624                1                 1.000000              1   \n",
       "9535                1                 1.000000              1   \n",
       "4642                8               625.200000              4   \n",
       "362                 2                15.000000              1   \n",
       "5598                4                44.200000              1   \n",
       "9427                1                 1.000000              1   \n",
       "10975               2                 1.000000              1   \n",
       "9101                7               114.250000              3   \n",
       "5791                1                 1.000000              1   \n",
       "2809                2                 1.000000              1   \n",
       "7618                2                 5.000000              2   \n",
       "9454                1                 1.000000              1   \n",
       "8733                4               100.750000              1   \n",
       "6132                1                 1.000000              1   \n",
       "10488               1                 1.000000              1   \n",
       "9153                9               165.625000              1   \n",
       "3674                7                94.500000              1   \n",
       "6771               10               450.816667              1   \n",
       "2079                6               130.500000              1   \n",
       "4462                4               406.166667              3   \n",
       "\n",
       "       Informational_Duration  ProductRelated  ProductRelated_Duration  \\\n",
       "2624                      1.0              10               532.000000   \n",
       "9535                      1.0              65              1691.778409   \n",
       "4642                     26.5              53              1888.158242   \n",
       "362                       1.0               5                66.000000   \n",
       "5598                      1.0               8               138.000000   \n",
       "9427                      1.0               5                33.000000   \n",
       "10975                     1.0              24               441.583333   \n",
       "9101                     20.0              24              2050.750000   \n",
       "5791                      1.0              32               486.633333   \n",
       "2809                      1.0               4                23.000000   \n",
       "7618                      1.0              23               361.650000   \n",
       "9454                      1.0              13               116.000000   \n",
       "8733                      1.0              32               836.583333   \n",
       "6132                      1.0              13               147.133333   \n",
       "10488                     1.0              58              2168.126924   \n",
       "9153                      1.0              44              1111.579167   \n",
       "3674                      1.0              24               252.333333   \n",
       "6771                      1.0              18               201.950000   \n",
       "2079                      1.0              14              1508.333333   \n",
       "4462                     23.0              28              2043.250000   \n",
       "\n",
       "       BounceRates  ExitRates  PageValues  SpecialDay Month  OperatingSystems  \\\n",
       "2624      1.000000   1.011111    1.000000         0.8   May                 4   \n",
       "9535      1.014286   1.025219    1.000000         0.0   Dec                 1   \n",
       "4642      1.003509   1.011497   65.081263         0.0   May                 2   \n",
       "362       1.000000   1.050000    1.000000         0.0   Mar                 2   \n",
       "5598      1.000000   1.020000    1.000000         0.0  June                 2   \n",
       "9427      1.000000   1.050000    1.000000         0.0   Dec                 2   \n",
       "10975     1.025000   1.036667    1.000000         0.0   Dec                 1   \n",
       "9101      1.022222   1.033333   96.354693         0.0   Dec                 1   \n",
       "5791      1.019355   1.038710    1.000000         0.0   Jul                 2   \n",
       "2809      1.066667   1.100000    1.000000         0.8   May                 2   \n",
       "7618      1.000000   1.010370    2.453923         0.0   Oct                 2   \n",
       "9454      1.083333   1.100000    1.000000         0.0   Dec                 3   \n",
       "8733      1.000000   1.006452   48.448508         0.0   Nov                 2   \n",
       "6132      1.050000   1.066667    1.000000         0.0   Jul                 2   \n",
       "10488     1.008182   1.017137   13.360043         0.0   Nov                 3   \n",
       "9153      1.002083   1.010671   17.355940         0.0   Nov                 2   \n",
       "3674      1.000000   1.013768    1.000000         0.0   May                 2   \n",
       "6771      1.000000   1.024603    1.000000         0.0   Sep                 2   \n",
       "2079      1.016667   1.028125    1.000000         0.0   Mar                 2   \n",
       "4462      1.045977   1.067323    1.000000         0.6   May                 2   \n",
       "\n",
       "       Browser  Region  TrafficType        VisitorType  Weekend  Revenue  \n",
       "2624         1       1            2  Returning_Visitor    False    False  \n",
       "9535         1       3            2  Returning_Visitor    False    False  \n",
       "4642         2       2            4  Returning_Visitor    False    False  \n",
       "362          4       3            1  Returning_Visitor    False    False  \n",
       "5598         4       6            2        New_Visitor     True    False  \n",
       "9427         2       3            2  Returning_Visitor    False    False  \n",
       "10975        1       8            2  Returning_Visitor     True    False  \n",
       "9101         1       2            2  Returning_Visitor    False     True  \n",
       "5791         2       1            4  Returning_Visitor    False    False  \n",
       "2809         2       1            6  Returning_Visitor    False    False  \n",
       "7618         2       1            2  Returning_Visitor    False     True  \n",
       "9454         2       8            1  Returning_Visitor    False    False  \n",
       "8733         2       1           10  Returning_Visitor    False     True  \n",
       "6132         2       1            1  Returning_Visitor    False    False  \n",
       "10488        2       3            1  Returning_Visitor     True     True  \n",
       "9153         2       3            3  Returning_Visitor    False     True  \n",
       "3674         2       3            3        New_Visitor    False    False  \n",
       "6771         2       1            2  Returning_Visitor    False    False  \n",
       "2079         2       3            2  Returning_Visitor    False    False  \n",
       "4462         2       1            6  Returning_Visitor    False    False  "
      ]
     },
     "metadata": {},
     "output_type": "display_data"
    }
   ],
   "source": [
    "# Initial Log Transformation Continuous Features\n",
    "\n",
    "impute1_list =['Administrative','Administrative_Duration','Informational','Informational_Duration','ProductRelated','ProductRelated_Duration','BounceRates','ExitRates','PageValues']\n",
    "\n",
    "# Impute Zeros before doing the log\n",
    "for column in impute1_list:\n",
    "    df[column] = df[column] + 1\n",
    "\n",
    "display(df.sample(20))\n",
    "\n",
    "# df['PageValues'] = df['PageValues'] + 1\n",
    "\n",
    "df['PageValues_Log'] = np.log(df['PageValues'])"
   ]
  },
  {
   "cell_type": "code",
   "execution_count": 6,
   "metadata": {},
   "outputs": [],
   "source": [
    "def holiday_bin_func(month) :\n",
    "    if month == 'May':\n",
    "        return int(1)\n",
    "    elif month == 'Feb':\n",
    "        return int(1)\n",
    "    else:\n",
    "        return int(0)\n",
    "    \n",
    "df['Holiday_Bin'] = df['Month'].apply(holiday_bin_func)\n",
    "\n",
    "##Reduce months to the top 4 in which there are transactions and \"other\"\n",
    "def month_bin_func(month) :\n",
    "    if month == 'May':\n",
    "        return int(5)\n",
    "    elif month == 'Nov':\n",
    "        return int(11)\n",
    "    elif month == 'Mar':\n",
    "        return int(3)\n",
    "    elif month == 'Dec':\n",
    "        return int(12)\n",
    "    else:\n",
    "        return int(0)\n",
    "    \n",
    "df['Month_Bin'] = df['Month'].apply(month_bin_func)\n",
    "\n",
    "\n",
    "##Encode month names to numerical representations\n",
    "\n",
    "def month_func(month) :\n",
    "    if month == 'Jan':\n",
    "        return int(1)\n",
    "    elif month == 'Feb':\n",
    "        return int(2)\n",
    "    elif month == 'Mar':\n",
    "        return int(3)\n",
    "    elif month == 'Apr':\n",
    "        return int(4)\n",
    "    elif month == 'May':\n",
    "        return int(5)\n",
    "    elif month == 'June':\n",
    "        return int(6)\n",
    "    elif month == 'Jul':\n",
    "        return int(7)\n",
    "    elif month == 'Aug':\n",
    "        return int(8)\n",
    "    elif month == 'Sep':\n",
    "        return int(9)\n",
    "    elif month == 'Oct':\n",
    "        return int(10)\n",
    "    elif month == 'Nov':\n",
    "        return int(11)\n",
    "    elif month == 'Dec':\n",
    "        return int(12)\n",
    "\n",
    "df['Month'] = df['Month'].apply(month_func)\n",
    "\n",
    "def month_quarterly_func(month) :\n",
    "    if month <= 3:\n",
    "        return int(1)\n",
    "    elif month >= 4 and month <= 6:\n",
    "        return int(2)\n",
    "    elif month >= 7 and month <= 9:\n",
    "        return int(3)\n",
    "    elif month >= 10 and month <= 12:\n",
    "        return int(4)\n",
    "\n",
    "df['Quarter'] = df['Month'].apply(month_quarterly_func)"
   ]
  },
  {
   "cell_type": "code",
   "execution_count": 7,
   "metadata": {},
   "outputs": [],
   "source": [
    "# Encode Revenue before splitting the data to allow for modeling\n",
    "\n",
    "enc = LabelEncoder()\n",
    "\n",
    "df['VisitorType'] = enc.fit_transform(df['VisitorType'])\n",
    "df['Weekend'] = enc.fit_transform(df['Weekend'])\n",
    "df['Revenue'] = enc.fit_transform(df['Revenue'])"
   ]
  },
  {
   "cell_type": "code",
   "execution_count": 9,
   "metadata": {},
   "outputs": [],
   "source": [
    "#Create 'Admin_per_Exit' to enable us to retain two highly correlated variables (i.e., 'Administrative' and 'ExitRates') since both are highly correlated with the target\n",
    "df['Admin_per_Exit'] = df['Administrative'] / df['ExitRates'] # average the denominator 'Bounce_Exit_Rate_Avg'\n",
    "df['Admin_per_Bounce'] = df['Administrative'] / df['BounceRates'] # average the denominator 'Bounce_Exit_Rate_Avg'\n",
    "df['Admin_dur_per_Exit'] = df['Administrative_Duration'] / df['ExitRates'] # average the denominator 'Bounce_Exit_Rate_Avg'\n",
    "df['Admin_dur_per_Bounce'] = df['Administrative_Duration'] / df['BounceRates'] # average the denominator 'Bounce_Exit_Rate_Avg'\n",
    "\n",
    "#Create 'Admin_per_Exit' to enable us to retain two highly correlated variables (i.e., 'Administrative' and 'ExitRates') since both are highly correlated with the target\n",
    "df['Info_per_Exit'] = df['Informational'] / df['ExitRates'] # average the denominator 'Bounce_Exit_Rate_Avg'\n",
    "df['Info_per_Bounce'] = df['Informational'] / df['BounceRates'] # average the denominator 'Bounce_Exit_Rate_Avg'\n",
    "df['Info_dur_per_Exit'] = df['Informational_Duration'] / df['ExitRates'] # average the denominator 'Bounce_Exit_Rate_Avg'\n",
    "df['Info_dur_per_Bounce'] = df['Informational_Duration'] / df['BounceRates'] # average the denominator 'Bounce_Exit_Rate_Avg'\n",
    "\n",
    "#Create 'Admin_per_Exit' to enable us to retain two highly correlated variables (i.e., 'Administrative' and 'ExitRates') since both are highly correlated with the target\n",
    "df['Product_per_Exit'] = df['ProductRelated'] / df['ExitRates'] # average the denominator 'Bounce_Exit_Rate_Avg'\n",
    "df['Product_per_Bounce'] = df['ProductRelated'] / df['BounceRates'] # average the denominator 'Bounce_Exit_Rate_Avg'\n",
    "df['Product_dur_per_Exit'] = df['ProductRelated_Duration'] / df['ExitRates'] # average the denominator 'Bounce_Exit_Rate_Avg'\n",
    "df['Product_dur_per_Bounce'] = df['ProductRelated_Duration'] / df['BounceRates'] # average the denominator 'Bounce_Exit_Rate_Avg'\n",
    "\n",
    "#Create 'Bounce_Exit_Rate_Avg' to enable us to retain two highly correlated variables (i.e., 'BounceRates' and 'ExitRates') since both are highly correlated with the target\n",
    "df['Bounce_Exit_Rate_Avg'] = (df['BounceRates'] + df['ExitRates'])/2\n",
    "df['Bounce_Exit_Rate_WeightedAvg'] = ((df['BounceRates']*.6) + (df['ExitRates']*.4))\n",
    "df['Bounce_Exit_Rate_Avg_PageVales'] = (df['Bounce_Exit_Rate_Avg'] / df['PageValues']) # add a chart to compare the trends and distributions\n",
    "\n",
    "df['Admin_per_bounce_exit_avg'] = df['Administrative'] / df['Bounce_Exit_Rate_Avg'] # average the denominator 'Bounce_Exit_Rate_Avg'\n",
    "df['Admin_dur_per_bounce_exit_avg'] = df['Administrative_Duration'] / df['Bounce_Exit_Rate_Avg'] # average the denominator 'Bounce_Exit_Rate_Avg'\n",
    "df['Admin_per_bounce_exit_avg'] = df['Administrative'] / df['Bounce_Exit_Rate_Avg'] # average the denominator 'Bounce_Exit_Rate_Avg'\n",
    "df['Admin_dur_per_bounce_exit_avg'] = df['Informational_Duration'] / df['Bounce_Exit_Rate_Avg'] # average the denominator 'Bounce_Exit_Rate_Avg'\n",
    "df['Admin_per_bounce_exit_avg'] = df['Administrative'] / df['Bounce_Exit_Rate_Avg'] # average the denominator 'Bounce_Exit_Rate_Avg'\n",
    "df['Admin_dur_per_bounce_exit_avg'] = df['ProductRelated_Duration'] / df['Bounce_Exit_Rate_Avg'] # average the denominator 'Bounce_Exit_Rate_Avg'\n",
    "\n",
    "\n",
    "df['Bounce_Exit_Rate_lin_combo2'] = ((df['ExitRates']*1) + (df['BounceRates']*2))\n",
    "df['Bounce_Exit_Rate_lin_combo3'] = ((df['ExitRates']*1) + (df['BounceRates']*3))\n",
    "df['Bounce_Exit_Rate_lin_combo4'] = ((df['ExitRates']*1) + (df['BounceRates']*4))\n",
    "df['Bounce_Exit_Rate_lin_combo5'] = ((df['ExitRates']*1) + (df['BounceRates']*5))\n",
    "\n",
    "df['Bounce_Exit_Rate_lin_combo7'] = ((df['BounceRates']*1) + (df['ExitRates']*2))\n",
    "df['Bounce_Exit_Rate_lin_combo8'] = ((df['BounceRates']*1) + (df['ExitRates']*3))\n",
    "df['Bounce_Exit_Rate_lin_combo9'] = ((df['BounceRates']*1) + (df['ExitRates']*4))\n",
    "df['Bounce_Exit_Rate_lin_combo10'] = ((df['BounceRates']*1) + (df['ExitRates']*5))\n",
    "\n",
    "df['Bounce_Exit_Rate_lin_combo11'] = ((df['BounceRates']*2) + (df['ExitRates']*2))\n",
    "df['Bounce_Exit_Rate_lin_combo12'] = ((df['BounceRates']*3) + (df['ExitRates']*3))\n",
    "df['Bounce_Exit_Rate_lin_combo13'] = ((df['BounceRates']*4) + (df['ExitRates']*4))\n",
    "df['Bounce_Exit_Rate_lin_combo14'] = ((df['BounceRates']*5) + (df['ExitRates']*5))\n",
    "\n",
    "\n",
    "#Create 'Bounce_per_Exit_Rate' to enable us to retain two highly correlated variables (i.e., 'BounceRates' and 'ExitRates') since both are highly correlated with the target\n",
    "df['Bounce_per_Exit_Rate'] = df['BounceRates'] / df['ExitRates']\n",
    "\n",
    "#Create 'Total_Duration' and 'Total_Duration_Avg' to enable us to assess total and average duration, respectively.\n",
    "df['Total_Duration'] = df['Administrative_Duration'] + df['Informational_Duration'] + df['ProductRelated_Duration']\n",
    "df['Total_Duration_Avg'] = (df['Total_Duration'])/3\n",
    "df['Admin_Duration_percent_TotalDuration'] = df['Administrative_Duration'] / df['Total_Duration']\n",
    "df['Info_Duration_percent_TotalDuration'] = df['Informational_Duration'] / df['Total_Duration']\n",
    "df['Product_Duration_percent_TotalDuration'] = df['ProductRelated_Duration'] / df['Total_Duration']\n",
    "df['TotalDuration_per_PageValues'] = df['Total_Duration'] / df['PageValues']\n",
    "df['TotalDuration_per_ExitRates'] = df['Total_Duration'] / df['ExitRates']\n",
    "df['TotalDuration_per_BounceRates'] = df['Total_Duration'] / df['BounceRates']\n",
    "df['TotalDuration_per_BounceExit_avg'] = df['Total_Duration'] / df['Bounce_Exit_Rate_Avg']\n",
    "df['TotalDuration_per_BounceExit_lin3'] = df['Total_Duration'] / df['Bounce_Exit_Rate_lin_combo3']\n",
    "df['TotalDuration_per_BounceExit_lin8'] = df['Total_Duration'] / df['Bounce_Exit_Rate_lin_combo8']\n",
    "df['TotalDuration_per_BounceExit_lin12'] = df['Total_Duration'] / df['Bounce_Exit_Rate_lin_combo12']\n",
    "\n",
    "#Create 'Admin_per_Exit' to enable us to retain two highly correlated variables (i.e., 'Administrative' and 'ExitRates') since both are highly correlated with the target\n",
    "df['Admin_per_PageValues'] = df['Administrative'] / df['PageValues']\n",
    "df['AdminDuration_per_PageValues'] = df['Administrative_Duration'] / df['PageValues']\n",
    "\n",
    "#Create 'Admin_per_Exit' to enable us to retain two highly correlated variables (i.e., 'Administrative' and 'ExitRates') since both are highly correlated with the target\n",
    "df['Informational_per_PageValues'] = df['Informational'] / df['PageValues']\n",
    "df['Info_Duration_per_PageValues'] = df['Informational_Duration'] / df['PageValues']\n",
    "\n",
    "#Create 'Admin_per_Exit' to enable us to retain two highly correlated variables (i.e., 'Administrative' and 'ExitRates') since both are highly correlated with the target\n",
    "df['ProductRelated_per_PageValues'] = df['ProductRelated'] / df['PageValues']\n",
    "df['Product_Duration_per_PageValues'] = df['ProductRelated_Duration'] / df['PageValues']\n",
    "\n",
    "#Create 'Admin_per_Exit' to enable us to retain two highly correlated variables (i.e., 'Administrative' and 'ExitRates') since both are highly correlated with the target\n",
    "df['Exit_per_PageValues'] = df['ExitRates'] / df['PageValues']\n",
    "\n",
    "#Create 'Admin_per_Exit' to enable us to retain two highly correlated variables (i.e., 'Administrative' and 'ExitRates') since both are highly correlated with the target\n",
    "df['Bounce_per_PageValues'] = df['BounceRates'] / df['PageValues']\n",
    "\n",
    "# calcualted_cols = ['Admin_per_Exit', 'Admin_per_Bounce', 'Bounce_Exit_Rate_Avg', 'Bounce_Exit_Rate_WeightedAvg', 'Bounce_per_Exit_Rate', 'Total_Duration','Total_Duration_Avg','Admin_Duration_percent_TotalDuration',\\\n",
    "#            'Info_Duration_percent_TotalDuration','Product_Duration_percent_TotalDuration','TotalDuration_per_PageValues', 'Admin_per_PageValues', 'AdminDuration_per_PageValues', 'Informational_per_PageValues',\\\n",
    "#            'Info_Duration_per_PageValues','ProductRelated_per_PageValues', 'Product_Duration_per_PageValues', 'Exit_per_PageValues', 'Bounce_per_PageValues','Revenue']\n",
    "\n",
    "# display(df[calcualted_cols].sample(20))"
   ]
  },
  {
   "cell_type": "code",
   "execution_count": 100,
   "metadata": {},
   "outputs": [],
   "source": [
    "# Correlation Heatmap for the data\n",
    "df_calculated = df.iloc[:,-54:]\n",
    "y = df.loc[:,'Revenue']"
   ]
  },
  {
   "cell_type": "code",
   "execution_count": 23,
   "metadata": {},
   "outputs": [
    {
     "data": {
      "text/plain": [
       "Index(['Administrative', 'Administrative_Duration', 'Informational',\n",
       "       'Informational_Duration', 'ProductRelated', 'ProductRelated_Duration',\n",
       "       'BounceRates', 'ExitRates', 'PageValues', 'SpecialDay', 'Month',\n",
       "       'OperatingSystems', 'Browser', 'Region', 'TrafficType', 'VisitorType',\n",
       "       'Weekend', 'Revenue', 'PageValues_Log', 'Holiday_Bin', 'Month_Bin',\n",
       "       'Quarter', 'Admin_per_Exit', 'Admin_per_Bounce', 'Admin_dur_per_Exit',\n",
       "       'Admin_dur_per_Bounce', 'Info_per_Exit', 'Info_per_Bounce',\n",
       "       'Info_dur_per_Exit', 'Info_dur_per_Bounce', 'Product_per_Exit',\n",
       "       'Product_per_Bounce', 'Product_dur_per_Exit', 'Product_dur_per_Bounce',\n",
       "       'Bounce_Exit_Rate_Avg', 'Bounce_Exit_Rate_WeightedAvg',\n",
       "       'Bounce_Exit_Rate_Avg_PageVales', 'Admin_per_bounce_exit_avg',\n",
       "       'Admin_dur_per_bounce_exit_avg', 'Bounce_Exit_Rate_lin_combo2',\n",
       "       'Bounce_Exit_Rate_lin_combo3', 'Bounce_Exit_Rate_lin_combo4',\n",
       "       'Bounce_Exit_Rate_lin_combo5', 'Bounce_Exit_Rate_lin_combo7',\n",
       "       'Bounce_Exit_Rate_lin_combo8', 'Bounce_Exit_Rate_lin_combo9',\n",
       "       'Bounce_Exit_Rate_lin_combo10', 'Bounce_Exit_Rate_lin_combo11',\n",
       "       'Bounce_Exit_Rate_lin_combo12', 'Bounce_Exit_Rate_lin_combo13',\n",
       "       'Bounce_Exit_Rate_lin_combo14', 'Bounce_per_Exit_Rate',\n",
       "       'Total_Duration', 'Total_Duration_Avg',\n",
       "       'Admin_Duration_percent_TotalDuration',\n",
       "       'Info_Duration_percent_TotalDuration',\n",
       "       'Product_Duration_percent_TotalDuration',\n",
       "       'TotalDuration_per_PageValues', 'TotalDuration_per_ExitRates',\n",
       "       'TotalDuration_per_BounceRates', 'TotalDuration_per_BounceExit_avg',\n",
       "       'TotalDuration_per_BounceExit_lin3',\n",
       "       'TotalDuration_per_BounceExit_lin8',\n",
       "       'TotalDuration_per_BounceExit_lin12', 'Admin_per_PageValues',\n",
       "       'AdminDuration_per_PageValues', 'Informational_per_PageValues',\n",
       "       'Info_Duration_per_PageValues', 'ProductRelated_per_PageValues',\n",
       "       'Product_Duration_per_PageValues', 'Exit_per_PageValues',\n",
       "       'Bounce_per_PageValues'],\n",
       "      dtype='object')"
      ]
     },
     "execution_count": 23,
     "metadata": {},
     "output_type": "execute_result"
    }
   ],
   "source": [
    "df.columns"
   ]
  },
  {
   "cell_type": "code",
   "execution_count": 109,
   "metadata": {},
   "outputs": [],
   "source": [
    "x_cols =['SpecialDay', 'Month',\n",
    "       'OperatingSystems', 'Browser', 'Region', 'TrafficType', 'VisitorType',\n",
    "       'Weekend', 'PageValues_Log', 'Holiday_Bin', 'Month_Bin',\n",
    "       'Quarter', 'Admin_per_Exit', 'Admin_per_Bounce', 'Admin_dur_per_Exit',\n",
    "       'Admin_dur_per_Bounce', 'Info_per_Exit', 'Info_per_Bounce',\n",
    "       'Info_dur_per_Exit', 'Info_dur_per_Bounce', 'Product_per_Exit',\n",
    "       'Product_per_Bounce', 'Product_dur_per_Exit', 'Product_dur_per_Bounce',\n",
    "       'Bounce_Exit_Rate_Avg', 'Bounce_Exit_Rate_WeightedAvg',\n",
    "       'Bounce_Exit_Rate_Avg_PageVales', 'Admin_per_bounce_exit_avg',\n",
    "       'Admin_dur_per_bounce_exit_avg', 'Bounce_Exit_Rate_lin_combo2',\n",
    "       'Bounce_Exit_Rate_lin_combo3', 'Bounce_Exit_Rate_lin_combo4',\n",
    "       'Bounce_Exit_Rate_lin_combo5', 'Bounce_Exit_Rate_lin_combo7',\n",
    "       'Bounce_Exit_Rate_lin_combo8', 'Bounce_Exit_Rate_lin_combo9',\n",
    "       'Bounce_Exit_Rate_lin_combo10', 'Bounce_Exit_Rate_lin_combo11',\n",
    "       'Bounce_Exit_Rate_lin_combo12', 'Bounce_Exit_Rate_lin_combo13',\n",
    "       'Bounce_Exit_Rate_lin_combo14', 'Bounce_per_Exit_Rate',\n",
    "       'Total_Duration', 'Total_Duration_Avg',\n",
    "       'Admin_Duration_percent_TotalDuration',\n",
    "       'Info_Duration_percent_TotalDuration',\n",
    "       'Product_Duration_percent_TotalDuration',\n",
    "       'TotalDuration_per_PageValues', 'TotalDuration_per_ExitRates',\n",
    "       'TotalDuration_per_BounceRates', 'TotalDuration_per_BounceExit_avg',\n",
    "       'TotalDuration_per_BounceExit_lin3',\n",
    "       'TotalDuration_per_BounceExit_lin8',\n",
    "       'TotalDuration_per_BounceExit_lin12', 'Admin_per_PageValues',\n",
    "       'AdminDuration_per_PageValues', 'Informational_per_PageValues',\n",
    "       'Info_Duration_per_PageValues', 'ProductRelated_per_PageValues',\n",
    "       'Product_Duration_per_PageValues', 'Exit_per_PageValues',\n",
    "       'Bounce_per_PageValues']"
   ]
  },
  {
   "cell_type": "code",
   "execution_count": 110,
   "metadata": {},
   "outputs": [],
   "source": [
    "Calculated_Corr_df = pd.DataFrame(df_calculated.corrwith(y,method='spearman'))"
   ]
  },
  {
   "cell_type": "code",
   "execution_count": 111,
   "metadata": {},
   "outputs": [
    {
     "data": {
      "text/plain": [
       "Informational_per_PageValues             -0.488708\n",
       "Bounce_per_PageValues                    -0.477998\n",
       "Exit_per_PageValues                      -0.476278\n",
       "Bounce_Exit_Rate_Avg_PageVales           -0.475882\n",
       "Admin_per_PageValues                     -0.392895\n",
       "ProductRelated_per_PageValues            -0.320409\n",
       "Info_Duration_per_PageValues             -0.294618\n",
       "Bounce_Exit_Rate_lin_combo10             -0.254663\n",
       "Bounce_Exit_Rate_lin_combo9              -0.254569\n",
       "Bounce_Exit_Rate_lin_combo8              -0.254409\n",
       "Bounce_Exit_Rate_lin_combo7              -0.253711\n",
       "Bounce_Exit_Rate_lin_combo12             -0.250304\n",
       "Bounce_Exit_Rate_lin_combo14             -0.250287\n",
       "Bounce_Exit_Rate_lin_combo11             -0.250266\n",
       "Bounce_Exit_Rate_Avg                     -0.250266\n",
       "Bounce_Exit_Rate_lin_combo13             -0.250266\n",
       "Bounce_Exit_Rate_WeightedAvg             -0.246379\n",
       "Bounce_Exit_Rate_lin_combo2              -0.242538\n",
       "Bounce_Exit_Rate_lin_combo3              -0.235294\n",
       "TotalDuration_per_PageValues             -0.230799\n",
       "Bounce_Exit_Rate_lin_combo4              -0.229256\n",
       "Product_Duration_per_PageValues          -0.225622\n",
       "Bounce_Exit_Rate_lin_combo5              -0.224363\n",
       "AdminDuration_per_PageValues             -0.111711\n",
       "Info_Duration_percent_TotalDuration      -0.098964\n",
       "Holiday_Bin                              -0.089675\n",
       "Admin_Duration_percent_TotalDuration     -0.000693\n",
       "Product_Duration_percent_TotalDuration    0.001008\n",
       "Month_Bin                                 0.055769\n",
       "Bounce_per_Exit_Rate                      0.123448\n",
       "Quarter                                   0.134827\n",
       "Info_dur_per_Bounce                       0.178997\n",
       "Info_per_Bounce                           0.180960\n",
       "Admin_dur_per_Bounce                      0.188103\n",
       "Admin_per_Bounce                          0.193758\n",
       "Product_per_Bounce                        0.201153\n",
       "Product_per_Exit                          0.202234\n",
       "Admin_dur_per_Exit                        0.209971\n",
       "Admin_per_bounce_exit_avg                 0.214471\n",
       "Admin_per_Exit                            0.215230\n",
       "Product_dur_per_Bounce                    0.218334\n",
       "Admin_dur_per_bounce_exit_avg             0.218844\n",
       "Product_dur_per_Exit                      0.219337\n",
       "Total_Duration                            0.220721\n",
       "Total_Duration_Avg                        0.220721\n",
       "TotalDuration_per_BounceRates             0.222098\n",
       "TotalDuration_per_BounceExit_lin3         0.222348\n",
       "TotalDuration_per_BounceExit_lin12        0.222584\n",
       "TotalDuration_per_BounceExit_avg          0.222584\n",
       "TotalDuration_per_BounceExit_lin8         0.222807\n",
       "TotalDuration_per_ExitRates               0.223044\n",
       "Info_per_Exit                             0.237989\n",
       "Info_dur_per_Exit                         0.239549\n",
       "PageValues_Log                            0.626363\n",
       "Name: 0, dtype: float64"
      ]
     },
     "execution_count": 111,
     "metadata": {},
     "output_type": "execute_result"
    }
   ],
   "source": [
    "Calculated_Corr_df.iloc[:,0].sort_values()"
   ]
  },
  {
   "cell_type": "code",
   "execution_count": 104,
   "metadata": {},
   "outputs": [
    {
     "data": {
      "text/plain": [
       "PageValues_Log                                5.893752\n",
       "Holiday_Bin                                   1.000000\n",
       "Month_Bin                                    12.000000\n",
       "Quarter                                       4.000000\n",
       "Admin_per_Exit                               27.740709\n",
       "Admin_per_Bounce                             27.941341\n",
       "Admin_dur_per_Exit                         3308.110895\n",
       "Admin_dur_per_Bounce                       3397.153196\n",
       "Info_per_Exit                                24.620077\n",
       "Info_per_Bounce                              24.879303\n",
       "Info_dur_per_Exit                          2481.630510\n",
       "Info_dur_per_Bounce                        2548.426967\n",
       "Product_per_Exit                            695.270969\n",
       "Product_per_Bounce                          702.591528\n",
       "Product_dur_per_Exit                      62250.110747\n",
       "Product_dur_per_Bounce                    63925.657074\n",
       "Bounce_Exit_Rate_Avg                          1.200000\n",
       "Bounce_Exit_Rate_WeightedAvg                  1.200000\n",
       "Bounce_Exit_Rate_Avg_PageVales                1.200000\n",
       "Admin_per_bounce_exit_avg                    27.840663\n",
       "Admin_dur_per_bounce_exit_avg             63076.758734\n",
       "Bounce_Exit_Rate_lin_combo2                   3.600000\n",
       "Bounce_Exit_Rate_lin_combo3                   4.800000\n",
       "Bounce_Exit_Rate_lin_combo4                   6.000000\n",
       "Bounce_Exit_Rate_lin_combo5                   7.200000\n",
       "Bounce_Exit_Rate_lin_combo7                   3.600000\n",
       "Bounce_Exit_Rate_lin_combo8                   4.800000\n",
       "Bounce_Exit_Rate_lin_combo9                   6.000000\n",
       "Bounce_Exit_Rate_lin_combo10                  7.200000\n",
       "Bounce_Exit_Rate_lin_combo11                  4.800000\n",
       "Bounce_Exit_Rate_lin_combo12                  7.200000\n",
       "Bounce_Exit_Rate_lin_combo13                  9.600000\n",
       "Bounce_Exit_Rate_lin_combo14                 12.000000\n",
       "Bounce_per_Exit_Rate                          1.059843\n",
       "Total_Duration                            69924.647230\n",
       "Total_Duration_Avg                        23308.215743\n",
       "Admin_Duration_percent_TotalDuration          0.996313\n",
       "Info_Duration_percent_TotalDuration           0.966102\n",
       "Product_Duration_percent_TotalDuration        0.999842\n",
       "TotalDuration_per_PageValues              69924.647230\n",
       "TotalDuration_per_ExitRates               68039.852152\n",
       "TotalDuration_per_BounceRates             69871.237237\n",
       "TotalDuration_per_BounceExit_avg          68943.384790\n",
       "TotalDuration_per_BounceExit_lin3         17351.052520\n",
       "TotalDuration_per_BounceExit_lin8         17122.159662\n",
       "TotalDuration_per_BounceExit_lin12        11490.564132\n",
       "Admin_per_PageValues                         25.000000\n",
       "AdminDuration_per_PageValues               3399.750000\n",
       "Informational_per_PageValues                 17.000000\n",
       "Info_Duration_per_PageValues               2550.375000\n",
       "ProductRelated_per_PageValues               597.053581\n",
       "Product_Duration_per_PageValues           63974.522230\n",
       "Exit_per_PageValues                           1.200000\n",
       "Bounce_per_PageValues                         1.200000\n",
       "dtype: float64"
      ]
     },
     "execution_count": 104,
     "metadata": {},
     "output_type": "execute_result"
    }
   ],
   "source": [
    "df_calculated.max()"
   ]
  },
  {
   "cell_type": "code",
   "execution_count": 112,
   "metadata": {},
   "outputs": [],
   "source": [
    "X = df[x_cols]"
   ]
  },
  {
   "cell_type": "code",
   "execution_count": 113,
   "metadata": {},
   "outputs": [
    {
     "name": "stderr",
     "output_type": "stream",
     "text": [
      "C:\\Users\\Tradeskool\\.conda\\envs\\TYTO\\lib\\site-packages\\pandas\\core\\frame.py:3509: SettingWithCopyWarning:\n",
      "\n",
      "\n",
      "A value is trying to be set on a copy of a slice from a DataFrame.\n",
      "Try using .loc[row_indexer,col_indexer] = value instead\n",
      "\n",
      "See the caveats in the documentation: http://pandas.pydata.org/pandas-docs/stable/user_guide/indexing.html#returning-a-view-versus-a-copy\n",
      "\n"
     ]
    }
   ],
   "source": [
    "from sklearn.preprocessing import quantile_transform\n",
    "transformed_qt = quantile_transform(X,random_state=0,copy=True)\n",
    "transformed_qt_df = pd.DataFrame(transformed_qt,columns = x_cols)\n",
    "X[x_cols] = transformed_qt_df[x_cols]"
   ]
  },
  {
   "cell_type": "code",
   "execution_count": 115,
   "metadata": {},
   "outputs": [],
   "source": [
    "# process the attributes that have a range outside of zero to one (0 - 1)\n",
    "\n",
    "from sklearn.preprocessing import MinMaxScaler\n",
    "scaler = MinMaxScaler(feature_range=(0, 1))\n",
    "scale = scaler.fit(X)\n",
    "scaled = scaler.transform(X)\n",
    "scaled_df = pd.DataFrame(scaled,columns = x_cols)\n",
    "X_scaled = scaled_df\n",
    "# X[scale_cols] = scaled_df[scale_cols]"
   ]
  },
  {
   "cell_type": "code",
   "execution_count": 116,
   "metadata": {},
   "outputs": [],
   "source": [
    "y = df.loc[:,'Revenue']"
   ]
  },
  {
   "cell_type": "code",
   "execution_count": 117,
   "metadata": {},
   "outputs": [],
   "source": [
    "# resplit based on additional data prep completed post initial split\n",
    "X_train, X_test, y_train, y_test = train_test_split(X_scaled, y,test_size=0.3,random_state=500) "
   ]
  },
  {
   "cell_type": "code",
   "execution_count": null,
   "metadata": {},
   "outputs": [],
   "source": []
  },
  {
   "cell_type": "markdown",
   "metadata": {},
   "source": [
    "#### Feature Selection: Wrapper Forward Selection"
   ]
  },
  {
   "cell_type": "code",
   "execution_count": 118,
   "metadata": {},
   "outputs": [],
   "source": [
    "# https://towardsdatascience.com/feature-selection-using-wrapper-methods-in-python-f0d352b346f\n",
    "\n",
    "def forward_selection(data, target, significance_level=0.05):\n",
    "    initial_features = data.columns.tolist()\n",
    "    best_features = []\n",
    "    while (len(list(initial_features))>0):\n",
    "        remaining_features = list(set(initial_features)-set(best_features))\n",
    "        new_pval = pd.Series(index=remaining_features)\n",
    "        for new_column in remaining_features:\n",
    "            model = sm.OLS(target, sm.add_constant(data[best_features+[new_column]])).fit()\n",
    "            new_pval[new_column] = model.pvalues[new_column]\n",
    "        min_p_value = new_pval.min()\n",
    "        if(min_p_value<significance_level):\n",
    "            best_features.append(new_pval.idxmin())\n",
    "        else:\n",
    "            break\n",
    "    return best_features"
   ]
  },
  {
   "cell_type": "code",
   "execution_count": 119,
   "metadata": {},
   "outputs": [
    {
     "name": "stderr",
     "output_type": "stream",
     "text": [
      "C:\\Users\\Tradeskool\\.conda\\envs\\TYTO\\lib\\site-packages\\numpy\\core\\fromnumeric.py:2542: FutureWarning:\n",
      "\n",
      "Method .ptp is deprecated and will be removed in a future version. Use numpy.ptp instead.\n",
      "\n"
     ]
    }
   ],
   "source": [
    "best_features = forward_selection(X_train, y_train, significance_level=0.05)"
   ]
  },
  {
   "cell_type": "code",
   "execution_count": 120,
   "metadata": {},
   "outputs": [
    {
     "data": {
      "text/plain": [
       "['PageValues_Log',\n",
       " 'VisitorType',\n",
       " 'Quarter',\n",
       " 'AdminDuration_per_PageValues',\n",
       " 'Admin_dur_per_Exit',\n",
       " 'Month',\n",
       " 'Holiday_Bin',\n",
       " 'Info_Duration_per_PageValues',\n",
       " 'Informational_per_PageValues',\n",
       " 'ProductRelated_per_PageValues',\n",
       " 'Bounce_Exit_Rate_lin_combo12',\n",
       " 'Bounce_Exit_Rate_Avg_PageVales',\n",
       " 'Bounce_per_PageValues',\n",
       " 'Info_dur_per_Bounce',\n",
       " 'Bounce_per_Exit_Rate',\n",
       " 'Info_per_Exit',\n",
       " 'Month_Bin',\n",
       " 'Admin_per_PageValues',\n",
       " 'Admin_per_bounce_exit_avg',\n",
       " 'Info_per_Bounce',\n",
       " 'Info_dur_per_Exit',\n",
       " 'Exit_per_PageValues']"
      ]
     },
     "execution_count": 120,
     "metadata": {},
     "output_type": "execute_result"
    }
   ],
   "source": [
    "best_features"
   ]
  },
  {
   "cell_type": "markdown",
   "metadata": {},
   "source": [
    "#### Feature Selection: Lasso "
   ]
  },
  {
   "cell_type": "code",
   "execution_count": 121,
   "metadata": {},
   "outputs": [
    {
     "name": "stderr",
     "output_type": "stream",
     "text": [
      "C:\\Users\\Tradeskool\\.conda\\envs\\TYTO\\lib\\site-packages\\sklearn\\linear_model\\_coordinate_descent.py:472: ConvergenceWarning:\n",
      "\n",
      "Objective did not converge. You might want to increase the number of iterations. Duality gap: 0.12427598481485802, tolerance: 0.09315640839971039\n",
      "\n",
      "C:\\Users\\Tradeskool\\.conda\\envs\\TYTO\\lib\\site-packages\\sklearn\\linear_model\\_coordinate_descent.py:472: ConvergenceWarning:\n",
      "\n",
      "Objective did not converge. You might want to increase the number of iterations. Duality gap: 0.4885673419826162, tolerance: 0.09315640839971039\n",
      "\n"
     ]
    },
    {
     "name": "stdout",
     "output_type": "stream",
     "text": [
      "LassoCV Best Alpha Scored:  8.407863809313873e-05\n",
      "LassoCV Model Accuracy:  0.4237610039534939\n",
      "Variables Eliminated:  28\n",
      "Variables Kept:  34\n"
     ]
    }
   ],
   "source": [
    "# https://towardsdatascience.com/feature-selection-techniques-1bfab5fe0784\n",
    "\n",
    "from sklearn.linear_model import LassoCV\n",
    "\n",
    "regr = LassoCV(cv=5, random_state=101,n_jobs =10 )\n",
    "regr.fit(X_train, y_train)\n",
    "print(\"LassoCV Best Alpha Scored: \", regr.alpha_)\n",
    "print(\"LassoCV Model Accuracy: \", regr.score(X_test, y_test))\n",
    "model_coef = pd.Series(regr.coef_, index = list(X.columns[:]))\n",
    "print(\"Variables Eliminated: \", str(sum(model_coef == 0)))\n",
    "print(\"Variables Kept: \", str(sum(model_coef != 0))) "
   ]
  },
  {
   "cell_type": "code",
   "execution_count": 122,
   "metadata": {},
   "outputs": [
    {
     "data": {
      "text/plain": [
       "Text(0.5, 1.0, 'Most Important Features Identified using Lasso (!0)')"
      ]
     },
     "execution_count": 122,
     "metadata": {},
     "output_type": "execute_result"
    },
    {
     "data": {
      "image/png": "[encoded data removed]",
      "text/plain": [
       "<Figure size 960x800 with 1 Axes>"
      ]
     },
     "metadata": {},
     "output_type": "display_data"
    }
   ],
   "source": [
    "from matplotlib.pyplot import figure\n",
    "figure(num=None, figsize=(12, 10), dpi=80, facecolor='w', edgecolor='k')\n",
    "\n",
    "top_coef = model_coef.sort_values() # possible sort by index\n",
    "top_coef[top_coef != 0].plot(kind = \"barh\")\n",
    "plt.title(\"Most Important Features Identified using Lasso (!0)\")"
   ]
  },
  {
   "cell_type": "code",
   "execution_count": 123,
   "metadata": {},
   "outputs": [],
   "source": [
    "top_coef_df =pd.DataFrame(top_coef)\n",
    "lasso_best =top_coef_df.tail(15).index.tolist()"
   ]
  },
  {
   "cell_type": "code",
   "execution_count": 124,
   "metadata": {},
   "outputs": [],
   "source": [
    "X_train, X_test =  X_train.loc[:,lasso_best], X_test.loc[:,lasso_best]"
   ]
  },
  {
   "cell_type": "markdown",
   "metadata": {},
   "source": [
    "# Part IV: Data Analysis/Modeling <a name=\"part4\"></a>"
   ]
  },
  {
   "cell_type": "markdown",
   "metadata": {},
   "source": [
    "## A. Naive Bayes Model (NB)\n",
    ">   <b> Accuracy: </b> 87%\n",
    "<br><b> AUC: </b> 87%\n",
    "<br><b> Next Steps: </b> Additional parameter tuning"
   ]
  },
  {
   "cell_type": "markdown",
   "metadata": {},
   "source": [
    "###0. Step 0: Import Needed Packages"
   ]
  },
  {
   "cell_type": "code",
   "execution_count": 125,
   "metadata": {},
   "outputs": [],
   "source": [
    "# import the metrics class\n",
    "from sklearn import metrics\n",
    "# from sklearn.feature_selection import RFE\n",
    "from sklearn.ensemble import RandomForestClassifier\n",
    "from sklearn.datasets import make_classification\n",
    "\n",
    "# import other required modules for confusion matrices\n",
    "import numpy as np\n",
    "import matplotlib.pyplot as plt\n",
    "import seaborn as sns\n",
    "%matplotlib inline\n",
    "plt.style.use('ggplot')"
   ]
  },
  {
   "cell_type": "code",
   "execution_count": 126,
   "metadata": {},
   "outputs": [],
   "source": [
    "#Import Gaussian Naive Bayes model\n",
    "from sklearn.naive_bayes import GaussianNB\n",
    "\n",
    "#Create a Gaussian Classifier\n",
    "gnb = GaussianNB()"
   ]
  },
  {
   "cell_type": "code",
   "execution_count": 127,
   "metadata": {},
   "outputs": [
    {
     "data": {
      "text/plain": [
       "4     0.222999\n",
       "10    0.207473\n",
       "14    0.184672\n",
       "13    0.160492\n",
       "8     0.128677\n",
       "12    0.025110\n",
       "6     0.023235\n",
       "9     0.014826\n",
       "5     0.014552\n",
       "7     0.009301\n",
       "3     0.004429\n",
       "11    0.004233\n",
       "2     0.000000\n",
       "1     0.000000\n",
       "0     0.000000\n",
       "dtype: float64"
      ]
     },
     "execution_count": 127,
     "metadata": {},
     "output_type": "execute_result"
    }
   ],
   "source": [
    "# Code for feature selection using scikit-learn\n",
    "\n",
    "#Create a Gaussian Classifier\n",
    "clf=RandomForestClassifier(n_estimators=100,max_depth=2, random_state=0)\n",
    "\n",
    "#Train the model using the training sets y_pred=clf.predict(X_test)\n",
    "clf.fit(X_train,y_train)\n",
    "\n",
    "feature_imp = pd.Series(clf.feature_importances_).sort_values(ascending=False)\n",
    "feature_imp"
   ]
  },
  {
   "cell_type": "markdown",
   "metadata": {},
   "source": [
    "###1. Step 1: Specify the Model"
   ]
  },
  {
   "cell_type": "markdown",
   "metadata": {},
   "source": [
    "###2. Steps 2-4: Generate Test Data, Build the Models & Assess the Models for y2"
   ]
  },
  {
   "cell_type": "code",
   "execution_count": 128,
   "metadata": {},
   "outputs": [
    {
     "name": "stdout",
     "output_type": "stream",
     "text": [
      "y Accuracy: 0.874831035414977\n",
      "\n",
      "              precision    recall  f1-score   support\n",
      "\n",
      "           0       0.96      0.89      0.92      3158\n",
      "           1       0.55      0.81      0.65       541\n",
      "\n",
      "    accuracy                           0.87      3699\n",
      "   macro avg       0.76      0.85      0.79      3699\n",
      "weighted avg       0.90      0.87      0.88      3699\n",
      "\n"
     ]
    },
    {
     "data": {
      "image/png": "[encoded data removed]",
      "text/plain": [
       "<Figure size 432x288 with 1 Axes>"
      ]
     },
     "metadata": {},
     "output_type": "display_data"
    },
    {
     "name": "stdout",
     "output_type": "stream",
     "text": [
      "\n"
     ]
    },
    {
     "data": {
      "text/plain": [
       "Text(0.5, 257.44, 'Predicted label')"
      ]
     },
     "execution_count": 128,
     "metadata": {},
     "output_type": "execute_result"
    },
    {
     "data": {
      "image/png": "[encoded data removed]",
      "text/plain": [
       "<Figure size 432x288 with 2 Axes>"
      ]
     },
     "metadata": {},
     "output_type": "display_data"
    }
   ],
   "source": [
    "#Train the model using the training sets - for y2 (Sale)\n",
    "gnb.fit(X_train, y_train)\n",
    "\n",
    "#Predict the response for test dataset for y2\n",
    "y_NB_pred = gnb.predict(X_test)\n",
    "\n",
    "# Model Accuracy, how often is the classifier correct?\n",
    "# Accuracy for y2\n",
    "print(\"y Accuracy:\",metrics.accuracy_score(y_test, y_NB_pred))\n",
    "print(\"\")\n",
    "\n",
    "#Can use classification report to assess model adequacy, too\n",
    "class_names=[0,1] # name  of classes\n",
    "print(metrics.classification_report(y_test, y_NB_pred, labels=class_names))\n",
    "\n",
    "#AUC for y\n",
    "y_NB_pred_proba = gnb.predict_proba(X_test)[::,1]\n",
    "fpr, tpr, _ = metrics.roc_curve(y_test,  y_NB_pred_proba)\n",
    "auc = metrics.roc_auc_score(y_test, y_NB_pred_proba)\n",
    "plt.plot(fpr,tpr,label=\"auc=\"+str(auc))\n",
    "plt.legend(loc=4)\n",
    "plt.show()\n",
    "print(\"\")\n",
    "\n",
    "#Print Confusion Matrix\n",
    "cnf_matrix = metrics.confusion_matrix(y_test, y_NB_pred)\n",
    "cnf_matrix\n",
    "class_names=[0,1] # name  of classes\n",
    "fig, ax = plt.subplots()\n",
    "tick_marks = np.arange(len(class_names))\n",
    "plt.xticks(tick_marks, class_names)\n",
    "plt.yticks(tick_marks, class_names)\n",
    "# create heatmap\n",
    "sns.heatmap(pd.DataFrame(cnf_matrix), annot=True, cmap=\"YlGnBu\" ,fmt='g')\n",
    "ax.xaxis.set_label_position(\"top\")\n",
    "plt.tight_layout()\n",
    "plt.title('Confusion matrix', y=1.1)\n",
    "plt.ylabel('Actual label')\n",
    "plt.xlabel('Predicted label')\n"
   ]
  },
  {
   "cell_type": "code",
   "execution_count": 129,
   "metadata": {},
   "outputs": [],
   "source": [
    "#Conclusion - With accuracy of 81% for each y1 and y2, the Naive Bayes model is superior to the base model which had an accuracy of 71% for each target.\n",
    "#However, there is still room for improvement."
   ]
  },
  {
   "cell_type": "code",
   "execution_count": 130,
   "metadata": {},
   "outputs": [],
   "source": [
    "# MD's Modeling Work"
   ]
  },
  {
   "cell_type": "markdown",
   "metadata": {},
   "source": [
    "## B. Decision Tree Model (DT)\n",
    ">   <b> Accuracy: </b> 85%\n",
    "<br><b> AUC: </b> 69%\n",
    "<br><b> Next Steps: </b> Additional parameter tuning"
   ]
  },
  {
   "cell_type": "markdown",
   "metadata": {},
   "source": [
    "#### Specify the Model"
   ]
  },
  {
   "cell_type": "code",
   "execution_count": 131,
   "metadata": {},
   "outputs": [],
   "source": [
    "# Load libraries\n",
    "import pandas as pd\n",
    "from sklearn.tree import DecisionTreeClassifier # Import Decision Tree Classifier\n",
    "from sklearn.model_selection import train_test_split # Import train_test_split function\n",
    "from sklearn import metrics #Import scikit-learn metrics module for accuracy calculation"
   ]
  },
  {
   "cell_type": "markdown",
   "metadata": {},
   "source": [
    "#### Build the Model"
   ]
  },
  {
   "cell_type": "code",
   "execution_count": 132,
   "metadata": {},
   "outputs": [],
   "source": [
    "# Create Decision Tree classifer object\n",
    "clf = DecisionTreeClassifier()\n",
    "\n",
    "# Train Decision Tree Classifer\n",
    "clf = clf.fit(X_train,y_train)\n",
    "\n",
    "#Predict the response for test dataset\n",
    "y_DT_pred = clf.predict(X_test)"
   ]
  },
  {
   "cell_type": "code",
   "execution_count": 133,
   "metadata": {},
   "outputs": [
    {
     "name": "stdout",
     "output_type": "stream",
     "text": [
      "Accuracy: 0.8561773452284401\n"
     ]
    }
   ],
   "source": [
    "# Model Accuracy, how often is the classifier correct?\n",
    "print(\"Accuracy:\",metrics.accuracy_score(y_test, y_DT_pred))"
   ]
  },
  {
   "cell_type": "markdown",
   "metadata": {},
   "source": [
    "#### Assess the Model"
   ]
  },
  {
   "cell_type": "code",
   "execution_count": 134,
   "metadata": {},
   "outputs": [
    {
     "name": "stdout",
     "output_type": "stream",
     "text": [
      "              precision    recall  f1-score   support\n",
      "\n",
      "           0       0.92      0.91      0.92      3158\n",
      "           1       0.51      0.54      0.52       541\n",
      "\n",
      "    accuracy                           0.86      3699\n",
      "   macro avg       0.71      0.72      0.72      3699\n",
      "weighted avg       0.86      0.86      0.86      3699\n",
      "\n"
     ]
    }
   ],
   "source": [
    "# Evaluating the Classification Report\n",
    "print(metrics.classification_report(y_test, y_DT_pred))"
   ]
  },
  {
   "cell_type": "code",
   "execution_count": 135,
   "metadata": {},
   "outputs": [
    {
     "name": "stdout",
     "output_type": "stream",
     "text": [
      "[[2877  281]\n",
      " [ 251  290]]\n"
     ]
    }
   ],
   "source": [
    "# Evaluating the Confusion Matrix\n",
    "print(metrics.confusion_matrix(y_test, y_DT_pred))"
   ]
  },
  {
   "cell_type": "code",
   "execution_count": 136,
   "metadata": {},
   "outputs": [
    {
     "data": {
      "image/png": "[encoded data removed]",
      "text/plain": [
       "<Figure size 432x288 with 1 Axes>"
      ]
     },
     "metadata": {},
     "output_type": "display_data"
    },
    {
     "name": "stdout",
     "output_type": "stream",
     "text": [
      "\n"
     ]
    },
    {
     "data": {
      "text/plain": [
       "Text(0.5, 257.44, 'Predicted label')"
      ]
     },
     "execution_count": 136,
     "metadata": {},
     "output_type": "execute_result"
    },
    {
     "data": {
      "image/png": "[encoded data removed]",
      "text/plain": [
       "<Figure size 432x288 with 2 Axes>"
      ]
     },
     "metadata": {},
     "output_type": "display_data"
    }
   ],
   "source": [
    "#AUC for y\n",
    "y_DT_pred_proba = clf.predict_proba(X_test)[::,1]\n",
    "fpr_DT, tpr_DT, _ = metrics.roc_curve(y_test,  y_DT_pred_proba)\n",
    "auc_DT = metrics.roc_auc_score(y_test, y_DT_pred_proba)\n",
    "plt.plot(fpr_DT,tpr_DT,label=\"auc=\"+str(auc_DT))\n",
    "plt.legend(loc=4)\n",
    "plt.show()\n",
    "print(\"\")\n",
    "\n",
    "#Print Confusion Matrix\n",
    "cnf_matrix_DT = metrics.confusion_matrix(y_test, y_DT_pred)\n",
    "cnf_matrix_DT\n",
    "class_names=[0,1] # name  of classes\n",
    "fig, ax = plt.subplots()\n",
    "tick_marks = np.arange(len(class_names))\n",
    "plt.xticks(tick_marks, class_names)\n",
    "plt.yticks(tick_marks, class_names)\n",
    "# create heatmap\n",
    "sns.heatmap(pd.DataFrame(cnf_matrix_DT), annot=True, cmap=\"YlGnBu\" ,fmt='g')\n",
    "ax.xaxis.set_label_position(\"top\")\n",
    "plt.tight_layout()\n",
    "plt.title('Confusion matrix DT', y=1.1)\n",
    "plt.ylabel('Actual label')\n",
    "plt.xlabel('Predicted label')"
   ]
  },
  {
   "cell_type": "markdown",
   "metadata": {},
   "source": [
    "85.45% is much better than the baseline model of 70%"
   ]
  },
  {
   "cell_type": "markdown",
   "metadata": {},
   "source": [
    "#### *** Attempted Model Optimization - Not 100% if I optimized these correctly"
   ]
  },
  {
   "cell_type": "markdown",
   "metadata": {},
   "source": [
    "##### y2 (Sale)"
   ]
  },
  {
   "cell_type": "code",
   "execution_count": 137,
   "metadata": {},
   "outputs": [],
   "source": [
    "# Trying to optimize Decision Tree Model by adding in the parameters \"entropy\" (information gain selection measure) and \"max depth=3\"\n",
    "# # Did this in order to reduce to complexity of the Decision Tree, in hopes that it will yield better results\n",
    "# Create Decision Tree classifer object\n",
    "clf2 = DecisionTreeClassifier(criterion = \"entropy\", max_depth=3)\n",
    "\n",
    "# Train Decision Tree Classifer\n",
    "clf2 = clf2.fit(X_train,y_train)\n",
    "\n",
    "#Predict the response for test dataset\n",
    "y_DT_pred2 = clf2.predict(X_test)"
   ]
  },
  {
   "cell_type": "code",
   "execution_count": 138,
   "metadata": {},
   "outputs": [
    {
     "name": "stdout",
     "output_type": "stream",
     "text": [
      "Accuracy: 0.8948364422816978\n"
     ]
    }
   ],
   "source": [
    "# Model Accuracy, how often is the classifier correct?\n",
    "print(\"Accuracy:\",metrics.accuracy_score(y_test, y_DT_pred2))"
   ]
  },
  {
   "cell_type": "code",
   "execution_count": 139,
   "metadata": {},
   "outputs": [
    {
     "name": "stdout",
     "output_type": "stream",
     "text": [
      "              precision    recall  f1-score   support\n",
      "\n",
      "           0       0.94      0.94      0.94      3158\n",
      "           1       0.64      0.65      0.64       541\n",
      "\n",
      "    accuracy                           0.89      3699\n",
      "   macro avg       0.79      0.79      0.79      3699\n",
      "weighted avg       0.90      0.89      0.90      3699\n",
      "\n"
     ]
    }
   ],
   "source": [
    "# Evaluating the Classification Report\n",
    "print(metrics.classification_report(y_test, y_DT_pred2))"
   ]
  },
  {
   "cell_type": "code",
   "execution_count": 140,
   "metadata": {},
   "outputs": [
    {
     "name": "stdout",
     "output_type": "stream",
     "text": [
      "[[2958  200]\n",
      " [ 189  352]]\n"
     ]
    },
    {
     "data": {
      "image/png": "[encoded data removed]",
      "text/plain": [
       "<Figure size 432x288 with 1 Axes>"
      ]
     },
     "metadata": {},
     "output_type": "display_data"
    },
    {
     "name": "stdout",
     "output_type": "stream",
     "text": [
      "\n"
     ]
    },
    {
     "data": {
      "text/plain": [
       "Text(0.5, 257.44, 'Predicted label')"
      ]
     },
     "execution_count": 140,
     "metadata": {},
     "output_type": "execute_result"
    },
    {
     "data": {
      "image/png": "[encoded data removed]",
      "text/plain": [
       "<Figure size 432x288 with 2 Axes>"
      ]
     },
     "metadata": {},
     "output_type": "display_data"
    }
   ],
   "source": [
    "# Evaluating the Confusion Matrix\n",
    "print(metrics.confusion_matrix(y_test, y_DT_pred2))\n",
    "\n",
    "#AUC for y\n",
    "y_DT_pred_proba2 = clf2.predict_proba(X_test)[::,1]\n",
    "fpr_DT2, tpr_DT2, _ = metrics.roc_curve(y_test,  y_DT_pred_proba2)\n",
    "auc_DT2 = metrics.roc_auc_score(y_test, y_DT_pred_proba2)\n",
    "plt.plot(fpr_DT2,tpr_DT2,label=\"auc=\"+str(auc_DT2))\n",
    "plt.legend(loc=4)\n",
    "plt.show()\n",
    "print(\"\")\n",
    "\n",
    "#Print Confusion Matrix\n",
    "cnf_matrix_DT2 = metrics.confusion_matrix(y_test, y_DT_pred2)\n",
    "cnf_matrix_DT2\n",
    "class_names=[0,1] # name  of classes\n",
    "fig, ax = plt.subplots()\n",
    "tick_marks = np.arange(len(class_names))\n",
    "plt.xticks(tick_marks, class_names)\n",
    "plt.yticks(tick_marks, class_names)\n",
    "# create heatmap\n",
    "sns.heatmap(pd.DataFrame(cnf_matrix_DT2), annot=True, cmap=\"YlGnBu\" ,fmt='g')\n",
    "ax.xaxis.set_label_position(\"top\")\n",
    "plt.tight_layout()\n",
    "plt.title('Confusion matrix DT 2', y=1.1)\n",
    "plt.ylabel('Actual label')\n",
    "plt.xlabel('Predicted label')"
   ]
  },
  {
   "cell_type": "markdown",
   "metadata": {},
   "source": [
    "##### Not sure if the optimized model is overfitting, but 89.53% accuracy is better than the base Decision Tree Models"
   ]
  },
  {
   "cell_type": "code",
   "execution_count": 141,
   "metadata": {},
   "outputs": [],
   "source": [
    "# # Code for feature selection using scikit-learn\n",
    "# # import the package\n",
    "# from sklearn.ensemble import RandomForestClassifier\n",
    "\n",
    "# #Create a Gaussian Classifier\n",
    "# clf=RandomForestClassifier(n_estimators=100)\n",
    "\n",
    "# #Train the model using the training sets y_pred=clf.predict(X_test)\n",
    "# clf.fit(X_train,y_train)"
   ]
  },
  {
   "cell_type": "code",
   "execution_count": 142,
   "metadata": {},
   "outputs": [],
   "source": [
    "# import pandas as pd\n",
    "# feature_imp = pd.Series(clf.feature_importances_,index=y_test).sort_values(ascending=False)\n",
    "# feature_imp"
   ]
  },
  {
   "cell_type": "markdown",
   "metadata": {},
   "source": [
    "## C. Random Forest Model (RF)\n",
    ">   <b> Accuracy: </b> 89%\n",
    "<br><b> AUC: </b> 87%\n",
    "<br><b> Next Steps: </b> Additional parameter tuning"
   ]
  },
  {
   "cell_type": "markdown",
   "metadata": {},
   "source": [
    "#### Specify the Model"
   ]
  },
  {
   "cell_type": "code",
   "execution_count": 143,
   "metadata": {},
   "outputs": [],
   "source": [
    "# Building a Classifier\n",
    "#Import scikit-learn dataset library\n",
    "from sklearn import datasets"
   ]
  },
  {
   "cell_type": "markdown",
   "metadata": {},
   "source": [
    "#### Build Model for y2 (Sale)"
   ]
  },
  {
   "cell_type": "code",
   "execution_count": 144,
   "metadata": {},
   "outputs": [],
   "source": [
    "#Import Random Forest Model\n",
    "from sklearn.ensemble import RandomForestClassifier\n",
    "\n",
    "#Create a Gaussian Classifier\n",
    "rfc = RandomForestClassifier(n_estimators=100)\n",
    "\n",
    "#Train the model using the training sets y_pred=clf.predict(X_test)\n",
    "rfc.fit(X_train,y_train)\n",
    "\n",
    "y_RF_pred = rfc.predict(X_test)"
   ]
  },
  {
   "cell_type": "code",
   "execution_count": 145,
   "metadata": {},
   "outputs": [
    {
     "name": "stdout",
     "output_type": "stream",
     "text": [
      "              precision    recall  f1-score   support\n",
      "\n",
      "           0       0.93      0.95      0.94      3158\n",
      "           1       0.65      0.58      0.61       541\n",
      "\n",
      "    accuracy                           0.89      3699\n",
      "   macro avg       0.79      0.76      0.78      3699\n",
      "weighted avg       0.89      0.89      0.89      3699\n",
      "\n"
     ]
    }
   ],
   "source": [
    "# Evaluation of the Classification Report\n",
    "from sklearn.metrics import classification_report, confusion_matrix\n",
    "print(classification_report(y_test, y_RF_pred))"
   ]
  },
  {
   "cell_type": "code",
   "execution_count": 146,
   "metadata": {},
   "outputs": [
    {
     "name": "stdout",
     "output_type": "stream",
     "text": [
      "[[2992  166]\n",
      " [ 228  313]]\n"
     ]
    },
    {
     "data": {
      "image/png": "[encoded data removed]",
      "text/plain": [
       "<Figure size 432x288 with 1 Axes>"
      ]
     },
     "metadata": {},
     "output_type": "display_data"
    },
    {
     "name": "stdout",
     "output_type": "stream",
     "text": [
      "\n"
     ]
    },
    {
     "data": {
      "text/plain": [
       "Text(0.5, 257.44, 'Predicted label')"
      ]
     },
     "execution_count": 146,
     "metadata": {},
     "output_type": "execute_result"
    },
    {
     "data": {
      "image/png": "[encoded data removed]",
      "text/plain": [
       "<Figure size 432x288 with 2 Axes>"
      ]
     },
     "metadata": {},
     "output_type": "display_data"
    }
   ],
   "source": [
    "# Evaluation of the Confusion Matrix\n",
    "print(confusion_matrix(y_test, y_RF_pred))\n",
    "\n",
    "#AUC for y\n",
    "y_RF_pred_proba = rfc.predict_proba(X_test)[::,1]\n",
    "fpr_RF, tpr_RF, _ = metrics.roc_curve(y_test,  y_RF_pred_proba)\n",
    "auc_RF = metrics.roc_auc_score(y_test, y_RF_pred_proba)\n",
    "plt.plot(fpr_RF,tpr_RF,label=\"auc=\"+str(auc_RF))\n",
    "plt.legend(loc=4)\n",
    "plt.show()\n",
    "print(\"\")\n",
    "\n",
    "#Print Confusion Matrix\n",
    "cnf_matrix_RF = metrics.confusion_matrix(y_test, y_RF_pred)\n",
    "cnf_matrix_RF\n",
    "class_names=[0,1] # name  of classes\n",
    "fig, ax = plt.subplots()\n",
    "tick_marks = np.arange(len(class_names))\n",
    "plt.xticks(tick_marks, class_names)\n",
    "plt.yticks(tick_marks, class_names)\n",
    "# create heatmap\n",
    "sns.heatmap(pd.DataFrame(cnf_matrix_RF), annot=True, cmap=\"YlGnBu\" ,fmt='g')\n",
    "ax.xaxis.set_label_position(\"top\")\n",
    "plt.tight_layout()\n",
    "plt.title('Confusion matrix RF', y=1.1)\n",
    "plt.ylabel('Actual label')\n",
    "plt.xlabel('Predicted label')"
   ]
  },
  {
   "cell_type": "markdown",
   "metadata": {},
   "source": [
    "##### 90% accuracy for both Random Forest Models, so far better than the Decision Tree Models"
   ]
  },
  {
   "cell_type": "code",
   "execution_count": 147,
   "metadata": {},
   "outputs": [],
   "source": [
    "# # Attempt on the feature selection using scikit-learn\n",
    "# # import the package\n",
    "# from sklearn.ensemble import RandomForestClassifier\n",
    "\n",
    "# #Create a Gaussian Classifier\n",
    "# clf=RandomForestClassifier(n_estimators=100)\n",
    "\n",
    "# #Train the model using the training sets y_pred=clf.predict(X_test)\n",
    "# clf.fit(X_train,y_train)"
   ]
  },
  {
   "cell_type": "code",
   "execution_count": 148,
   "metadata": {},
   "outputs": [],
   "source": [
    "# import pandas as pd\n",
    "# feature_imp = pd.Series(clf.feature_importances_,index=y_test).sort_values(ascending=False)\n",
    "# feature_imp"
   ]
  },
  {
   "cell_type": "markdown",
   "metadata": {},
   "source": [
    "## D. Support Vector Machines (SVM) Classification Model (SVC)\n",
    ">   <b> Accuracy: </b> 88%\n",
    "<br><b> AUC: </b> 85%\n",
    "<br><b> Next Steps: </b> SVC ensemble classifiers "
   ]
  },
  {
   "cell_type": "code",
   "execution_count": 149,
   "metadata": {},
   "outputs": [],
   "source": [
    "###1. Step 1: Specify the Model\n",
    "from sklearn import svm\n",
    "svc = svm.SVC(kernel='rbf',cache_size=7000,gamma= 'auto', C=5, probability =True, degree = 5) # gamma= 0.001 , kernel='poly', 'rbf',‘linear’"
   ]
  },
  {
   "cell_type": "code",
   "execution_count": 150,
   "metadata": {},
   "outputs": [],
   "source": [
    "###2. Step 2: Generate Test Data\n",
    "# X_train_svc, X_test_svc, y1_train_svc, y1_test_svc, y2_train_svc, y2_test_svc = train_test_split(X, y1,y2, test_size=0.3,random_state=1000) \n",
    "# X_train, X_test, y1_Models_train, y1_Models_test, y2_Models_train, y2_Models_test\n",
    "#Standard Scale the data to allow for better SVC model performance\n",
    "# scaler = StandardScaler().fit(X_train) \n",
    "# standardized_X_svc = scaler.transform(X_train) \n",
    "# standardized_X_test_svc = scaler.transform(X_test)"
   ]
  },
  {
   "cell_type": "code",
   "execution_count": 151,
   "metadata": {},
   "outputs": [],
   "source": [
    "###3. Step 3: Build the Model\n",
    "#Train the model using the training sets\n",
    "svc.fit(X_train, y_train)\n",
    "\n",
    "#Predict the response for test dataset\n",
    "y_pred_svc = svc.predict(X_test)"
   ]
  },
  {
   "cell_type": "code",
   "execution_count": 152,
   "metadata": {},
   "outputs": [
    {
     "name": "stdout",
     "output_type": "stream",
     "text": [
      "Accuracy_svc: 0.8891592322249257\n",
      "[[2909  249]\n",
      " [ 161  380]]\n"
     ]
    },
    {
     "data": {
      "image/png": "[encoded data removed]",
      "text/plain": [
       "<Figure size 432x288 with 1 Axes>"
      ]
     },
     "metadata": {},
     "output_type": "display_data"
    },
    {
     "name": "stdout",
     "output_type": "stream",
     "text": [
      "\n",
      "              precision    recall  f1-score   support\n",
      "\n",
      "           0       0.95      0.92      0.93      3158\n",
      "           1       0.60      0.70      0.65       541\n",
      "\n",
      "    accuracy                           0.89      3699\n",
      "   macro avg       0.78      0.81      0.79      3699\n",
      "weighted avg       0.90      0.89      0.89      3699\n",
      "\n",
      "Accuracy_svc: 0.8891592322249257\n"
     ]
    },
    {
     "data": {
      "image/png": "[encoded data removed]",
      "text/plain": [
       "<Figure size 432x288 with 2 Axes>"
      ]
     },
     "metadata": {},
     "output_type": "display_data"
    }
   ],
   "source": [
    "###4. Step 4: Assess the Model\n",
    "print(\"Accuracy_svc:\",metrics.accuracy_score(y_test, y_pred_svc))\n",
    "cnf_matrix_svc = metrics.confusion_matrix(y_test, y_pred_svc)\n",
    "\n",
    "print(cnf_matrix_svc)\n",
    "\n",
    "\n",
    "#AUC for y1\n",
    "y_SVM_pred_proba = svc.predict_proba(X_test)[::,1]\n",
    "fpr_SVM, tpr_SVM, _ = metrics.roc_curve(y_test,  y_SVM_pred_proba)\n",
    "auc_SVM = metrics.roc_auc_score(y_test, y_SVM_pred_proba)\n",
    "plt.plot(fpr_SVM,tpr_SVM,label=\"auc=\"+str(auc_SVM))\n",
    "plt.legend(loc=4)\n",
    "plt.show()\n",
    "print(\"\")\n",
    "\n",
    "class_names_svc=[0,1] # name  of classes\n",
    "fig, ax = plt.subplots()\n",
    "tick_marks_svc = np.arange(len(class_names_svc))\n",
    "plt.xticks(tick_marks_svc, class_names_svc)\n",
    "plt.yticks(tick_marks_svc, class_names_svc)\n",
    "# create heatmap\n",
    "sns.heatmap(pd.DataFrame(cnf_matrix_svc), annot=True, cmap=\"YlGnBu\" ,fmt='g')\n",
    "ax.xaxis.set_label_position(\"top\")\n",
    "plt.tight_layout()\n",
    "plt.title('Confusion matrix svc', y=1.1)\n",
    "plt.ylabel('Actual label')\n",
    "plt.xlabel('Predicted label')\n",
    "\n",
    "print(classification_report(y_test, y_pred_svc))\n",
    "print(\"Accuracy_svc:\",metrics.accuracy_score(y_test, y_pred_svc))"
   ]
  },
  {
   "cell_type": "code",
   "execution_count": 153,
   "metadata": {},
   "outputs": [],
   "source": [
    "# # Code for feature selection using scikit-learn\n",
    "# # import the package\n",
    "# from sklearn.ensemble import RandomForestClassifier\n",
    "\n",
    "# #Create a Gaussian Classifier\n",
    "# clf=RandomForestClassifier(n_estimators=100)\n",
    "\n",
    "# #Train the model using the training sets y_pred=clf.predict(X_test)\n",
    "# clf.fit(X_train,y_train)"
   ]
  },
  {
   "cell_type": "code",
   "execution_count": 154,
   "metadata": {},
   "outputs": [],
   "source": [
    "# import pandas as pd\n",
    "# feature_imp = pd.Series(clf.feature_importances_,index=y_test).sort_values(ascending=False)\n",
    "# feature_imp"
   ]
  },
  {
   "cell_type": "markdown",
   "metadata": {},
   "source": [
    "## E. XGBoost Model (XGB)\n",
    ">   <b> Accuracy: </b> 89%\n",
    "<br><b> AUC: </b> 89%\n",
    "<br><b> RMSE: </b> .32\n",
    "<br><b> Next Steps: </b> Additional parameter tuning\n"
   ]
  },
  {
   "cell_type": "markdown",
   "metadata": {},
   "source": [
    "###0. Step 0: Import Needed Packages"
   ]
  },
  {
   "cell_type": "code",
   "execution_count": 155,
   "metadata": {},
   "outputs": [],
   "source": [
    "#Import Needed Packages\n",
    "import xgboost as xgb\n",
    "from sklearn.metrics import mean_squared_error\n",
    "import pandas as pd\n",
    "import numpy as np\n",
    "\n",
    "#Do preliminary work\n"
   ]
  },
  {
   "cell_type": "markdown",
   "metadata": {},
   "source": [
    "###1. Step 1: Specify the Model"
   ]
  },
  {
   "cell_type": "code",
   "execution_count": 156,
   "metadata": {},
   "outputs": [],
   "source": [
    "#Instantiate an XGBoost Classifer Model - for y1 (No_Sale)\n",
    "XGB_class = xgb.XGBClassifier(objective ='reg:squarederror', colsample_bytree = 0.3, learning_rate = 0.1,\n",
    "                max_depth = 5, alpha = 10, n_estimators = 100)\n"
   ]
  },
  {
   "cell_type": "markdown",
   "metadata": {},
   "source": [
    "###2. Steps 2-4: Generate Test Data, Build the Models & Assess the Models for y2 (Sale)"
   ]
  },
  {
   "cell_type": "code",
   "execution_count": 157,
   "metadata": {},
   "outputs": [
    {
     "name": "stderr",
     "output_type": "stream",
     "text": [
      "C:\\Users\\Tradeskool\\.conda\\envs\\TYTO\\lib\\site-packages\\xgboost\\core.py:587: FutureWarning:\n",
      "\n",
      "Series.base is deprecated and will be removed in a future version\n",
      "\n",
      "C:\\Users\\Tradeskool\\.conda\\envs\\TYTO\\lib\\site-packages\\xgboost\\core.py:588: FutureWarning:\n",
      "\n",
      "Series.base is deprecated and will be removed in a future version\n",
      "\n"
     ]
    },
    {
     "name": "stdout",
     "output_type": "stream",
     "text": [
      "XGBoost's RMSE for y2 is: 0.312400\n",
      "XGB target range is: 1.000000\n",
      "XGBoost's Error Ratio for y2 is: 0.312400\n"
     ]
    }
   ],
   "source": [
    "#Put Data into structure for XGBoost- for y2 (Sale) \n",
    "data_dmatrix = xgb.DMatrix(data=X,label=y)\n",
    "\n",
    "#Train the model using the training sets for y1\n",
    "XGB_class.fit(X_train, y_train)\n",
    "\n",
    "#Predict the response for test dataset for y1\n",
    "y_XGB_pred = XGB_class.predict(X_test)\n",
    "\n",
    "#Calculate RMSE for y2\n",
    "rmse_XGB = np.sqrt(mean_squared_error(y_test, y_XGB_pred))\n",
    "print(\"XGBoost's RMSE for y2 is: %f\" % (rmse_XGB))\n",
    "\n",
    "#Create error ratio to evaluate results for y2\n",
    "target_range_XGB = y.max() - y.min()\n",
    "print(\"XGB target range is: %f\" % (target_range_XGB))\n",
    "error_ratio_XGB = rmse_XGB/target_range_XGB\n",
    "print(\"XGBoost's Error Ratio for y2 is: %f\" % (error_ratio_XGB))"
   ]
  },
  {
   "cell_type": "code",
   "execution_count": 158,
   "metadata": {},
   "outputs": [],
   "source": [
    "#ISSUE WITH THE ABOVE - HOW COME THE TARGET RANGE IS 1? DOES IT HAVE TO DO WITH 0/1 STATUS OF TARGET VARIABLE???"
   ]
  },
  {
   "cell_type": "code",
   "execution_count": 159,
   "metadata": {},
   "outputs": [
    {
     "name": "stdout",
     "output_type": "stream",
     "text": [
      "y Accuracy: 0.9024060556907272\n",
      "\n",
      "              precision    recall  f1-score   support\n",
      "\n",
      "           0       0.93      0.95      0.94      3158\n",
      "           1       0.69      0.61      0.65       541\n",
      "\n",
      "    accuracy                           0.90      3699\n",
      "   macro avg       0.81      0.78      0.79      3699\n",
      "weighted avg       0.90      0.90      0.90      3699\n",
      "\n"
     ]
    },
    {
     "data": {
      "image/png": "[encoded data removed]",
      "text/plain": [
       "<Figure size 432x288 with 1 Axes>"
      ]
     },
     "metadata": {},
     "output_type": "display_data"
    },
    {
     "name": "stdout",
     "output_type": "stream",
     "text": [
      "\n"
     ]
    },
    {
     "data": {
      "text/plain": [
       "Text(0.5, 257.44, 'Predicted label')"
      ]
     },
     "execution_count": 159,
     "metadata": {},
     "output_type": "execute_result"
    },
    {
     "data": {
      "image/png": "[encoded data removed]",
      "text/plain": [
       "<Figure size 432x288 with 2 Axes>"
      ]
     },
     "metadata": {},
     "output_type": "display_data"
    }
   ],
   "source": [
    "# Model Accuracy, how often is the classifier correct?\n",
    "# Accuracy for y2\n",
    "print(\"y Accuracy:\",metrics.accuracy_score(y_test, y_XGB_pred))\n",
    "print(\"\")\n",
    "\n",
    "\n",
    "#Can use classification report to assess model adequacy, too\n",
    "print(metrics.classification_report(y_test, y_XGB_pred, labels=class_names))\n",
    "\n",
    "#AUC for y1\n",
    "y_XGB_pred_proba = XGB_class.predict_proba(X_test)[::,1]\n",
    "fpr_XGB, tpr_XGB, _ = metrics.roc_curve(y_test,  y_XGB_pred_proba)\n",
    "auc_XGB = metrics.roc_auc_score(y_test, y_XGB_pred_proba)\n",
    "plt.plot(fpr_XGB,tpr_XGB,label=\"auc=\"+str(auc_XGB))\n",
    "plt.legend(loc=4)\n",
    "plt.show()\n",
    "print(\"\")\n",
    "\n",
    "#Print Confusion Matrix\n",
    "cnf_matrix_XGB = metrics.confusion_matrix(y_test, y_XGB_pred)\n",
    "cnf_matrix_XGB\n",
    "class_names=[0,1] # name  of classes\n",
    "fig, ax = plt.subplots()\n",
    "tick_marks = np.arange(len(class_names))\n",
    "plt.xticks(tick_marks, class_names)\n",
    "plt.yticks(tick_marks, class_names)\n",
    "# create heatmap\n",
    "sns.heatmap(pd.DataFrame(cnf_matrix_XGB), annot=True, cmap=\"YlGnBu\" ,fmt='g')\n",
    "ax.xaxis.set_label_position(\"top\")\n",
    "plt.tight_layout()\n",
    "plt.title('Confusion matrix XGB', y=1.1)\n",
    "plt.ylabel('Actual label')\n",
    "plt.xlabel('Predicted label')"
   ]
  },
  {
   "cell_type": "code",
   "execution_count": 160,
   "metadata": {},
   "outputs": [],
   "source": [
    "# # Code for feature selection using scikit-learn\n",
    "# # import the package\n",
    "# from sklearn.ensemble import RandomForestClassifier\n",
    "\n",
    "# #Create a Gaussian Classifier\n",
    "# clf=RandomForestClassifier(n_estimators=100)\n",
    "\n",
    "# #Train the model using the training sets y_pred=clf.predict(X_test)\n",
    "# clf.fit(X_train,y_train)"
   ]
  },
  {
   "cell_type": "code",
   "execution_count": 161,
   "metadata": {},
   "outputs": [],
   "source": [
    "# import pandas as pd\n",
    "# feature_imp = pd.Series(clf.feature_importances_,index=y_test).sort_values(ascending=False)\n",
    "# feature_imp"
   ]
  },
  {
   "cell_type": "markdown",
   "metadata": {},
   "source": [
    "## F. Neural Network Model (NN)\n",
    ">   <b> Accuracy: </b> 89%\n",
    "<br><b> AUC: </b> 90%\n",
    "<br><b> Next Steps: </b> Additional parameter tuning"
   ]
  },
  {
   "cell_type": "code",
   "execution_count": 162,
   "metadata": {},
   "outputs": [],
   "source": [
    "# X_train, X_test, y1_Models_train, y1_Models_test, y2_Models_train, y2_Models_test\n",
    "\n",
    "\n",
    "###1. Step 1: Specify the Model\n",
    "# Import the model\n",
    "from sklearn.neural_network import MLPClassifier\n",
    "\n",
    "# Initializing the multilayer perceptron\n",
    "# mlp = MLPClassifier(hidden_layer_sizes = (3,1),solver='sgd',learning_rate_init= 0.01, max_iter=50)\n",
    "mlp= MLPClassifier(activation='logistic', alpha=0.0001, batch_size='auto', beta_1=0.9, \n",
    "beta_2=0.999, early_stopping=False, epsilon=1e-08,       \n",
    "hidden_layer_sizes=(7,3), learning_rate='adaptive',      \n",
    "learning_rate_init=0.01, max_iter=10000, momentum=0.9,       \n",
    "nesterovs_momentum=True, power_t=0.5, random_state=1000,       \n",
    "shuffle=True, solver='adam', tol=0.0001, validation_fraction=0.1,       \n",
    "verbose=False, warm_start=True)"
   ]
  },
  {
   "cell_type": "code",
   "execution_count": 163,
   "metadata": {},
   "outputs": [
    {
     "data": {
      "text/plain": [
       "MLPClassifier(activation='logistic', alpha=0.0001, batch_size='auto',\n",
       "              beta_1=0.9, beta_2=0.999, early_stopping=False, epsilon=1e-08,\n",
       "              hidden_layer_sizes=(7, 3), learning_rate='adaptive',\n",
       "              learning_rate_init=0.01, max_fun=15000, max_iter=10000,\n",
       "              momentum=0.9, n_iter_no_change=10, nesterovs_momentum=True,\n",
       "              power_t=0.5, random_state=1000, shuffle=True, solver='adam',\n",
       "              tol=0.0001, validation_fraction=0.1, verbose=False,\n",
       "              warm_start=True)"
      ]
     },
     "execution_count": 163,
     "metadata": {},
     "output_type": "execute_result"
    }
   ],
   "source": [
    "###2. Step 2: Generate Test Data\n",
    "# Train the model\n",
    "mlp.fit(X_train, y_train)"
   ]
  },
  {
   "cell_type": "code",
   "execution_count": 164,
   "metadata": {},
   "outputs": [],
   "source": [
    "###3. Step 3: Build the Model\n",
    "y_pred_nn = mlp.predict(X_test)\n"
   ]
  },
  {
   "cell_type": "code",
   "execution_count": 165,
   "metadata": {},
   "outputs": [
    {
     "name": "stdout",
     "output_type": "stream",
     "text": [
      "MLP score is 0.8988915923222492\n",
      "Accuracy_nn: 0.8988915923222492\n",
      "[[2946  212]\n",
      " [ 162  379]]\n"
     ]
    },
    {
     "data": {
      "image/png": "[encoded data removed]",
      "text/plain": [
       "<Figure size 432x288 with 1 Axes>"
      ]
     },
     "metadata": {},
     "output_type": "display_data"
    },
    {
     "name": "stdout",
     "output_type": "stream",
     "text": [
      "              precision    recall  f1-score   support\n",
      "\n",
      "           0       0.95      0.93      0.94      3158\n",
      "           1       0.64      0.70      0.67       541\n",
      "\n",
      "    accuracy                           0.90      3699\n",
      "   macro avg       0.79      0.82      0.80      3699\n",
      "weighted avg       0.90      0.90      0.90      3699\n",
      "\n",
      "Accuracy_svc: 0.8988915923222492\n"
     ]
    },
    {
     "data": {
      "image/png": "[encoded data removed]",
      "text/plain": [
       "<Figure size 432x288 with 2 Axes>"
      ]
     },
     "metadata": {},
     "output_type": "display_data"
    }
   ],
   "source": [
    "###4. Step 4: Assess the Model\n",
    "# Score takes a feature matrix X_test and the expected target values y_test. \n",
    "# Predictions for X_test are compared with y_test\n",
    "\n",
    "print(\"MLP score is\",mlp.score(X_test,y_test))\n",
    "\n",
    "# Accuracy for y NN\n",
    "#print(\"y Accuracy NN:\",metrics.accuracy_score(y_test, y_XGB_pred))\n",
    "#print(\"\")\n",
    "\n",
    "###4. Step 4: Assess the Model\n",
    "print(\"Accuracy_nn:\",metrics.accuracy_score(y_test, y_pred_nn))\n",
    "cnf_matrix_nn = metrics.confusion_matrix(y_test, y_pred_nn)\n",
    "\n",
    "print(cnf_matrix_nn)\n",
    "\n",
    "# Plot AOC\n",
    "y_pred_proba_nn = mlp.predict_proba(X_test)[::,1]\n",
    "fpr_nn, tpr_nn, _ = metrics.roc_curve(y_test,  y_pred_proba_nn)\n",
    "auc_nn = metrics.roc_auc_score(y_test, y_pred_proba_nn)\n",
    "plt.plot(fpr_nn,tpr_nn,label=\"data 1, auc=\"+str(auc_nn))\n",
    "plt.legend(loc=4)\n",
    "plt.show()\n",
    "\n",
    "\n",
    "class_names_nn=[0,1] # name  of classes\n",
    "fig, ax = plt.subplots()\n",
    "tick_marks_nn = np.arange(len(class_names_nn))\n",
    "plt.xticks(tick_marks_nn, class_names_nn)\n",
    "plt.yticks(tick_marks_nn, class_names_nn)\n",
    "# create heatmap\n",
    "sns.heatmap(pd.DataFrame(cnf_matrix_nn), annot=True, cmap=\"YlGnBu\" ,fmt='g')\n",
    "ax.xaxis.set_label_position(\"top\")\n",
    "plt.tight_layout()\n",
    "plt.title('Confusion matrix NN', y=1.1)\n",
    "plt.ylabel('Actual label')\n",
    "plt.xlabel('Predicted label')\n",
    "\n",
    "print(classification_report(y_test, y_pred_nn))\n",
    "print(\"Accuracy_svc:\",metrics.accuracy_score(y_test, y_pred_nn))\n",
    "\n",
    "#Plot AOC\n",
    "# y_pred_proba_nn = mlp.predict_proba(X_test)[::,1]\n",
    "# fpr_nn, tpr_nn, _ = metrics.roc_curve(y_test,  y_pred_proba_nn)\n",
    "# auc_nn = metrics.roc_auc_score(y_test, y_pred_proba_nn)\n",
    "# plt.plot(fpr_nn,tpr_nn,label=\"data 1, auc=\"+str(auc_nn))\n",
    "# plt.legend(loc=4)\n",
    "# plt.show()"
   ]
  },
  {
   "cell_type": "code",
   "execution_count": 166,
   "metadata": {},
   "outputs": [],
   "source": [
    "# # Code for feature selection using scikit-learn\n",
    "# # import the package\n",
    "# from sklearn.ensemble import RandomForestClassifier\n",
    "\n",
    "# #Create a Gaussian Classifier\n",
    "# clf=RandomForestClassifier(n_estimators=100)\n",
    "\n",
    "# #Train the model using the training sets y_pred=clf.predict(X_test)\n",
    "# clf.fit(X_train,y_train)"
   ]
  },
  {
   "cell_type": "code",
   "execution_count": 167,
   "metadata": {},
   "outputs": [],
   "source": [
    "# import pandas as pd\n",
    "# feature_imp = pd.Series(clf.feature_importances_,index=y_test).sort_values(ascending=False)\n",
    "# feature_imp"
   ]
  },
  {
   "cell_type": "markdown",
   "metadata": {},
   "source": [
    "## Logistic Regression Model"
   ]
  },
  {
   "cell_type": "markdown",
   "metadata": {},
   "source": [
    ">   <b> Accuracy: </b> 89%\n",
    "<br><b> AUC: </b> 87%\n",
    "<br><b> Next Steps: </b> Additional parameter tuning\n"
   ]
  },
  {
   "cell_type": "code",
   "execution_count": 168,
   "metadata": {},
   "outputs": [],
   "source": [
    "#Build the model\n",
    "# import the class\n",
    "from sklearn.linear_model import LogisticRegression\n",
    "\n",
    "# instantiate the model (using the default parameters)\n",
    "logreg = LogisticRegression()\n",
    "\n",
    "# fit the model with data\n",
    "logreg.fit(X_train,y_train)\n",
    "\n",
    "#\n",
    "y_LR_pred=logreg.predict(X_test)"
   ]
  },
  {
   "cell_type": "code",
   "execution_count": 169,
   "metadata": {},
   "outputs": [
    {
     "data": {
      "text/plain": [
       "array([[2952,  206],\n",
       "       [ 189,  352]], dtype=int64)"
      ]
     },
     "execution_count": 169,
     "metadata": {},
     "output_type": "execute_result"
    }
   ],
   "source": [
    "# import the metrics class for the Confusion Matrix\n",
    "from sklearn import metrics\n",
    "cnf_matrix_LogR = metrics.confusion_matrix(y_test, y_LR_pred)\n",
    "cnf_matrix_LogR"
   ]
  },
  {
   "cell_type": "code",
   "execution_count": 170,
   "metadata": {},
   "outputs": [
    {
     "data": {
      "text/plain": [
       "Text(0.5, 257.44, 'Predicted label')"
      ]
     },
     "execution_count": 170,
     "metadata": {},
     "output_type": "execute_result"
    },
    {
     "data": {
      "image/png": "[encoded data removed]",
      "text/plain": [
       "<Figure size 432x288 with 2 Axes>"
      ]
     },
     "metadata": {},
     "output_type": "display_data"
    }
   ],
   "source": [
    "# Visualizing the Confusion Matrix\n",
    "\n",
    "class_names=[0,1] # name  of classes\n",
    "fig, ax = plt.subplots()\n",
    "tick_marks = np.arange(len(class_names))\n",
    "plt.xticks(tick_marks, class_names)\n",
    "plt.yticks(tick_marks, class_names)\n",
    "# create heatmap\n",
    "sns.heatmap(pd.DataFrame(cnf_matrix_LogR), annot=True, cmap=\"YlGnBu\" ,fmt='g')\n",
    "ax.xaxis.set_label_position(\"top\")\n",
    "plt.tight_layout()\n",
    "plt.title('Confusion matrix Log Reg', y=1.1)\n",
    "plt.ylabel('Actual label')\n",
    "plt.xlabel('Predicted label')"
   ]
  },
  {
   "cell_type": "code",
   "execution_count": 171,
   "metadata": {},
   "outputs": [
    {
     "data": {
      "image/png": "[encoded data removed]",
      "text/plain": [
       "<Figure size 432x288 with 1 Axes>"
      ]
     },
     "metadata": {},
     "output_type": "display_data"
    }
   ],
   "source": [
    "# ROC Curve\n",
    "y_LR_pred_proba = logreg.predict_proba(X_test)[::,1]\n",
    "fpr_LR, tpr_LR, _ = metrics.roc_curve(y_test,  y_LR_pred_proba)\n",
    "auc_LR = metrics.roc_auc_score(y_test, y_LR_pred_proba)\n",
    "plt.plot(fpr_LR,tpr_LR,label=\"data 1, auc=\"+str(auc_LR))\n",
    "plt.legend(loc=4)\n",
    "plt.show()"
   ]
  },
  {
   "cell_type": "code",
   "execution_count": 173,
   "metadata": {},
   "outputs": [
    {
     "name": "stdout",
     "output_type": "stream",
     "text": [
      "Accuracy: 0.8932143822654771\n",
      "Precision: 0.6308243727598566\n",
      "Recall: 0.6506469500924215\n",
      "              precision    recall  f1-score   support\n",
      "\n",
      "           0       0.94      0.93      0.94      3158\n",
      "           1       0.63      0.65      0.64       541\n",
      "\n",
      "    accuracy                           0.89      3699\n",
      "   macro avg       0.79      0.79      0.79      3699\n",
      "weighted avg       0.89      0.89      0.89      3699\n",
      "\n"
     ]
    }
   ],
   "source": [
    "print(\"Accuracy:\",metrics.accuracy_score(y_test, y_LR_pred))\n",
    "print(\"Precision:\",metrics.precision_score(y_test, y_LR_pred))\n",
    "print(\"Recall:\",metrics.recall_score(y_test, y_LR_pred))\n",
    "#Can use classification report to assess model adequacy, too\n",
    "print(metrics.classification_report(y_test, y_LR_pred, labels=class_names))"
   ]
  },
  {
   "cell_type": "code",
   "execution_count": 82,
   "metadata": {},
   "outputs": [],
   "source": [
    "#90.3% accuracy "
   ]
  },
  {
   "cell_type": "code",
   "execution_count": 83,
   "metadata": {},
   "outputs": [],
   "source": [
    "# # Code for feature selection using scikit-learn\n",
    "# # import the package\n",
    "# from sklearn.ensemble import RandomForestClassifier\n",
    "\n",
    "# #Create a Gaussian Classifier\n",
    "# clf=RandomForestClassifier(n_estimators=100)\n",
    "\n",
    "# #Train the model using the training sets y_pred=clf.predict(X_test)\n",
    "# clf.fit(X_train,y_train)"
   ]
  },
  {
   "cell_type": "code",
   "execution_count": 84,
   "metadata": {},
   "outputs": [],
   "source": [
    "# import pandas as pd\n",
    "# feature_imp = pd.Series(clf.feature_importances_,index=y_test).sort_values(ascending=False)\n",
    "# feature_imp"
   ]
  },
  {
   "cell_type": "markdown",
   "metadata": {},
   "source": [
    "## K-Means Model"
   ]
  },
  {
   "cell_type": "code",
   "execution_count": 174,
   "metadata": {},
   "outputs": [],
   "source": [
    "#important packages\n",
    "\n",
    "import pandas as pd\n",
    "import numpy as np\n",
    "from sklearn.cluster import KMeans\n",
    "from sklearn.preprocessing import LabelEncoder\n",
    "from sklearn.preprocessing import MinMaxScaler\n",
    "import seaborn as sns\n",
    "import matplotlib.pyplot as plt\n",
    "import matplotlib\n",
    "plt.style.use('ggplot')\n",
    "%matplotlib inline"
   ]
  },
  {
   "cell_type": "code",
   "execution_count": 175,
   "metadata": {},
   "outputs": [],
   "source": [
    "X_kmeans = np.array(X_train)\n",
    "y_kmeans = np.array(y_train)"
   ]
  },
  {
   "cell_type": "code",
   "execution_count": 176,
   "metadata": {},
   "outputs": [
    {
     "data": {
      "text/plain": [
       "KMeans(algorithm='auto', copy_x=True, init='k-means++', max_iter=600,\n",
       "       n_clusters=2, n_init=10, n_jobs=None, precompute_distances='auto',\n",
       "       random_state=None, tol=0.0001, verbose=0)"
      ]
     },
     "execution_count": 176,
     "metadata": {},
     "output_type": "execute_result"
    }
   ],
   "source": [
    "# Build the model\n",
    "\n",
    "# load the model\n",
    "kmeans = KMeans(n_clusters=2, max_iter=600, algorithm = 'auto') # 2 clusters, sale or no sale\n",
    "kmeans.fit(X_kmeans)"
   ]
  },
  {
   "cell_type": "code",
   "execution_count": 177,
   "metadata": {},
   "outputs": [
    {
     "name": "stdout",
     "output_type": "stream",
     "text": [
      "0.12628895840574672\n"
     ]
    }
   ],
   "source": [
    "# Predictions\n",
    "correct = 0\n",
    "for i in range(len(X_kmeans)):\n",
    "    predict_me = np.array(X_kmeans[i].astype(float))\n",
    "    predict_me = predict_me.reshape(-1, len(predict_me))\n",
    "    prediction = kmeans.predict(predict_me)\n",
    "    if prediction[0] == y_kmeans[i]:\n",
    "        correct += 1\n",
    "\n",
    "print(correct/len(X_kmeans))"
   ]
  },
  {
   "cell_type": "code",
   "execution_count": null,
   "metadata": {},
   "outputs": [],
   "source": []
  }
 ],
 "metadata": {
  "kernelspec": {
   "display_name": "Python 3",
   "language": "python",
   "name": "python3"
  },
  "language_info": {
   "codemirror_mode": {
    "name": "ipython",
    "version": 3
   },
   "file_extension": ".py",
   "mimetype": "text/x-python",
   "name": "python",
   "nbconvert_exporter": "python",
   "pygments_lexer": "ipython3",
   "version": "3.7.0"
  }
 },
 "nbformat": 4,
 "nbformat_minor": 4
}
