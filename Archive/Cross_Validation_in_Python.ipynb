{
 "cells": [
  {
   "cell_type": "markdown",
   "metadata": {
    "colab_type": "text",
    "id": "tMoPlBdz8sF4"
   },
   "source": [
    "# Improve Your Model Performance using Cross Validation \n",
    "\n",
    "If you run your machine learning model several times, even with the same configuration, you may notice that your model performance may go up and down. Why would that happen? Since machine learning models try to approximate the data - there is always __uncertainty__ in there. \n",
    "\n",
    "We want to limit the __uncertainty__ in our models, so that _the model can produce consistent results on unseen data_. In other words, if the model uncertainty is too high, the model may produce unreliable results."
   ]
  },
  {
   "cell_type": "markdown",
   "metadata": {
    "colab_type": "text",
    "id": "BmGyqCnF-_3H"
   },
   "source": [
    "## Why do models lose stability?\n",
    "Let’s understand this using the below snapshot illustrating the fit of various models:\n",
    "\n",
    "![Model Stability](https://www.analyticsvidhya.com/wp-content/uploads/2015/11/15.png)\n",
    "\n",
    "Here, we are trying to find the relationship between size and price. To achieve this, we have taken the following steps:\n",
    "\n",
    "1. In the first plot, you can observe high error (model fitting loosely to the data) - it is an example of “Underfitting”.\n",
    "The first plot has a high error from training data points. \n",
    "2. In the second plot, we just found the right relationship between price and size, i.e., low training error and generalization of the relationship. \n",
    "3. In the third plot, we found a relationship which has almost zero training error. This is because the relationship is developed by considering each deviation in the data point (including noise), i.e., the model is too sensitive and captures random patterns which are present only in the current dataset. This is an example of “Overfitting”. \n",
    "\n",
    "A common practice in data science competitions is to iterate over various models to find a better performing model. However, it becomes difficult to distinguish whether this improvement in score is coming because we are capturing the relationship better, or we are just over-fitting the data. To find the right answer for this question, we use validation techniques. This method helps us in achieving more generalized relationships.\n",
    "\n"
   ]
  },
  {
   "cell_type": "markdown",
   "metadata": {
    "colab_type": "text",
    "id": "LM-9wxrSAuv2"
   },
   "source": [
    "## Before Cross Validation\n",
    "\n",
    "So far, in all but one tutorials in this class, we have been using the traditional train-test split method for validation purposes. This method is called the __(_fixed_) hold-out method__. In this method, a fixed portion of the data (e.g. _20%_) is reserved for evaluation purposes. \n",
    "\n",
    "Refresh your memory with the code below. "
   ]
  },
  {
   "cell_type": "code",
   "execution_count": null,
   "metadata": {
    "colab": {},
    "colab_type": "code",
    "id": "2gty6yjp8rft"
   },
   "outputs": [],
   "source": [
    "# import the required packages\n",
    "from sklearn.datasets import load_breast_cancer\n",
    "from sklearn.model_selection import *\n",
    "import pandas as pd\n",
    "import numpy as np\n",
    "\n",
    "\n",
    "from sklearn.svm import SVC\n",
    "from sklearn.metrics import accuracy_score\n",
    "\n",
    "from sklearn.model_selection import cross_val_score\n",
    "import matplotlib.pyplot as plt\n",
    "plt.style.use('ggplot')\n",
    "\n",
    "import warnings\n",
    "warnings.filterwarnings('ignore')"
   ]
  },
  {
   "cell_type": "code",
   "execution_count": null,
   "metadata": {
    "colab": {},
    "colab_type": "code",
    "id": "abBLqfdD8f6Q"
   },
   "outputs": [],
   "source": [
    "# load the wine dataset\n",
    "my_data = load_breast_cancer()\n",
    "my_data.keys()"
   ]
  },
  {
   "cell_type": "code",
   "execution_count": null,
   "metadata": {
    "colab": {},
    "colab_type": "code",
    "id": "XgE4BDXFCM3P"
   },
   "outputs": [],
   "source": [
    "my_df = pd.DataFrame(my_data.data, columns=my_data.feature_names)\n",
    "my_df.head()"
   ]
  },
  {
   "cell_type": "code",
   "execution_count": null,
   "metadata": {
    "colab": {},
    "colab_type": "code",
    "id": "51ZHhVXdCjUb"
   },
   "outputs": [],
   "source": [
    "my_df['label'] = my_data.target\n",
    "my_df.head()"
   ]
  },
  {
   "cell_type": "code",
   "execution_count": null,
   "metadata": {
    "colab": {},
    "colab_type": "code",
    "id": "0ozuEkb4Ctad"
   },
   "outputs": [],
   "source": [
    "# split the data into train/test\n",
    "# test takes up 20% of the data\n",
    "X_train, X_test,y_train, y_test\\\n",
    "    = train_test_split(my_data.data, my_data.target, test_size=0.2, random_state=2020)"
   ]
  },
  {
   "cell_type": "code",
   "execution_count": null,
   "metadata": {
    "colab": {},
    "colab_type": "code",
    "id": "QBebu-Z_DJWF"
   },
   "outputs": [],
   "source": [
    "X_train.shape, y_train.shape, X_test.shape, y_test.shape"
   ]
  },
  {
   "cell_type": "markdown",
   "metadata": {
    "colab_type": "text",
    "id": "uYzNjeLWEane"
   },
   "source": [
    "We discussed sometimes we might want to reserve a portion of the data for model optimization purposes - that portion of the data is called the validation set. So that method is called the _three-way hold-out method_.\n",
    "\n",
    "![three way hold out](https://i.stack.imgur.com/pXAfX.png)\n",
    "\n",
    "We can also do that with `train_test_split()`. Say we want to reserve `20%` for validation."
   ]
  },
  {
   "cell_type": "code",
   "execution_count": null,
   "metadata": {
    "colab": {},
    "colab_type": "code",
    "id": "3GpzAiCUDZun"
   },
   "outputs": [],
   "source": [
    "X_train, X_val, y_train, y_val\\\n",
    "   = train_test_split(X_train, y_train, test_size=0.25, random_state=2020) # 0.25 x 0.8 = 0.2"
   ]
  },
  {
   "cell_type": "code",
   "execution_count": null,
   "metadata": {
    "colab": {},
    "colab_type": "code",
    "id": "dSxXcdsqFwT_"
   },
   "outputs": [],
   "source": [
    "X_train.shape, X_val.shape, y_train.shape, y_val.shape"
   ]
  },
  {
   "cell_type": "markdown",
   "metadata": {
    "colab_type": "text",
    "id": "Xbqy7dtGGgTC"
   },
   "source": [
    "Now we can try to fit the model multiple times to observe the variance in model performances with the __hold out method__."
   ]
  },
  {
   "cell_type": "code",
   "execution_count": null,
   "metadata": {
    "colab": {},
    "colab_type": "code",
    "id": "JDuMwoOAGCrz"
   },
   "outputs": [],
   "source": [
    "clf = SVC(C=1.0)\n",
    "for i in range(10):\n",
    "  fit = clf.fit(X_train, y_train)\n",
    "  y_pred = clf.predict(X_test)\n",
    "  print('Accruracy for ', i, 'th round training: ', round(accuracy_score(y_test, y_pred), 4)) # no variance"
   ]
  },
  {
   "cell_type": "markdown",
   "metadata": {
    "colab_type": "text",
    "id": "h82ts6waHunF"
   },
   "source": [
    "We can observe from above there are no variances in the results - since `sklearn` will always optimize your model within the current configuration.\n",
    "\n",
    "If we want to see some variance, we need to have different training/test sets (with the same 80:20 split). We can do that via the __Repeated Holdout__ method. See the code below."
   ]
  },
  {
   "cell_type": "code",
   "execution_count": null,
   "metadata": {
    "colab": {},
    "colab_type": "code",
    "id": "jF2-7VuWxJNV"
   },
   "outputs": [],
   "source": [
    "for i in range(10):\n",
    "  # remove `random_state` so we have different training/test sample in every iteration\n",
    "  X_train, X_test,y_train, y_test\\\n",
    "    = train_test_split(my_data.data, my_data.target, test_size=0.2)\n",
    "  fit = clf.fit(X_train, y_train)\n",
    "  y_pred = clf.predict(X_test)\n",
    "  print('Accruracy for ', i, 'th round training: ', round(accuracy_score(y_test, y_pred), 4)) # some variance"
   ]
  },
  {
   "cell_type": "markdown",
   "metadata": {
    "colab_type": "text",
    "id": "wUVscJpewsU2"
   },
   "source": [
    "Now you can see some bumping ups and downs in the results (variance). \n",
    "\n",
    "So what is wrong with the hold out and the repeated holdout methods? Since you essentially is training your model in one shot, you may get a \"lucky draw' of your data (in which your model outperforms the actual), or even worse, an \"unlucky draw\" (in which your model underperforms the actual). We do not want either situation - we want a __fair estimate__ of the model performance.\n",
    "\n",
    "In other words, you want your model to be exposed to as much data as you can, so the model can learn a comprehensive pattern (not a partial image) from your data. Since we cannot use all the data for training, that is why we need __Cross Validation__."
   ]
  },
  {
   "cell_type": "markdown",
   "metadata": {
    "colab_type": "text",
    "id": "Qs8sjY0ZAFYL"
   },
   "source": [
    "## What is Cross Validation?\n",
    "Cross Validation is a technique which involves reserving a particular sample of a dataset on which you do not train the model. Later, you test your model on this sample before finalizing it.\n",
    "\n",
    "Here are the steps involved in k-fold cross validation:\n",
    "\n",
    "1. Split your dataset into K (roughly) equal folds, and reserve 1 fold for evaluation/optimization purposes - note these two are related but different;\n",
    "2. Train the model using the remaining (K-1) folds and the reserve sample as the test (validation) set. This will help you in gauging the effectiveness of your model’s performance. \n",
    "\n",
    "If your model delivers a positive result on validation data, go ahead with the current model. \n",
    "\n",
    "Even though k-fold cross validation is the most popular type, do not assume that it is the _only_ cross validation method."
   ]
  },
  {
   "cell_type": "markdown",
   "metadata": {
    "colab_type": "text",
    "id": "oIOnBIt7JO6Y"
   },
   "source": [
    "## Common Methods for Cross Validation\n",
    "\n",
    "Cross Validation (CV) is a family of sampling/model evaluation/model optimization methods. In the stats context, it is a sampling method. In the machine learning context, it is widely used for model evaluation and/or model optimization purposes. \n",
    "\n",
    "There is a recommendation that every model needs to go through CV once, either for model evaluation or model optimization purposes. \n",
    "\n",
    "Here is a list of common CV methods:\n",
    "- Leave-One-Out Cross Validation (LOOCV) (_most extreme_)\n",
    "- K-fold Cross Validation (_most popular_)\n",
    "- Repeated K-fold Cross Validation\n",
    "- Stratified K-fold Cross Validation (_best for imblanced data_)\n",
    "- Cross Validation for Time Series (_fairly popular right now_)\n",
    "\n",
    "Let's see how to implement them one by one."
   ]
  },
  {
   "cell_type": "markdown",
   "metadata": {
    "colab_type": "text",
    "id": "LMj-44tMLkE3"
   },
   "source": [
    "### Leave-One-Out Cross Validation (LOOCV)\n",
    "\n",
    "LOOCV is the most extreme CV method. In every iteration, only __one data point__ is used for testing, the remainder of the data is used for training.\n",
    "\n",
    "Pros:\n",
    "- Model is fit to almost the whole dataset; very little chance of having a \"lucky/unlucky\" draw;\n",
    "\n",
    "Cons:\n",
    "- Training is slow;\n",
    "- Variance in model performances is high.\n",
    "\n",
    "Even though `sklearn` has its own `LeaveOneOut` method, we can essentially use the `KFold()` method for that."
   ]
  },
  {
   "cell_type": "code",
   "execution_count": null,
   "metadata": {
    "colab": {},
    "colab_type": "code",
    "id": "nmJMbGZTGNtN"
   },
   "outputs": [],
   "source": [
    "X = my_data.data\n",
    "\n",
    "kf = KFold(n_splits=len(X)) # split the data \n",
    "\n",
    "# look at the first 3 iterations\n",
    "i = 0\n",
    "for train_index, test_index in kf.split(X):\n",
    "  print(\"Training data contains\", len(train_index), \"data points\")\n",
    "  print(\"TEST data contains\", len(test_index), \"data points\")     \n",
    "  i += 1\n",
    "  if i > 3:\n",
    "    break\n"
   ]
  },
  {
   "cell_type": "markdown",
   "metadata": {
    "colab_type": "text",
    "id": "5Avg-k0jOE9w"
   },
   "source": [
    "We can see in every iteration, the training dataset contains $569 - 1 = 568$ instances, and the test set contains $1$ data point. \n",
    "\n",
    "Even though we can implement the LOOCV in `sklearn`, it is not well supported in it. So we will stop here and move on to the next method, K-fold CV."
   ]
  },
  {
   "cell_type": "markdown",
   "metadata": {
    "colab_type": "text",
    "id": "LlBKU3pJUJPc"
   },
   "source": [
    "### K-fold Cross Validation\n",
    "\n",
    "This is the most popular method in the context of CV.\n",
    "\n",
    "Pros:\n",
    "- Most balanced method;\n",
    "- Can be used for both model evaluation and optmization purposes\n",
    "\n",
    "Cons:\n",
    "- if dataset is too small and K is too large, model might underfit\n",
    "- if k is too small, model may overfit\n",
    "\n",
    "For __evaluation purposes__, we can simply use the `cross_val_score` method.\n",
    "- it takes the model, features, target, and K as function parameters\n",
    "- by default the returned value is the accuracy score (e.g. classification accuracy for our model)\n",
    "\n",
    "Below code performs a 5-fold CV using the `SVC` model above on our data - you can see five different _accuracy_ scores.\n"
   ]
  },
  {
   "cell_type": "code",
   "execution_count": null,
   "metadata": {
    "colab": {},
    "colab_type": "code",
    "id": "RcCiWrEaOBWd"
   },
   "outputs": [],
   "source": [
    "y = my_data.target\n",
    "cross_val_score(clf, X, y, cv=5)"
   ]
  },
  {
   "cell_type": "code",
   "execution_count": null,
   "metadata": {
    "colab": {},
    "colab_type": "code",
    "id": "AgX8_8ukPNYP"
   },
   "outputs": [],
   "source": [
    "# change k to 3\n",
    "cross_val_score(clf, X, y, cv=3)"
   ]
  },
  {
   "cell_type": "code",
   "execution_count": null,
   "metadata": {
    "colab": {},
    "colab_type": "code",
    "id": "kevx4sjmaTD-"
   },
   "outputs": [],
   "source": [
    "# change k to 10\n",
    "cross_val_score(clf, X, y, cv=10)"
   ]
  },
  {
   "cell_type": "markdown",
   "metadata": {
    "colab_type": "text",
    "id": "4Qi1S5yPaaQ7"
   },
   "source": [
    "If you want the final score of the model, usually we will use the __average__ across the `k` iterations."
   ]
  },
  {
   "cell_type": "code",
   "execution_count": null,
   "metadata": {
    "colab": {},
    "colab_type": "code",
    "id": "tetH2vZ0aXA2"
   },
   "outputs": [],
   "source": [
    "print('final model accuracy:', cross_val_score(clf, X, y, cv=10).mean())"
   ]
  },
  {
   "cell_type": "markdown",
   "metadata": {
    "colab_type": "text",
    "id": "KV03Cf1ykyEe"
   },
   "source": [
    "You can also test how much the variance is in the results, you can check the _standard deviation_ of the scores."
   ]
  },
  {
   "cell_type": "code",
   "execution_count": null,
   "metadata": {
    "colab": {},
    "colab_type": "code",
    "id": "PEEyfxsLlAWy"
   },
   "outputs": [],
   "source": [
    "print('model accuracy variance:', np.std(cross_val_score(clf, X, y, cv=10)))"
   ]
  },
  {
   "cell_type": "markdown",
   "metadata": {
    "colab_type": "text",
    "id": "ohqS71-ubCbZ"
   },
   "source": [
    "You can also specify using different metrics. For instance, we may want to focus on the _f1-score_ or the _ROC/AUC_ metric. All supported scoring metrics are listed [here](https://scikit-learn.org/stable/modules/model_evaluation.html#scoring-parameter).\n",
    "\n",
    "We can do that using the code below."
   ]
  },
  {
   "cell_type": "code",
   "execution_count": null,
   "metadata": {
    "colab": {},
    "colab_type": "code",
    "id": "WpaIoGw-a-5j"
   },
   "outputs": [],
   "source": [
    "cross_val_score(clf, X, y, cv=10, scoring='f1')"
   ]
  },
  {
   "cell_type": "code",
   "execution_count": null,
   "metadata": {
    "colab": {},
    "colab_type": "code",
    "id": "NC83Busnb-yx"
   },
   "outputs": [],
   "source": [
    "cross_val_score(clf, X, y, cv=10, scoring='roc_auc')"
   ]
  },
  {
   "cell_type": "markdown",
   "metadata": {
    "colab_type": "text",
    "id": "pixwJKlKdJoe"
   },
   "source": [
    "The `cross_val_score` method is a shortcut for model evaluation purposes. The regular method is `KFold` - if we want to use the K-fold CV for model optimization purposes, we can use `KFold`, or specific methods for hyperparameter tuning that we will see next week."
   ]
  },
  {
   "cell_type": "markdown",
   "metadata": {
    "colab_type": "text",
    "id": "YdEIdGfvc0Fv"
   },
   "source": [
    "### Repeated K-fold Cross Validation\n",
    "\n",
    "Repeated K-fold CV is basically conducting the K-Fold cross validation `i` times. See the comparison below."
   ]
  },
  {
   "cell_type": "code",
   "execution_count": null,
   "metadata": {
    "colab": {},
    "colab_type": "code",
    "id": "KGxs_9JJeylL"
   },
   "outputs": [],
   "source": [
    "# create some synthetic data for illustration\n",
    "X_data = np.random.randint(5, size=(9, 2))\n",
    "X_data"
   ]
  },
  {
   "cell_type": "markdown",
   "metadata": {
    "colab_type": "text",
    "id": "XKNg2Y-TgEiA"
   },
   "source": [
    "Regular K-fold CV:"
   ]
  },
  {
   "cell_type": "code",
   "execution_count": null,
   "metadata": {
    "colab": {},
    "colab_type": "code",
    "id": "hewgn3dWfTBy"
   },
   "outputs": [],
   "source": [
    "kf = KFold(n_splits=3, random_state=2020)\n",
    "for train_index, test_index in kf.split(X_data):\n",
    "      print(\"Train:\")\n",
    "      print(X_data[train_index])\n",
    "      print(\"Test:\")\n",
    "      print(X_data[test_index])\n",
    "      print('\\n')"
   ]
  },
  {
   "cell_type": "markdown",
   "metadata": {
    "colab_type": "text",
    "id": "78dI4KwrgH9r"
   },
   "source": [
    "Repeated K-fold CV:\n",
    "Note that between the repeat, the data is variant (not simple repeat, repeat with randomness)."
   ]
  },
  {
   "cell_type": "code",
   "execution_count": 1,
   "metadata": {
    "colab": {},
    "colab_type": "code",
    "id": "GSjOSAxlgCsX"
   },
   "outputs": [
    {
     "ename": "NameError",
     "evalue": "name 'RepeatedKFold' is not defined",
     "output_type": "error",
     "traceback": [
      "\u001b[0;31m---------------------------------------------------------------------------\u001b[0m",
      "\u001b[0;31mNameError\u001b[0m                                 Traceback (most recent call last)",
      "\u001b[0;32m<ipython-input-1-bff13f790c00>\u001b[0m in \u001b[0;36m<module>\u001b[0;34m\u001b[0m\n\u001b[0;32m----> 1\u001b[0;31m \u001b[0mrkf\u001b[0m \u001b[0;34m=\u001b[0m \u001b[0mRepeatedKFold\u001b[0m\u001b[0;34m(\u001b[0m\u001b[0mn_splits\u001b[0m\u001b[0;34m=\u001b[0m\u001b[0;36m3\u001b[0m\u001b[0;34m,\u001b[0m \u001b[0mn_repeats\u001b[0m\u001b[0;34m=\u001b[0m\u001b[0;36m5\u001b[0m\u001b[0;34m,\u001b[0m \u001b[0mrandom_state\u001b[0m\u001b[0;34m=\u001b[0m\u001b[0;36m2020\u001b[0m\u001b[0;34m)\u001b[0m\u001b[0;34m\u001b[0m\u001b[0;34m\u001b[0m\u001b[0m\n\u001b[0m\u001b[1;32m      2\u001b[0m \u001b[0;32mfor\u001b[0m \u001b[0mtrain_i\u001b[0m\u001b[0;34m.\u001b[0m\u001b[0mndex\u001b[0m\u001b[0;34m,\u001b[0m \u001b[0mtest_index\u001b[0m \u001b[0;32min\u001b[0m \u001b[0mrkf\u001b[0m\u001b[0;34m.\u001b[0m\u001b[0msplit\u001b[0m\u001b[0;34m(\u001b[0m\u001b[0mX_data\u001b[0m\u001b[0;34m)\u001b[0m\u001b[0;34m:\u001b[0m\u001b[0;34m\u001b[0m\u001b[0;34m\u001b[0m\u001b[0m\n\u001b[1;32m      3\u001b[0m       \u001b[0mprint\u001b[0m\u001b[0;34m(\u001b[0m\u001b[0;34m\"Train:\"\u001b[0m\u001b[0;34m)\u001b[0m\u001b[0;34m\u001b[0m\u001b[0;34m\u001b[0m\u001b[0m\n\u001b[1;32m      4\u001b[0m       \u001b[0mprint\u001b[0m\u001b[0;34m(\u001b[0m\u001b[0mX_data\u001b[0m\u001b[0;34m[\u001b[0m\u001b[0mtrain_index\u001b[0m\u001b[0;34m]\u001b[0m\u001b[0;34m)\u001b[0m\u001b[0;34m\u001b[0m\u001b[0;34m\u001b[0m\u001b[0m\n\u001b[1;32m      5\u001b[0m       \u001b[0mprint\u001b[0m\u001b[0;34m(\u001b[0m\u001b[0;34m\"Test:\"\u001b[0m\u001b[0;34m)\u001b[0m\u001b[0;34m\u001b[0m\u001b[0;34m\u001b[0m\u001b[0m\n",
      "\u001b[0;31mNameError\u001b[0m: name 'RepeatedKFold' is not defined"
     ]
    }
   ],
   "source": [
    "rkf = RepeatedKFold(n_splits=3, n_repeats=5, random_state=2020)\n",
    "for train_i.ndex, test_index in rkf.split(X_data):\n",
    "      print(\"Train:\")\n",
    "      print(X_data[train_index])\n",
    "      print(\"Test:\")\n",
    "      print(X_data[test_index])\n",
    "      print('\\n')"
   ]
  },
  {
   "cell_type": "markdown",
   "metadata": {
    "colab_type": "text",
    "id": "TSNKDVAmch-q"
   },
   "source": [
    "### Stratified K-fold Cross Validation\n",
    "\n",
    "Stratified K-fold CV is particularly useful when the data is imbalanced. See below code for the use of the `StratifiedKFold` method."
   ]
  },
  {
   "cell_type": "code",
   "execution_count": null,
   "metadata": {
    "colab": {},
    "colab_type": "code",
    "id": "oxo_6IWicD0K"
   },
   "outputs": [],
   "source": [
    "skf = StratifiedKFold(n_splits=5, random_state=None)\n",
    "# X is the feature set and y is the target\n",
    "for train_index, test_index in skf.split(X,y): \n",
    "    print(\"Train:\", train_index, \"Validation:\", val_index) \n",
    "    X_train, X_test = X[train_index], X[val_index] \n",
    "    y_train, y_test = y[train_index], y[val_index]\n"
   ]
  },
  {
   "cell_type": "markdown",
   "metadata": {
    "colab_type": "text",
    "id": "JQgLrZ3ChwxS"
   },
   "source": [
    "As said above, for model evaluation purposes, we can simply use the `cross_val_score` function. In the `cross_val_score` function, if the `cv` value is _integer_, the model (e.g. `clf`) is a classifier, and `y` is _categorical_ (e.g. _binary_ in this case),  `StratifiedKFold` is used. In all other cases, `KFold` is used. In short, `cross_val_score` by default apply stratified K-fold CV for classification problems."
   ]
  },
  {
   "cell_type": "markdown",
   "metadata": {
    "colab_type": "text",
    "id": "_14GHy2yi2ju"
   },
   "source": [
    "### Cross Validation for Time Series\n",
    "\n",
    "Time series data is very special - since the time sequence is implied in the data. Thus, splitting a time-series dataset randomly does not work because the time section of your data will be messed up. For a time series forecasting problem, we perform cross validation in the forward chaining manner.\n",
    "\n",
    "```\n",
    "fold 1: training [1], test [2]\n",
    "fold 2: training [1 2], test [3]\n",
    "fold 3: training [1 2 3], test [4]\n",
    "fold 4: training [1 2 3 4], test [5]\n",
    "fold 5: training [1 2 3 4 5], test [6]\n",
    ".\n",
    ".\n",
    ".\n",
    "fold n: training [1 2 3 ….. n-1], test [n]\n",
    "```"
   ]
  },
  {
   "cell_type": "code",
   "execution_count": null,
   "metadata": {
    "colab": {},
    "colab_type": "code",
    "id": "QZTrRe-Jiy66"
   },
   "outputs": [],
   "source": [
    "tscv = Tim eSeriesSplit(n_splits=3)\n",
    "for train_index, test_index in tscv.split(X_data):\n",
    "      print(\"Train:\")\n",
    "      print(X_data[train_index])\n",
    "      print(\"Test:\")\n",
    "      print(X_data[test_index])\n",
    "      print('\\n')"
   ]
  },
  {
   "cell_type": "markdown",
   "metadata": {
    "colab_type": "text",
    "id": "Kojjoc4ej96l"
   },
   "source": [
    "# Conclusion\n",
    "\n",
    "In this tutorial, we discussed the importance of cross validation in machine learning models, in particular we focused on the __model evaluation__ use of CV. Thus, you should be comfortable using the `cross_val_score` function in your model evaluation phase.\n",
    "\n",
    "We also surveyed the most popular CV methods - `sklearn` support most of them natively. In other projects, you may want to use other CV methods.\n",
    "\n",
    "In next week's tutorial, we will use CV for another important purpose: model optimization. Till then, try CV on your own to evaluate your models."
   ]
  }
 ],
 "metadata": {
  "colab": {
   "name": "Cross_Validation_in_Python.ipynb",
   "provenance": []
  },
  "kernelspec": {
   "display_name": "Python 3",
   "language": "python",
   "name": "python3"
  },
  "language_info": {
   "codemirror_mode": {
    "name": "ipython",
    "version": 3
   },
   "file_extension": ".py",
   "mimetype": "text/x-python",
   "name": "python",
   "nbconvert_exporter": "python",
   "pygments_lexer": "ipython3",
   "version": "3.7.0"
  }
 },
 "nbformat": 4,
 "nbformat_minor": 4
}
