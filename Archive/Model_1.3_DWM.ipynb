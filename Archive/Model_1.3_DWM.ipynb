{
 "cells": [
  {
   "cell_type": "markdown",
   "metadata": {},
   "source": [
    "## BA 545 Course Project 2: Machine Team 4 \n",
    "#### Online Shoppers Purchasing Intentions\n",
    "##### Michael Disanto, Dawn Massey PhD CPA CGMA, Brian Nicholls\n",
    "###### Preliminary Base Model (1) - Spring 2020\n",
    "----------------------------------------------------------------------\n"
   ]
  },
  {
   "cell_type": "markdown",
   "metadata": {},
   "source": [
    "#### **Table of Contents:**\n",
    "\n",
    "0. [Preparing for analyisis](#part1.0)\n",
    "1. [Initial review of the data](#part1.1)\n",
    "2. [Adjust the object & Bool dtypes for modeling](#part1.2)\n",
    "3. [Split and run the preliminary models with all features](#part1.3)\n"
   ]
  },
  {
   "cell_type": "markdown",
   "metadata": {},
   "source": [
    "## 0. Preparing for Analysis  <a name=\"part1.0\"></a>\n",
    "####  Import the necesary packages for reading, analyzing, tidying, medeling, & evaluating the data"
   ]
  },
  {
   "cell_type": "code",
   "execution_count": 2,
   "metadata": {},
   "outputs": [
    {
     "ename": "ModuleNotFoundError",
     "evalue": "No module named 'plotly'",
     "output_type": "error",
     "traceback": [
      "\u001b[0;31m---------------------------------------------------------------------------\u001b[0m",
      "\u001b[0;31mModuleNotFoundError\u001b[0m                       Traceback (most recent call last)",
      "\u001b[0;32m<ipython-input-2-6240b966612e>\u001b[0m in \u001b[0;36m<module>\u001b[0;34m\u001b[0m\n\u001b[1;32m      8\u001b[0m \u001b[0;32mimport\u001b[0m \u001b[0mmatplotlib\u001b[0m\u001b[0;34m.\u001b[0m\u001b[0mpyplot\u001b[0m \u001b[0;32mas\u001b[0m \u001b[0mplt\u001b[0m\u001b[0;34m\u001b[0m\u001b[0;34m\u001b[0m\u001b[0m\n\u001b[1;32m      9\u001b[0m \u001b[0;32mimport\u001b[0m \u001b[0mseaborn\u001b[0m \u001b[0;32mas\u001b[0m \u001b[0msns\u001b[0m\u001b[0;34m\u001b[0m\u001b[0;34m\u001b[0m\u001b[0m\n\u001b[0;32m---> 10\u001b[0;31m \u001b[0;32mimport\u001b[0m \u001b[0mplotly\u001b[0m\u001b[0;34m.\u001b[0m\u001b[0mexpress\u001b[0m \u001b[0;32mas\u001b[0m \u001b[0mpx\u001b[0m\u001b[0;34m\u001b[0m\u001b[0;34m\u001b[0m\u001b[0m\n\u001b[0m",
      "\u001b[0;31mModuleNotFoundError\u001b[0m: No module named 'plotly'"
     ]
    }
   ],
   "source": [
    "# TO USE FOR ENTIRE TEAM\n",
    "import pandas as pd\n",
    "import numpy as np\n",
    "from pandas_profiling import ProfileReport\n",
    "import statsmodels.api as sm\n",
    "from scipy import stats\n",
    "%matplotlib inline\n",
    "import matplotlib.pyplot as plt\n",
    "import seaborn as sns\n",
    "import plotly.express as px"
   ]
  },
  {
   "cell_type": "code",
   "execution_count": 3,
   "metadata": {},
   "outputs": [],
   "source": [
    "# Excluding Items not in Fairfield Jupiter Lab\n",
    "import pandas as pd\n",
    "import numpy as np\n",
    "from pandas_profiling import ProfileReport\n",
    "import statsmodels.api as sm\n",
    "from scipy import stats\n",
    "%matplotlib inline\n",
    "import matplotlib.pyplot as plt\n",
    "import seaborn as sns\n",
    "# import plotly.express as px"
   ]
  },
  {
   "cell_type": "code",
   "execution_count": 4,
   "metadata": {},
   "outputs": [
    {
     "name": "stderr",
     "output_type": "stream",
     "text": [
      "/opt/tljh/user/lib/python3.6/site-packages/sklearn/utils/deprecation.py:144: FutureWarning: The sklearn.neighbors.base module is  deprecated in version 0.22 and will be removed in version 0.24. The corresponding classes / functions should instead be imported from sklearn.neighbors. Anything that cannot be imported from sklearn.neighbors is now part of the private API.\n",
      "  warnings.warn(message, FutureWarning)\n",
      "/opt/tljh/user/lib/python3.6/site-packages/sklearn/utils/deprecation.py:144: FutureWarning: The sklearn.ensemble.bagging module is  deprecated in version 0.22 and will be removed in version 0.24. The corresponding classes / functions should instead be imported from sklearn.ensemble. Anything that cannot be imported from sklearn.ensemble is now part of the private API.\n",
      "  warnings.warn(message, FutureWarning)\n",
      "/opt/tljh/user/lib/python3.6/site-packages/sklearn/utils/deprecation.py:144: FutureWarning: The sklearn.ensemble.base module is  deprecated in version 0.22 and will be removed in version 0.24. The corresponding classes / functions should instead be imported from sklearn.ensemble. Anything that cannot be imported from sklearn.ensemble is now part of the private API.\n",
      "  warnings.warn(message, FutureWarning)\n",
      "/opt/tljh/user/lib/python3.6/site-packages/sklearn/utils/deprecation.py:144: FutureWarning: The sklearn.ensemble.forest module is  deprecated in version 0.22 and will be removed in version 0.24. The corresponding classes / functions should instead be imported from sklearn.ensemble. Anything that cannot be imported from sklearn.ensemble is now part of the private API.\n",
      "  warnings.warn(message, FutureWarning)\n",
      "/opt/tljh/user/lib/python3.6/site-packages/sklearn/utils/deprecation.py:144: FutureWarning: The sklearn.utils.testing module is  deprecated in version 0.22 and will be removed in version 0.24. The corresponding classes / functions should instead be imported from sklearn.utils. Anything that cannot be imported from sklearn.utils is now part of the private API.\n",
      "  warnings.warn(message, FutureWarning)\n",
      "/opt/tljh/user/lib/python3.6/site-packages/sklearn/utils/deprecation.py:144: FutureWarning: The sklearn.metrics.classification module is  deprecated in version 0.22 and will be removed in version 0.24. The corresponding classes / functions should instead be imported from sklearn.metrics. Anything that cannot be imported from sklearn.metrics is now part of the private API.\n",
      "  warnings.warn(message, FutureWarning)\n"
     ]
    }
   ],
   "source": [
    "# Processing the data\n",
    "\n",
    "from sklearn import preprocessing\n",
    "from sklearn.preprocessing import StandardScaler \n",
    "# scaler = StandardScaler().fit(X_train) >>> standardized_X = scaler.transform(X_train) >>> standardized_X_test = scaler.transform(X_test\n",
    "from sklearn.preprocessing import Normalizer\n",
    "# scaler = Normalizer().fit(X_train) >>> normalized_X = scaler.transform(X_train) >>> normalized_X_test = scaler.transform(X_test)\n",
    "from sklearn.preprocessing import Binarizer \n",
    "# binarizer = Binarizer(threshold=0.0).fit(X) >>> binary_X = binarizer.transform(X)\n",
    "\n",
    "# Encoding Categorical Features\n",
    "from sklearn.preprocessing import LabelEncoder\n",
    "from sklearn.preprocessing import OneHotEncoder\n",
    "# enc = LabelEncoder()\n",
    "# y = enc.fit_transform(y)\n",
    "from sklearn.impute import (SimpleImputer, KNNImputer, MissingIndicator)\n",
    "from sklearn.experimental import enable_iterative_imputer\n",
    "# imp = Imputer(missing_values=0, strategy='mean', axis=0) >>> imp.fit_transform(X_train)\n",
    "from sklearn.preprocessing import PolynomialFeatures \n",
    "# poly = PolynomialFeatures(5) >>> poly.fit_transform(X)\n",
    "\n",
    "from sklearn.model_selection import train_test_split\n",
    "# X_train, X_test, y_train, y_test = train_test_split(X,y,random_state=0)\n",
    "\n",
    "\n",
    "# Various Models\n",
    "from sklearn.cluster import KMeans\n",
    "# k_means = KMeans(n_clusters=3, random_state=0\n",
    "\n",
    "from sklearn.decomposition import PCA\n",
    "# pca = PCA(n_components=0.95)\n",
    "\n",
    "from sklearn.linear_model import LogisticRegression\n",
    "# logreg = LogisticRegression()\n",
    "from sklearn.linear_model import RidgeCV\n",
    "# rrm = RidgeCV(alphas=(0.01, 0.1, 1.0, 10.0), normalize=True)\n",
    "\n",
    "from sklearn.naive_bayes import GaussianNB\n",
    "# gnb = GaussianNB()\n",
    "from sklearn.svm import SVC \n",
    "# svc = SVC(kernel='linear')\n",
    "from sklearn.linear_model import LinearRegression\n",
    "# lr = LinearRegression(normalize=True)\n",
    "from sklearn import neighbors\n",
    "# knn = neighbors.KNeighborsClassifier(n_neighbors=5)\n",
    "\n",
    "## Fit the model\n",
    "# # Supervised learning\n",
    "# lr.fit(X, y)\n",
    "# knn.fit(X_train, y_train)\n",
    "# svc.fit(X_train, y_train)   \n",
    "\n",
    "# #Unsupervised Learning \n",
    "# k_means.fit(X_train) \n",
    "# pca_model = pca.fit_transform(X_train)\n",
    "\n",
    "## Predict Y\n",
    "# Supervised Estimators\n",
    "# y_pred = svc.predict(np.random.random((2,5))) \n",
    "# y_pred = lr.predict(X_test)\n",
    "# y_pred = knn.predict_proba(X_test)   \n",
    "# Unsupervised Estimators \n",
    "# y_pred = k_means.predict(X_test)\n",
    "\n",
    "\n",
    "# Packages to evaluate Model Performance (Classification)\n",
    "from sklearn import metrics\n",
    "from sklearn.metrics import confusion_matrix\n",
    "from sklearn.metrics import classification_report\n",
    "from sklearn.metrics import roc_auc_score\n",
    "from sklearn.metrics import accuracy_score\n",
    "from sklearn.metrics import precision_recall_fscore_support\n",
    "from sklearn.metrics import classification_report \n",
    "# print(classification_report(y_test_log, y_pred_log))\n",
    "\n",
    "# Packages to evaluate Model Performance (Linear)\n",
    "from sklearn.metrics import mean_absolute_error \n",
    "# y_true = [3, -0.5, 2] >>> mean_absolute_error(y_true, y_pred)\n",
    "from sklearn.metrics import mean_squared_error\n",
    "# mean_squared_error(y_test, y_pred)\n",
    "from sklearn.metrics import r2_score \n",
    "# r2_score(y_true, y_pred)\n",
    "\n",
    "#from sklearn.cross_validation import cross_val_score \n",
    "# print(cross_val_score(knn, X_train, y_train, cv=4)) >>> print(cross_val_score(lr, X, y, cv=2)\n",
    "\n",
    "\n",
    "from imblearn.over_sampling import SMOTENC\n",
    "from imblearn.under_sampling import NearMiss "
   ]
  },
  {
   "cell_type": "markdown",
   "metadata": {},
   "source": [
    "# 1. Initial review of the data  <a name=\"part1.1\"></a>"
   ]
  },
  {
   "cell_type": "code",
   "execution_count": 5,
   "metadata": {},
   "outputs": [],
   "source": [
    "# Pull in our original data and a copy for the base model\n",
    "df = pd.read_csv('online_shoppers_intention.csv', na_values=r'-')\n",
    "df_base = df.copy()"
   ]
  },
  {
   "cell_type": "code",
   "execution_count": 6,
   "metadata": {},
   "outputs": [
    {
     "name": "stdout",
     "output_type": "stream",
     "text": [
      "<class 'pandas.core.frame.DataFrame'>\n",
      "RangeIndex: 12330 entries, 0 to 12329\n",
      "Data columns (total 18 columns):\n",
      "Administrative             12330 non-null int64\n",
      "Administrative_Duration    12330 non-null float64\n",
      "Informational              12330 non-null int64\n",
      "Informational_Duration     12330 non-null float64\n",
      "ProductRelated             12330 non-null int64\n",
      "ProductRelated_Duration    12330 non-null float64\n",
      "BounceRates                12330 non-null float64\n",
      "ExitRates                  12330 non-null float64\n",
      "PageValues                 12330 non-null float64\n",
      "SpecialDay                 12330 non-null float64\n",
      "Month                      12330 non-null object\n",
      "OperatingSystems           12330 non-null int64\n",
      "Browser                    12330 non-null int64\n",
      "Region                     12330 non-null int64\n",
      "TrafficType                12330 non-null int64\n",
      "VisitorType                12330 non-null object\n",
      "Weekend                    12330 non-null bool\n",
      "Revenue                    12330 non-null bool\n",
      "dtypes: bool(2), float64(7), int64(7), object(2)\n",
      "memory usage: 1.5+ MB\n"
     ]
    },
    {
     "data": {
      "text/plain": [
       "None"
      ]
     },
     "metadata": {},
     "output_type": "display_data"
    },
    {
     "data": {
      "text/html": [
       "<div>\n",
       "<style scoped>\n",
       "    .dataframe tbody tr th:only-of-type {\n",
       "        vertical-align: middle;\n",
       "    }\n",
       "\n",
       "    .dataframe tbody tr th {\n",
       "        vertical-align: top;\n",
       "    }\n",
       "\n",
       "    .dataframe thead th {\n",
       "        text-align: right;\n",
       "    }\n",
       "</style>\n",
       "<table border=\"1\" class=\"dataframe\">\n",
       "  <thead>\n",
       "    <tr style=\"text-align: right;\">\n",
       "      <th></th>\n",
       "      <th>Administrative</th>\n",
       "      <th>Administrative_Duration</th>\n",
       "      <th>Informational</th>\n",
       "      <th>Informational_Duration</th>\n",
       "      <th>ProductRelated</th>\n",
       "      <th>ProductRelated_Duration</th>\n",
       "      <th>BounceRates</th>\n",
       "      <th>ExitRates</th>\n",
       "      <th>PageValues</th>\n",
       "      <th>SpecialDay</th>\n",
       "      <th>OperatingSystems</th>\n",
       "      <th>Browser</th>\n",
       "      <th>Region</th>\n",
       "      <th>TrafficType</th>\n",
       "    </tr>\n",
       "  </thead>\n",
       "  <tbody>\n",
       "    <tr>\n",
       "      <th>count</th>\n",
       "      <td>12330.000000</td>\n",
       "      <td>12330.000000</td>\n",
       "      <td>12330.000000</td>\n",
       "      <td>12330.000000</td>\n",
       "      <td>12330.000000</td>\n",
       "      <td>12330.000000</td>\n",
       "      <td>12330.000000</td>\n",
       "      <td>12330.000000</td>\n",
       "      <td>12330.000000</td>\n",
       "      <td>12330.000000</td>\n",
       "      <td>12330.000000</td>\n",
       "      <td>12330.000000</td>\n",
       "      <td>12330.000000</td>\n",
       "      <td>12330.000000</td>\n",
       "    </tr>\n",
       "    <tr>\n",
       "      <th>mean</th>\n",
       "      <td>2.315166</td>\n",
       "      <td>80.818611</td>\n",
       "      <td>0.503569</td>\n",
       "      <td>34.472398</td>\n",
       "      <td>31.731468</td>\n",
       "      <td>1194.746220</td>\n",
       "      <td>0.022191</td>\n",
       "      <td>0.043073</td>\n",
       "      <td>5.889258</td>\n",
       "      <td>0.061427</td>\n",
       "      <td>2.124006</td>\n",
       "      <td>2.357097</td>\n",
       "      <td>3.147364</td>\n",
       "      <td>4.069586</td>\n",
       "    </tr>\n",
       "    <tr>\n",
       "      <th>std</th>\n",
       "      <td>3.321784</td>\n",
       "      <td>176.779107</td>\n",
       "      <td>1.270156</td>\n",
       "      <td>140.749294</td>\n",
       "      <td>44.475503</td>\n",
       "      <td>1913.669288</td>\n",
       "      <td>0.048488</td>\n",
       "      <td>0.048597</td>\n",
       "      <td>18.568437</td>\n",
       "      <td>0.198917</td>\n",
       "      <td>0.911325</td>\n",
       "      <td>1.717277</td>\n",
       "      <td>2.401591</td>\n",
       "      <td>4.025169</td>\n",
       "    </tr>\n",
       "    <tr>\n",
       "      <th>min</th>\n",
       "      <td>0.000000</td>\n",
       "      <td>0.000000</td>\n",
       "      <td>0.000000</td>\n",
       "      <td>0.000000</td>\n",
       "      <td>0.000000</td>\n",
       "      <td>0.000000</td>\n",
       "      <td>0.000000</td>\n",
       "      <td>0.000000</td>\n",
       "      <td>0.000000</td>\n",
       "      <td>0.000000</td>\n",
       "      <td>1.000000</td>\n",
       "      <td>1.000000</td>\n",
       "      <td>1.000000</td>\n",
       "      <td>1.000000</td>\n",
       "    </tr>\n",
       "    <tr>\n",
       "      <th>25%</th>\n",
       "      <td>0.000000</td>\n",
       "      <td>0.000000</td>\n",
       "      <td>0.000000</td>\n",
       "      <td>0.000000</td>\n",
       "      <td>7.000000</td>\n",
       "      <td>184.137500</td>\n",
       "      <td>0.000000</td>\n",
       "      <td>0.014286</td>\n",
       "      <td>0.000000</td>\n",
       "      <td>0.000000</td>\n",
       "      <td>2.000000</td>\n",
       "      <td>2.000000</td>\n",
       "      <td>1.000000</td>\n",
       "      <td>2.000000</td>\n",
       "    </tr>\n",
       "    <tr>\n",
       "      <th>50%</th>\n",
       "      <td>1.000000</td>\n",
       "      <td>7.500000</td>\n",
       "      <td>0.000000</td>\n",
       "      <td>0.000000</td>\n",
       "      <td>18.000000</td>\n",
       "      <td>598.936905</td>\n",
       "      <td>0.003112</td>\n",
       "      <td>0.025156</td>\n",
       "      <td>0.000000</td>\n",
       "      <td>0.000000</td>\n",
       "      <td>2.000000</td>\n",
       "      <td>2.000000</td>\n",
       "      <td>3.000000</td>\n",
       "      <td>2.000000</td>\n",
       "    </tr>\n",
       "    <tr>\n",
       "      <th>75%</th>\n",
       "      <td>4.000000</td>\n",
       "      <td>93.256250</td>\n",
       "      <td>0.000000</td>\n",
       "      <td>0.000000</td>\n",
       "      <td>38.000000</td>\n",
       "      <td>1464.157213</td>\n",
       "      <td>0.016813</td>\n",
       "      <td>0.050000</td>\n",
       "      <td>0.000000</td>\n",
       "      <td>0.000000</td>\n",
       "      <td>3.000000</td>\n",
       "      <td>2.000000</td>\n",
       "      <td>4.000000</td>\n",
       "      <td>4.000000</td>\n",
       "    </tr>\n",
       "    <tr>\n",
       "      <th>max</th>\n",
       "      <td>27.000000</td>\n",
       "      <td>3398.750000</td>\n",
       "      <td>24.000000</td>\n",
       "      <td>2549.375000</td>\n",
       "      <td>705.000000</td>\n",
       "      <td>63973.522230</td>\n",
       "      <td>0.200000</td>\n",
       "      <td>0.200000</td>\n",
       "      <td>361.763742</td>\n",
       "      <td>1.000000</td>\n",
       "      <td>8.000000</td>\n",
       "      <td>13.000000</td>\n",
       "      <td>9.000000</td>\n",
       "      <td>20.000000</td>\n",
       "    </tr>\n",
       "  </tbody>\n",
       "</table>\n",
       "</div>"
      ],
      "text/plain": [
       "       Administrative  Administrative_Duration  Informational  \\\n",
       "count    12330.000000             12330.000000   12330.000000   \n",
       "mean         2.315166                80.818611       0.503569   \n",
       "std          3.321784               176.779107       1.270156   \n",
       "min          0.000000                 0.000000       0.000000   \n",
       "25%          0.000000                 0.000000       0.000000   \n",
       "50%          1.000000                 7.500000       0.000000   \n",
       "75%          4.000000                93.256250       0.000000   \n",
       "max         27.000000              3398.750000      24.000000   \n",
       "\n",
       "       Informational_Duration  ProductRelated  ProductRelated_Duration  \\\n",
       "count            12330.000000    12330.000000             12330.000000   \n",
       "mean                34.472398       31.731468              1194.746220   \n",
       "std                140.749294       44.475503              1913.669288   \n",
       "min                  0.000000        0.000000                 0.000000   \n",
       "25%                  0.000000        7.000000               184.137500   \n",
       "50%                  0.000000       18.000000               598.936905   \n",
       "75%                  0.000000       38.000000              1464.157213   \n",
       "max               2549.375000      705.000000             63973.522230   \n",
       "\n",
       "        BounceRates     ExitRates    PageValues    SpecialDay  \\\n",
       "count  12330.000000  12330.000000  12330.000000  12330.000000   \n",
       "mean       0.022191      0.043073      5.889258      0.061427   \n",
       "std        0.048488      0.048597     18.568437      0.198917   \n",
       "min        0.000000      0.000000      0.000000      0.000000   \n",
       "25%        0.000000      0.014286      0.000000      0.000000   \n",
       "50%        0.003112      0.025156      0.000000      0.000000   \n",
       "75%        0.016813      0.050000      0.000000      0.000000   \n",
       "max        0.200000      0.200000    361.763742      1.000000   \n",
       "\n",
       "       OperatingSystems       Browser        Region   TrafficType  \n",
       "count      12330.000000  12330.000000  12330.000000  12330.000000  \n",
       "mean           2.124006      2.357097      3.147364      4.069586  \n",
       "std            0.911325      1.717277      2.401591      4.025169  \n",
       "min            1.000000      1.000000      1.000000      1.000000  \n",
       "25%            2.000000      2.000000      1.000000      2.000000  \n",
       "50%            2.000000      2.000000      3.000000      2.000000  \n",
       "75%            3.000000      2.000000      4.000000      4.000000  \n",
       "max            8.000000     13.000000      9.000000     20.000000  "
      ]
     },
     "metadata": {},
     "output_type": "display_data"
    },
    {
     "data": {
      "text/html": [
       "<div>\n",
       "<style scoped>\n",
       "    .dataframe tbody tr th:only-of-type {\n",
       "        vertical-align: middle;\n",
       "    }\n",
       "\n",
       "    .dataframe tbody tr th {\n",
       "        vertical-align: top;\n",
       "    }\n",
       "\n",
       "    .dataframe thead th {\n",
       "        text-align: right;\n",
       "    }\n",
       "</style>\n",
       "<table border=\"1\" class=\"dataframe\">\n",
       "  <thead>\n",
       "    <tr style=\"text-align: right;\">\n",
       "      <th></th>\n",
       "      <th>Administrative</th>\n",
       "      <th>Administrative_Duration</th>\n",
       "      <th>Informational</th>\n",
       "      <th>Informational_Duration</th>\n",
       "      <th>ProductRelated</th>\n",
       "      <th>ProductRelated_Duration</th>\n",
       "      <th>BounceRates</th>\n",
       "      <th>ExitRates</th>\n",
       "      <th>PageValues</th>\n",
       "      <th>SpecialDay</th>\n",
       "      <th>OperatingSystems</th>\n",
       "      <th>Browser</th>\n",
       "      <th>Region</th>\n",
       "      <th>TrafficType</th>\n",
       "    </tr>\n",
       "  </thead>\n",
       "  <tbody>\n",
       "    <tr>\n",
       "      <th>count</th>\n",
       "      <td>12330.000000</td>\n",
       "      <td>12330.000000</td>\n",
       "      <td>12330.000000</td>\n",
       "      <td>12330.000000</td>\n",
       "      <td>12330.000000</td>\n",
       "      <td>12330.000000</td>\n",
       "      <td>12330.000000</td>\n",
       "      <td>12330.000000</td>\n",
       "      <td>12330.000000</td>\n",
       "      <td>12330.000000</td>\n",
       "      <td>12330.000000</td>\n",
       "      <td>12330.000000</td>\n",
       "      <td>12330.000000</td>\n",
       "      <td>12330.000000</td>\n",
       "    </tr>\n",
       "    <tr>\n",
       "      <th>mean</th>\n",
       "      <td>2.315166</td>\n",
       "      <td>80.818611</td>\n",
       "      <td>0.503569</td>\n",
       "      <td>34.472398</td>\n",
       "      <td>31.731468</td>\n",
       "      <td>1194.746220</td>\n",
       "      <td>0.022191</td>\n",
       "      <td>0.043073</td>\n",
       "      <td>5.889258</td>\n",
       "      <td>0.061427</td>\n",
       "      <td>2.124006</td>\n",
       "      <td>2.357097</td>\n",
       "      <td>3.147364</td>\n",
       "      <td>4.069586</td>\n",
       "    </tr>\n",
       "    <tr>\n",
       "      <th>std</th>\n",
       "      <td>3.321784</td>\n",
       "      <td>176.779107</td>\n",
       "      <td>1.270156</td>\n",
       "      <td>140.749294</td>\n",
       "      <td>44.475503</td>\n",
       "      <td>1913.669288</td>\n",
       "      <td>0.048488</td>\n",
       "      <td>0.048597</td>\n",
       "      <td>18.568437</td>\n",
       "      <td>0.198917</td>\n",
       "      <td>0.911325</td>\n",
       "      <td>1.717277</td>\n",
       "      <td>2.401591</td>\n",
       "      <td>4.025169</td>\n",
       "    </tr>\n",
       "    <tr>\n",
       "      <th>min</th>\n",
       "      <td>0.000000</td>\n",
       "      <td>0.000000</td>\n",
       "      <td>0.000000</td>\n",
       "      <td>0.000000</td>\n",
       "      <td>0.000000</td>\n",
       "      <td>0.000000</td>\n",
       "      <td>0.000000</td>\n",
       "      <td>0.000000</td>\n",
       "      <td>0.000000</td>\n",
       "      <td>0.000000</td>\n",
       "      <td>1.000000</td>\n",
       "      <td>1.000000</td>\n",
       "      <td>1.000000</td>\n",
       "      <td>1.000000</td>\n",
       "    </tr>\n",
       "    <tr>\n",
       "      <th>25%</th>\n",
       "      <td>0.000000</td>\n",
       "      <td>0.000000</td>\n",
       "      <td>0.000000</td>\n",
       "      <td>0.000000</td>\n",
       "      <td>7.000000</td>\n",
       "      <td>184.137500</td>\n",
       "      <td>0.000000</td>\n",
       "      <td>0.014286</td>\n",
       "      <td>0.000000</td>\n",
       "      <td>0.000000</td>\n",
       "      <td>2.000000</td>\n",
       "      <td>2.000000</td>\n",
       "      <td>1.000000</td>\n",
       "      <td>2.000000</td>\n",
       "    </tr>\n",
       "    <tr>\n",
       "      <th>50%</th>\n",
       "      <td>1.000000</td>\n",
       "      <td>7.500000</td>\n",
       "      <td>0.000000</td>\n",
       "      <td>0.000000</td>\n",
       "      <td>18.000000</td>\n",
       "      <td>598.936905</td>\n",
       "      <td>0.003112</td>\n",
       "      <td>0.025156</td>\n",
       "      <td>0.000000</td>\n",
       "      <td>0.000000</td>\n",
       "      <td>2.000000</td>\n",
       "      <td>2.000000</td>\n",
       "      <td>3.000000</td>\n",
       "      <td>2.000000</td>\n",
       "    </tr>\n",
       "    <tr>\n",
       "      <th>75%</th>\n",
       "      <td>4.000000</td>\n",
       "      <td>93.256250</td>\n",
       "      <td>0.000000</td>\n",
       "      <td>0.000000</td>\n",
       "      <td>38.000000</td>\n",
       "      <td>1464.157213</td>\n",
       "      <td>0.016813</td>\n",
       "      <td>0.050000</td>\n",
       "      <td>0.000000</td>\n",
       "      <td>0.000000</td>\n",
       "      <td>3.000000</td>\n",
       "      <td>2.000000</td>\n",
       "      <td>4.000000</td>\n",
       "      <td>4.000000</td>\n",
       "    </tr>\n",
       "    <tr>\n",
       "      <th>max</th>\n",
       "      <td>27.000000</td>\n",
       "      <td>3398.750000</td>\n",
       "      <td>24.000000</td>\n",
       "      <td>2549.375000</td>\n",
       "      <td>705.000000</td>\n",
       "      <td>63973.522230</td>\n",
       "      <td>0.200000</td>\n",
       "      <td>0.200000</td>\n",
       "      <td>361.763742</td>\n",
       "      <td>1.000000</td>\n",
       "      <td>8.000000</td>\n",
       "      <td>13.000000</td>\n",
       "      <td>9.000000</td>\n",
       "      <td>20.000000</td>\n",
       "    </tr>\n",
       "  </tbody>\n",
       "</table>\n",
       "</div>"
      ],
      "text/plain": [
       "       Administrative  Administrative_Duration  Informational  \\\n",
       "count    12330.000000             12330.000000   12330.000000   \n",
       "mean         2.315166                80.818611       0.503569   \n",
       "std          3.321784               176.779107       1.270156   \n",
       "min          0.000000                 0.000000       0.000000   \n",
       "25%          0.000000                 0.000000       0.000000   \n",
       "50%          1.000000                 7.500000       0.000000   \n",
       "75%          4.000000                93.256250       0.000000   \n",
       "max         27.000000              3398.750000      24.000000   \n",
       "\n",
       "       Informational_Duration  ProductRelated  ProductRelated_Duration  \\\n",
       "count            12330.000000    12330.000000             12330.000000   \n",
       "mean                34.472398       31.731468              1194.746220   \n",
       "std                140.749294       44.475503              1913.669288   \n",
       "min                  0.000000        0.000000                 0.000000   \n",
       "25%                  0.000000        7.000000               184.137500   \n",
       "50%                  0.000000       18.000000               598.936905   \n",
       "75%                  0.000000       38.000000              1464.157213   \n",
       "max               2549.375000      705.000000             63973.522230   \n",
       "\n",
       "        BounceRates     ExitRates    PageValues    SpecialDay  \\\n",
       "count  12330.000000  12330.000000  12330.000000  12330.000000   \n",
       "mean       0.022191      0.043073      5.889258      0.061427   \n",
       "std        0.048488      0.048597     18.568437      0.198917   \n",
       "min        0.000000      0.000000      0.000000      0.000000   \n",
       "25%        0.000000      0.014286      0.000000      0.000000   \n",
       "50%        0.003112      0.025156      0.000000      0.000000   \n",
       "75%        0.016813      0.050000      0.000000      0.000000   \n",
       "max        0.200000      0.200000    361.763742      1.000000   \n",
       "\n",
       "       OperatingSystems       Browser        Region   TrafficType  \n",
       "count      12330.000000  12330.000000  12330.000000  12330.000000  \n",
       "mean           2.124006      2.357097      3.147364      4.069586  \n",
       "std            0.911325      1.717277      2.401591      4.025169  \n",
       "min            1.000000      1.000000      1.000000      1.000000  \n",
       "25%            2.000000      2.000000      1.000000      2.000000  \n",
       "50%            2.000000      2.000000      3.000000      2.000000  \n",
       "75%            3.000000      2.000000      4.000000      4.000000  \n",
       "max            8.000000     13.000000      9.000000     20.000000  "
      ]
     },
     "metadata": {},
     "output_type": "display_data"
    }
   ],
   "source": [
    "# verify that the datatypes have change based on encoding\n",
    "display(df_base.info())\n",
    "display(df_base.describe())\n",
    "display(df_base.describe())"
   ]
  },
  {
   "cell_type": "markdown",
   "metadata": {},
   "source": [
    "# 2. Adjust the object & Bool dtypes for modeling  <a name=\"part1.2\"></a>"
   ]
  },
  {
   "cell_type": "code",
   "execution_count": 7,
   "metadata": {},
   "outputs": [],
   "source": [
    "##Encode month names to numerical representations\n",
    "def month_func(month) :\n",
    "    if month == 'Jan':\n",
    "        return int(1)\n",
    "    elif month == 'Feb':\n",
    "        return int(2)\n",
    "    elif month == 'Mar':\n",
    "        return int(3)\n",
    "    elif month == 'Apr':\n",
    "        return int(4)\n",
    "    elif month == 'May':\n",
    "        return int(5)\n",
    "    elif month == 'June':\n",
    "        return int(6)\n",
    "    elif month == 'Jul':\n",
    "        return int(7)\n",
    "    elif month == 'Aug':\n",
    "        return int(8)\n",
    "    elif month == 'Sep':\n",
    "        return int(9)\n",
    "    elif month == 'Oct':\n",
    "        return int(10)\n",
    "    elif month == 'Nov':\n",
    "        return int(11)\n",
    "    elif month == 'Dec':\n",
    "        return int(12)\n",
    "\n",
    "df_base['Month'] = df_base['Month'].apply(month_func)"
   ]
  },
  {
   "cell_type": "code",
   "execution_count": 8,
   "metadata": {},
   "outputs": [],
   "source": [
    "# Encode Revenue before splitting the data to allow for modeling\n",
    "\n",
    "enc = LabelEncoder()\n",
    "\n",
    "df_base['VisitorType'] = enc.fit_transform(df_base['VisitorType'])\n",
    "df_base['Weekend'] = enc.fit_transform(df_base['Weekend'])\n",
    "df_base['Revenue'] = enc.fit_transform(df_base['Revenue'])"
   ]
  },
  {
   "cell_type": "markdown",
   "metadata": {},
   "source": [
    "# 3. Split and run the preliminary models with all features  <a name=\"part1.3\"></a>"
   ]
  },
  {
   "cell_type": "code",
   "execution_count": 9,
   "metadata": {},
   "outputs": [],
   "source": [
    "X,y = df_base.iloc[:,:-1],df_base.iloc[:,-1]"
   ]
  },
  {
   "cell_type": "code",
   "execution_count": 10,
   "metadata": {},
   "outputs": [],
   "source": [
    "# resplit based on additional data prep completed post initial split\n",
    "X_train, X_test, y_train, y_test = train_test_split(X, y,test_size=0.3,random_state=500) "
   ]
  },
  {
   "cell_type": "markdown",
   "metadata": {},
   "source": [
    "### 3.1 Naive Bayes Model (NB)\n",
    ">   <b> Accuracy: </b> 87%\n",
    "<br><b> AUC: </b> 87%\n",
    "<br><b> Next Steps: </b> Additional parameter tuning"
   ]
  },
  {
   "cell_type": "markdown",
   "metadata": {},
   "source": [
    "###0. Step 0: Import Needed Packages"
   ]
  },
  {
   "cell_type": "code",
   "execution_count": 11,
   "metadata": {},
   "outputs": [],
   "source": [
    "# import the metrics class\n",
    "from sklearn import metrics\n",
    "# from sklearn.feature_selection import RFE\n",
    "from sklearn.ensemble import RandomForestClassifier\n",
    "from sklearn.datasets import make_classification\n",
    "\n",
    "# import other required modules for confusion matrices\n",
    "import numpy as np\n",
    "import matplotlib.pyplot as plt\n",
    "import seaborn as sns\n",
    "%matplotlib inline\n",
    "plt.style.use('ggplot')"
   ]
  },
  {
   "cell_type": "code",
   "execution_count": 12,
   "metadata": {},
   "outputs": [],
   "source": [
    "#Import Gaussian Naive Bayes model\n",
    "from sklearn.naive_bayes import GaussianNB\n",
    "\n",
    "#Create a Gaussian Classifier\n",
    "gnb = GaussianNB()"
   ]
  },
  {
   "cell_type": "code",
   "execution_count": 13,
   "metadata": {},
   "outputs": [
    {
     "data": {
      "text/plain": [
       "8     0.452482\n",
       "7     0.186651\n",
       "5     0.104984\n",
       "6     0.075773\n",
       "4     0.052150\n",
       "1     0.046587\n",
       "0     0.035853\n",
       "15    0.014946\n",
       "10    0.013538\n",
       "3     0.009859\n",
       "2     0.003226\n",
       "9     0.002374\n",
       "14    0.001495\n",
       "11    0.000082\n",
       "12    0.000000\n",
       "13    0.000000\n",
       "16    0.000000\n",
       "dtype: float64"
      ]
     },
     "execution_count": 13,
     "metadata": {},
     "output_type": "execute_result"
    }
   ],
   "source": [
    "# Code for feature selection using scikit-learn\n",
    "\n",
    "#Create a Gaussian Classifier\n",
    "clf=RandomForestClassifier(n_estimators=100,max_depth=2, random_state=0)\n",
    "\n",
    "#Train the model using the training sets y_pred=clf.predict(X_test)\n",
    "clf.fit(X_train,y_train)\n",
    "\n",
    "feature_imp = pd.Series(clf.feature_importances_).sort_values(ascending=False)\n",
    "feature_imp"
   ]
  },
  {
   "cell_type": "markdown",
   "metadata": {},
   "source": [
    "###1. Step 1: Specify the Model"
   ]
  },
  {
   "cell_type": "markdown",
   "metadata": {},
   "source": [
    "###2. Steps 2-4: Generate Test Data, Build the Models & Assess the Models for y2"
   ]
  },
  {
   "cell_type": "code",
   "execution_count": 14,
   "metadata": {},
   "outputs": [
    {
     "name": "stdout",
     "output_type": "stream",
     "text": [
      "y Accuracy: 0.8572587185725872\n",
      "\n",
      "              precision    recall  f1-score   support\n",
      "\n",
      "           0       0.92      0.91      0.92      3158\n",
      "           1       0.51      0.55      0.53       541\n",
      "\n",
      "    accuracy                           0.86      3699\n",
      "   macro avg       0.72      0.73      0.72      3699\n",
      "weighted avg       0.86      0.86      0.86      3699\n",
      "\n"
     ]
    },
    {
     "data": {
      "image/png": "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\n",
      "text/plain": [
       "<Figure size 432x288 with 1 Axes>"
      ]
     },
     "metadata": {},
     "output_type": "display_data"
    },
    {
     "name": "stdout",
     "output_type": "stream",
     "text": [
      "\n"
     ]
    },
    {
     "data": {
      "text/plain": [
       "Text(0.5, 257.44, 'Predicted label')"
      ]
     },
     "execution_count": 14,
     "metadata": {},
     "output_type": "execute_result"
    },
    {
     "data": {
      "image/png": "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\n",
      "text/plain": [
       "<Figure size 432x288 with 2 Axes>"
      ]
     },
     "metadata": {},
     "output_type": "display_data"
    }
   ],
   "source": [
    "#Train the model using the training sets - for y2 (Sale)\n",
    "gnb.fit(X_train, y_train)\n",
    "\n",
    "#Predict the response for test dataset for y2\n",
    "y_NB_pred = gnb.predict(X_test)\n",
    "\n",
    "# Model Accuracy, how often is the classifier correct?\n",
    "# Accuracy for y2\n",
    "print(\"y Accuracy:\",metrics.accuracy_score(y_test, y_NB_pred))\n",
    "print(\"\")\n",
    "\n",
    "#Can use classification report to assess model adequacy, too\n",
    "class_names=[0,1] # name  of classes\n",
    "print(metrics.classification_report(y_test, y_NB_pred, labels=class_names))\n",
    "\n",
    "#AUC for y\n",
    "y_NB_pred_proba = gnb.predict_proba(X_test)[::,1]\n",
    "fpr, tpr, _ = metrics.roc_curve(y_test,  y_NB_pred_proba)\n",
    "auc = metrics.roc_auc_score(y_test, y_NB_pred_proba)\n",
    "plt.plot(fpr,tpr,label=\"auc=\"+str(auc))\n",
    "plt.legend(loc=4)\n",
    "plt.show()\n",
    "print(\"\")\n",
    "\n",
    "#Print Confusion Matrix\n",
    "cnf_matrix = metrics.confusion_matrix(y_test, y_NB_pred)\n",
    "cnf_matrix\n",
    "class_names=[0,1] # name  of classes\n",
    "fig, ax = plt.subplots()\n",
    "tick_marks = np.arange(len(class_names))\n",
    "plt.xticks(tick_marks, class_names)\n",
    "plt.yticks(tick_marks, class_names)\n",
    "# create heatmap\n",
    "sns.heatmap(pd.DataFrame(cnf_matrix), annot=True, cmap=\"YlGnBu\" ,fmt='g')\n",
    "ax.xaxis.set_label_position(\"top\")\n",
    "plt.tight_layout()\n",
    "plt.title('Confusion matrix', y=1.1)\n",
    "plt.ylabel('Actual label')\n",
    "plt.xlabel('Predicted label')\n"
   ]
  },
  {
   "cell_type": "code",
   "execution_count": 15,
   "metadata": {},
   "outputs": [],
   "source": [
    "#Conclusion - With accuracy of 81% for each y1 and y2, the Naive Bayes model is superior to the base model which had an accuracy of 71% for each target.\n",
    "#However, there is still room for improvement."
   ]
  },
  {
   "cell_type": "code",
   "execution_count": 16,
   "metadata": {},
   "outputs": [],
   "source": [
    "# MD's Modeling Work"
   ]
  },
  {
   "cell_type": "markdown",
   "metadata": {},
   "source": [
    "### 3.2 Decision Tree Model (DT)\n",
    ">   <b> Accuracy: </b> 85%\n",
    "<br><b> AUC: </b> 69%\n",
    "<br><b> Next Steps: </b> Additional parameter tuning"
   ]
  },
  {
   "cell_type": "markdown",
   "metadata": {},
   "source": [
    "#### Specify the Model"
   ]
  },
  {
   "cell_type": "code",
   "execution_count": 17,
   "metadata": {},
   "outputs": [],
   "source": [
    "# Load libraries\n",
    "import pandas as pd\n",
    "from sklearn.tree import DecisionTreeClassifier # Import Decision Tree Classifier\n",
    "from sklearn.model_selection import train_test_split # Import train_test_split function\n",
    "from sklearn import metrics #Import scikit-learn metrics module for accuracy calculation"
   ]
  },
  {
   "cell_type": "markdown",
   "metadata": {},
   "source": [
    "#### Build the Model"
   ]
  },
  {
   "cell_type": "code",
   "execution_count": 18,
   "metadata": {},
   "outputs": [],
   "source": [
    "# Create Decision Tree classifer object\n",
    "clf = DecisionTreeClassifier()\n",
    "\n",
    "# Train Decision Tree Classifer\n",
    "clf = clf.fit(X_train,y_train)\n",
    "\n",
    "#Predict the response for test dataset\n",
    "y_DT_pred = clf.predict(X_test)"
   ]
  },
  {
   "cell_type": "code",
   "execution_count": 19,
   "metadata": {},
   "outputs": [
    {
     "name": "stdout",
     "output_type": "stream",
     "text": [
      "Accuracy: 0.8661800486618005\n"
     ]
    }
   ],
   "source": [
    "# Model Accuracy, how often is the classifier correct?\n",
    "print(\"Accuracy:\",metrics.accuracy_score(y_test, y_DT_pred))"
   ]
  },
  {
   "cell_type": "markdown",
   "metadata": {},
   "source": [
    "#### Assess the Model"
   ]
  },
  {
   "cell_type": "code",
   "execution_count": 20,
   "metadata": {},
   "outputs": [
    {
     "name": "stdout",
     "output_type": "stream",
     "text": [
      "              precision    recall  f1-score   support\n",
      "\n",
      "           0       0.93      0.91      0.92      3158\n",
      "           1       0.54      0.60      0.57       541\n",
      "\n",
      "    accuracy                           0.87      3699\n",
      "   macro avg       0.73      0.76      0.74      3699\n",
      "weighted avg       0.87      0.87      0.87      3699\n",
      "\n"
     ]
    }
   ],
   "source": [
    "# Evaluating the Classification Report\n",
    "print(metrics.classification_report(y_test, y_DT_pred))"
   ]
  },
  {
   "cell_type": "code",
   "execution_count": 21,
   "metadata": {},
   "outputs": [
    {
     "name": "stdout",
     "output_type": "stream",
     "text": [
      "[[2878  280]\n",
      " [ 215  326]]\n"
     ]
    }
   ],
   "source": [
    "# Evaluating the Confusion Matrix\n",
    "print(metrics.confusion_matrix(y_test, y_DT_pred))"
   ]
  },
  {
   "cell_type": "code",
   "execution_count": 22,
   "metadata": {},
   "outputs": [
    {
     "data": {
      "image/png": "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\n",
      "text/plain": [
       "<Figure size 432x288 with 1 Axes>"
      ]
     },
     "metadata": {},
     "output_type": "display_data"
    },
    {
     "name": "stdout",
     "output_type": "stream",
     "text": [
      "\n"
     ]
    },
    {
     "data": {
      "text/plain": [
       "Text(0.5, 257.44, 'Predicted label')"
      ]
     },
     "execution_count": 22,
     "metadata": {},
     "output_type": "execute_result"
    },
    {
     "data": {
      "image/png": "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\n",
      "text/plain": [
       "<Figure size 432x288 with 2 Axes>"
      ]
     },
     "metadata": {},
     "output_type": "display_data"
    }
   ],
   "source": [
    "#AUC for y\n",
    "y_DT_pred_proba = clf.predict_proba(X_test)[::,1]\n",
    "fpr_DT, tpr_DT, _ = metrics.roc_curve(y_test,  y_DT_pred_proba)\n",
    "auc_DT = metrics.roc_auc_score(y_test, y_DT_pred_proba)\n",
    "plt.plot(fpr_DT,tpr_DT,label=\"auc=\"+str(auc_DT))\n",
    "plt.legend(loc=4)\n",
    "plt.show()\n",
    "print(\"\")\n",
    "\n",
    "#Print Confusion Matrix\n",
    "cnf_matrix_DT = metrics.confusion_matrix(y_test, y_DT_pred)\n",
    "cnf_matrix_DT\n",
    "class_names=[0,1] # name  of classes\n",
    "fig, ax = plt.subplots()\n",
    "tick_marks = np.arange(len(class_names))\n",
    "plt.xticks(tick_marks, class_names)\n",
    "plt.yticks(tick_marks, class_names)\n",
    "# create heatmap\n",
    "sns.heatmap(pd.DataFrame(cnf_matrix_DT), annot=True, cmap=\"YlGnBu\" ,fmt='g')\n",
    "ax.xaxis.set_label_position(\"top\")\n",
    "plt.tight_layout()\n",
    "plt.title('Confusion matrix DT', y=1.1)\n",
    "plt.ylabel('Actual label')\n",
    "plt.xlabel('Predicted label')"
   ]
  },
  {
   "cell_type": "markdown",
   "metadata": {},
   "source": [
    "85.45% is much better than the baseline model of 70%"
   ]
  },
  {
   "cell_type": "markdown",
   "metadata": {},
   "source": [
    "#### *** Attempted Model Optimization - Not 100% if I optimized these correctly"
   ]
  },
  {
   "cell_type": "markdown",
   "metadata": {},
   "source": [
    "##### y2 (Sale)"
   ]
  },
  {
   "cell_type": "code",
   "execution_count": 23,
   "metadata": {},
   "outputs": [],
   "source": [
    "# Trying to optimize Decision Tree Model by adding in the parameters \"entropy\" (information gain selection measure) and \"max depth=3\"\n",
    "# # Did this in order to reduce to complexity of the Decision Tree, in hopes that it will yield better results\n",
    "# Create Decision Tree classifer object\n",
    "clf2 = DecisionTreeClassifier(criterion = \"entropy\", max_depth=3)\n",
    "\n",
    "# Train Decision Tree Classifer\n",
    "clf2 = clf2.fit(X_train,y_train)\n",
    "\n",
    "#Predict the response for test dataset\n",
    "y_DT_pred2 = clf2.predict(X_test)"
   ]
  },
  {
   "cell_type": "code",
   "execution_count": 24,
   "metadata": {},
   "outputs": [
    {
     "name": "stdout",
     "output_type": "stream",
     "text": [
      "Accuracy: 0.8924033522573669\n"
     ]
    }
   ],
   "source": [
    "# Model Accuracy, how often is the classifier correct?\n",
    "print(\"Accuracy:\",metrics.accuracy_score(y_test, y_DT_pred2))"
   ]
  },
  {
   "cell_type": "code",
   "execution_count": 25,
   "metadata": {},
   "outputs": [
    {
     "name": "stdout",
     "output_type": "stream",
     "text": [
      "              precision    recall  f1-score   support\n",
      "\n",
      "           0       0.94      0.93      0.94      3158\n",
      "           1       0.62      0.67      0.65       541\n",
      "\n",
      "    accuracy                           0.89      3699\n",
      "   macro avg       0.78      0.80      0.79      3699\n",
      "weighted avg       0.90      0.89      0.89      3699\n",
      "\n"
     ]
    }
   ],
   "source": [
    "# Evaluating the Classification Report\n",
    "print(metrics.classification_report(y_test, y_DT_pred2))"
   ]
  },
  {
   "cell_type": "code",
   "execution_count": 26,
   "metadata": {},
   "outputs": [
    {
     "name": "stdout",
     "output_type": "stream",
     "text": [
      "[[2939  219]\n",
      " [ 179  362]]\n"
     ]
    },
    {
     "data": {
      "image/png": "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\n",
      "text/plain": [
       "<Figure size 432x288 with 1 Axes>"
      ]
     },
     "metadata": {},
     "output_type": "display_data"
    },
    {
     "name": "stdout",
     "output_type": "stream",
     "text": [
      "\n"
     ]
    },
    {
     "data": {
      "text/plain": [
       "Text(0.5, 257.44, 'Predicted label')"
      ]
     },
     "execution_count": 26,
     "metadata": {},
     "output_type": "execute_result"
    },
    {
     "data": {
      "image/png": "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\n",
      "text/plain": [
       "<Figure size 432x288 with 2 Axes>"
      ]
     },
     "metadata": {},
     "output_type": "display_data"
    }
   ],
   "source": [
    "# Evaluating the Confusion Matrix\n",
    "print(metrics.confusion_matrix(y_test, y_DT_pred2))\n",
    "\n",
    "#AUC for y\n",
    "y_DT_pred_proba2 = clf2.predict_proba(X_test)[::,1]\n",
    "fpr_DT2, tpr_DT2, _ = metrics.roc_curve(y_test,  y_DT_pred_proba2)\n",
    "auc_DT2 = metrics.roc_auc_score(y_test, y_DT_pred_proba2)\n",
    "plt.plot(fpr_DT2,tpr_DT2,label=\"auc=\"+str(auc_DT2))\n",
    "plt.legend(loc=4)\n",
    "plt.show()\n",
    "print(\"\")\n",
    "\n",
    "#Print Confusion Matrix\n",
    "cnf_matrix_DT2 = metrics.confusion_matrix(y_test, y_DT_pred2)\n",
    "cnf_matrix_DT2\n",
    "class_names=[0,1] # name  of classes\n",
    "fig, ax = plt.subplots()\n",
    "tick_marks = np.arange(len(class_names))\n",
    "plt.xticks(tick_marks, class_names)\n",
    "plt.yticks(tick_marks, class_names)\n",
    "# create heatmap\n",
    "sns.heatmap(pd.DataFrame(cnf_matrix_DT2), annot=True, cmap=\"YlGnBu\" ,fmt='g')\n",
    "ax.xaxis.set_label_position(\"top\")\n",
    "plt.tight_layout()\n",
    "plt.title('Confusion matrix DT 2', y=1.1)\n",
    "plt.ylabel('Actual label')\n",
    "plt.xlabel('Predicted label')"
   ]
  },
  {
   "cell_type": "markdown",
   "metadata": {},
   "source": [
    "##### Not sure if the optimized model is overfitting, but 89.53% accuracy is better than the base Decision Tree Models"
   ]
  },
  {
   "cell_type": "code",
   "execution_count": 27,
   "metadata": {},
   "outputs": [],
   "source": [
    "# # Code for feature selection using scikit-learn\n",
    "# # import the package\n",
    "# from sklearn.ensemble import RandomForestClassifier\n",
    "\n",
    "# #Create a Gaussian Classifier\n",
    "# clf=RandomForestClassifier(n_estimators=100)\n",
    "\n",
    "# #Train the model using the training sets y_pred=clf.predict(X_test)\n",
    "# clf.fit(X_train,y_train)"
   ]
  },
  {
   "cell_type": "code",
   "execution_count": 28,
   "metadata": {},
   "outputs": [],
   "source": [
    "# import pandas as pd\n",
    "# feature_imp = pd.Series(clf.feature_importances_,index=y_test).sort_values(ascending=False)\n",
    "# feature_imp"
   ]
  },
  {
   "cell_type": "markdown",
   "metadata": {},
   "source": [
    "### 3.3 Random Forest Model (RF)\n",
    ">   <b> Accuracy: </b> 89%\n",
    "<br><b> AUC: </b> 87%\n",
    "<br><b> Next Steps: </b> Additional parameter tuning"
   ]
  },
  {
   "cell_type": "markdown",
   "metadata": {},
   "source": [
    "#### Specify the Model"
   ]
  },
  {
   "cell_type": "code",
   "execution_count": 29,
   "metadata": {},
   "outputs": [],
   "source": [
    "# Building a Classifier\n",
    "#Import scikit-learn dataset library\n",
    "from sklearn import datasets"
   ]
  },
  {
   "cell_type": "markdown",
   "metadata": {},
   "source": [
    "#### Build Model for y2 (Sale)"
   ]
  },
  {
   "cell_type": "code",
   "execution_count": 30,
   "metadata": {},
   "outputs": [],
   "source": [
    "#Import Random Forest Model\n",
    "from sklearn.ensemble import RandomForestClassifier\n",
    "\n",
    "#Create a Gaussian Classifier\n",
    "rfc = RandomForestClassifier(n_estimators=100)\n",
    "\n",
    "#Train the model using the training sets y_pred=clf.predict(X_test)\n",
    "rfc.fit(X_train,y_train)\n",
    "\n",
    "y_RF_pred = rfc.predict(X_test)"
   ]
  },
  {
   "cell_type": "code",
   "execution_count": 31,
   "metadata": {},
   "outputs": [
    {
     "name": "stdout",
     "output_type": "stream",
     "text": [
      "              precision    recall  f1-score   support\n",
      "\n",
      "           0       0.93      0.96      0.94      3158\n",
      "           1       0.70      0.58      0.63       541\n",
      "\n",
      "    accuracy                           0.90      3699\n",
      "   macro avg       0.81      0.77      0.79      3699\n",
      "weighted avg       0.90      0.90      0.90      3699\n",
      "\n"
     ]
    }
   ],
   "source": [
    "# Evaluation of the Classification Report\n",
    "from sklearn.metrics import classification_report, confusion_matrix\n",
    "print(classification_report(y_test, y_RF_pred))"
   ]
  },
  {
   "cell_type": "code",
   "execution_count": 32,
   "metadata": {},
   "outputs": [
    {
     "name": "stdout",
     "output_type": "stream",
     "text": [
      "[[3021  137]\n",
      " [ 227  314]]\n"
     ]
    },
    {
     "data": {
      "image/png": "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\n",
      "text/plain": [
       "<Figure size 432x288 with 1 Axes>"
      ]
     },
     "metadata": {},
     "output_type": "display_data"
    },
    {
     "name": "stdout",
     "output_type": "stream",
     "text": [
      "\n"
     ]
    },
    {
     "data": {
      "text/plain": [
       "Text(0.5, 257.44, 'Predicted label')"
      ]
     },
     "execution_count": 32,
     "metadata": {},
     "output_type": "execute_result"
    },
    {
     "data": {
      "image/png": "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\n",
      "text/plain": [
       "<Figure size 432x288 with 2 Axes>"
      ]
     },
     "metadata": {},
     "output_type": "display_data"
    }
   ],
   "source": [
    "# Evaluation of the Confusion Matrix\n",
    "print(confusion_matrix(y_test, y_RF_pred))\n",
    "\n",
    "#AUC for y\n",
    "y_RF_pred_proba = rfc.predict_proba(X_test)[::,1]\n",
    "fpr_RF, tpr_RF, _ = metrics.roc_curve(y_test,  y_RF_pred_proba)\n",
    "auc_RF = metrics.roc_auc_score(y_test, y_RF_pred_proba)\n",
    "plt.plot(fpr_RF,tpr_RF,label=\"auc=\"+str(auc_RF))\n",
    "plt.legend(loc=4)\n",
    "plt.show()\n",
    "print(\"\")\n",
    "\n",
    "#Print Confusion Matrix\n",
    "cnf_matrix_RF = metrics.confusion_matrix(y_test, y_RF_pred)\n",
    "cnf_matrix_RF\n",
    "class_names=[0,1] # name  of classes\n",
    "fig, ax = plt.subplots()\n",
    "tick_marks = np.arange(len(class_names))\n",
    "plt.xticks(tick_marks, class_names)\n",
    "plt.yticks(tick_marks, class_names)\n",
    "# create heatmap\n",
    "sns.heatmap(pd.DataFrame(cnf_matrix_RF), annot=True, cmap=\"YlGnBu\" ,fmt='g')\n",
    "ax.xaxis.set_label_position(\"top\")\n",
    "plt.tight_layout()\n",
    "plt.title('Confusion matrix RF', y=1.1)\n",
    "plt.ylabel('Actual label')\n",
    "plt.xlabel('Predicted label')"
   ]
  },
  {
   "cell_type": "markdown",
   "metadata": {},
   "source": [
    "##### 90% accuracy for both Random Forest Models, so far better than the Decision Tree Models"
   ]
  },
  {
   "cell_type": "code",
   "execution_count": 33,
   "metadata": {},
   "outputs": [],
   "source": [
    "# # Attempt on the feature selection using scikit-learn\n",
    "# # import the package\n",
    "# from sklearn.ensemble import RandomForestClassifier\n",
    "\n",
    "# #Create a Gaussian Classifier\n",
    "# clf=RandomForestClassifier(n_estimators=100)\n",
    "\n",
    "# #Train the model using the training sets y_pred=clf.predict(X_test)\n",
    "# clf.fit(X_train,y_train)"
   ]
  },
  {
   "cell_type": "code",
   "execution_count": 34,
   "metadata": {},
   "outputs": [],
   "source": [
    "# import pandas as pd\n",
    "# feature_imp = pd.Series(clf.feature_importances_,index=y_test).sort_values(ascending=False)\n",
    "# feature_imp"
   ]
  },
  {
   "cell_type": "markdown",
   "metadata": {},
   "source": [
    "### 3.4 Support Vector Machines (SVM) Classification Model (SVC)\n",
    ">   <b> Accuracy: </b> 88%\n",
    "<br><b> AUC: </b> 85%\n",
    "<br><b> Next Steps: </b> SVC ensemble classifiers "
   ]
  },
  {
   "cell_type": "code",
   "execution_count": 35,
   "metadata": {},
   "outputs": [],
   "source": [
    "###1. Step 1: Specify the Model\n",
    "from sklearn import svm\n",
    "svc = svm.SVC(kernel='rbf',cache_size=7000,gamma= 'scale', C=1, probability =True, degree = 3) # gamma= 0.001 , kernel='poly', 'rbf',‘linear’"
   ]
  },
  {
   "cell_type": "code",
   "execution_count": 36,
   "metadata": {},
   "outputs": [],
   "source": [
    "###2. Step 2: Generate Test Data\n",
    "# X_train_svc, X_test_svc, y1_train_svc, y1_test_svc, y2_train_svc, y2_test_svc = train_test_split(X, y1,y2, test_size=0.3,random_state=1000) \n",
    "# X_train, X_test, y1_Models_train, y1_Models_test, y2_Models_train, y2_Models_test\n",
    "#Standard Scale the data to allow for better SVC model performance\n",
    "# scaler = StandardScaler().fit(X_train) \n",
    "# standardized_X_svc = scaler.transform(X_train) \n",
    "# standardized_X_test_svc = scaler.transform(X_test)"
   ]
  },
  {
   "cell_type": "code",
   "execution_count": 37,
   "metadata": {},
   "outputs": [],
   "source": [
    "###3. Step 3: Build the Model\n",
    "#Train the model using the training sets\n",
    "svc.fit(X_train, y_train)\n",
    "\n",
    "#Predict the response for test dataset\n",
    "y_pred_svc = svc.predict(X_test)"
   ]
  },
  {
   "cell_type": "code",
   "execution_count": 38,
   "metadata": {},
   "outputs": [
    {
     "name": "stdout",
     "output_type": "stream",
     "text": [
      "Accuracy_svc: 0.8553663152203298\n",
      "[[3158    0]\n",
      " [ 535    6]]\n"
     ]
    },
    {
     "data": {
      "image/png": "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\n",
      "text/plain": [
       "<Figure size 432x288 with 1 Axes>"
      ]
     },
     "metadata": {},
     "output_type": "display_data"
    },
    {
     "name": "stdout",
     "output_type": "stream",
     "text": [
      "\n",
      "              precision    recall  f1-score   support\n",
      "\n",
      "           0       0.86      1.00      0.92      3158\n",
      "           1       1.00      0.01      0.02       541\n",
      "\n",
      "    accuracy                           0.86      3699\n",
      "   macro avg       0.93      0.51      0.47      3699\n",
      "weighted avg       0.88      0.86      0.79      3699\n",
      "\n",
      "Accuracy_svc: 0.8553663152203298\n"
     ]
    },
    {
     "data": {
      "image/png": "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\n",
      "text/plain": [
       "<Figure size 432x288 with 2 Axes>"
      ]
     },
     "metadata": {},
     "output_type": "display_data"
    }
   ],
   "source": [
    "###4. Step 4: Assess the Model\n",
    "print(\"Accuracy_svc:\",metrics.accuracy_score(y_test, y_pred_svc))\n",
    "cnf_matrix_svc = metrics.confusion_matrix(y_test, y_pred_svc)\n",
    "\n",
    "print(cnf_matrix_svc)\n",
    "\n",
    "\n",
    "#AUC for y1\n",
    "y_SVM_pred_proba = svc.predict_proba(X_test)[::,1]\n",
    "fpr_SVM, tpr_SVM, _ = metrics.roc_curve(y_test,  y_SVM_pred_proba)\n",
    "auc_SVM = metrics.roc_auc_score(y_test, y_SVM_pred_proba)\n",
    "plt.plot(fpr_SVM,tpr_SVM,label=\"auc=\"+str(auc_SVM))\n",
    "plt.legend(loc=4)\n",
    "plt.show()\n",
    "print(\"\")\n",
    "\n",
    "class_names_svc=[0,1] # name  of classes\n",
    "fig, ax = plt.subplots()\n",
    "tick_marks_svc = np.arange(len(class_names_svc))\n",
    "plt.xticks(tick_marks_svc, class_names_svc)\n",
    "plt.yticks(tick_marks_svc, class_names_svc)\n",
    "# create heatmap\n",
    "sns.heatmap(pd.DataFrame(cnf_matrix_svc), annot=True, cmap=\"YlGnBu\" ,fmt='g')\n",
    "ax.xaxis.set_label_position(\"top\")\n",
    "plt.tight_layout()\n",
    "plt.title('Confusion matrix svc', y=1.1)\n",
    "plt.ylabel('Actual label')\n",
    "plt.xlabel('Predicted label')\n",
    "\n",
    "print(classification_report(y_test, y_pred_svc))\n",
    "print(\"Accuracy_svc:\",metrics.accuracy_score(y_test, y_pred_svc))"
   ]
  },
  {
   "cell_type": "code",
   "execution_count": 39,
   "metadata": {},
   "outputs": [],
   "source": [
    "# # Code for feature selection using scikit-learn\n",
    "# # import the package\n",
    "# from sklearn.ensemble import RandomForestClassifier\n",
    "\n",
    "# #Create a Gaussian Classifier\n",
    "# clf=RandomForestClassifier(n_estimators=100)\n",
    "\n",
    "# #Train the model using the training sets y_pred=clf.predict(X_test)\n",
    "# clf.fit(X_train,y_train)"
   ]
  },
  {
   "cell_type": "code",
   "execution_count": 40,
   "metadata": {},
   "outputs": [],
   "source": [
    "# import pandas as pd\n",
    "# feature_imp = pd.Series(clf.feature_importances_,index=y_test).sort_values(ascending=False)\n",
    "# feature_imp"
   ]
  },
  {
   "cell_type": "markdown",
   "metadata": {},
   "source": [
    "### 3.5. XGBoost Model (XGB)\n",
    ">   <b> Accuracy: </b> 89%\n",
    "<br><b> AUC: </b> 89%\n",
    "<br><b> RMSE: </b> .32\n",
    "<br><b> Next Steps: </b> Additional parameter tuning\n"
   ]
  },
  {
   "cell_type": "markdown",
   "metadata": {},
   "source": [
    "###0. Step 0: Import Needed Packages"
   ]
  },
  {
   "cell_type": "code",
   "execution_count": 41,
   "metadata": {},
   "outputs": [],
   "source": [
    "#Import Needed Packages\n",
    "import xgboost as xgb\n",
    "from sklearn.metrics import mean_squared_error\n",
    "import pandas as pd\n",
    "import numpy as np\n",
    "\n",
    "#Do preliminary work\n"
   ]
  },
  {
   "cell_type": "markdown",
   "metadata": {},
   "source": [
    "###1. Step 1: Specify the Model"
   ]
  },
  {
   "cell_type": "code",
   "execution_count": 42,
   "metadata": {},
   "outputs": [],
   "source": [
    "#Instantiate an XGBoost Classifer Model - for y1 (No_Sale)\n",
    "XGB_class = xgb.XGBClassifier(objective ='reg:squarederror', colsample_bytree = 0.3, learning_rate = 0.1,\n",
    "                max_depth = 5, alpha = 10, n_estimators = 100)\n"
   ]
  },
  {
   "cell_type": "markdown",
   "metadata": {},
   "source": [
    "###2. Steps 2-4: Generate Test Data, Build the Models & Assess the Models for y2 (Sale)"
   ]
  },
  {
   "cell_type": "code",
   "execution_count": 43,
   "metadata": {},
   "outputs": [
    {
     "name": "stderr",
     "output_type": "stream",
     "text": [
      "/opt/tljh/user/lib/python3.6/site-packages/xgboost/core.py:587: FutureWarning: Series.base is deprecated and will be removed in a future version\n",
      "  if getattr(data, 'base', None) is not None and \\\n",
      "/opt/tljh/user/lib/python3.6/site-packages/xgboost/core.py:588: FutureWarning: Series.base is deprecated and will be removed in a future version\n",
      "  data.base is not None and isinstance(data, np.ndarray) \\\n"
     ]
    },
    {
     "name": "stdout",
     "output_type": "stream",
     "text": [
      "XGBoost's RMSE for y2 is: 0.308043\n",
      "XGB target range is: 1.000000\n",
      "XGBoost's Error Ratio for y2 is: 0.308043\n"
     ]
    }
   ],
   "source": [
    "#Put Data into structure for XGBoost- for y2 (Sale) \n",
    "data_dmatrix = xgb.DMatrix(data=X,label=y)\n",
    "\n",
    "#Train the model using the training sets for y1\n",
    "XGB_class.fit(X_train, y_train)\n",
    "\n",
    "#Predict the response for test dataset for y1\n",
    "y_XGB_pred = XGB_class.predict(X_test)\n",
    "\n",
    "#Calculate RMSE for y2\n",
    "rmse_XGB = np.sqrt(mean_squared_error(y_test, y_XGB_pred))\n",
    "print(\"XGBoost's RMSE for y2 is: %f\" % (rmse_XGB))\n",
    "\n",
    "#Create error ratio to evaluate results for y2\n",
    "target_range_XGB = y.max() - y.min()\n",
    "print(\"XGB target range is: %f\" % (target_range_XGB))\n",
    "error_ratio_XGB = rmse_XGB/target_range_XGB\n",
    "print(\"XGBoost's Error Ratio for y2 is: %f\" % (error_ratio_XGB))"
   ]
  },
  {
   "cell_type": "code",
   "execution_count": 44,
   "metadata": {},
   "outputs": [],
   "source": [
    "#ISSUE WITH THE ABOVE - HOW COME THE TARGET RANGE IS 1? DOES IT HAVE TO DO WITH 0/1 STATUS OF TARGET VARIABLE???"
   ]
  },
  {
   "cell_type": "code",
   "execution_count": 45,
   "metadata": {},
   "outputs": [
    {
     "name": "stdout",
     "output_type": "stream",
     "text": [
      "y Accuracy: 0.9051094890510949\n",
      "\n",
      "              precision    recall  f1-score   support\n",
      "\n",
      "           0       0.93      0.96      0.95      3158\n",
      "           1       0.70      0.60      0.65       541\n",
      "\n",
      "    accuracy                           0.91      3699\n",
      "   macro avg       0.82      0.78      0.80      3699\n",
      "weighted avg       0.90      0.91      0.90      3699\n",
      "\n"
     ]
    },
    {
     "data": {
      "image/png": "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\n",
      "text/plain": [
       "<Figure size 432x288 with 1 Axes>"
      ]
     },
     "metadata": {},
     "output_type": "display_data"
    },
    {
     "name": "stdout",
     "output_type": "stream",
     "text": [
      "\n"
     ]
    },
    {
     "data": {
      "text/plain": [
       "Text(0.5, 257.44, 'Predicted label')"
      ]
     },
     "execution_count": 45,
     "metadata": {},
     "output_type": "execute_result"
    },
    {
     "data": {
      "image/png": "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\n",
      "text/plain": [
       "<Figure size 432x288 with 2 Axes>"
      ]
     },
     "metadata": {},
     "output_type": "display_data"
    }
   ],
   "source": [
    "# Model Accuracy, how often is the classifier correct?\n",
    "# Accuracy for y2\n",
    "print(\"y Accuracy:\",metrics.accuracy_score(y_test, y_XGB_pred))\n",
    "print(\"\")\n",
    "\n",
    "\n",
    "#Can use classification report to assess model adequacy, too\n",
    "print(metrics.classification_report(y_test, y_XGB_pred, labels=class_names))\n",
    "\n",
    "#AUC for y1\n",
    "y_XGB_pred_proba = XGB_class.predict_proba(X_test)[::,1]\n",
    "fpr_XGB, tpr_XGB, _ = metrics.roc_curve(y_test,  y_XGB_pred_proba)\n",
    "auc_XGB = metrics.roc_auc_score(y_test, y_XGB_pred_proba)\n",
    "plt.plot(fpr_XGB,tpr_XGB,label=\"auc=\"+str(auc_XGB))\n",
    "plt.legend(loc=4)\n",
    "plt.show()\n",
    "print(\"\")\n",
    "\n",
    "#Print Confusion Matrix\n",
    "cnf_matrix_XGB = metrics.confusion_matrix(y_test, y_XGB_pred)\n",
    "cnf_matrix_XGB\n",
    "class_names=[0,1] # name  of classes\n",
    "fig, ax = plt.subplots()\n",
    "tick_marks = np.arange(len(class_names))\n",
    "plt.xticks(tick_marks, class_names)\n",
    "plt.yticks(tick_marks, class_names)\n",
    "# create heatmap\n",
    "sns.heatmap(pd.DataFrame(cnf_matrix_XGB), annot=True, cmap=\"YlGnBu\" ,fmt='g')\n",
    "ax.xaxis.set_label_position(\"top\")\n",
    "plt.tight_layout()\n",
    "plt.title('Confusion matrix XGB', y=1.1)\n",
    "plt.ylabel('Actual label')\n",
    "plt.xlabel('Predicted label')"
   ]
  },
  {
   "cell_type": "code",
   "execution_count": 46,
   "metadata": {},
   "outputs": [],
   "source": [
    "# # Code for feature selection using scikit-learn\n",
    "# # import the package\n",
    "# from sklearn.ensemble import RandomForestClassifier\n",
    "\n",
    "# #Create a Gaussian Classifier\n",
    "# clf=RandomForestClassifier(n_estimators=100)\n",
    "\n",
    "# #Train the model using the training sets y_pred=clf.predict(X_test)\n",
    "# clf.fit(X_train,y_train)"
   ]
  },
  {
   "cell_type": "code",
   "execution_count": 47,
   "metadata": {},
   "outputs": [],
   "source": [
    "# import pandas as pd\n",
    "# feature_imp = pd.Series(clf.feature_importances_,index=y_test).sort_values(ascending=False)\n",
    "# feature_imp"
   ]
  },
  {
   "cell_type": "markdown",
   "metadata": {},
   "source": [
    "### 3.6 Neural Network Model (NN)\n",
    ">   <b> Accuracy: </b> 89%\n",
    "<br><b> AUC: </b> 90%\n",
    "<br><b> Next Steps: </b> Additional parameter tuning"
   ]
  },
  {
   "cell_type": "code",
   "execution_count": 48,
   "metadata": {},
   "outputs": [],
   "source": [
    "# X_train, X_test, y1_Models_train, y1_Models_test, y2_Models_train, y2_Models_test\n",
    "\n",
    "\n",
    "###1. Step 1: Specify the Model\n",
    "# Import the model\n",
    "from sklearn.neural_network import MLPClassifier\n",
    "\n",
    "# Initializing the multilayer perceptron\n",
    "# mlp = MLPClassifier(hidden_layer_sizes = (3,1),solver='sgd',learning_rate_init= 0.01, max_iter=50)\n",
    "mlp= MLPClassifier(activation='logistic', alpha=0.0001, batch_size='auto', beta_1=0.9, \n",
    "beta_2=0.999, early_stopping=False, epsilon=1e-08,       \n",
    "hidden_layer_sizes=(10), learning_rate='adaptive',      \n",
    "learning_rate_init=0.01, max_iter=10, momentum=0.9,       \n",
    "nesterovs_momentum=True, power_t=0.5, random_state=1000,       \n",
    "shuffle=True, solver='adam', tol=0.0001, validation_fraction=0.1,       \n",
    "verbose=False, warm_start=True)"
   ]
  },
  {
   "cell_type": "code",
   "execution_count": 49,
   "metadata": {},
   "outputs": [
    {
     "name": "stderr",
     "output_type": "stream",
     "text": [
      "/opt/tljh/user/lib/python3.6/site-packages/sklearn/neural_network/_multilayer_perceptron.py:571: ConvergenceWarning: Stochastic Optimizer: Maximum iterations (10) reached and the optimization hasn't converged yet.\n",
      "  % self.max_iter, ConvergenceWarning)\n"
     ]
    },
    {
     "data": {
      "text/plain": [
       "MLPClassifier(activation='logistic', alpha=0.0001, batch_size='auto',\n",
       "              beta_1=0.9, beta_2=0.999, early_stopping=False, epsilon=1e-08,\n",
       "              hidden_layer_sizes=10, learning_rate='adaptive',\n",
       "              learning_rate_init=0.01, max_fun=15000, max_iter=10, momentum=0.9,\n",
       "              n_iter_no_change=10, nesterovs_momentum=True, power_t=0.5,\n",
       "              random_state=1000, shuffle=True, solver='adam', tol=0.0001,\n",
       "              validation_fraction=0.1, verbose=False, warm_start=True)"
      ]
     },
     "execution_count": 49,
     "metadata": {},
     "output_type": "execute_result"
    }
   ],
   "source": [
    "###2. Step 2: Generate Test Data\n",
    "# Train the model\n",
    "mlp.fit(X_train, y_train)"
   ]
  },
  {
   "cell_type": "code",
   "execution_count": 50,
   "metadata": {},
   "outputs": [],
   "source": [
    "###3. Step 3: Build the Model\n",
    "y_pred_nn = mlp.predict(X_test)\n"
   ]
  },
  {
   "cell_type": "code",
   "execution_count": 51,
   "metadata": {},
   "outputs": [
    {
     "name": "stdout",
     "output_type": "stream",
     "text": [
      "MLP score is 0.884022708840227\n",
      "Accuracy_nn: 0.884022708840227\n",
      "[[2979  179]\n",
      " [ 250  291]]\n"
     ]
    },
    {
     "data": {
      "image/png": "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\n",
      "text/plain": [
       "<Figure size 432x288 with 1 Axes>"
      ]
     },
     "metadata": {},
     "output_type": "display_data"
    },
    {
     "name": "stdout",
     "output_type": "stream",
     "text": [
      "              precision    recall  f1-score   support\n",
      "\n",
      "           0       0.92      0.94      0.93      3158\n",
      "           1       0.62      0.54      0.58       541\n",
      "\n",
      "    accuracy                           0.88      3699\n",
      "   macro avg       0.77      0.74      0.75      3699\n",
      "weighted avg       0.88      0.88      0.88      3699\n",
      "\n",
      "Accuracy_svc: 0.884022708840227\n"
     ]
    },
    {
     "data": {
      "image/png": "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\n",
      "text/plain": [
       "<Figure size 432x288 with 2 Axes>"
      ]
     },
     "metadata": {},
     "output_type": "display_data"
    }
   ],
   "source": [
    "###4. Step 4: Assess the Model\n",
    "# Score takes a feature matrix X_test and the expected target values y_test. \n",
    "# Predictions for X_test are compared with y_test\n",
    "\n",
    "print(\"MLP score is\",mlp.score(X_test,y_test))\n",
    "\n",
    "# Accuracy for y NN\n",
    "#print(\"y Accuracy NN:\",metrics.accuracy_score(y_test, y_XGB_pred))\n",
    "#print(\"\")\n",
    "\n",
    "###4. Step 4: Assess the Model\n",
    "print(\"Accuracy_nn:\",metrics.accuracy_score(y_test, y_pred_nn))\n",
    "cnf_matrix_nn = metrics.confusion_matrix(y_test, y_pred_nn)\n",
    "\n",
    "print(cnf_matrix_nn)\n",
    "\n",
    "# Plot AOC\n",
    "y_pred_proba_nn = mlp.predict_proba(X_test)[::,1]\n",
    "fpr_nn, tpr_nn, _ = metrics.roc_curve(y_test,  y_pred_proba_nn)\n",
    "auc_nn = metrics.roc_auc_score(y_test, y_pred_proba_nn)\n",
    "plt.plot(fpr_nn,tpr_nn,label=\"data 1, auc=\"+str(auc_nn))\n",
    "plt.legend(loc=4)\n",
    "plt.show()\n",
    "\n",
    "\n",
    "class_names_nn=[0,1] # name  of classes\n",
    "fig, ax = plt.subplots()\n",
    "tick_marks_nn = np.arange(len(class_names_nn))\n",
    "plt.xticks(tick_marks_nn, class_names_nn)\n",
    "plt.yticks(tick_marks_nn, class_names_nn)\n",
    "# create heatmap\n",
    "sns.heatmap(pd.DataFrame(cnf_matrix_nn), annot=True, cmap=\"YlGnBu\" ,fmt='g')\n",
    "ax.xaxis.set_label_position(\"top\")\n",
    "plt.tight_layout()\n",
    "plt.title('Confusion matrix NN', y=1.1)\n",
    "plt.ylabel('Actual label')\n",
    "plt.xlabel('Predicted label')\n",
    "\n",
    "print(classification_report(y_test, y_pred_nn))\n",
    "print(\"Accuracy_svc:\",metrics.accuracy_score(y_test, y_pred_nn))\n",
    "\n",
    "#Plot AOC\n",
    "# y_pred_proba_nn = mlp.predict_proba(X_test)[::,1]\n",
    "# fpr_nn, tpr_nn, _ = metrics.roc_curve(y_test,  y_pred_proba_nn)\n",
    "# auc_nn = metrics.roc_auc_score(y_test, y_pred_proba_nn)\n",
    "# plt.plot(fpr_nn,tpr_nn,label=\"data 1, auc=\"+str(auc_nn))\n",
    "# plt.legend(loc=4)\n",
    "# plt.show()"
   ]
  },
  {
   "cell_type": "code",
   "execution_count": 52,
   "metadata": {},
   "outputs": [],
   "source": [
    "# # Code for feature selection using scikit-learn\n",
    "# # import the package\n",
    "# from sklearn.ensemble import RandomForestClassifier\n",
    "\n",
    "# #Create a Gaussian Classifier\n",
    "# clf=RandomForestClassifier(n_estimators=100)\n",
    "\n",
    "# #Train the model using the training sets y_pred=clf.predict(X_test)\n",
    "# clf.fit(X_train,y_train)"
   ]
  },
  {
   "cell_type": "code",
   "execution_count": 53,
   "metadata": {},
   "outputs": [],
   "source": [
    "# import pandas as pd\n",
    "# feature_imp = pd.Series(clf.feature_importances_,index=y_test).sort_values(ascending=False)\n",
    "# feature_imp"
   ]
  },
  {
   "cell_type": "markdown",
   "metadata": {},
   "source": [
    "### 3.7 Logistic Regression Model"
   ]
  },
  {
   "cell_type": "markdown",
   "metadata": {},
   "source": [
    ">   <b> Accuracy: </b> 89%\n",
    "<br><b> AUC: </b> 87%\n",
    "<br><b> Next Steps: </b> Additional parameter tuning\n"
   ]
  },
  {
   "cell_type": "code",
   "execution_count": 54,
   "metadata": {},
   "outputs": [
    {
     "name": "stderr",
     "output_type": "stream",
     "text": [
      "/opt/tljh/user/lib/python3.6/site-packages/sklearn/linear_model/_logistic.py:940: ConvergenceWarning: lbfgs failed to converge (status=1):\n",
      "STOP: TOTAL NO. of ITERATIONS REACHED LIMIT.\n",
      "\n",
      "Increase the number of iterations (max_iter) or scale the data as shown in:\n",
<<<<<<< HEAD
      "    https://scikit-learn.org/stable/modules/preprocessing.html\n",
      "Please also refer to the documentation for alternative solver options:\n",
      "    https://scikit-learn.org/stable/modules/linear_model.html#logistic-regression\n",
=======
      "    https://urldefense.com/v3/__https://scikit-learn.org/stable/modules/preprocessing.html*5Cn__;JQ!!KIFmrYtlezdzESbnm_I!SUcGadcsLbOo3lSejYAvHAikcLeIH4CvOUffDvWJIFNjO7s1gLlwc3opCMoiaOvxXve2Q9MdjUV7H-Q$ ",
      "Please also refer to the documentation for alternative solver options:\n",
      "    https://urldefense.com/v3/__https://scikit-learn.org/stable/modules/linear_model.html*logistic-regression*5Cn__;IyU!!KIFmrYtlezdzESbnm_I!SUcGadcsLbOo3lSejYAvHAikcLeIH4CvOUffDvWJIFNjO7s1gLlwc3opCMoiaOvxXve2Q9Md6M0iX34$ ",
>>>>>>> 0adc3fc0db34dfa11e1774152d1bfb7711723bc2
      "  extra_warning_msg=_LOGISTIC_SOLVER_CONVERGENCE_MSG)\n"
     ]
    }
   ],
   "source": [
    "#Build the model\n",
    "# import the class\n",
    "from sklearn.linear_model import LogisticRegression\n",
    "\n",
    "# instantiate the model (using the default parameters)\n",
    "logreg = LogisticRegression()\n",
    "\n",
    "# fit the model with data\n",
    "logreg.fit(X_train,y_train)\n",
    "\n",
    "#\n",
    "y_LR_pred=logreg.predict(X_test)"
   ]
  },
  {
   "cell_type": "code",
   "execution_count": 55,
   "metadata": {},
   "outputs": [
    {
     "data": {
      "text/plain": [
       "array([[3078,   80],\n",
       "       [ 339,  202]])"
      ]
     },
     "execution_count": 55,
     "metadata": {},
     "output_type": "execute_result"
    }
   ],
   "source": [
    "# import the metrics class for the Confusion Matrix\n",
    "from sklearn import metrics\n",
    "cnf_matrix_LogR = metrics.confusion_matrix(y_test, y_LR_pred)\n",
    "cnf_matrix_LogR"
   ]
  },
  {
   "cell_type": "code",
   "execution_count": 56,
   "metadata": {},
   "outputs": [
    {
     "data": {
      "text/plain": [
       "Text(0.5, 257.44, 'Predicted label')"
      ]
     },
     "execution_count": 56,
     "metadata": {},
     "output_type": "execute_result"
    },
    {
     "data": {
      "image/png": "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\n",
      "text/plain": [
       "<Figure size 432x288 with 2 Axes>"
      ]
     },
     "metadata": {},
     "output_type": "display_data"
    }
   ],
   "source": [
    "# Visualizing the Confusion Matrix\n",
    "\n",
    "class_names=[0,1] # name  of classes\n",
    "fig, ax = plt.subplots()\n",
    "tick_marks = np.arange(len(class_names))\n",
    "plt.xticks(tick_marks, class_names)\n",
    "plt.yticks(tick_marks, class_names)\n",
    "# create heatmap\n",
    "sns.heatmap(pd.DataFrame(cnf_matrix_LogR), annot=True, cmap=\"YlGnBu\" ,fmt='g')\n",
    "ax.xaxis.set_label_position(\"top\")\n",
    "plt.tight_layout()\n",
    "plt.title('Confusion matrix Log Reg', y=1.1)\n",
    "plt.ylabel('Actual label')\n",
    "plt.xlabel('Predicted label')"
   ]
  },
  {
   "cell_type": "code",
   "execution_count": 57,
   "metadata": {},
   "outputs": [
    {
     "data": {
      "image/png": "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\n",
      "text/plain": [
       "<Figure size 432x288 with 1 Axes>"
      ]
     },
     "metadata": {},
     "output_type": "display_data"
    }
   ],
   "source": [
    "# ROC Curve\n",
    "y_LR_pred_proba = logreg.predict_proba(X_test)[::,1]\n",
    "fpr_LR, tpr_LR, _ = metrics.roc_curve(y_test,  y_LR_pred_proba)\n",
    "auc_LR = metrics.roc_auc_score(y_test, y_LR_pred_proba)\n",
    "plt.plot(fpr_LR,tpr_LR,label=\"data 1, auc=\"+str(auc_LR))\n",
    "plt.legend(loc=4)\n",
    "plt.show()"
   ]
  },
  {
   "cell_type": "code",
   "execution_count": 58,
   "metadata": {},
   "outputs": [
    {
     "name": "stdout",
     "output_type": "stream",
     "text": [
      "Accuracy: 0.8867261422005948\n",
      "Precision: 0.7163120567375887\n",
      "Recall: 0.3733826247689464\n"
     ]
    }
   ],
   "source": [
    "print(\"Accuracy:\",metrics.accuracy_score(y_test, y_LR_pred))\n",
    "print(\"Precision:\",metrics.precision_score(y_test, y_LR_pred))\n",
    "print(\"Recall:\",metrics.recall_score(y_test, y_LR_pred))"
   ]
  },
  {
   "cell_type": "code",
   "execution_count": 59,
   "metadata": {},
   "outputs": [],
   "source": [
    "#90.3% accuracy "
   ]
  },
  {
   "cell_type": "code",
   "execution_count": 60,
   "metadata": {},
   "outputs": [],
   "source": [
    "# # Code for feature selection using scikit-learn\n",
    "# # import the package\n",
    "# from sklearn.ensemble import RandomForestClassifier\n",
    "\n",
    "# #Create a Gaussian Classifier\n",
    "# clf=RandomForestClassifier(n_estimators=100)\n",
    "\n",
    "# #Train the model using the training sets y_pred=clf.predict(X_test)\n",
    "# clf.fit(X_train,y_train)"
   ]
  },
  {
   "cell_type": "code",
   "execution_count": 61,
   "metadata": {},
   "outputs": [],
   "source": [
    "# import pandas as pd\n",
    "# feature_imp = pd.Series(clf.feature_importances_,index=y_test).sort_values(ascending=False)\n",
    "# feature_imp"
   ]
  },
  {
   "cell_type": "markdown",
   "metadata": {},
   "source": [
    "### 3.8 K-Means Model"
   ]
  },
  {
   "cell_type": "code",
   "execution_count": 62,
   "metadata": {},
   "outputs": [],
   "source": [
    "#important packages\n",
    "\n",
    "import pandas as pd\n",
    "import numpy as np\n",
    "from sklearn.cluster import KMeans\n",
    "from sklearn.preprocessing import LabelEncoder\n",
    "from sklearn.preprocessing import MinMaxScaler\n",
    "import seaborn as sns\n",
    "import matplotlib.pyplot as plt\n",
    "import matplotlib\n",
    "plt.style.use('ggplot')\n",
    "%matplotlib inline"
   ]
  },
  {
   "cell_type": "code",
   "execution_count": 63,
   "metadata": {},
   "outputs": [],
   "source": [
    "X_kmeans = np.array(X_train)\n",
    "y_kmeans = np.array(y_train)"
   ]
  },
  {
   "cell_type": "code",
   "execution_count": 64,
   "metadata": {},
   "outputs": [
    {
     "data": {
      "text/plain": [
       "KMeans(algorithm='auto', copy_x=True, init='k-means++', max_iter=600,\n",
       "       n_clusters=2, n_init=10, n_jobs=None, precompute_distances='auto',\n",
       "       random_state=None, tol=0.0001, verbose=0)"
      ]
     },
     "execution_count": 64,
     "metadata": {},
     "output_type": "execute_result"
    }
   ],
   "source": [
    "# Build the model\n",
    "\n",
    "# load the model\n",
    "kmeans = KMeans(n_clusters=2, max_iter=600, algorithm = 'auto') # 2 clusters, sale or no sale\n",
    "kmeans.fit(X_kmeans)"
   ]
  },
  {
   "cell_type": "code",
   "execution_count": 65,
   "metadata": {},
   "outputs": [
    {
     "name": "stdout",
     "output_type": "stream",
     "text": [
      "0.8110300081103001\n"
     ]
    }
   ],
   "source": [
    "# Predictions\n",
    "correct = 0\n",
    "for i in range(len(X_kmeans)):\n",
    "    predict_me = np.array(X_kmeans[i].astype(float))\n",
    "    predict_me = predict_me.reshape(-1, len(predict_me))\n",
    "    prediction = kmeans.predict(predict_me)\n",
    "    if prediction[0] == y_kmeans[i]:\n",
    "        correct += 1\n",
    "\n",
    "print(correct/len(X_kmeans))"
   ]
  },
  {
   "cell_type": "code",
   "execution_count": 75,
   "metadata": {},
   "outputs": [
    {
     "name": "stdout",
     "output_type": "stream",
     "text": [
      "F1 Score - Naive Bayes:          0.8593           | AUC - Naive Bayes:          0.8474\n",
      "F1 Score - Decision Tree:        0.8693           | AUC - Decision Tree:        0.7570\n",
      "F1 Score - Random Forest:        0.8978           | AUC - Random Forest:        0.9292\n",
      "F1 Score - SVM Classifier:       0.7903           | AUC - SVM Classifier:       0.8259\n",
      "F1 Score - XGBoost:              0.9020           | AUC - XGBoost:              0.9227\n",
      "F1 Score - Neural Network:       0.8806           | AUC - Neural Network:       0.8732\n",
      "F1 Score - Logistic Regression:  0.8711           | AUC - Logistic Regression:  0.8335\n",
      "\n",
      "Correct Predictions - K-Means:   0.8110\n"
     ]
    }
   ],
   "source": [
    "from sklearn.metrics import f1_score\n",
    "from sklearn.metrics import f1_score\n",
    "print(\"F1 Score - Naive Bayes:         \", '%05.4f' % f1_score(y_test, y_NB_pred, average='weighted'),\"          | AUC - Naive Bayes:         \",  '%05.4f' % auc)\n",
    "print(\"F1 Score - Decision Tree:       \",  '%05.4f' % f1_score(y_test, y_DT_pred, average='weighted'),\"          | AUC - Decision Tree:       \",  '%05.4f' % auc_DT)\n",
    "print(\"F1 Score - Random Forest:       \",  '%05.4f' % f1_score(y_test, y_RF_pred, average='weighted'),\"          | AUC - Random Forest:       \",  '%05.4f' % auc_RF)\n",
    "print(\"F1 Score - SVM Classifier:      \",  '%05.4f' % f1_score(y_test, y_pred_svc, average='weighted'),\"          | AUC - SVM Classifier:      \",  '%05.4f' % auc_SVM)\n",
    "print(\"F1 Score - XGBoost:             \",  '%05.4f' % f1_score(y_test, y_XGB_pred, average='weighted'),\"          | AUC - XGBoost:             \",  '%05.4f' % auc_XGB)\n",
    "print(\"F1 Score - Neural Network:      \", '%05.4f' % f1_score(y_test, y_pred_nn, average='weighted'),\"          | AUC - Neural Network:      \",  '%05.4f' % auc_nn)\n",
    "print(\"F1 Score - Logistic Regression: \",  '%05.4f' % f1_score(y_test, y_LR_pred, average='weighted'),\"          | AUC - Logistic Regression: \",  '%05.4f' % auc_LR)\n",
    "print(\"\")\n",
    "\n",
    "# K-means...\n",
    "print(\"Correct Predictions - K-Means:  \", '%05.4f' % (correct/len(X_kmeans)))"
   ]
  },
  {
   "cell_type": "code",
   "execution_count": null,
   "metadata": {},
   "outputs": [],
   "source": []
  }
 ],
 "metadata": {
  "kernelspec": {
   "display_name": "Python 3",
   "language": "python",
   "name": "python3"
  },
  "language_info": {
   "codemirror_mode": {
    "name": "ipython",
    "version": 3
   },
   "file_extension": ".py",
   "mimetype": "text/x-python",
   "name": "python",
   "nbconvert_exporter": "python",
   "pygments_lexer": "ipython3",
   "version": "3.6.7"
  }
 },
 "nbformat": 4,
 "nbformat_minor": 4
}
