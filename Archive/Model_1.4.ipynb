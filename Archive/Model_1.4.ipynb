{
 "cells": [
  {
   "cell_type": "markdown",
   "metadata": {},
   "source": [
    "## BA 545 Course Project 2: Machine Team 4 \n",
    "#### Online Shoppers Purchasing Intentions\n",
    "##### Michael Disanto, Dawn Massey PhD CPA CGMA, Brian Nicholls\n",
    "###### Preliminary Base Model (1) - Spring 2020\n",
    "----------------------------------------------------------------------\n"
   ]
  },
  {
   "cell_type": "markdown",
   "metadata": {},
   "source": [
    "#### **Table of Contents:**\n",
    "\n",
    "0. [Preparing for Analyisis](#part1.0)\n",
    "1. [Initial Review of the Data](#part1.1)\n",
    "2. [Adjust the Object & Boolean Data Types for Modeling](#part1.2)\n",
    "3. [Split and Run the Preliminary Models with all Features](#part1.3)\n",
    "4. [Evaluate all the methods and compare using Ensemble Ranking](#part1.4)\n"
   ]
  },
  {
   "cell_type": "markdown",
   "metadata": {},
   "source": [
    "## 0. Preparing for Analysis  <a name=\"part1.0\"></a>\n",
    "####  Import the necesary packages for reading, analyzing, tidying, modeling, & evaluating the data"
   ]
  },
  {
   "cell_type": "code",
   "execution_count": 57,
   "metadata": {},
   "outputs": [],
   "source": [
    "# # TO USE FOR ENTIRE TEAM\n",
    "# import pandas as pd\n",
    "# import numpy as np\n",
    "# from pandas_profiling import ProfileReport\n",
    "# import statsmodels.api as sm\n",
    "# from scipy import stats\n",
    "# %matplotlib inline\n",
    "# import matplotlib.pyplot as plt\n",
    "# import seaborn as sns\n",
    "# import plotly.express as px"
   ]
  },
  {
   "cell_type": "code",
   "execution_count": 58,
   "metadata": {},
   "outputs": [],
   "source": [
    "# Excluding Items not in Fairfield Jupiter Lab\n",
    "import pandas as pd\n",
    "import numpy as np\n",
    "from pandas_profiling import ProfileReport\n",
    "import statsmodels.api as sm\n",
    "from scipy import stats\n",
    "%matplotlib inline\n",
    "import matplotlib.pyplot as plt\n",
    "import seaborn as sns\n",
    "# import plotly.express as px"
   ]
  },
  {
   "cell_type": "code",
   "execution_count": 59,
   "metadata": {},
   "outputs": [],
   "source": [
    "# Import the necesary packages for reading, analyzing, tidying, modeling, & evaluating the data \n",
    "\n",
    "from sklearn import preprocessing\n",
    "from sklearn.preprocessing import StandardScaler \n",
    "# scaler = StandardScaler().fit(X_train) >>> standardized_X = scaler.transform(X_train) >>> standardized_X_test = scaler.transform(X_test)\n",
    "\n",
    "from sklearn.preprocessing import Normalizer\n",
    "# scaler = Normalizer().fit(X_train) >>> normalized_X = scaler.transform(X_train) >>> normalized_X_test = scaler.transform(X_test)\n",
    "\n",
    "from sklearn.preprocessing import Binarizer \n",
    "# binarizer = Binarizer(threshold=0.0).fit(X) >>> binary_X = binarizer.transform(X)\n",
    "\n",
    "# Encoding Categorical Features\n",
    "from sklearn.preprocessing import LabelEncoder\n",
    "from sklearn.preprocessing import OneHotEncoder\n",
    "# enc = LabelEncoder()\n",
    "# y = enc.fit_transform(y)\n",
    "\n",
    "# Imputation\n",
    "from sklearn.impute import (SimpleImputer, KNNImputer, MissingIndicator)\n",
    "from sklearn.experimental import enable_iterative_imputer\n",
    "# imp = Imputer(missing_values=0, strategy='mean', axis=0) >>> imp.fit_transform(X_train)\n",
    "from sklearn.preprocessing import PolynomialFeatures \n",
    "# poly = PolynomialFeatures(5) >>> poly.fit_transform(X)\n",
    "\n",
    "# Train/Test Split\n",
    "from sklearn.model_selection import train_test_split\n",
    "# X_train, X_test, y_train, y_test = train_test_split(X,y,random_state=0)\n",
    "\n",
    "\n",
    "# Various Models\n",
    "from sklearn.cluster import KMeans\n",
    "# k_means = KMeans(n_clusters=3, random_state=0\n",
    "\n",
    "from sklearn.decomposition import PCA\n",
    "# pca = PCA(n_components=0.95)\n",
    "\n",
    "from sklearn.linear_model import LogisticRegression\n",
    "# logreg = LogisticRegression()\n",
    "\n",
    "from sklearn.linear_model import RidgeCV\n",
    "# rrm = RidgeCV(alphas=(0.01, 0.1, 1.0, 10.0), normalize=True)\n",
    "\n",
    "from sklearn.naive_bayes import GaussianNB\n",
    "# gnb = GaussianNB()\n",
    "\n",
    "from sklearn.svm import SVC \n",
    "# svc = SVC(kernel='linear')\n",
    "\n",
    "from sklearn.linear_model import LinearRegression\n",
    "# lr = LinearRegression(normalize=True)\n",
    "\n",
    "from sklearn import neighbors\n",
    "# knn = neighbors.KNeighborsClassifier(n_neighbors=5)\n",
    "\n",
    "## Fit the model\n",
    "# # Supervised learning\n",
    "# lr.fit(X, y)\n",
    "# knn.fit(X_train, y_train)\n",
    "# svc.fit(X_train, y_train)   \n",
    "\n",
    "# #Unsupervised Learning \n",
    "# k_means.fit(X_train) \n",
    "# pca_model = pca.fit_transform(X_train)\n",
    "\n",
    "## Predict Y\n",
    "# Supervised Estimators\n",
    "# y_pred = svc.predict(np.random.random((2,5))) \n",
    "# y_pred = lr.predict(X_test)\n",
    "# y_pred = knn.predict_proba(X_test)   \n",
    "# Unsupervised Estimators \n",
    "# y_pred = k_means.predict(X_test)\n",
    "\n",
    "\n",
    "# Packages to evaluate Model Performance (Classification)\n",
    "from sklearn import metrics\n",
    "from sklearn.metrics import confusion_matrix\n",
    "from sklearn.metrics import classification_report\n",
    "from sklearn.metrics import roc_auc_score\n",
    "from sklearn.metrics import f1_score\n",
    "from sklearn.metrics import accuracy_score\n",
    "from sklearn.metrics import precision_recall_fscore_support\n",
    "# print(classification_report(y_test_log, y_pred_log))\n",
    "\n",
    "# Packages to evaluate Model Performance (Linear)\n",
    "from sklearn.metrics import mean_absolute_error \n",
    "# y_true = [3, -0.5, 2] >>> mean_absolute_error(y_true, y_pred)\n",
    "from sklearn.metrics import mean_squared_error\n",
    "# mean_squared_error(y_test, y_pred)\n",
    "from sklearn.metrics import r2_score \n",
    "# r2_score(y_true, y_pred)\n",
    "\n",
    "#from sklearn.cross_validation import cross_val_score \n",
    "# print(cross_val_score(knn, X_train, y_train, cv=4)) >>> print(cross_val_score(lr, X, y, cv=2)\n",
    "\n",
    "# Packages for Over/Under Sampling\n",
    "from imblearn.over_sampling import SMOTENC\n",
    "from imblearn.under_sampling import NearMiss \n",
    "\n",
    "import warnings\n",
    "warnings.filterwarnings('ignore')\n"
   ]
  },
  {
   "cell_type": "markdown",
   "metadata": {},
   "source": [
    "# 1. Initial Review of the Data  <a name=\"part1.1\"></a>"
   ]
  },
  {
   "cell_type": "code",
   "execution_count": 60,
   "metadata": {},
   "outputs": [],
   "source": [
    "# Pull in our original data and a copy for the base model\n",
    "df = pd.read_csv('online_shoppers_intention.csv', na_values=r'-')\n",
    "df_base = df.copy()"
   ]
  },
  {
   "cell_type": "code",
   "execution_count": 61,
   "metadata": {},
   "outputs": [
    {
     "name": "stdout",
     "output_type": "stream",
     "text": [
      "<class 'pandas.core.frame.DataFrame'>\n",
      "RangeIndex: 12330 entries, 0 to 12329\n",
      "Data columns (total 18 columns):\n",
      "Administrative             12330 non-null int64\n",
      "Administrative_Duration    12330 non-null float64\n",
      "Informational              12330 non-null int64\n",
      "Informational_Duration     12330 non-null float64\n",
      "ProductRelated             12330 non-null int64\n",
      "ProductRelated_Duration    12330 non-null float64\n",
      "BounceRates                12330 non-null float64\n",
      "ExitRates                  12330 non-null float64\n",
      "PageValues                 12330 non-null float64\n",
      "SpecialDay                 12330 non-null float64\n",
      "Month                      12330 non-null object\n",
      "OperatingSystems           12330 non-null int64\n",
      "Browser                    12330 non-null int64\n",
      "Region                     12330 non-null int64\n",
      "TrafficType                12330 non-null int64\n",
      "VisitorType                12330 non-null object\n",
      "Weekend                    12330 non-null bool\n",
      "Revenue                    12330 non-null bool\n",
      "dtypes: bool(2), float64(7), int64(7), object(2)\n",
      "memory usage: 1.5+ MB\n"
     ]
    },
    {
     "data": {
      "text/plain": [
       "None"
      ]
     },
     "metadata": {},
     "output_type": "display_data"
    },
    {
     "data": {
      "text/html": [
       "<div>\n",
       "<style scoped>\n",
       "    .dataframe tbody tr th:only-of-type {\n",
       "        vertical-align: middle;\n",
       "    }\n",
       "\n",
       "    .dataframe tbody tr th {\n",
       "        vertical-align: top;\n",
       "    }\n",
       "\n",
       "    .dataframe thead th {\n",
       "        text-align: right;\n",
       "    }\n",
       "</style>\n",
       "<table border=\"1\" class=\"dataframe\">\n",
       "  <thead>\n",
       "    <tr style=\"text-align: right;\">\n",
       "      <th></th>\n",
       "      <th>Administrative</th>\n",
       "      <th>Administrative_Duration</th>\n",
       "      <th>Informational</th>\n",
       "      <th>Informational_Duration</th>\n",
       "      <th>ProductRelated</th>\n",
       "      <th>ProductRelated_Duration</th>\n",
       "      <th>BounceRates</th>\n",
       "      <th>ExitRates</th>\n",
       "      <th>PageValues</th>\n",
       "      <th>SpecialDay</th>\n",
       "      <th>OperatingSystems</th>\n",
       "      <th>Browser</th>\n",
       "      <th>Region</th>\n",
       "      <th>TrafficType</th>\n",
       "    </tr>\n",
       "  </thead>\n",
       "  <tbody>\n",
       "    <tr>\n",
       "      <th>count</th>\n",
       "      <td>12330.000000</td>\n",
       "      <td>12330.000000</td>\n",
       "      <td>12330.000000</td>\n",
       "      <td>12330.000000</td>\n",
       "      <td>12330.000000</td>\n",
       "      <td>12330.000000</td>\n",
       "      <td>12330.000000</td>\n",
       "      <td>12330.000000</td>\n",
       "      <td>12330.000000</td>\n",
       "      <td>12330.000000</td>\n",
       "      <td>12330.000000</td>\n",
       "      <td>12330.000000</td>\n",
       "      <td>12330.000000</td>\n",
       "      <td>12330.000000</td>\n",
       "    </tr>\n",
       "    <tr>\n",
       "      <th>mean</th>\n",
       "      <td>2.315166</td>\n",
       "      <td>80.818611</td>\n",
       "      <td>0.503569</td>\n",
       "      <td>34.472398</td>\n",
       "      <td>31.731468</td>\n",
       "      <td>1194.746220</td>\n",
       "      <td>0.022191</td>\n",
       "      <td>0.043073</td>\n",
       "      <td>5.889258</td>\n",
       "      <td>0.061427</td>\n",
       "      <td>2.124006</td>\n",
       "      <td>2.357097</td>\n",
       "      <td>3.147364</td>\n",
       "      <td>4.069586</td>\n",
       "    </tr>\n",
       "    <tr>\n",
       "      <th>std</th>\n",
       "      <td>3.321784</td>\n",
       "      <td>176.779107</td>\n",
       "      <td>1.270156</td>\n",
       "      <td>140.749294</td>\n",
       "      <td>44.475503</td>\n",
       "      <td>1913.669288</td>\n",
       "      <td>0.048488</td>\n",
       "      <td>0.048597</td>\n",
       "      <td>18.568437</td>\n",
       "      <td>0.198917</td>\n",
       "      <td>0.911325</td>\n",
       "      <td>1.717277</td>\n",
       "      <td>2.401591</td>\n",
       "      <td>4.025169</td>\n",
       "    </tr>\n",
       "    <tr>\n",
       "      <th>min</th>\n",
       "      <td>0.000000</td>\n",
       "      <td>0.000000</td>\n",
       "      <td>0.000000</td>\n",
       "      <td>0.000000</td>\n",
       "      <td>0.000000</td>\n",
       "      <td>0.000000</td>\n",
       "      <td>0.000000</td>\n",
       "      <td>0.000000</td>\n",
       "      <td>0.000000</td>\n",
       "      <td>0.000000</td>\n",
       "      <td>1.000000</td>\n",
       "      <td>1.000000</td>\n",
       "      <td>1.000000</td>\n",
       "      <td>1.000000</td>\n",
       "    </tr>\n",
       "    <tr>\n",
       "      <th>25%</th>\n",
       "      <td>0.000000</td>\n",
       "      <td>0.000000</td>\n",
       "      <td>0.000000</td>\n",
       "      <td>0.000000</td>\n",
       "      <td>7.000000</td>\n",
       "      <td>184.137500</td>\n",
       "      <td>0.000000</td>\n",
       "      <td>0.014286</td>\n",
       "      <td>0.000000</td>\n",
       "      <td>0.000000</td>\n",
       "      <td>2.000000</td>\n",
       "      <td>2.000000</td>\n",
       "      <td>1.000000</td>\n",
       "      <td>2.000000</td>\n",
       "    </tr>\n",
       "    <tr>\n",
       "      <th>50%</th>\n",
       "      <td>1.000000</td>\n",
       "      <td>7.500000</td>\n",
       "      <td>0.000000</td>\n",
       "      <td>0.000000</td>\n",
       "      <td>18.000000</td>\n",
       "      <td>598.936905</td>\n",
       "      <td>0.003112</td>\n",
       "      <td>0.025156</td>\n",
       "      <td>0.000000</td>\n",
       "      <td>0.000000</td>\n",
       "      <td>2.000000</td>\n",
       "      <td>2.000000</td>\n",
       "      <td>3.000000</td>\n",
       "      <td>2.000000</td>\n",
       "    </tr>\n",
       "    <tr>\n",
       "      <th>75%</th>\n",
       "      <td>4.000000</td>\n",
       "      <td>93.256250</td>\n",
       "      <td>0.000000</td>\n",
       "      <td>0.000000</td>\n",
       "      <td>38.000000</td>\n",
       "      <td>1464.157213</td>\n",
       "      <td>0.016813</td>\n",
       "      <td>0.050000</td>\n",
       "      <td>0.000000</td>\n",
       "      <td>0.000000</td>\n",
       "      <td>3.000000</td>\n",
       "      <td>2.000000</td>\n",
       "      <td>4.000000</td>\n",
       "      <td>4.000000</td>\n",
       "    </tr>\n",
       "    <tr>\n",
       "      <th>max</th>\n",
       "      <td>27.000000</td>\n",
       "      <td>3398.750000</td>\n",
       "      <td>24.000000</td>\n",
       "      <td>2549.375000</td>\n",
       "      <td>705.000000</td>\n",
       "      <td>63973.522230</td>\n",
       "      <td>0.200000</td>\n",
       "      <td>0.200000</td>\n",
       "      <td>361.763742</td>\n",
       "      <td>1.000000</td>\n",
       "      <td>8.000000</td>\n",
       "      <td>13.000000</td>\n",
       "      <td>9.000000</td>\n",
       "      <td>20.000000</td>\n",
       "    </tr>\n",
       "  </tbody>\n",
       "</table>\n",
       "</div>"
      ],
      "text/plain": [
       "       Administrative  Administrative_Duration  Informational  \\\n",
       "count    12330.000000             12330.000000   12330.000000   \n",
       "mean         2.315166                80.818611       0.503569   \n",
       "std          3.321784               176.779107       1.270156   \n",
       "min          0.000000                 0.000000       0.000000   \n",
       "25%          0.000000                 0.000000       0.000000   \n",
       "50%          1.000000                 7.500000       0.000000   \n",
       "75%          4.000000                93.256250       0.000000   \n",
       "max         27.000000              3398.750000      24.000000   \n",
       "\n",
       "       Informational_Duration  ProductRelated  ProductRelated_Duration  \\\n",
       "count            12330.000000    12330.000000             12330.000000   \n",
       "mean                34.472398       31.731468              1194.746220   \n",
       "std                140.749294       44.475503              1913.669288   \n",
       "min                  0.000000        0.000000                 0.000000   \n",
       "25%                  0.000000        7.000000               184.137500   \n",
       "50%                  0.000000       18.000000               598.936905   \n",
       "75%                  0.000000       38.000000              1464.157213   \n",
       "max               2549.375000      705.000000             63973.522230   \n",
       "\n",
       "        BounceRates     ExitRates    PageValues    SpecialDay  \\\n",
       "count  12330.000000  12330.000000  12330.000000  12330.000000   \n",
       "mean       0.022191      0.043073      5.889258      0.061427   \n",
       "std        0.048488      0.048597     18.568437      0.198917   \n",
       "min        0.000000      0.000000      0.000000      0.000000   \n",
       "25%        0.000000      0.014286      0.000000      0.000000   \n",
       "50%        0.003112      0.025156      0.000000      0.000000   \n",
       "75%        0.016813      0.050000      0.000000      0.000000   \n",
       "max        0.200000      0.200000    361.763742      1.000000   \n",
       "\n",
       "       OperatingSystems       Browser        Region   TrafficType  \n",
       "count      12330.000000  12330.000000  12330.000000  12330.000000  \n",
       "mean           2.124006      2.357097      3.147364      4.069586  \n",
       "std            0.911325      1.717277      2.401591      4.025169  \n",
       "min            1.000000      1.000000      1.000000      1.000000  \n",
       "25%            2.000000      2.000000      1.000000      2.000000  \n",
       "50%            2.000000      2.000000      3.000000      2.000000  \n",
       "75%            3.000000      2.000000      4.000000      4.000000  \n",
       "max            8.000000     13.000000      9.000000     20.000000  "
      ]
     },
     "metadata": {},
     "output_type": "display_data"
    },
    {
     "data": {
      "text/html": [
       "<div>\n",
       "<style scoped>\n",
       "    .dataframe tbody tr th:only-of-type {\n",
       "        vertical-align: middle;\n",
       "    }\n",
       "\n",
       "    .dataframe tbody tr th {\n",
       "        vertical-align: top;\n",
       "    }\n",
       "\n",
       "    .dataframe thead th {\n",
       "        text-align: right;\n",
       "    }\n",
       "</style>\n",
       "<table border=\"1\" class=\"dataframe\">\n",
       "  <thead>\n",
       "    <tr style=\"text-align: right;\">\n",
       "      <th></th>\n",
       "      <th>Administrative</th>\n",
       "      <th>Administrative_Duration</th>\n",
       "      <th>Informational</th>\n",
       "      <th>Informational_Duration</th>\n",
       "      <th>ProductRelated</th>\n",
       "      <th>ProductRelated_Duration</th>\n",
       "      <th>BounceRates</th>\n",
       "      <th>ExitRates</th>\n",
       "      <th>PageValues</th>\n",
       "      <th>SpecialDay</th>\n",
       "      <th>OperatingSystems</th>\n",
       "      <th>Browser</th>\n",
       "      <th>Region</th>\n",
       "      <th>TrafficType</th>\n",
       "    </tr>\n",
       "  </thead>\n",
       "  <tbody>\n",
       "    <tr>\n",
       "      <th>count</th>\n",
       "      <td>12330.000000</td>\n",
       "      <td>12330.000000</td>\n",
       "      <td>12330.000000</td>\n",
       "      <td>12330.000000</td>\n",
       "      <td>12330.000000</td>\n",
       "      <td>12330.000000</td>\n",
       "      <td>12330.000000</td>\n",
       "      <td>12330.000000</td>\n",
       "      <td>12330.000000</td>\n",
       "      <td>12330.000000</td>\n",
       "      <td>12330.000000</td>\n",
       "      <td>12330.000000</td>\n",
       "      <td>12330.000000</td>\n",
       "      <td>12330.000000</td>\n",
       "    </tr>\n",
       "    <tr>\n",
       "      <th>mean</th>\n",
       "      <td>2.315166</td>\n",
       "      <td>80.818611</td>\n",
       "      <td>0.503569</td>\n",
       "      <td>34.472398</td>\n",
       "      <td>31.731468</td>\n",
       "      <td>1194.746220</td>\n",
       "      <td>0.022191</td>\n",
       "      <td>0.043073</td>\n",
       "      <td>5.889258</td>\n",
       "      <td>0.061427</td>\n",
       "      <td>2.124006</td>\n",
       "      <td>2.357097</td>\n",
       "      <td>3.147364</td>\n",
       "      <td>4.069586</td>\n",
       "    </tr>\n",
       "    <tr>\n",
       "      <th>std</th>\n",
       "      <td>3.321784</td>\n",
       "      <td>176.779107</td>\n",
       "      <td>1.270156</td>\n",
       "      <td>140.749294</td>\n",
       "      <td>44.475503</td>\n",
       "      <td>1913.669288</td>\n",
       "      <td>0.048488</td>\n",
       "      <td>0.048597</td>\n",
       "      <td>18.568437</td>\n",
       "      <td>0.198917</td>\n",
       "      <td>0.911325</td>\n",
       "      <td>1.717277</td>\n",
       "      <td>2.401591</td>\n",
       "      <td>4.025169</td>\n",
       "    </tr>\n",
       "    <tr>\n",
       "      <th>min</th>\n",
       "      <td>0.000000</td>\n",
       "      <td>0.000000</td>\n",
       "      <td>0.000000</td>\n",
       "      <td>0.000000</td>\n",
       "      <td>0.000000</td>\n",
       "      <td>0.000000</td>\n",
       "      <td>0.000000</td>\n",
       "      <td>0.000000</td>\n",
       "      <td>0.000000</td>\n",
       "      <td>0.000000</td>\n",
       "      <td>1.000000</td>\n",
       "      <td>1.000000</td>\n",
       "      <td>1.000000</td>\n",
       "      <td>1.000000</td>\n",
       "    </tr>\n",
       "    <tr>\n",
       "      <th>25%</th>\n",
       "      <td>0.000000</td>\n",
       "      <td>0.000000</td>\n",
       "      <td>0.000000</td>\n",
       "      <td>0.000000</td>\n",
       "      <td>7.000000</td>\n",
       "      <td>184.137500</td>\n",
       "      <td>0.000000</td>\n",
       "      <td>0.014286</td>\n",
       "      <td>0.000000</td>\n",
       "      <td>0.000000</td>\n",
       "      <td>2.000000</td>\n",
       "      <td>2.000000</td>\n",
       "      <td>1.000000</td>\n",
       "      <td>2.000000</td>\n",
       "    </tr>\n",
       "    <tr>\n",
       "      <th>50%</th>\n",
       "      <td>1.000000</td>\n",
       "      <td>7.500000</td>\n",
       "      <td>0.000000</td>\n",
       "      <td>0.000000</td>\n",
       "      <td>18.000000</td>\n",
       "      <td>598.936905</td>\n",
       "      <td>0.003112</td>\n",
       "      <td>0.025156</td>\n",
       "      <td>0.000000</td>\n",
       "      <td>0.000000</td>\n",
       "      <td>2.000000</td>\n",
       "      <td>2.000000</td>\n",
       "      <td>3.000000</td>\n",
       "      <td>2.000000</td>\n",
       "    </tr>\n",
       "    <tr>\n",
       "      <th>75%</th>\n",
       "      <td>4.000000</td>\n",
       "      <td>93.256250</td>\n",
       "      <td>0.000000</td>\n",
       "      <td>0.000000</td>\n",
       "      <td>38.000000</td>\n",
       "      <td>1464.157213</td>\n",
       "      <td>0.016813</td>\n",
       "      <td>0.050000</td>\n",
       "      <td>0.000000</td>\n",
       "      <td>0.000000</td>\n",
       "      <td>3.000000</td>\n",
       "      <td>2.000000</td>\n",
       "      <td>4.000000</td>\n",
       "      <td>4.000000</td>\n",
       "    </tr>\n",
       "    <tr>\n",
       "      <th>max</th>\n",
       "      <td>27.000000</td>\n",
       "      <td>3398.750000</td>\n",
       "      <td>24.000000</td>\n",
       "      <td>2549.375000</td>\n",
       "      <td>705.000000</td>\n",
       "      <td>63973.522230</td>\n",
       "      <td>0.200000</td>\n",
       "      <td>0.200000</td>\n",
       "      <td>361.763742</td>\n",
       "      <td>1.000000</td>\n",
       "      <td>8.000000</td>\n",
       "      <td>13.000000</td>\n",
       "      <td>9.000000</td>\n",
       "      <td>20.000000</td>\n",
       "    </tr>\n",
       "  </tbody>\n",
       "</table>\n",
       "</div>"
      ],
      "text/plain": [
       "       Administrative  Administrative_Duration  Informational  \\\n",
       "count    12330.000000             12330.000000   12330.000000   \n",
       "mean         2.315166                80.818611       0.503569   \n",
       "std          3.321784               176.779107       1.270156   \n",
       "min          0.000000                 0.000000       0.000000   \n",
       "25%          0.000000                 0.000000       0.000000   \n",
       "50%          1.000000                 7.500000       0.000000   \n",
       "75%          4.000000                93.256250       0.000000   \n",
       "max         27.000000              3398.750000      24.000000   \n",
       "\n",
       "       Informational_Duration  ProductRelated  ProductRelated_Duration  \\\n",
       "count            12330.000000    12330.000000             12330.000000   \n",
       "mean                34.472398       31.731468              1194.746220   \n",
       "std                140.749294       44.475503              1913.669288   \n",
       "min                  0.000000        0.000000                 0.000000   \n",
       "25%                  0.000000        7.000000               184.137500   \n",
       "50%                  0.000000       18.000000               598.936905   \n",
       "75%                  0.000000       38.000000              1464.157213   \n",
       "max               2549.375000      705.000000             63973.522230   \n",
       "\n",
       "        BounceRates     ExitRates    PageValues    SpecialDay  \\\n",
       "count  12330.000000  12330.000000  12330.000000  12330.000000   \n",
       "mean       0.022191      0.043073      5.889258      0.061427   \n",
       "std        0.048488      0.048597     18.568437      0.198917   \n",
       "min        0.000000      0.000000      0.000000      0.000000   \n",
       "25%        0.000000      0.014286      0.000000      0.000000   \n",
       "50%        0.003112      0.025156      0.000000      0.000000   \n",
       "75%        0.016813      0.050000      0.000000      0.000000   \n",
       "max        0.200000      0.200000    361.763742      1.000000   \n",
       "\n",
       "       OperatingSystems       Browser        Region   TrafficType  \n",
       "count      12330.000000  12330.000000  12330.000000  12330.000000  \n",
       "mean           2.124006      2.357097      3.147364      4.069586  \n",
       "std            0.911325      1.717277      2.401591      4.025169  \n",
       "min            1.000000      1.000000      1.000000      1.000000  \n",
       "25%            2.000000      2.000000      1.000000      2.000000  \n",
       "50%            2.000000      2.000000      3.000000      2.000000  \n",
       "75%            3.000000      2.000000      4.000000      4.000000  \n",
       "max            8.000000     13.000000      9.000000     20.000000  "
      ]
     },
     "metadata": {},
     "output_type": "display_data"
    }
   ],
   "source": [
    "# Investigate the datatypes and descriptive statistics of the dataset\n",
    "display(df_base.info())\n",
    "display(df_base.describe())\n",
    "display(df_base.describe())"
   ]
  },
  {
   "cell_type": "markdown",
   "metadata": {},
   "source": [
    "# 2. Adjust the Object & Boolean Data Types for Modeling  <a name=\"part1.2\"></a>"
   ]
  },
  {
   "cell_type": "code",
   "execution_count": 62,
   "metadata": {},
   "outputs": [],
   "source": [
    "# Encode month names to numerical representations\n",
    "def month_func(month) :\n",
    "    if month == 'Jan':\n",
    "        return int(1)\n",
    "    elif month == 'Feb':\n",
    "        return int(2)\n",
    "    elif month == 'Mar':\n",
    "        return int(3)\n",
    "    elif month == 'Apr':\n",
    "        return int(4)\n",
    "    elif month == 'May':\n",
    "        return int(5)\n",
    "    elif month == 'June':\n",
    "        return int(6)\n",
    "    elif month == 'Jul':\n",
    "        return int(7)\n",
    "    elif month == 'Aug':\n",
    "        return int(8)\n",
    "    elif month == 'Sep':\n",
    "        return int(9)\n",
    "    elif month == 'Oct':\n",
    "        return int(10)\n",
    "    elif month == 'Nov':\n",
    "        return int(11)\n",
    "    elif month == 'Dec':\n",
    "        return int(12)\n",
    "\n",
    "df_base['Month'] = df_base['Month'].apply(month_func)"
   ]
  },
  {
   "cell_type": "code",
   "execution_count": 63,
   "metadata": {},
   "outputs": [],
   "source": [
    "# Encode Categorical Features (VisitorType, Weekend) & Target (Revenue)\n",
    "enc = LabelEncoder()\n",
    "\n",
    "df_base['VisitorType'] = enc.fit_transform(df_base['VisitorType'])\n",
    "df_base['Weekend'] = enc.fit_transform(df_base['Weekend'])\n",
    "df_base['Revenue'] = enc.fit_transform(df_base['Revenue'])"
   ]
  },
  {
   "cell_type": "markdown",
   "metadata": {},
   "source": [
    "# 3. Split and Run the Preliminary Models with all Features  <a name=\"part1.3\"></a>"
   ]
  },
  {
   "cell_type": "code",
   "execution_count": 64,
   "metadata": {},
   "outputs": [],
   "source": [
    "# Specify features (X) and target (Y) in dataset\n",
    "X,y = df_base.iloc[:,:-1],df_base.iloc[:,-1]"
   ]
  },
  {
   "cell_type": "code",
   "execution_count": 65,
   "metadata": {},
   "outputs": [],
   "source": [
    "# Create train test split for X and y\n",
    "X_train, X_test, y_train, y_test = train_test_split(X, y,test_size=0.3,random_state=500) "
   ]
  },
  {
   "cell_type": "markdown",
   "metadata": {},
   "source": [
    "### 3.1 Naive Bayes Model (NB)\n",
    ">   <b> F1 Score: </b> .86\n",
    "<br><b> AUC: </b> .85\n",
    "<br><b> Next Steps: </b> Additional parameter tuning"
   ]
  },
  {
   "cell_type": "markdown",
   "metadata": {},
   "source": [
    "#### Import packages"
   ]
  },
  {
   "cell_type": "code",
   "execution_count": 66,
   "metadata": {},
   "outputs": [],
   "source": [
    "#Import Gaussian Naive Bayes model\n",
    "from sklearn.naive_bayes import GaussianNB"
   ]
  },
  {
   "cell_type": "markdown",
   "metadata": {},
   "source": [
    "#### Specify Model"
   ]
  },
  {
   "cell_type": "code",
   "execution_count": 67,
   "metadata": {},
   "outputs": [],
   "source": [
    "#Import Gaussian Naive Bayes model\n",
    "from sklearn.naive_bayes import GaussianNB\n",
    "\n",
    "#Create a Gaussian Classifier\n",
    "gnb = GaussianNB()"
   ]
  },
  {
   "cell_type": "markdown",
   "metadata": {},
   "source": [
    "#### Generate Test Data, Build the Models & Assess the Model"
   ]
  },
  {
   "cell_type": "code",
   "execution_count": 68,
   "metadata": {},
   "outputs": [
    {
     "name": "stdout",
     "output_type": "stream",
     "text": [
      "y Accuracy: 0.8572587185725872\n",
      "\n",
      "              precision    recall  f1-score   support\n",
      "\n",
      "           0       0.92      0.91      0.92      3158\n",
      "           1       0.51      0.55      0.53       541\n",
      "\n",
      "    accuracy                           0.86      3699\n",
      "   macro avg       0.72      0.73      0.72      3699\n",
      "weighted avg       0.86      0.86      0.86      3699\n",
      "\n"
     ]
    },
    {
     "data": {
      "image/png": "[encoded data removed]",
      "text/plain": [
       "<Figure size 432x288 with 1 Axes>"
      ]
     },
     "metadata": {
      "needs_background": "light"
     },
     "output_type": "display_data"
    },
    {
     "name": "stdout",
     "output_type": "stream",
     "text": [
      "\n"
     ]
    },
    {
     "data": {
      "text/plain": [
       "Text(0.5, 257.44, 'Predicted label')"
      ]
     },
     "execution_count": 68,
     "metadata": {},
     "output_type": "execute_result"
    },
    {
     "data": {
      "image/png": "[encoded data removed]",
      "text/plain": [
       "<Figure size 432x288 with 2 Axes>"
      ]
     },
     "metadata": {
      "needs_background": "light"
     },
     "output_type": "display_data"
    }
   ],
   "source": [
    "#Train the model using the training sets - for y (Sale)\n",
    "gnb.fit(X_train, y_train)\n",
    "\n",
    "#Predict the response for test dataset for y2\n",
    "y_NB_pred = gnb.predict(X_test)\n",
    "\n",
    "# Model Accuracy, how often is the classifier correct?\n",
    "# Accuracy for y2\n",
    "print(\"y Accuracy:\",metrics.accuracy_score(y_test, y_NB_pred))\n",
    "print(\"\")\n",
    "\n",
    "#Can use classification report to assess model adequacy, too\n",
    "class_names=[0,1] # name  of classes\n",
    "print(metrics.classification_report(y_test, y_NB_pred, labels=class_names))\n",
    "\n",
    "#AUC for y\n",
    "y_NB_pred_proba = gnb.predict_proba(X_test)[::,1]\n",
    "fpr, tpr, _ = metrics.roc_curve(y_test,  y_NB_pred_proba)\n",
    "auc = metrics.roc_auc_score(y_test, y_NB_pred_proba)\n",
    "plt.plot(fpr,tpr,label=\"auc=\"+str(auc))\n",
    "plt.legend(loc=4)\n",
    "plt.show()\n",
    "print(\"\")\n",
    "\n",
    "#Print Confusion Matrix\n",
    "cnf_matrix = metrics.confusion_matrix(y_test, y_NB_pred)\n",
    "cnf_matrix\n",
    "class_names=[0,1] # name  of classes\n",
    "fig, ax = plt.subplots()\n",
    "tick_marks = np.arange(len(class_names))\n",
    "plt.xticks(tick_marks, class_names)\n",
    "plt.yticks(tick_marks, class_names)\n",
    "# create heatmap\n",
    "sns.heatmap(pd.DataFrame(cnf_matrix), annot=True, cmap=\"YlGnBu\" ,fmt='g')\n",
    "ax.xaxis.set_label_position(\"top\")\n",
    "plt.tight_layout()\n",
    "plt.title('Confusion matrix', y=1.1)\n",
    "plt.ylabel('Actual label')\n",
    "plt.xlabel('Predicted label')\n"
   ]
  },
  {
   "cell_type": "markdown",
   "metadata": {},
   "source": [
    "##### Conclusion - With F1 score of .86 the Naive Bayes model is superior to the base model which had a F1 score of .71. However, there is still room for improvement."
   ]
  },
  {
   "cell_type": "markdown",
   "metadata": {},
   "source": [
    "### 3.2 Decision Tree Model (DT)\n",
    ">   <b> F1 Score: </b> .87\n",
    "<br><b> AUC: </b> .76\n",
    "<br><b> Next Steps: </b> Additional parameter tuning"
   ]
  },
  {
   "cell_type": "markdown",
   "metadata": {},
   "source": [
    "#### Specify the Model"
   ]
  },
  {
   "cell_type": "code",
   "execution_count": 69,
   "metadata": {},
   "outputs": [],
   "source": [
    "# Load libraries\n",
    "import pandas as pd\n",
    "from sklearn.tree import DecisionTreeClassifier # Import Decision Tree Classifier\n",
    "from sklearn.model_selection import train_test_split # Import train_test_split function\n",
    "from sklearn import metrics #Import scikit-learn metrics module for accuracy calculation"
   ]
  },
  {
   "cell_type": "markdown",
   "metadata": {},
   "source": [
    "#### Build the Model"
   ]
  },
  {
   "cell_type": "code",
   "execution_count": 70,
   "metadata": {},
   "outputs": [],
   "source": [
    "# Create Decision Tree classifer object\n",
    "clf = DecisionTreeClassifier()\n",
    "\n",
    "# Train Decision Tree Classifer\n",
    "clf = clf.fit(X_train,y_train)\n",
    "\n",
    "#Predict the response for test dataset\n",
    "y_DT_pred = clf.predict(X_test)"
   ]
  },
  {
   "cell_type": "code",
   "execution_count": 71,
   "metadata": {},
   "outputs": [
    {
     "name": "stdout",
     "output_type": "stream",
     "text": [
      "Accuracy: 0.8659097053257637\n"
     ]
    }
   ],
   "source": [
    "# Model Accuracy, how often is the classifier correct?\n",
    "print(\"Accuracy:\",metrics.accuracy_score(y_test, y_DT_pred))"
   ]
  },
  {
   "cell_type": "markdown",
   "metadata": {},
   "source": [
    "#### Assess the Model"
   ]
  },
  {
   "cell_type": "code",
   "execution_count": 72,
   "metadata": {},
   "outputs": [
    {
     "name": "stdout",
     "output_type": "stream",
     "text": [
      "              precision    recall  f1-score   support\n",
      "\n",
      "           0       0.93      0.91      0.92      3158\n",
      "           1       0.54      0.62      0.57       541\n",
      "\n",
      "    accuracy                           0.87      3699\n",
      "   macro avg       0.73      0.76      0.75      3699\n",
      "weighted avg       0.87      0.87      0.87      3699\n",
      "\n"
     ]
    }
   ],
   "source": [
    "# Evaluating the Classification Report\n",
    "print(metrics.classification_report(y_test, y_DT_pred))"
   ]
  },
  {
   "cell_type": "code",
   "execution_count": 73,
   "metadata": {},
   "outputs": [
    {
     "name": "stdout",
     "output_type": "stream",
     "text": [
      "[[2869  289]\n",
      " [ 207  334]]\n"
     ]
    }
   ],
   "source": [
    "# Evaluating the Confusion Matrix\n",
    "print(metrics.confusion_matrix(y_test, y_DT_pred))"
   ]
  },
  {
   "cell_type": "code",
   "execution_count": 74,
   "metadata": {},
   "outputs": [
    {
     "data": {
      "image/png": "[encoded data removed]",
      "text/plain": [
       "<Figure size 432x288 with 1 Axes>"
      ]
     },
     "metadata": {
      "needs_background": "light"
     },
     "output_type": "display_data"
    },
    {
     "name": "stdout",
     "output_type": "stream",
     "text": [
      "\n"
     ]
    },
    {
     "data": {
      "text/plain": [
       "Text(0.5, 257.44, 'Predicted label')"
      ]
     },
     "execution_count": 74,
     "metadata": {},
     "output_type": "execute_result"
    },
    {
     "data": {
      "image/png": "[encoded data removed]",
      "text/plain": [
       "<Figure size 432x288 with 2 Axes>"
      ]
     },
     "metadata": {
      "needs_background": "light"
     },
     "output_type": "display_data"
    }
   ],
   "source": [
    "#AUC for y\n",
    "y_DT_pred_proba = clf.predict_proba(X_test)[::,1]\n",
    "fpr_DT, tpr_DT, _ = metrics.roc_curve(y_test,  y_DT_pred_proba)\n",
    "auc_DT = metrics.roc_auc_score(y_test, y_DT_pred_proba)\n",
    "plt.plot(fpr_DT,tpr_DT,label=\"auc=\"+str(auc_DT))\n",
    "plt.legend(loc=4)\n",
    "plt.show()\n",
    "print(\"\")\n",
    "\n",
    "#Print Confusion Matrix\n",
    "cnf_matrix_DT = metrics.confusion_matrix(y_test, y_DT_pred)\n",
    "cnf_matrix_DT\n",
    "class_names=[0,1] # name  of classes\n",
    "fig, ax = plt.subplots()\n",
    "tick_marks = np.arange(len(class_names))\n",
    "plt.xticks(tick_marks, class_names)\n",
    "plt.yticks(tick_marks, class_names)\n",
    "# create heatmap\n",
    "sns.heatmap(pd.DataFrame(cnf_matrix_DT), annot=True, cmap=\"YlGnBu\" ,fmt='g')\n",
    "ax.xaxis.set_label_position(\"top\")\n",
    "plt.tight_layout()\n",
    "plt.title('Confusion matrix DT', y=1.1)\n",
    "plt.ylabel('Actual label')\n",
    "plt.xlabel('Predicted label')"
   ]
  },
  {
   "cell_type": "markdown",
   "metadata": {},
   "source": [
    "##### Conclusion - With F1 score of .87 the Decision Tree model is superior to the base model which had a F1 score of .71. However, there is still room for improvement."
   ]
  },
  {
   "cell_type": "markdown",
   "metadata": {},
   "source": [
    "#### Model Optimization "
   ]
  },
  {
   "cell_type": "markdown",
   "metadata": {},
   "source": [
    ">   <b> F1 Score: </b> .89\n",
    "<br><b> AUC: </b> .91"
   ]
  },
  {
   "cell_type": "code",
   "execution_count": 75,
   "metadata": {},
   "outputs": [],
   "source": [
    "# Trying to optimize Decision Tree Model by adding in the parameters \"entropy\" (information gain selection measure) and \"max depth=3\"\n",
    "# # Did this in order to reduce to complexity of the Decision Tree, in hopes that it will yield better results\n",
    "# Create Decision Tree classifer object\n",
    "clf2 = DecisionTreeClassifier(criterion = \"entropy\", max_depth=3)\n",
    "\n",
    "# Train Decision Tree Classifer\n",
    "clf2 = clf2.fit(X_train,y_train)\n",
    "\n",
    "#Predict the response for test dataset\n",
    "y_DT_pred2 = clf2.predict(X_test)"
   ]
  },
  {
   "cell_type": "code",
   "execution_count": 76,
   "metadata": {},
   "outputs": [
    {
     "name": "stdout",
     "output_type": "stream",
     "text": [
      "Accuracy: 0.8924033522573669\n"
     ]
    }
   ],
   "source": [
    "# Model Accuracy, how often is the classifier correct?\n",
    "print(\"Accuracy:\",metrics.accuracy_score(y_test, y_DT_pred2))"
   ]
  },
  {
   "cell_type": "code",
   "execution_count": 77,
   "metadata": {},
   "outputs": [
    {
     "name": "stdout",
     "output_type": "stream",
     "text": [
      "              precision    recall  f1-score   support\n",
      "\n",
      "           0       0.94      0.93      0.94      3158\n",
      "           1       0.62      0.67      0.65       541\n",
      "\n",
      "    accuracy                           0.89      3699\n",
      "   macro avg       0.78      0.80      0.79      3699\n",
      "weighted avg       0.90      0.89      0.89      3699\n",
      "\n"
     ]
    }
   ],
   "source": [
    "# Evaluating the Classification Report\n",
    "print(metrics.classification_report(y_test, y_DT_pred2))"
   ]
  },
  {
   "cell_type": "code",
   "execution_count": 78,
   "metadata": {},
   "outputs": [
    {
     "name": "stdout",
     "output_type": "stream",
     "text": [
      "[[2939  219]\n",
      " [ 179  362]]\n"
     ]
    },
    {
     "data": {
      "image/png": "[encoded data removed]",
      "text/plain": [
       "<Figure size 432x288 with 1 Axes>"
      ]
     },
     "metadata": {
      "needs_background": "light"
     },
     "output_type": "display_data"
    },
    {
     "name": "stdout",
     "output_type": "stream",
     "text": [
      "\n"
     ]
    },
    {
     "data": {
      "text/plain": [
       "Text(0.5, 257.44, 'Predicted label')"
      ]
     },
     "execution_count": 78,
     "metadata": {},
     "output_type": "execute_result"
    },
    {
     "data": {
      "image/png": "[encoded data removed]",
      "text/plain": [
       "<Figure size 432x288 with 2 Axes>"
      ]
     },
     "metadata": {
      "needs_background": "light"
     },
     "output_type": "display_data"
    }
   ],
   "source": [
    "# Evaluating the Confusion Matrix\n",
    "print(metrics.confusion_matrix(y_test, y_DT_pred2))\n",
    "\n",
    "#AUC for y\n",
    "y_DT_pred_proba2 = clf2.predict_proba(X_test)[::,1]\n",
    "fpr_DT2, tpr_DT2, _ = metrics.roc_curve(y_test,  y_DT_pred_proba2)\n",
    "auc_DT2 = metrics.roc_auc_score(y_test, y_DT_pred_proba2)\n",
    "plt.plot(fpr_DT2,tpr_DT2,label=\"auc=\"+str(auc_DT2))\n",
    "plt.legend(loc=4)\n",
    "plt.show()\n",
    "print(\"\")\n",
    "\n",
    "#Print Confusion Matrix\n",
    "cnf_matrix_DT2 = metrics.confusion_matrix(y_test, y_DT_pred2)\n",
    "cnf_matrix_DT2\n",
    "class_names=[0,1] # name  of classes\n",
    "fig, ax = plt.subplots()\n",
    "tick_marks = np.arange(len(class_names))\n",
    "plt.xticks(tick_marks, class_names)\n",
    "plt.yticks(tick_marks, class_names)\n",
    "# create heatmap\n",
    "sns.heatmap(pd.DataFrame(cnf_matrix_DT2), annot=True, cmap=\"YlGnBu\" ,fmt='g')\n",
    "ax.xaxis.set_label_position(\"top\")\n",
    "plt.tight_layout()\n",
    "plt.title('Confusion matrix DT 2', y=1.1)\n",
    "plt.ylabel('Actual label')\n",
    "plt.xlabel('Predicted label')"
   ]
  },
  {
   "cell_type": "markdown",
   "metadata": {},
   "source": [
    "##### Conclusion - Optimized Model yielded an F1 score of .89, which is superior to the base model (.71) and well as the pre-optimized Decision Tree Model (.87)"
   ]
  },
  {
   "cell_type": "markdown",
   "metadata": {},
   "source": [
    "### 3.3 Random Forest Model (RF)\n",
    ">   <b> F1 Score: </b> .90\n",
    "<br><b> AUC: </b> .93\n",
    "<br><b> Next Steps: </b> Additional parameter tuning"
   ]
  },
  {
   "cell_type": "markdown",
   "metadata": {},
   "source": [
    "#### Specify the Model"
   ]
  },
  {
   "cell_type": "code",
   "execution_count": 79,
   "metadata": {},
   "outputs": [],
   "source": [
    "# Building a Classifier\n",
    "#Import scikit-learn dataset library\n",
    "from sklearn import datasets"
   ]
  },
  {
   "cell_type": "markdown",
   "metadata": {},
   "source": [
    "#### Build Model"
   ]
  },
  {
   "cell_type": "code",
   "execution_count": 80,
   "metadata": {},
   "outputs": [],
   "source": [
    "#Import Random Forest Model\n",
    "from sklearn.ensemble import RandomForestClassifier\n",
    "\n",
    "#Create a Gaussian Classifier\n",
    "rfc = RandomForestClassifier(n_estimators=100)\n",
    "\n",
    "#Train the model using the training sets y_pred=clf.predict(X_test)\n",
    "rfc.fit(X_train,y_train)\n",
    "\n",
    "y_RF_pred = rfc.predict(X_test)"
   ]
  },
  {
   "cell_type": "code",
   "execution_count": 81,
   "metadata": {},
   "outputs": [
    {
     "name": "stdout",
     "output_type": "stream",
     "text": [
      "              precision    recall  f1-score   support\n",
      "\n",
      "           0       0.93      0.96      0.94      3158\n",
      "           1       0.70      0.57      0.63       541\n",
      "\n",
      "    accuracy                           0.90      3699\n",
      "   macro avg       0.81      0.76      0.79      3699\n",
      "weighted avg       0.89      0.90      0.90      3699\n",
      "\n"
     ]
    }
   ],
   "source": [
    "# Evaluation of the Classification Report\n",
    "from sklearn.metrics import classification_report, confusion_matrix\n",
    "print(classification_report(y_test, y_RF_pred))"
   ]
  },
  {
   "cell_type": "code",
   "execution_count": 82,
   "metadata": {},
   "outputs": [
    {
     "name": "stdout",
     "output_type": "stream",
     "text": [
      "[[3023  135]\n",
      " [ 232  309]]\n"
     ]
    },
    {
     "data": {
      "image/png": "[encoded data removed]",
      "text/plain": [
       "<Figure size 432x288 with 1 Axes>"
      ]
     },
     "metadata": {
      "needs_background": "light"
     },
     "output_type": "display_data"
    },
    {
     "name": "stdout",
     "output_type": "stream",
     "text": [
      "\n"
     ]
    },
    {
     "data": {
      "text/plain": [
       "Text(0.5, 257.44, 'Predicted label')"
      ]
     },
     "execution_count": 82,
     "metadata": {},
     "output_type": "execute_result"
    },
    {
     "data": {
      "image/png": "[encoded data removed]",
      "text/plain": [
       "<Figure size 432x288 with 2 Axes>"
      ]
     },
     "metadata": {
      "needs_background": "light"
     },
     "output_type": "display_data"
    }
   ],
   "source": [
    "# Evaluation of the Confusion Matrix\n",
    "print(confusion_matrix(y_test, y_RF_pred))\n",
    "\n",
    "#AUC for y\n",
    "y_RF_pred_proba = rfc.predict_proba(X_test)[::,1]\n",
    "fpr_RF, tpr_RF, _ = metrics.roc_curve(y_test,  y_RF_pred_proba)\n",
    "auc_RF = metrics.roc_auc_score(y_test, y_RF_pred_proba)\n",
    "plt.plot(fpr_RF,tpr_RF,label=\"auc=\"+str(auc_RF))\n",
    "plt.legend(loc=4)\n",
    "plt.show()\n",
    "print(\"\")\n",
    "\n",
    "#Print Confusion Matrix\n",
    "cnf_matrix_RF = metrics.confusion_matrix(y_test, y_RF_pred)\n",
    "cnf_matrix_RF\n",
    "class_names=[0,1] # name  of classes\n",
    "fig, ax = plt.subplots()\n",
    "tick_marks = np.arange(len(class_names))\n",
    "plt.xticks(tick_marks, class_names)\n",
    "plt.yticks(tick_marks, class_names)\n",
    "# create heatmap\n",
    "sns.heatmap(pd.DataFrame(cnf_matrix_RF), annot=True, cmap=\"YlGnBu\" ,fmt='g')\n",
    "ax.xaxis.set_label_position(\"top\")\n",
    "plt.tight_layout()\n",
    "plt.title('Confusion matrix RF', y=1.1)\n",
    "plt.ylabel('Actual label')\n",
    "plt.xlabel('Predicted label')"
   ]
  },
  {
   "cell_type": "markdown",
   "metadata": {},
   "source": [
    "##### Conclusion - With an F1 score of .90 the Random Forest model is superior to the base model which had an F1 score of .71. However, there is still room for improvement."
   ]
  },
  {
   "cell_type": "markdown",
   "metadata": {},
   "source": [
    "### 3.4 Support Vector Machines (SVM) Classification Model (SVC)\n",
    ">   <b> F1 Score: </b> .79\n",
    "<br><b> AUC: </b> .79\n",
    "<br><b> Next Steps: </b> SVC ensemble classifiers "
   ]
  },
  {
   "cell_type": "markdown",
   "metadata": {},
   "source": [
    "#### Specify the Model"
   ]
  },
  {
   "cell_type": "code",
   "execution_count": 83,
   "metadata": {},
   "outputs": [],
   "source": [
    "# Specify the Model\n",
    "from sklearn import svm\n",
    "svc = svm.SVC(kernel='rbf',cache_size=7000,gamma= 'scale', C=1, probability =True, degree = 3) # gamma= 0.001 , kernel='poly', 'rbf',‘linear’"
   ]
  },
  {
   "cell_type": "markdown",
   "metadata": {},
   "source": [
    "#### Build/Assess the Model"
   ]
  },
  {
   "cell_type": "code",
   "execution_count": 84,
   "metadata": {},
   "outputs": [],
   "source": [
    "#Build the Model\n",
    "#Train the model using the training sets\n",
    "svc.fit(X_train, y_train)\n",
    "\n",
    "#Predict the response for test dataset\n",
    "y_pred_svc = svc.predict(X_test)"
   ]
  },
  {
   "cell_type": "code",
   "execution_count": 85,
   "metadata": {},
   "outputs": [
    {
     "name": "stdout",
     "output_type": "stream",
     "text": [
      "Accuracy_svc: 0.8553663152203298\n",
      "[[3158    0]\n",
      " [ 535    6]]\n"
     ]
    },
    {
     "data": {
      "image/png": "[encoded data removed]",
      "text/plain": [
       "<Figure size 432x288 with 1 Axes>"
      ]
     },
     "metadata": {
      "needs_background": "light"
     },
     "output_type": "display_data"
    },
    {
     "name": "stdout",
     "output_type": "stream",
     "text": [
      "\n",
      "              precision    recall  f1-score   support\n",
      "\n",
      "           0       0.86      1.00      0.92      3158\n",
      "           1       1.00      0.01      0.02       541\n",
      "\n",
      "    accuracy                           0.86      3699\n",
      "   macro avg       0.93      0.51      0.47      3699\n",
      "weighted avg       0.88      0.86      0.79      3699\n",
      "\n",
      "Accuracy_svc: 0.8553663152203298\n"
     ]
    },
    {
     "data": {
      "image/png": "[encoded data removed]",
      "text/plain": [
       "<Figure size 432x288 with 2 Axes>"
      ]
     },
     "metadata": {
      "needs_background": "light"
     },
     "output_type": "display_data"
    }
   ],
   "source": [
    "#Assess the Model\n",
    "print(\"Accuracy_svc:\",metrics.accuracy_score(y_test, y_pred_svc))\n",
    "cnf_matrix_svc = metrics.confusion_matrix(y_test, y_pred_svc)\n",
    "\n",
    "print(cnf_matrix_svc)\n",
    "\n",
    "\n",
    "#AUC for y1\n",
    "y_SVM_pred_proba = svc.predict_proba(X_test)[::,1]\n",
    "fpr_SVM, tpr_SVM, _ = metrics.roc_curve(y_test,  y_SVM_pred_proba)\n",
    "auc_SVM = metrics.roc_auc_score(y_test, y_SVM_pred_proba)\n",
    "plt.plot(fpr_SVM,tpr_SVM,label=\"auc=\"+str(auc_SVM))\n",
    "plt.legend(loc=4)\n",
    "plt.show()\n",
    "print(\"\")\n",
    "\n",
    "class_names_svc=[0,1] # name  of classes\n",
    "fig, ax = plt.subplots()\n",
    "tick_marks_svc = np.arange(len(class_names_svc))\n",
    "plt.xticks(tick_marks_svc, class_names_svc)\n",
    "plt.yticks(tick_marks_svc, class_names_svc)\n",
    "# create heatmap\n",
    "sns.heatmap(pd.DataFrame(cnf_matrix_svc), annot=True, cmap=\"YlGnBu\" ,fmt='g')\n",
    "ax.xaxis.set_label_position(\"top\")\n",
    "plt.tight_layout()\n",
    "plt.title('Confusion matrix svc', y=1.1)\n",
    "plt.ylabel('Actual label')\n",
    "plt.xlabel('Predicted label')\n",
    "\n",
    "print(classification_report(y_test, y_pred_svc))\n",
    "print(\"Accuracy_svc:\",metrics.accuracy_score(y_test, y_pred_svc))"
   ]
  },
  {
   "cell_type": "markdown",
   "metadata": {},
   "source": [
    "##### Conclusion - With an F1 score of .79 the SVM model is superior to the base model which had an F1 score of .71. However, there is still room for improvement."
   ]
  },
  {
   "cell_type": "markdown",
   "metadata": {},
   "source": [
    "### 3.5. XGBoost Model (XGB)\n",
    ">   <b> F1 Score: </b> .90\n",
    "<br><b> AUC: </b> .92\n",
    "<br><b> RMSE: </b> .32\n",
    "<br><b> Next Steps: </b> Additional parameter tuning\n"
   ]
  },
  {
   "cell_type": "markdown",
   "metadata": {},
   "source": [
    "#### Import Needed Packages"
   ]
  },
  {
   "cell_type": "code",
   "execution_count": 86,
   "metadata": {},
   "outputs": [],
   "source": [
    "#Import Needed Packages\n",
    "import xgboost as xgb\n",
    "from sklearn.metrics import mean_squared_error\n",
    "import pandas as pd\n",
    "import numpy as np"
   ]
  },
  {
   "cell_type": "markdown",
   "metadata": {},
   "source": [
    "#### Specify the Model"
   ]
  },
  {
   "cell_type": "code",
   "execution_count": 87,
   "metadata": {},
   "outputs": [],
   "source": [
    "#Instantiate an XGBoost Classifer Model - for y1 (No_Sale)\n",
    "XGB_class = xgb.XGBClassifier(objective ='reg:squarederror', colsample_bytree = 0.3, learning_rate = 0.1,\n",
    "                max_depth = 5, alpha = 10, n_estimators = 100)\n"
   ]
  },
  {
   "cell_type": "markdown",
   "metadata": {},
   "source": [
    "#### Generate Test Data, Build the Models & Assess the Models for y2 (Sale)"
   ]
  },
  {
   "cell_type": "code",
   "execution_count": 88,
   "metadata": {},
   "outputs": [
    {
     "name": "stdout",
     "output_type": "stream",
     "text": [
      "XGBoost's RMSE for y2 is: 0.311967\n",
      "XGB target range is: 1.000000\n",
      "XGBoost's Error Ratio for y2 is: 0.311967\n"
     ]
    }
   ],
   "source": [
    "#Put Data into structure for XGBoost- for y2 (Sale) \n",
    "data_dmatrix = xgb.DMatrix(data=X,label=y)\n",
    "\n",
    "#Train the model using the training sets for y1\n",
    "XGB_class.fit(X_train, y_train)\n",
    "\n",
    "#Predict the response for test dataset for y1\n",
    "y_XGB_pred = XGB_class.predict(X_test)\n",
    "\n",
    "#Calculate RMSE for y2\n",
    "rmse_XGB = np.sqrt(mean_squared_error(y_test, y_XGB_pred))\n",
    "print(\"XGBoost's RMSE for y2 is: %f\" % (rmse_XGB))\n",
    "\n",
    "#Create error ratio to evaluate results for y2\n",
    "target_range_XGB = y.max() - y.min()\n",
    "print(\"XGB target range is: %f\" % (target_range_XGB))\n",
    "error_ratio_XGB = rmse_XGB/target_range_XGB\n",
    "print(\"XGBoost's Error Ratio for y2 is: %f\" % (error_ratio_XGB))"
   ]
  },
  {
   "cell_type": "code",
   "execution_count": 89,
   "metadata": {},
   "outputs": [
    {
     "name": "stdout",
     "output_type": "stream",
     "text": [
      "y Accuracy: 0.902676399026764\n",
      "\n",
      "              precision    recall  f1-score   support\n",
      "\n",
      "           0       0.93      0.96      0.94      3158\n",
      "           1       0.70      0.58      0.64       541\n",
      "\n",
      "    accuracy                           0.90      3699\n",
      "   macro avg       0.82      0.77      0.79      3699\n",
      "weighted avg       0.90      0.90      0.90      3699\n",
      "\n"
     ]
    },
    {
     "data": {
      "image/png": "[encoded data removed]",
      "text/plain": [
       "<Figure size 432x288 with 1 Axes>"
      ]
     },
     "metadata": {
      "needs_background": "light"
     },
     "output_type": "display_data"
    },
    {
     "name": "stdout",
     "output_type": "stream",
     "text": [
      "\n"
     ]
    },
    {
     "data": {
      "text/plain": [
       "Text(0.5, 257.44, 'Predicted label')"
      ]
     },
     "execution_count": 89,
     "metadata": {},
     "output_type": "execute_result"
    },
    {
     "data": {
      "image/png": "[encoded data removed]",
      "text/plain": [
       "<Figure size 432x288 with 2 Axes>"
      ]
     },
     "metadata": {
      "needs_background": "light"
     },
     "output_type": "display_data"
    }
   ],
   "source": [
    "# Model Accuracy, how often is the classifier correct?\n",
    "# Accuracy for y2\n",
    "print(\"y Accuracy:\",metrics.accuracy_score(y_test, y_XGB_pred))\n",
    "print(\"\")\n",
    "\n",
    "\n",
    "#Can use classification report to assess model adequacy, too\n",
    "print(metrics.classification_report(y_test, y_XGB_pred, labels=class_names))\n",
    "\n",
    "#AUC for y1\n",
    "y_XGB_pred_proba = XGB_class.predict_proba(X_test)[::,1]\n",
    "fpr_XGB, tpr_XGB, _ = metrics.roc_curve(y_test,  y_XGB_pred_proba)\n",
    "auc_XGB = metrics.roc_auc_score(y_test, y_XGB_pred_proba)\n",
    "plt.plot(fpr_XGB,tpr_XGB,label=\"auc=\"+str(auc_XGB))\n",
    "plt.legend(loc=4)\n",
    "plt.show()\n",
    "print(\"\")\n",
    "\n",
    "#Print Confusion Matrix\n",
    "cnf_matrix_XGB = metrics.confusion_matrix(y_test, y_XGB_pred)\n",
    "cnf_matrix_XGB\n",
    "class_names=[0,1] # name  of classes\n",
    "fig, ax = plt.subplots()\n",
    "tick_marks = np.arange(len(class_names))\n",
    "plt.xticks(tick_marks, class_names)\n",
    "plt.yticks(tick_marks, class_names)\n",
    "# create heatmap\n",
    "sns.heatmap(pd.DataFrame(cnf_matrix_XGB), annot=True, cmap=\"YlGnBu\" ,fmt='g')\n",
    "ax.xaxis.set_label_position(\"top\")\n",
    "plt.tight_layout()\n",
    "plt.title('Confusion matrix XGB', y=1.1)\n",
    "plt.ylabel('Actual label')\n",
    "plt.xlabel('Predicted label')"
   ]
  },
  {
   "cell_type": "markdown",
   "metadata": {},
   "source": [
    "##### Conclusion - With an F1 score of .90 the XGBoost model is superior to the base model which had an F1 score of .71. However, there is still room for improvement."
   ]
  },
  {
   "cell_type": "markdown",
   "metadata": {},
   "source": [
    "### 3.6 Neural Network Model (NN)\n",
    ">   <b> F1 Score: </b> .87\n",
    "<br><b> AUC: </b> .88\n",
    "<br><b> Next Steps: </b> Additional parameter tuning"
   ]
  },
  {
   "cell_type": "markdown",
   "metadata": {},
   "source": [
    "#### Specify the Model"
   ]
  },
  {
   "cell_type": "code",
   "execution_count": 90,
   "metadata": {},
   "outputs": [],
   "source": [
    "# X_train, X_test, y1_Models_train, y1_Models_test, y2_Models_train, y2_Models_test\n",
    "\n",
    "# Import the model\n",
    "from sklearn.neural_network import MLPClassifier\n",
    "\n",
    "# Initializing the multilayer perceptron\n",
    "# mlp = MLPClassifier(hidden_layer_sizes = (3,1),solver='sgd',learning_rate_init= 0.01, max_iter=50)\n",
    "mlp= MLPClassifier(activation='logistic', alpha=0.0001, batch_size='auto', beta_1=0.9, \n",
    "beta_2=0.999, early_stopping=False, epsilon=1e-08,       \n",
    "hidden_layer_sizes=(10), learning_rate='adaptive',      \n",
    "learning_rate_init=0.01, max_iter=10, momentum=0.9,       \n",
    "nesterovs_momentum=True, power_t=0.5, random_state=1000,       \n",
    "shuffle=True, solver='adam', tol=0.0001, validation_fraction=0.1,       \n",
    "verbose=False, warm_start=True)"
   ]
  },
  {
   "cell_type": "markdown",
   "metadata": {},
   "source": [
    "#### Generate Test Data"
   ]
  },
  {
   "cell_type": "code",
   "execution_count": 91,
   "metadata": {},
   "outputs": [
    {
     "data": {
      "text/plain": [
       "MLPClassifier(activation='logistic', alpha=0.0001, batch_size='auto',\n",
       "              beta_1=0.9, beta_2=0.999, early_stopping=False, epsilon=1e-08,\n",
       "              hidden_layer_sizes=10, learning_rate='adaptive',\n",
       "              learning_rate_init=0.01, max_fun=15000, max_iter=10, momentum=0.9,\n",
       "              n_iter_no_change=10, nesterovs_momentum=True, power_t=0.5,\n",
       "              random_state=1000, shuffle=True, solver='adam', tol=0.0001,\n",
       "              validation_fraction=0.1, verbose=False, warm_start=True)"
      ]
     },
     "execution_count": 91,
     "metadata": {},
     "output_type": "execute_result"
    }
   ],
   "source": [
    "# Train the model\n",
    "mlp.fit(X_train, y_train)"
   ]
  },
  {
   "cell_type": "markdown",
   "metadata": {},
   "source": [
    "#### Build/Assess the Model"
   ]
  },
  {
   "cell_type": "code",
   "execution_count": 92,
   "metadata": {},
   "outputs": [],
   "source": [
    "#Build the Model\n",
    "y_pred_nn = mlp.predict(X_test)\n"
   ]
  },
  {
   "cell_type": "code",
   "execution_count": 93,
   "metadata": {},
   "outputs": [
    {
     "name": "stdout",
     "output_type": "stream",
     "text": [
      "MLP score is 0.8821303054879697\n",
      "Accuracy_nn: 0.8821303054879697\n",
      "[[3121   37]\n",
      " [ 399  142]]\n"
     ]
    },
    {
     "data": {
      "image/png": "[encoded data removed]",
      "text/plain": [
       "<Figure size 432x288 with 1 Axes>"
      ]
     },
     "metadata": {
      "needs_background": "light"
     },
     "output_type": "display_data"
    },
    {
     "name": "stdout",
     "output_type": "stream",
     "text": [
      "              precision    recall  f1-score   support\n",
      "\n",
      "           0       0.89      0.99      0.93      3158\n",
      "           1       0.79      0.26      0.39       541\n",
      "\n",
      "    accuracy                           0.88      3699\n",
      "   macro avg       0.84      0.63      0.66      3699\n",
      "weighted avg       0.87      0.88      0.86      3699\n",
      "\n",
      "Accuracy_svc: 0.8821303054879697\n"
     ]
    },
    {
     "data": {
      "image/png": "[encoded data removed]",
      "text/plain": [
       "<Figure size 432x288 with 2 Axes>"
      ]
     },
     "metadata": {
      "needs_background": "light"
     },
     "output_type": "display_data"
    }
   ],
   "source": [
    "##Assess the Model\n",
    "# Score takes a feature matrix X_test and the expected target values y_test. \n",
    "# Predictions for X_test are compared with y_test\n",
    "\n",
    "print(\"MLP score is\",mlp.score(X_test,y_test))\n",
    "\n",
    "# Accuracy for y NN\n",
    "#print(\"y Accuracy NN:\",metrics.accuracy_score(y_test, y_XGB_pred))\n",
    "#print(\"\")\n",
    "\n",
    "###4. Step 4: Assess the Model\n",
    "print(\"Accuracy_nn:\",metrics.accuracy_score(y_test, y_pred_nn))\n",
    "cnf_matrix_nn = metrics.confusion_matrix(y_test, y_pred_nn)\n",
    "\n",
    "print(cnf_matrix_nn)\n",
    "\n",
    "# Plot AOC\n",
    "y_pred_proba_nn = mlp.predict_proba(X_test)[::,1]\n",
    "fpr_nn, tpr_nn, _ = metrics.roc_curve(y_test,  y_pred_proba_nn)\n",
    "auc_nn = metrics.roc_auc_score(y_test, y_pred_proba_nn)\n",
    "plt.plot(fpr_nn,tpr_nn,label=\"data 1, auc=\"+str(auc_nn))\n",
    "plt.legend(loc=4)\n",
    "plt.show()\n",
    "\n",
    "\n",
    "class_names_nn=[0,1] # name  of classes\n",
    "fig, ax = plt.subplots()\n",
    "tick_marks_nn = np.arange(len(class_names_nn))\n",
    "plt.xticks(tick_marks_nn, class_names_nn)\n",
    "plt.yticks(tick_marks_nn, class_names_nn)\n",
    "# create heatmap\n",
    "sns.heatmap(pd.DataFrame(cnf_matrix_nn), annot=True, cmap=\"YlGnBu\" ,fmt='g')\n",
    "ax.xaxis.set_label_position(\"top\")\n",
    "plt.tight_layout()\n",
    "plt.title('Confusion matrix NN', y=1.1)\n",
    "plt.ylabel('Actual label')\n",
    "plt.xlabel('Predicted label')\n",
    "\n",
    "print(classification_report(y_test, y_pred_nn))\n",
    "print(\"Accuracy_svc:\",metrics.accuracy_score(y_test, y_pred_nn))\n",
    "\n",
    "#Plot AOC\n",
    "# y_pred_proba_nn = mlp.predict_proba(X_test)[::,1]\n",
    "# fpr_nn, tpr_nn, _ = metrics.roc_curve(y_test,  y_pred_proba_nn)\n",
    "# auc_nn = metrics.roc_auc_score(y_test, y_pred_proba_nn)\n",
    "# plt.plot(fpr_nn,tpr_nn,label=\"data 1, auc=\"+str(auc_nn))\n",
    "# plt.legend(loc=4)\n",
    "# plt.show()"
   ]
  },
  {
   "cell_type": "markdown",
   "metadata": {},
   "source": [
    "##### Conclusion - With an F1 score of .87 the NN model is superior to the base model which had an F1 score of .71. However, there is still room for improvement."
   ]
  },
  {
   "cell_type": "markdown",
   "metadata": {},
   "source": [
    "### 3.7 Logistic Regression Model"
   ]
  },
  {
   "cell_type": "markdown",
   "metadata": {},
   "source": [
    ">   <b> F1 Score: </b> .87\n",
    "<br><b> AUC: </b> .83\n",
    "<br><b> Next Steps: </b> Additional parameter tuning\n"
   ]
  },
  {
   "cell_type": "code",
   "execution_count": 94,
   "metadata": {},
   "outputs": [],
   "source": [
    "#Build the model\n",
    "# import the class\n",
    "from sklearn.linear_model import LogisticRegression\n",
    "\n",
    "# instantiate the model (using the default parameters)\n",
    "logreg = LogisticRegression()\n",
    "\n",
    "# fit the model with data\n",
    "logreg.fit(X_train,y_train)\n",
    "\n",
    "#\n",
    "y_LR_pred=logreg.predict(X_test)"
   ]
  },
  {
   "cell_type": "code",
   "execution_count": 95,
   "metadata": {},
   "outputs": [
    {
     "data": {
      "text/plain": [
       "array([[3079,   79],\n",
       "       [ 339,  202]], dtype=int64)"
      ]
     },
     "execution_count": 95,
     "metadata": {},
     "output_type": "execute_result"
    }
   ],
   "source": [
    "# import the metrics class for the Confusion Matrix\n",
    "from sklearn import metrics\n",
    "cnf_matrix_LogR = metrics.confusion_matrix(y_test, y_LR_pred)\n",
    "cnf_matrix_LogR"
   ]
  },
  {
   "cell_type": "code",
   "execution_count": 96,
   "metadata": {},
   "outputs": [
    {
     "data": {
      "text/plain": [
       "Text(0.5, 257.44, 'Predicted label')"
      ]
     },
     "execution_count": 96,
     "metadata": {},
     "output_type": "execute_result"
    },
    {
     "data": {
      "image/png": "[encoded data removed]",
      "text/plain": [
       "<Figure size 432x288 with 2 Axes>"
      ]
     },
     "metadata": {
      "needs_background": "light"
     },
     "output_type": "display_data"
    }
   ],
   "source": [
    "# Visualizing the Confusion Matrix\n",
    "\n",
    "class_names=[0,1] # name  of classes\n",
    "fig, ax = plt.subplots()\n",
    "tick_marks = np.arange(len(class_names))\n",
    "plt.xticks(tick_marks, class_names)\n",
    "plt.yticks(tick_marks, class_names)\n",
    "# create heatmap\n",
    "sns.heatmap(pd.DataFrame(cnf_matrix_LogR), annot=True, cmap=\"YlGnBu\" ,fmt='g')\n",
    "ax.xaxis.set_label_position(\"top\")\n",
    "plt.tight_layout()\n",
    "plt.title('Confusion matrix Log Reg', y=1.1)\n",
    "plt.ylabel('Actual label')\n",
    "plt.xlabel('Predicted label')"
   ]
  },
  {
   "cell_type": "code",
   "execution_count": 97,
   "metadata": {},
   "outputs": [
    {
     "data": {
      "image/png": "[encoded data removed]",
      "text/plain": [
       "<Figure size 432x288 with 1 Axes>"
      ]
     },
     "metadata": {
      "needs_background": "light"
     },
     "output_type": "display_data"
    }
   ],
   "source": [
    "# ROC Curve\n",
    "y_LR_pred_proba = logreg.predict_proba(X_test)[::,1]\n",
    "fpr_LR, tpr_LR, _ = metrics.roc_curve(y_test,  y_LR_pred_proba)\n",
    "auc_LR = metrics.roc_auc_score(y_test, y_LR_pred_proba)\n",
    "plt.plot(fpr_LR,tpr_LR,label=\"data 1, auc=\"+str(auc_LR))\n",
    "plt.legend(loc=4)\n",
    "plt.show()"
   ]
  },
  {
   "cell_type": "code",
   "execution_count": 98,
   "metadata": {},
   "outputs": [
    {
     "name": "stdout",
     "output_type": "stream",
     "text": [
      "              precision    recall  f1-score   support\n",
      "\n",
      "           0       0.90      0.97      0.94      3158\n",
      "           1       0.72      0.37      0.49       541\n",
      "\n",
      "    accuracy                           0.89      3699\n",
      "   macro avg       0.81      0.67      0.71      3699\n",
      "weighted avg       0.87      0.89      0.87      3699\n",
      "\n"
     ]
    }
   ],
   "source": [
    "print(metrics.classification_report(y_test, y_LR_pred))"
   ]
  },
  {
   "cell_type": "code",
   "execution_count": 99,
   "metadata": {},
   "outputs": [
    {
     "name": "stdout",
     "output_type": "stream",
     "text": [
      "Accuracy: 0.8869964855366316\n",
      "Precision: 0.7188612099644128\n",
      "Recall: 0.3733826247689464\n"
     ]
    }
   ],
   "source": [
    "print(\"Accuracy:\",metrics.accuracy_score(y_test, y_LR_pred))\n",
    "print(\"Precision:\",metrics.precision_score(y_test, y_LR_pred))\n",
    "print(\"Recall:\",metrics.recall_score(y_test, y_LR_pred))"
   ]
  },
  {
   "cell_type": "markdown",
   "metadata": {},
   "source": [
    "##### Conclusion - With an F1 score of .87 the Logistic Regression model is superior to the base model which had an F1 score of .71. However, there is still room for improvement."
   ]
  },
  {
   "cell_type": "markdown",
   "metadata": {},
   "source": [
    "### 3.8 K-Means Model - Are we taking this one out?"
   ]
  },
  {
   "cell_type": "code",
   "execution_count": 100,
   "metadata": {},
   "outputs": [],
   "source": [
    "#important packages\n",
    "\n",
    "import pandas as pd\n",
    "import numpy as np\n",
    "from sklearn.cluster import KMeans\n",
    "from sklearn.preprocessing import LabelEncoder\n",
    "from sklearn.preprocessing import MinMaxScaler\n",
    "import seaborn as sns\n",
    "import matplotlib.pyplot as plt\n",
    "import matplotlib\n",
    "plt.style.use('ggplot')\n",
    "%matplotlib inline"
   ]
  },
  {
   "cell_type": "code",
   "execution_count": 101,
   "metadata": {},
   "outputs": [],
   "source": [
    "X_kmeans = np.array(X_train)\n",
    "y_kmeans = np.array(y_train)"
   ]
  },
  {
   "cell_type": "code",
   "execution_count": 102,
   "metadata": {},
   "outputs": [
    {
     "data": {
      "text/plain": [
       "KMeans(algorithm='auto', copy_x=True, init='k-means++', max_iter=600,\n",
       "       n_clusters=2, n_init=10, n_jobs=None, precompute_distances='auto',\n",
       "       random_state=None, tol=0.0001, verbose=0)"
      ]
     },
     "execution_count": 102,
     "metadata": {},
     "output_type": "execute_result"
    }
   ],
   "source": [
    "# Build the model\n",
    "\n",
    "# load the model\n",
    "kmeans = KMeans(n_clusters=2, max_iter=600, algorithm = 'auto') # 2 clusters, sale or no sale\n",
    "kmeans.fit(X_kmeans)"
   ]
  },
  {
   "cell_type": "code",
   "execution_count": 103,
   "metadata": {},
   "outputs": [
    {
     "name": "stdout",
     "output_type": "stream",
     "text": [
      "0.8110300081103001\n"
     ]
    }
   ],
   "source": [
    "# Predictions\n",
    "correct = 0\n",
    "for i in range(len(X_kmeans)):\n",
    "    predict_me = np.array(X_kmeans[i].astype(float))\n",
    "    predict_me = predict_me.reshape(-1, len(predict_me))\n",
    "    prediction = kmeans.predict(predict_me)\n",
    "    if prediction[0] == y_kmeans[i]:\n",
    "        correct += 1\n",
    "\n",
    "print(correct/len(X_kmeans))"
   ]
  },
  {
   "cell_type": "markdown",
   "metadata": {},
   "source": [
    "# 4. Evaluate all the methods and compare using Ensemble Ranking  <a name=\"part1.4\"></a>"
   ]
  },
  {
   "cell_type": "code",
   "execution_count": 104,
   "metadata": {},
   "outputs": [
    {
     "name": "stdout",
     "output_type": "stream",
     "text": [
      ">lr 0.869 (0.020)\n",
      ">xgb 0.898 (0.014)\n",
      ">tree 0.870 (0.014)\n",
      ">svm 0.786 (0.025)\n",
      ">nn 0.825 (0.033)\n",
      ">bayes 0.853 (0.019)\n",
      ">rforest 0.900 (0.013)\n"
     ]
    },
    {
     "data": {
      "image/png": "[encoded data removed]",
      "text/plain": [
       "<Figure size 432x288 with 1 Axes>"
      ]
     },
     "metadata": {
      "needs_background": "light"
     },
     "output_type": "display_data"
    }
   ],
   "source": [
    "# compare standalone models for binary classification\n",
    "from numpy import mean\n",
    "from numpy import std\n",
    "from sklearn.datasets import make_classification\n",
    "from sklearn.model_selection import cross_val_score\n",
    "from sklearn.model_selection import RepeatedKFold\n",
    "from sklearn.linear_model import LogisticRegression\n",
    "from sklearn.neighbors import KNeighborsClassifier\n",
    "from sklearn.tree import DecisionTreeClassifier\n",
    "from sklearn.svm import SVC\n",
    "from sklearn.naive_bayes import GaussianNB\n",
    "from matplotlib import pyplot\n",
    "import xgboost as xgb\n",
    "\n",
    "\n",
    "# get a list of models to evaluate\n",
    "def get_models():\n",
    "    models = dict()\n",
    "    models['lr'] = logreg\n",
    "    models['xgb'] = XGB_class\n",
    "    models['tree'] = clf\n",
    "    models['svm'] = svc\n",
    "    models['nn'] = mlp\n",
    "    models['bayes'] = gnb\n",
    "    models['rforest'] = rfc\n",
    "    return models\n",
    "\n",
    "# evaluate a given model using cross-validation\n",
    "def evaluate_model(model):\n",
    "    cv = RepeatedKFold(n_splits=10, n_repeats=10, random_state=500)\n",
    "    scores = cross_val_score(model, X, y, scoring='f1_weighted', cv=cv, n_jobs=-1, error_score='raise')\n",
    "    return scores\n",
    "\n",
    "# define dataset\n",
    "X, y = X_test,y_test\n",
    "# get the models to evaluate\n",
    "models = get_models()\n",
    "# evaluate the models and store results\n",
    "results, names = list(), list()\n",
    "for name, model in models.items():\n",
    "    scores = evaluate_model(model)\n",
    "    results.append(scores)\n",
    "    names.append(name)\n",
    "    print('>%s %.3f (%.3f)' % (name, mean(scores), std(scores)))\n",
    "# plot model performance for comparison\n",
    "pyplot.boxplot(results, labels=names, showmeans=True)\n",
    "pyplot.show()"
   ]
  },
  {
   "cell_type": "markdown",
   "metadata": {},
   "source": [
    "### Given the above, it appears as though Naive Bayes and Decision Tree are inferior to the other models. Further model tuning will bear out whether this initial impression holds.\n",
    "### XGB performed the best followed by Random Forest and Logistic Regression as the top three models"
   ]
  }
 ],
 "metadata": {
  "kernelspec": {
   "display_name": "Python 3",
   "language": "python",
   "name": "python3"
  },
  "language_info": {
   "codemirror_mode": {
    "name": "ipython",
    "version": 3
   },
   "file_extension": ".py",
   "mimetype": "text/x-python",
   "name": "python",
   "nbconvert_exporter": "python",
   "pygments_lexer": "ipython3",
   "version": "3.7.0"
  }
 },
 "nbformat": 4,
 "nbformat_minor": 4
}
